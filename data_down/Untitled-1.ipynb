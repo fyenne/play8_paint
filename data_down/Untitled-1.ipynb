{
 "cells": [
  {
   "cell_type": "code",
   "execution_count": 121,
   "metadata": {},
   "outputs": [],
   "source": [
    "import pandas as pd\n",
    "import re\n",
    "import os\n",
    "import numpy as np\n",
    "import matplotlib.pyplot as plt\n",
    "import seaborn as sns\n",
    "\n",
    "os.getcwd()\n",
    "df = pd.read_csv('./dws_dsc_customer_opportunity_monthly_kpi_1.csv')\n",
    "op = pd.read_csv('dwd_dsc_d365_opportunity_df.csv', sep = '\\001')\n",
    "df.columns = [re.sub('\\w+\\.', '', i) for i in list(df.columns)]\n",
    "op.columns = [re.sub('\\w+\\.', '', i) for i in list(op.columns)]\n",
    "df = df.fillna(0)\n",
    "# df.columns\n",
    "df['if_cooped'] = 0\n",
    "df['if_cooped'] = df['if_cooped'].where(df['contract_signed_opportunity_num'] < 1, 1) # 今年有没合作。\n",
    "cus_bf_21 = op[(op['createdon'] < '2021-11-01') & (op['milestone'] == 'Contract Signed')]['account_name_en'].unique()\n",
    "cus_bf_21 = list(cus_bf_21)\n",
    "cus_af_21 = list(df['customer_name'].unique())\n",
    "df['old_cust'] = df['customer_name'].isin(cus_bf_21)\n",
    "# df.to_csv('./data_down/dws_dsc_customer_opportunity_monthly_kpi_1.csv', index = None, encoding='utf_8_sig')\n",
    "\n",
    "\n",
    "colors = sns.color_palette('rocket')[0:5]\n",
    "import plotly.express as px\n",
    "import plotly.graph_objects as go\n",
    "from plotly.subplots import make_subplots\n",
    "# plt1"
   ]
  },
  {
   "cell_type": "code",
   "execution_count": 111,
   "metadata": {},
   "outputs": [],
   "source": [
    "def plot_pie(plt10, plt11,  bi_title, **kwargs):\n",
    "    \"\"\"\n",
    "    成功, 总和, \n",
    "    \"\"\"\n",
    "    colors = ['gold', 'mediumturquoise', 'darkorange', 'lightgreen']\n",
    "    fig = make_subplots(rows=1, cols=2, specs=[[{'type':'domain'}, {'type':'domain'}]])\n",
    "    \n",
    "    fig.add_trace(\n",
    "        go.Pie(values = [round(plt10 / plt11, 2), 1- round(plt10 / plt11, 2)], \n",
    "        labels = ['succeed', 'fail']),\n",
    "        1, 1)\n",
    "\n",
    "    fig.add_trace(\n",
    "        go.Pie(values = [plt10, plt11 - plt10], \n",
    "        labels = ['succeed', 'fail']),\n",
    "        1, 2)\n",
    "    fig.update_traces(hoverinfo='label+percent', textinfo='value', textfont_size=20,\n",
    "                  marker=dict(colors=colors, line=dict(color='#000000', width=2)))\n",
    "    fig.update_layout(title_text=bi_title,\n",
    "    width=900,\n",
    "    height=400,\n",
    "    margin=dict(l=10, r=10, t=50, b=20),\n",
    "    paper_bgcolor=\"LightSteelBlue\",\n",
    ")\n",
    "\n",
    "    return fig\n",
    "\n",
    "plt10 = sum(df['contract_signed_opportunity_num'])  # win\n",
    "plt11 = sum(df['total_opportunity_num']) # 整体的商机成功率.a\n",
    "# plot_pie(plt10, plt11,  \"整体的商机本年成功率\\t\\n 成功数量\")"
   ]
  },
  {
   "cell_type": "code",
   "execution_count": 113,
   "metadata": {},
   "outputs": [],
   "source": [
    "# plt20 = df.query(\"old_cust == 1 & if_cooped == 1 & total_opportunity_num > 0\").shape[0] \n",
    "# plt21 = df.query(\"old_cust == 1 & total_opportunity_num > 0\").shape[0] \n",
    "# # 0.592375366568915 旧客户留存率。\n",
    "# plot_pie(plt20, plt21, '老客户留存率 \\n\\t 老客户留存数')\n",
    "\n",
    "plt30 = df.query(\"old_cust == 1 & total_opportunity_num > 0 \")['contract_signed_opportunity_num'].sum()\n",
    "plt31 = df.query(\"old_cust == 1 & total_opportunity_num > 0 \")['total_opportunity_num'].sum() \n",
    "# plot_pie(plt30, plt31,  \"商机level: 老客本年商机成功率\\t\\n 成功数量\")"
   ]
  },
  {
   "cell_type": "code",
   "execution_count": 263,
   "metadata": {},
   "outputs": [],
   "source": [
    "# df.query(\"old_cust == 0 & total_opportunity_num > 0 & \")['total_opportunity_num'].sum() "
   ]
  },
  {
   "cell_type": "code",
   "execution_count": 114,
   "metadata": {},
   "outputs": [],
   "source": [
    "# [df.query(\"old_cust == 1\")['total_opportunity_num'].sum(), df.query(\"old_cust == 1\")['total_opportunity_num'].sum() / sum(df['total_opportunity_num'])]\n",
    "plt32 = df.query(\"old_cust == 0 & total_opportunity_num > 0\")['contract_signed_opportunity_num'].sum() \n",
    "plt33 = df.query(\"old_cust == 0 & total_opportunity_num > 0\")['total_opportunity_num'].sum()  # xinke zong\n",
    " \n",
    "# plot_pie(plt32, plt33, '商机level: 新客户本年商机成功率 \\n\\t 新客户本年商机成功数')"
   ]
  },
  {
   "cell_type": "markdown",
   "metadata": {},
   "source": [
    "---\n",
    "# 客户"
   ]
  },
  {
   "cell_type": "code",
   "execution_count": 115,
   "metadata": {},
   "outputs": [],
   "source": [
    "# plt42 = len(set(np.intersect1d(cus_bf_21, cus_af_21)))\n",
    "# plt43 = len(cus_af_21)\n",
    "\n",
    "# plot_pie(plt42, plt43, '客户level :  本年有商机的老客占比 \\n\\t 老客户数')\n",
    "# # \"\"\"# [341, 717]  今年出现的过往的客户 vs 今年的所有\"\"\""
   ]
  },
  {
   "cell_type": "code",
   "execution_count": 116,
   "metadata": {},
   "outputs": [],
   "source": [
    "# plt40 = df.query(\"old_cust == 0 & total_opportunity_num > 0 & if_cooped == 1\")['customer_name'].nunique()\n",
    "# plt41 = df.query(\"old_cust == 0 & total_opportunity_num > 0\")['customer_name'].nunique()\n",
    "# plot_pie(plt40, plt41, '客户level :  客户转化率 \\n\\t 客户转化数')\n"
   ]
  },
  {
   "cell_type": "code",
   "execution_count": 91,
   "metadata": {},
   "outputs": [
    {
     "data": {
      "text/plain": [
       "479"
      ]
     },
     "execution_count": 91,
     "metadata": {},
     "output_type": "execute_result"
    }
   ],
   "source": [
    "df[df['contract_signed_opportunity_num'] > 0]['customer_name'].nunique()\n",
    "df[df['contract_signed_opportunity_num'] <= 0]['customer_name'].nunique()"
   ]
  },
  {
   "cell_type": "markdown",
   "metadata": {},
   "source": [
    "--- \n",
    "试探"
   ]
  },
  {
   "cell_type": "code",
   "execution_count": 135,
   "metadata": {},
   "outputs": [],
   "source": [
    "op = op[['annual_average_gross_profit_base', 'annual_average_gross_profit',\n",
    "        'annual_average_revenue_base', 'annual_average_revenue',\n",
    "        'bg', 'contract_term', 'milestone', 'opportunity_record', 'product1', 'sector', 'contract_value',\n",
    "        'commission', 'fivem_customer']]  \n",
    "op = op.fillna(0)\n",
    "op = op[op['contract_term'] < 60]\n",
    "# op['contract_value_log'] = np.log(op['contract_value'])\n",
    "op = op[op['contract_term'] != 0]\n",
    "opp = op"
   ]
  },
  {
   "cell_type": "code",
   "execution_count": 149,
   "metadata": {},
   "outputs": [],
   "source": [
    "opp = op\n",
    "mst_list = ['Contract Signed', 'Closed-Canceled', 'Closed-Lost']\n",
    "sctr_list = ['Other', 0]\n",
    "prodc_list = [0]\n",
    "\n",
    "opp = opp[opp['milestone'].isin(mst_list)]\n",
    "opp = opp[~opp['sector'].isin(sctr_list)]\n",
    "opp = opp[~opp['product1'].isin(prodc_list)]\n",
    "\n",
    "opp = opp[opp['contract_value'] != 0]\n",
    "opp['contract_value_log'] = np.log(op['contract_value'])\n",
    "px.scatter(opp, x = 'contract_term', y = 'contract_value_log',\\\n",
    "     color=\"sector\", trendline = 'ols')\n"
   ]
  },
  {
   "cell_type": "code",
   "execution_count": 136,
   "metadata": {},
   "outputs": [
    {
     "name": "stderr",
     "output_type": "stream",
     "text": [
      "C:\\Users\\dscshap3808\\Miniconda3\\envs\\siming\\lib\\site-packages\\pandas\\core\\arraylike.py:364: RuntimeWarning:\n",
      "\n",
      "divide by zero encountered in log\n",
      "\n"
     ]
    }
   ],
   "source": [
    "# import statsmodels.formula.api as smf\n",
    "# smf.ols('contract_value ~ contract_term + product1', data = op).fit().summary()\n"
   ]
  },
  {
   "cell_type": "code",
   "execution_count": 148,
   "metadata": {},
   "outputs": [
    {
     "name": "stdout",
     "output_type": "stream",
     "text": [
      "Optimization terminated successfully.\n",
      "         Current function value: 0.675124\n",
      "         Iterations 5\n"
     ]
    },
    {
     "data": {
      "text/html": [
       "<table class=\"simpletable\">\n",
       "<caption>Logit Regression Results</caption>\n",
       "<tr>\n",
       "  <th>Dep. Variable:</th>      <td>win_or_loss</td>   <th>  No. Observations:  </th>  <td>  1648</td> \n",
       "</tr>\n",
       "<tr>\n",
       "  <th>Model:</th>                 <td>Logit</td>      <th>  Df Residuals:      </th>  <td>  1646</td> \n",
       "</tr>\n",
       "<tr>\n",
       "  <th>Method:</th>                 <td>MLE</td>       <th>  Df Model:          </th>  <td>     1</td> \n",
       "</tr>\n",
       "<tr>\n",
       "  <th>Date:</th>            <td>Wed, 08 Dec 2021</td> <th>  Pseudo R-squ.:     </th> <td>0.001349</td>\n",
       "</tr>\n",
       "<tr>\n",
       "  <th>Time:</th>                <td>17:49:16</td>     <th>  Log-Likelihood:    </th> <td> -1112.6</td>\n",
       "</tr>\n",
       "<tr>\n",
       "  <th>converged:</th>             <td>True</td>       <th>  LL-Null:           </th> <td> -1114.1</td>\n",
       "</tr>\n",
       "<tr>\n",
       "  <th>Covariance Type:</th>     <td>nonrobust</td>    <th>  LLR p-value:       </th>  <td>0.08299</td>\n",
       "</tr>\n",
       "</table>\n",
       "<table class=\"simpletable\">\n",
       "<tr>\n",
       "         <td></td>           <th>coef</th>     <th>std err</th>      <th>z</th>      <th>P>|z|</th>  <th>[0.025</th>    <th>0.975]</th>  \n",
       "</tr>\n",
       "<tr>\n",
       "  <th>Intercept</th>      <td>    0.3957</td> <td>    0.052</td> <td>    7.544</td> <td> 0.000</td> <td>    0.293</td> <td>    0.498</td>\n",
       "</tr>\n",
       "<tr>\n",
       "  <th>contract_value</th> <td> -1.61e-06</td> <td> 1.16e-06</td> <td>   -1.393</td> <td> 0.164</td> <td>-3.88e-06</td> <td> 6.56e-07</td>\n",
       "</tr>\n",
       "</table>"
      ],
      "text/plain": [
       "<class 'statsmodels.iolib.summary.Summary'>\n",
       "\"\"\"\n",
       "                           Logit Regression Results                           \n",
       "==============================================================================\n",
       "Dep. Variable:            win_or_loss   No. Observations:                 1648\n",
       "Model:                          Logit   Df Residuals:                     1646\n",
       "Method:                           MLE   Df Model:                            1\n",
       "Date:                Wed, 08 Dec 2021   Pseudo R-squ.:                0.001349\n",
       "Time:                        17:49:16   Log-Likelihood:                -1112.6\n",
       "converged:                       True   LL-Null:                       -1114.1\n",
       "Covariance Type:            nonrobust   LLR p-value:                   0.08299\n",
       "==================================================================================\n",
       "                     coef    std err          z      P>|z|      [0.025      0.975]\n",
       "----------------------------------------------------------------------------------\n",
       "Intercept          0.3957      0.052      7.544      0.000       0.293       0.498\n",
       "contract_value  -1.61e-06   1.16e-06     -1.393      0.164   -3.88e-06    6.56e-07\n",
       "==================================================================================\n",
       "\"\"\""
      ]
     },
     "execution_count": 148,
     "metadata": {},
     "output_type": "execute_result"
    }
   ],
   "source": [
    "# 商机金额大小与转化率的关系。 c\n",
    "# df = df[(df['milestone'] != 'Early Lead') & (df['milestone'] != 'Potential Opportunity')]\n",
    "def load_opp(df):\n",
    "     df['win_or_loss'] = 0\n",
    "     df['win_or_loss'] = df['win_or_loss'].where(df['milestone']  != 'Contract Signed', 1)\n",
    "     df = df.fillna(0)\n",
    "     # 删除有汉字的。\n",
    "     df = df[~df['annual_average_gross_profit'].str.contains('[az]').fillna(False)]\n",
    "     return df\n",
    "opp = load_opp(opp)\n",
    "smf.logit(formula = \"win_or_loss ~ contract_value \", data = opp).fit().summary()"
   ]
  },
  {
   "cell_type": "code",
   "execution_count": 143,
   "metadata": {},
   "outputs": [],
   "source": [
    "# go.Figure(go.Sunburst(\n",
    "#     labels=[ \"Cain\", \"Seth\", \"Enos\", \"Noam\", \"Abel\", \"Awan\", \"Enoch\", \"Azura\"],\n",
    "#     parents=[  \"Eve\", \"Eve\", \"Seth\", \"Seth\", \"Eve\", \"Eve\", \"Awan\", \"Eve\" ],\n",
    "#     values=[  14, 12, 10, 2, 6, 6, 4, 4],\n",
    "# ))"
   ]
  },
  {
   "cell_type": "markdown",
   "metadata": {},
   "source": [
    "---\n",
    "# sap"
   ]
  },
  {
   "cell_type": "code",
   "execution_count": 87,
   "metadata": {},
   "outputs": [
    {
     "data": {
      "text/plain": [
       "(238, 46)"
      ]
     },
     "execution_count": 87,
     "metadata": {},
     "output_type": "execute_result"
    }
   ],
   "source": []
  },
  {
   "cell_type": "code",
   "execution_count": null,
   "metadata": {},
   "outputs": [],
   "source": []
  }
 ],
 "metadata": {
  "interpreter": {
   "hash": "47b50d2908d96196e4220cfb4e81faa93803065ea975497e7026f672c1f58470"
  },
  "kernelspec": {
   "display_name": "Python 3.8.8 64-bit ('siming': conda)",
   "language": "python",
   "name": "python3"
  },
  "language_info": {
   "codemirror_mode": {
    "name": "ipython",
    "version": 3
   },
   "file_extension": ".py",
   "mimetype": "text/x-python",
   "name": "python",
   "nbconvert_exporter": "python",
   "pygments_lexer": "ipython3",
   "version": "3.8.8"
  },
  "orig_nbformat": 4
 },
 "nbformat": 4,
 "nbformat_minor": 2
}

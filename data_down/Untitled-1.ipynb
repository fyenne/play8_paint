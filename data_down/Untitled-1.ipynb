{
 "cells": [
  {
   "cell_type": "code",
   "execution_count": null,
   "metadata": {},
   "outputs": [],
   "source": [
    "op = pd.read_csv('dwd_dsc_d365_opportunity_df.csv', sep = '\\001')\n",
    "op.columns = [re.sub('\\w+\\.', '', i) for i in list(op.columns)]"
   ]
  },
  {
   "cell_type": "code",
   "execution_count": null,
   "metadata": {},
   "outputs": [],
   "source": [
    "import pandas as pd\n",
    "import re\n",
    "import os\n",
    "import numpy as np\n",
    "import matplotlib.pyplot as plt\n",
    "import seaborn as sns\n",
    "\n",
    "os.getcwd()\n",
    "df = pd.read_csv('./dws_dsc_customer_opportunity_monthly_kpi_1.csv')\n",
    "op = pd.read_csv('dwd_dsc_d365_opportunity_df.csv', sep = '\\001')\n",
    "df.columns = [re.sub('\\w+\\.', '', i) for i in list(df.columns)]\n",
    "op.columns = [re.sub('\\w+\\.', '', i) for i in list(op.columns)]\n",
    "df = df.fillna(0)\n",
    "# df.columns\n",
    "df['if_cooped'] = 0\n",
    "df['if_cooped'] = df['if_cooped'].where(df['contract_signed_opportunity_num'] < 1, 1) # 今年有没合作。\n",
    "cus_bf_21 = op[(op['createdon'] < '2021-11-01') & (op['milestone'] == 'Contract Signed')]['account_name_en'].unique()\n",
    "cus_bf_21 = list(cus_bf_21)\n",
    "cus_af_21 = list(df['customer_name'].unique())\n",
    "df['old_cust'] = df['customer_name'].isin(cus_bf_21)\n",
    "# df.to_csv('./data_down/dws_dsc_customer_opportunity_monthly_kpi_1.csv', index = None, encoding='utf_8_sig')\n",
    "\n",
    "df['annual_average_revenue'] = df['annual_average_revenue'] * 1000\n",
    "df['annual_average_gross_profit'] = df['annual_average_gross_profit'] * 1000\n",
    "\n",
    "op = op[op['annual_average_gross_profit'].str.match('(\\d+\\.)').fillna(False)]\n",
    "op = op[op['annual_average_revenue'].str.match('(\\d+\\.)').fillna(False)]\n",
    "\n",
    "op['annual_average_revenue'] = op['annual_average_revenue'].astype(float) * 1000\n",
    "op['annual_average_gross_profit'] = op['annual_average_gross_profit'].astype(float) * 1000\n",
    "colors = sns.color_palette('rocket')[0:5]\n",
    "import plotly.express as px\n",
    "import plotly.graph_objects as go\n",
    "from plotly.subplots import make_subplots\n",
    "# plt1\n",
    "mst_list = ['Contract Signed', 'Closed-Canceled', 'Closed-Lost']"
   ]
  },
  {
   "cell_type": "code",
   "execution_count": null,
   "metadata": {},
   "outputs": [],
   "source": [
    "def plot_pie(plt10, plt11,  bi_title, **kwargs):\n",
    "    \"\"\"\n",
    "    成功, 总和, \n",
    "    \"\"\"\n",
    "    colors = ['gold', 'mediumturquoise', 'darkorange', 'lightgreen']\n",
    "    fig = make_subplots(rows=1, cols=2, specs=[[{'type':'domain'}, {'type':'domain'}]])\n",
    "    \n",
    "    fig.add_trace(\n",
    "        go.Pie(values = [round(plt10 / plt11, 2), 1- round(plt10 / plt11, 2)], \n",
    "        labels = ['succeed', 'fail']),\n",
    "        1, 1)\n",
    "\n",
    "    fig.add_trace(\n",
    "        go.Pie(values = [plt10, plt11 - plt10], \n",
    "        labels = ['succeed', 'fail']),\n",
    "        1, 2)\n",
    "    fig.update_traces(hoverinfo='label+percent', textinfo='value', textfont_size=20,\n",
    "                  marker=dict(colors=colors, line=dict(color='#000000', width=2)))\n",
    "    fig.update_layout(title_text=bi_title,\n",
    "    width=900,\n",
    "    height=400,\n",
    "    margin=dict(l=10, r=10, t=50, b=20),\n",
    "    paper_bgcolor=\"LightSteelBlue\",)\n",
    "\n",
    "    return fig\n",
    " "
   ]
  },
  {
   "cell_type": "code",
   "execution_count": null,
   "metadata": {},
   "outputs": [],
   "source": [
    "plt10 = sum(df['contract_signed_opportunity_num'])  # win\n",
    "plt11 = sum(df['total_opportunity_num'] - df['new_business_pipeline_unclosed_opp_num'])\n",
    "\n",
    "# sum(df['total_opportunity_num'] - df['closed_canceled_opportunity_num'] - df['closed_lost_opportunity_num']) # 整体的商机成功率.a\n",
    "# plot_pie(plt10, plt11,  \"整体的商机本年成功率\\t\\n 成功数量\")"
   ]
  },
  {
   "cell_type": "code",
   "execution_count": null,
   "metadata": {},
   "outputs": [],
   "source": [
    "# ** 从年初到现在  总体 annual_average_revenue**\n",
    "plt12 = df.query(\"total_opportunity_num > 0 & if_cooped == 1\")['annual_average_revenue'].sum() # win\n",
    "plt13 = df['annual_average_revenue'].sum() \n",
    "# plot_pie(plt12, plt13,  \"整体的商机本年成功金额占比 \\t\\n 成功金额\")"
   ]
  },
  {
   "cell_type": "code",
   "execution_count": null,
   "metadata": {},
   "outputs": [],
   "source": [
    "df.shape[0] # 今年所有客户数量"
   ]
  },
  {
   "cell_type": "code",
   "execution_count": null,
   "metadata": {},
   "outputs": [],
   "source": [
    "plt20 = df.query(\"old_cust == 1 & if_cooped == 1 & total_opportunity_num > 0\").shape[0] \n",
    "plt21 = df.query(\"old_cust == 1 & total_opportunity_num > 0\").shape[0] \n",
    "# 0.592375366568915 旧客户留存率。\n",
    "# plot_pie(plt20, plt21, '老客户新生意签约情况 \\n\\t 老客户新生意签约数量')\n",
    "# christine\n",
    "# 老客户新生意 *老客户老生意。*"
   ]
  },
  {
   "cell_type": "code",
   "execution_count": null,
   "metadata": {},
   "outputs": [],
   "source": [
    "# opportunity win & contract signed 区别.\n",
    "plt30 = df.query(\"old_cust == 1 & total_opportunity_num > 0 \")['contract_signed_opportunity_num'].sum()\n",
    "plt31 = df.query(\"old_cust == 1 & total_opportunity_num > 0 \")\n",
    "plt31 = sum(plt31['total_opportunity_num'] - plt31['new_business_pipeline_unclosed_opp_num'])\n",
    "# sum(plt31['total_opportunity_num'] - plt31['closed_canceled_opportunity_num'] - plt31['closed_lost_opportunity_num'])\n",
    "\n",
    "# plot_pie(plt30, plt31,  \"商机level: 已经合作过的客户本年商机成功率\\t\\n 成功数量\")"
   ]
  },
  {
   "cell_type": "code",
   "execution_count": null,
   "metadata": {},
   "outputs": [],
   "source": [
    "# ** 从年初到现在老的客户为我们带来的新的商机的 annual_average_revenue 收益 **\n",
    "plt30 = df.query(\"old_cust == 1 & total_opportunity_num > 0 & if_cooped == 1\")['annual_average_revenue'].sum() \n",
    "plt31 = df.query(\"old_cust == 1 & total_opportunity_num > 0 \")['annual_average_revenue'].sum()\n",
    "# plot_pie(plt30, plt31,  \"商机level: 已经合作过的客户本年成功金额占比 \\t\\n 成功金额\")"
   ]
  },
  {
   "cell_type": "code",
   "execution_count": null,
   "metadata": {},
   "outputs": [],
   "source": [
    "# df.query(\"old_cust == 0 & total_opportunity_num > 0 & \")['total_opportunity_num'].sum() "
   ]
  },
  {
   "cell_type": "code",
   "execution_count": null,
   "metadata": {},
   "outputs": [],
   "source": [
    "# [df.query(\"old_cust == 1\")['total_opportunity_num'].sum(), df.query(\"old_cust == 1\")['total_opportunity_num'].sum() / sum(df['total_opportunity_num'])]\n",
    "plt32 = df.query(\"old_cust == 0 & total_opportunity_num > 0\")['contract_signed_opportunity_num'].sum() \n",
    "plt33 = df.query(\"old_cust == 0 & total_opportunity_num > 0\") # xinke zong \n",
    "plt33 =   sum(plt33['total_opportunity_num'] - plt33['new_business_pipeline_unclosed_opp_num'])\n",
    "\n",
    "# sum(plt33['total_opportunity_num'] - plt33['closed_canceled_opportunity_num'] - plt33['closed_lost_opportunity_num'])\n",
    "  \n",
    "# plot_pie(plt32, plt33, '商机level: 新客户本年商机成功率 \\n\\t 新客户本年商机成功数')\n",
    "    # open 的要去掉"
   ]
  },
  {
   "cell_type": "code",
   "execution_count": null,
   "metadata": {},
   "outputs": [],
   "source": [
    "# ** 从年初到现在新增的客户为我们带来的 annual_average_revenue 收益 **\n",
    "plt36 = df.query(\"old_cust == 0 & total_opportunity_num > 0 & if_cooped == 1\")['annual_average_revenue'].sum()\n",
    "plt37 = df.query(\"old_cust == 0 & total_opportunity_num > 0\")['annual_average_revenue'].sum() * .18# xinke zong \n",
    "plot_pie(plt36, plt37, '商机level: 新客户本年成功金额占比 \\t\\n 成功金额')"
   ]
  },
  {
   "cell_type": "code",
   "execution_count": null,
   "metadata": {},
   "outputs": [],
   "source": [
    "op['opportunity_record'].value_counts()\n",
    "# 1089 na"
   ]
  },
  {
   "cell_type": "code",
   "execution_count": 255,
   "metadata": {},
   "outputs": [
    {
     "data": {
      "text/plain": [
       "37"
      ]
     },
     "execution_count": 255,
     "metadata": {},
     "output_type": "execute_result"
    }
   ],
   "source": [
    "df.query(\"old_cust == 0 & total_opportunity_num > 0 & if_cooped == 1\")['contract_signed_opportunity_num'].sum() "
   ]
  },
  {
   "cell_type": "code",
   "execution_count": null,
   "metadata": {},
   "outputs": [],
   "source": [
    "# # open 商机下, 前三十客户以及对应商机金额. 目前最应该重视的客户& 商机\n",
    "# plt38 = op[op['milestone'].isin(mst_list) ]\n",
    "# plt38['annual_average_gross_profit'] = plt38['annual_average_gross_profit'].astype(float)  \n",
    "# plt38 = plt38.sort_values('annual_average_gross_profit', ascending=False).head(30)\n",
    "# px.bar(plt38, x = 'account_name_en', y = 'annual_average_gross_profit')"
   ]
  },
  {
   "cell_type": "code",
   "execution_count": null,
   "metadata": {},
   "outputs": [],
   "source": [
    "# op['opportunity_record']"
   ]
  },
  {
   "cell_type": "code",
   "execution_count": null,
   "metadata": {},
   "outputs": [],
   "source": [
    "# renew 型的商机; 到renew 期限的时候, 适当提醒.\n",
    "plt39 = op.fillna(0).query(\"opportunity_record != 0 & opportunity_record != 'BCA Not Required'\")\n",
    "# plt39 = op[op['milestone'].isin(mst_list) ]\n",
    "# plt39 = plt39[plt39['annual_average_gross_profit'].str.contains('[azAZ]').fillna(True)] \n",
    "plt39['annual_average_gross_profit'] = plt39['annual_average_gross_profit'].astype(float)\n",
    "plt39 = plt39.sort_values('annual_average_gross_profit', ascending=False).head(30)\n",
    "px.bar(plt39, x = 'account_name_en', y = 'annual_average_gross_profit', color = 'opportunity_record')\n"
   ]
  },
  {
   "cell_type": "markdown",
   "metadata": {},
   "source": [
    "---\n",
    "# 客户"
   ]
  },
  {
   "cell_type": "code",
   "execution_count": null,
   "metadata": {},
   "outputs": [],
   "source": [
    "# 此前合作过的客户\n",
    "\n",
    "plt42 = len(set(np.intersect1d(cus_bf_21, cus_af_21)))\n",
    "plt43 = len(cus_af_21)\n",
    "\n",
    "plot_pie(plt42, plt43, '客户level :  本年有商机的account占比 \\n\\t 老account数')\n",
    "# \"\"\"# [341, 717]  今年出现的过往的客户 vs 今年的所有\"\"\""
   ]
  },
  {
   "cell_type": "code",
   "execution_count": null,
   "metadata": {},
   "outputs": [],
   "source": [
    "# 此前未合作过的客户\n",
    "plt40 = df.query(\"old_cust == 0 & total_opportunity_num > 0 & if_cooped == 1\")['customer_name'].nunique()\n",
    "plt41 = df.query(\"old_cust == 0 & total_opportunity_num > 0\")['customer_name'].nunique()\n",
    "plot_pie(plt40, plt41, 'account level :  account转化率 \\n\\t account转化数')\n",
    "\n",
    "# account"
   ]
  },
  {
   "cell_type": "code",
   "execution_count": null,
   "metadata": {},
   "outputs": [],
   "source": [
    "# a0 = df['annual_average_revenue'].sum();a0 \n",
    "# a1 = df.query(\"old_cust == 0 & total_opportunity_num > 0 & if_cooped == 1\")['annual_average_revenue'].sum();a1\n",
    "# b = df.query(\"old_cust == 1 & total_opportunity_num > 0 & if_cooped == 1\")['annual_average_revenue'].sum();b\n",
    "# (a1 + b )/ a0 # 百分之四十的金额 被得到."
   ]
  },
  {
   "cell_type": "markdown",
   "metadata": {},
   "source": [
    "--- \n",
    "## ci milestone 和对应的contract value 的相关性"
   ]
  },
  {
   "cell_type": "code",
   "execution_count": null,
   "metadata": {},
   "outputs": [],
   "source": [
    "opp = op[['account_name_en','annual_average_gross_profit_base', 'annual_average_gross_profit',\n",
    "        'annual_average_revenue_base', 'annual_average_revenue',\n",
    "        'bg', 'contract_term', 'milestone', 'opportunity_record', 'product1', 'sector', 'contract_value',\n",
    "        'commission', 'fivem_customer']]  \n",
    "opp = opp.fillna(0)\n",
    "opp = opp[opp['contract_term'] < 60]\n",
    "# op['contract_value_log'] = np.log(op['contract_value'])\n",
    "opp = opp[opp['contract_term'] != 0] \n",
    "# opp = op\n",
    "mst_list = ['Contract Signed', 'Closed-Canceled', 'Closed-Lost']\n",
    "sctr_list = ['Other', 0]\n",
    "prodc_list = [0]\n",
    "\n",
    "opp = opp[opp['milestone'].isin(mst_list)]\n",
    "# opp = opp[~opp['sector'].isin(sctr_list)]\n",
    "# opp = opp[~opp['product1'].isin(prodc_list)]\n",
    "\n",
    "opp = opp[opp['annual_average_revenue'] != 0]\n",
    "opp['annual_average_revenue_log'] = np.log(op['annual_average_revenue'])\n",
    "px.scatter(opp, x = 'contract_term', y = 'annual_average_revenue_log',\\\n",
    "     color=\"milestone\", trendline = 'ols')\n"
   ]
  },
  {
   "cell_type": "markdown",
   "metadata": {},
   "source": [
    "\n",
    "` 1. milestone , 我们更容易签署周期更短的合同` <br>\n",
    "` 2. 短期合同中, 我们赢得的合同比输掉的合同普遍价值更高. ` # ninahua"
   ]
  },
  {
   "cell_type": "code",
   "execution_count": null,
   "metadata": {},
   "outputs": [],
   "source": [
    "# import statsmodels.formula.api as smf\n",
    "# smf.ols('annual_average_revenue ~  milestone -1 ', data = op).fit().summary()\n"
   ]
  },
  {
   "cell_type": "markdown",
   "metadata": {},
   "source": [
    "`商机金额大小与转化率的关系。 c 不显著#`"
   ]
  },
  {
   "cell_type": "code",
   "execution_count": null,
   "metadata": {},
   "outputs": [],
   "source": [
    "# 商机金额大小与转化率的关系。 c\n",
    "# df = df[(df['milestone'] != 'Early Lead') & (df['milestone'] != 'Potential Opportunity')]\n",
    "def load_opp(df):\n",
    "     df['win_or_loss'] = 0\n",
    "     df['win_or_loss'] = df['win_or_loss'].where(df['milestone']  != 'Contract Signed', 1)\n",
    "     df = df.fillna(0)\n",
    "     # 删除有汉字的。\n",
    "     df = df[~df['annual_average_gross_profit'].str.contains('[azAZ]').fillna(False)]\n",
    "     df = df[~df['annual_average_revenue'].str.contains('[azAZ]').fillna(False)]\n",
    "     return df\n",
    "opp = load_opp(opp)\n",
    "smf.logit(formula = \"win_or_loss ~ contract_value \", data = opp).fit().summary()\n"
   ]
  },
  {
   "cell_type": "code",
   "execution_count": null,
   "metadata": {},
   "outputs": [],
   "source": [
    "opp['milestone'].unique()"
   ]
  },
  {
   "cell_type": "code",
   "execution_count": null,
   "metadata": {},
   "outputs": [],
   "source": [
    "# # violin\n",
    "# px.violin(x = opp['win_or_loss'], y =  np.log(opp['contract_value']), \\\n",
    "#     points=\"all\", color = opp['win_or_loss'], box = True )"
   ]
  },
  {
   "cell_type": "markdown",
   "metadata": {},
   "source": [
    "### open shangji \n",
    "> open 商机可能带来 8743745010.0 的收入."
   ]
  },
  {
   "cell_type": "code",
   "execution_count": null,
   "metadata": {},
   "outputs": [],
   "source": [
    "# go.Figure(go.Sunburst(\n",
    "#     labels=[ \"Cain\", \"Seth\", \"Enos\", \"Noam\", \"Abel\", \"Awan\", \"Enoch\", \"Azura\"],\n",
    "#     parents=[  \"Eve\", \"Eve\", \"Seth\", \"Seth\", \"Eve\", \"Eve\", \"Awan\", \"Eve\" ],\n",
    "#     values=[  14, 12, 10, 2, 6, 6, 4, 4],\n",
    "# ))\n",
    "opp = op[['account_name_en','annual_average_gross_profit_base', 'annual_average_gross_profit',\n",
    "        'annual_average_revenue_base', 'annual_average_revenue',\n",
    "        'bg', 'contract_term', 'milestone', 'opportunity_record', 'product1', 'sector', 'contract_value',\n",
    "        'commission', 'fivem_customer']]  \n",
    "opp = opp.fillna(0)\n",
    "opp = opp[opp['contract_term'] < 60]\n",
    "# op['contract_value_log'] = np.log(op['contract_value'])\n",
    "opp = opp[opp['contract_term'] != 0] \n",
    "opp[~opp['milestone'].isin(mst_list)]['annual_average_revenue'].astype(float).sum()\n",
    " "
   ]
  },
  {
   "cell_type": "markdown",
   "metadata": {},
   "source": [
    "---\n",
    "# sap"
   ]
  },
  {
   "cell_type": "code",
   "execution_count": null,
   "metadata": {},
   "outputs": [],
   "source": []
  },
  {
   "cell_type": "code",
   "execution_count": null,
   "metadata": {},
   "outputs": [],
   "source": [
    "import pandas as pd\n",
    "import re\n",
    "import os\n",
    "import numpy as np\n",
    "import matplotlib.pyplot as plt\n",
    "import seaborn as sns\n",
    "\n",
    "os.getcwd()\n",
    "sap = pd.read_csv('./dws_dsc_customer_operation_monthly_kpi.csv', sep = '\\001')\n",
    "# op = pd.read_csv('dwd_dsc_d365_opportunity_df.csv', sep = '\\001')\n",
    "sap.columns = [re.sub('\\w+\\.', '', i) for i in list(sap.columns)] \n",
    "sap = sap.fillna(0)\n",
    "sap['ytm_cogs'] = sap['ytm_income_amt'] - sap['ytm_gross_profit_amt']\n",
    "sap['ytm_gp_margin'] = sap['ytm_gross_profit_amt'] / sap['ytm_income_amt'] \n",
    "sap['ytm_gp_margin'].replace([-np.inf, np.inf],  0, inplace = True)\n",
    "sap['sap_lb_cost'] = sap[[\n",
    "    'ytm_perm_hr_cost','ytm_service_outsourcing_amt','ytm_labor_service_outsourcing_amt',]].sum(axis = 1)\n",
    "sap['customer_type'] = sap['customer_type'].replace('Q3', 'Q5').replace('Q4', 'Q3').replace('Q5', 'Q4')\n",
    "sap= sap.query('ytm_gp_margin > -3 & ytm_gp_margin < 3 ') \n",
    "# df.columns \n",
    "\n",
    "# labor fee\n",
    "# perm_hr_cost\n",
    "\n"
   ]
  },
  {
   "cell_type": "code",
   "execution_count": null,
   "metadata": {},
   "outputs": [],
   "source": [
    "# # def plot_pie(plt10, plt11,  bi_title, **kwargs):\n",
    "# #     \"\"\"\n",
    "# #     成功, 总和, \n",
    "# #     \"\"\"\n",
    "# #     colors = ['gold', 'mediumturquoise', 'darkorange', 'lightgreen']\n",
    "# #     fig = make_subplots(rows=1, cols=2, specs=[[{'type':'domain'}, {'type':'domain'}]])\n",
    "    \n",
    "# #     fig.add_trace(\n",
    "# #         go.Pie(values = [round(plt10 / plt11, 2), 1- round(plt10 / plt11, 2)], \n",
    "# #         labels = ['succeed', 'fail']),\n",
    "# #         1, 1)\n",
    "\n",
    "# #     fig.add_trace(\n",
    "# #         go.Pie(values = [plt10, plt11 - plt10], \n",
    "# #         labels = ['succeed', 'fail']),\n",
    "# #         1, 2)\n",
    "# #     fig.update_traces(hoverinfo='label+percent', textinfo='value', textfont_size=20,\n",
    "# #                   marker=dict(colors=colors, line=dict(color='#000000', width=2)))\n",
    "# #     fig.update_layout(title_text=bi_title,\n",
    "# #     width=900,\n",
    "# #     height=400,\n",
    "# #     margin=dict(l=10, r=10, t=50, b=20),\n",
    "# #     paper_bgcolor=\"LightSteelBlue\",)\n",
    "\n",
    "# #     return fig\n",
    "# sap_ly = pd.concat([sap[['customer_name', 'bg_code', 'year', 'month', 'account_name_cn',\n",
    "#        'geographical_location', 'industry', 'ou_num']], \n",
    "#        sap[pd.Series(sap.columns)[pd.Series(sap.columns).str.contains('^ly')]]], axis = 1)\n",
    "# sap_ly['year'] = 2020\n",
    "# sap_ty = sap.iloc[:,0:28]\n",
    "# sap_ly.columns = sap_ty.columns\n",
    "# sap_long = pd.concat([sap_ty, sap_ly], axis = 0).drop(['month', 'account_name_cn',\n",
    "#        'geographical_location', 'industry', 'ou_num'], axis = 1)"
   ]
  },
  {
   "cell_type": "code",
   "execution_count": null,
   "metadata": {},
   "outputs": [],
   "source": [
    "sap_plt = sap[~sap['customer_name'].str.contains('ISC').fillna(False)]\n",
    "sap_plt = sap_plt[~sap_plt['customer_name'].str.contains('Overhead').fillna(False)]\n",
    "sap_plt = sap_plt[sap_plt['customer_name'] != 0]\n",
    "from sklearn.preprocessing import MinMaxScaler\n",
    "scaler = MinMaxScaler() \n",
    "scaled = scaler.fit_transform(np.array(sap_plt['ytm_income_amt']).reshape(-1,1))\n",
    "sap_plt['ytm_income_amt_scaled'] = np.log(scaled)\n",
    "sap_plt['abs_ytm_income_amt'] = np.abs(sap_plt['ytm_income_amt'])\n",
    "sap_plt= sap_plt.query('ytm_gp_margin > -.5 & ytm_gp_margin < .5 ') \n",
    "sap_plt['sap_lb_cost'] = np.abs(sap_plt['sap_lb_cost'])\n",
    "# sap_plt = sap_plt.query(\"income_amt_scaled > -4\")"
   ]
  },
  {
   "cell_type": "code",
   "execution_count": 256,
   "metadata": {},
   "outputs": [
    {
     "data": {
      "application/vnd.plotly.v1+json": {
       "config": {
        "plotlyServerURL": "https://plot.ly"
       },
       "data": [
        {
         "customdata": [
          [
           "BURBERRY"
          ],
          [
           "MARS"
          ],
          [
           "Nespresso"
          ],
          [
           "Burton"
          ],
          [
           "Nexperia"
          ],
          [
           "Honor"
          ],
          [
           "STARBUCKS"
          ],
          [
           "SIEMENS"
          ],
          [
           "ZEBRA TECHNOLOGIES"
          ],
          [
           "HONEYWELL"
          ],
          [
           "PERNOD RICARD"
          ],
          [
           "HORMEL"
          ],
          [
           "MLB"
          ],
          [
           "Harley-Davidson"
          ],
          [
           "NOKIA"
          ],
          [
           "MICHELIN"
          ],
          [
           "LAM RESEARCH"
          ],
          [
           "ERICSSON"
          ],
          [
           "BOSE"
          ],
          [
           "MEDTRONIC"
          ],
          [
           "COACH"
          ],
          [
           "Hewlett Packard"
          ],
          [
           "TATA"
          ],
          [
           "GENERAL MOTORS"
          ],
          [
           "FORD MOTOR"
          ],
          [
           "H3C"
          ],
          [
           "HUAWEI"
          ],
          [
           "SF-ELC"
          ],
          [
           "DELL TECHNOLOGIES"
          ],
          [
           "JOHNSON & JOHNSON"
          ],
          [
           "ASTRAZENECA"
          ],
          [
           "SKF - Industrial"
          ],
          [
           "DIODES"
          ],
          [
           "GEELY"
          ],
          [
           "KLA TENCOR"
          ],
          [
           "ASML"
          ],
          [
           "Huan Sheng Solar"
          ],
          [
           "RICHEMONT INTERNATIONAL"
          ],
          [
           "APPLE"
          ],
          [
           "TCC"
          ],
          [
           "UCO"
          ],
          [
           "WABCO"
          ],
          [
           "APPLIED MATERIAL"
          ],
          [
           "平安好医生"
          ],
          [
           "Suzhou Hengding"
          ],
          [
           "Pou Sheng Int’l"
          ]
         ],
         "hovertemplate": "customer_type=Q1<br>ytm_income_amt_scaled=%{x}<br>ytm_gp_margin=%{y}<br>sap_lb_cost=%{marker.size}<br>customer_name=%{customdata[0]}<extra></extra>",
         "legendgroup": "Q1",
         "marker": {
          "color": "#636efa",
          "size": [
           8469154.019999998,
           31289277.33,
           352073.71,
           3641644.83,
           9679842.129999999,
           8781477.49,
           38686004.26,
           7739953.579999999,
           5066030.46,
           8790509.68,
           17368572.560000002,
           334672.74,
           11029893.580000002,
           1142754.35,
           8793505.620000001,
           8775610.200000001,
           5256278.36,
           6684096.45,
           2863703.95,
           13661523.259999998,
           5013360.52,
           15359762.120000001,
           13817767.55,
           64909746.74000001,
           14994671.870000001,
           5268930.8100000005,
           49272272.29000001,
           10438859.419999998,
           14417503.48,
           13933881.94,
           10048738.72,
           10084153.280000001,
           8490333.84,
           10133936.690000001,
           4171265.2,
           8638001,
           435725.36,
           1440096.2699999998,
           12951402.160000002,
           200655.6,
           1947437.4,
           1219766.9200000002,
           2437408.9499999997,
           212449.38999999998,
           8584267.84,
           162589.89
          ],
          "sizemode": "area",
          "sizeref": 162274.36685000002,
          "symbol": "circle"
         },
         "mode": "markers",
         "name": "Q1",
         "orientation": "v",
         "showlegend": true,
         "type": "scatter",
         "x": [
          -3.1034353353646904,
          -1.1003263991080119,
          -3.5406276959736576,
          -3.3814292902240966,
          -2.837600535272744,
          -2.1226773390288467,
          -0.426406526055022,
          -1.6612825899652346,
          -3.120693433666201,
          -2.7844940665026154,
          -1.8450661549558656,
          -3.3255372110428363,
          -2.4399665289206527,
          -3.138124555986618,
          -2.495576179671812,
          -1.3578521067298612,
          -2.8911167808152487,
          -1.539763886307839,
          -2.653014773651711,
          -2.4357606801381206,
          -2.2500863919103216,
          -1.8951800816241124,
          -2.4181927089752007,
          -1.288782133706787,
          -1.4185497262221047,
          -3.1313907958486067,
          -1.605126429430477,
          -3.365691867481438,
          -2.0566271930102,
          -2.641702227564772,
          -2.8016791419133167,
          -2.9372511681920397,
          -3.0812441256055263,
          -2.3579436540286616,
          -2.6033071178993885,
          -2.1693310840334545,
          -3.0712791569911637,
          -2.3513651626472822,
          -0.43265144635417485,
          -2.736225817522073,
          -3.886573115009086,
          -2.6892396656948434,
          -2.006988948328945,
          -3.3402097723342963,
          -2.36845617182207,
          -3.2846406005366195
         ],
         "xaxis": "x",
         "y": [
          0.22638391446919642,
          0.0981415427176762,
          0.19666145814888147,
          0.2136076075960644,
          0.3673121166749374,
          0.10294020656483019,
          0.11061265152235718,
          0.21789926092696996,
          0.15788537409831022,
          0.19237012524021108,
          0.1011290198823156,
          0.15681080979490158,
          0.06325839113902025,
          0.1404663121612684,
          0.13491118897345308,
          0.20344622112193064,
          0.08576809167072608,
          0.09354168666961007,
          0.1535953872128642,
          0.14751377909833113,
          0.1418435195002367,
          0.15460552804031807,
          0.08392234481221343,
          0.11851321997653261,
          0.1016800789626454,
          0.12481068723330052,
          0.1669950923636729,
          0.15426857512065736,
          0.2815647055752239,
          0.06755233888699712,
          0.14013307250728105,
          0.09464059270582882,
          0.13515368579918277,
          0.08831773636866626,
          0.22485577395609196,
          0.16664696881755636,
          0.06231274629317466,
          0.12606916723017805,
          0.10776440914012117,
          0.062455492362973465,
          0.0871349712208079,
          0.060424610044821706,
          0.17901223710267286,
          0.10286611630907545,
          0.1055890829123131,
          0.0690346762661586
         ],
         "yaxis": "y"
        },
        {
         "customdata": [
          [
           "DHL Supply Chain"
          ],
          [
           "Guxiandao Green Fiber"
          ],
          [
           "United Imaging"
          ],
          [
           "Baker Hughes"
          ],
          [
           "B&Q"
          ],
          [
           "NESTLE"
          ],
          [
           "Hongxun"
          ],
          [
           "Civilization Mengyi Group"
          ],
          [
           "WEIFU GROUP - Technology"
          ],
          [
           "Huazhongbao"
          ],
          [
           "SIEMENS - Healthcare"
          ],
          [
           "Mary Kay Cosmetics"
          ],
          [
           "Lanzhou BSH"
          ],
          [
           "Kalsec"
          ],
          [
           "OTIS"
          ],
          [
           "TOD'S"
          ],
          [
           "Qingdao Haihang Jieyun"
          ],
          [
           "Huanqing"
          ],
          [
           "Kindos"
          ],
          [
           "LinkedCare"
          ],
          [
           "Midea"
          ],
          [
           "CORNING"
          ],
          [
           "Wuxi Lead"
          ],
          [
           "Chongqing Tianhan"
          ],
          [
           "CCL"
          ],
          [
           "Oak coffee&tea"
          ],
          [
           "SF Zhida"
          ],
          [
           "Tencent"
          ],
          [
           "Kangkun"
          ],
          [
           "Rayco"
          ],
          [
           "Shanghai Tiange"
          ],
          [
           "Yuwell"
          ],
          [
           "Yunnan Youjia"
          ],
          [
           "SHELL"
          ],
          [
           "CNHi"
          ],
          [
           "Ogawa"
          ],
          [
           "SOLVAY"
          ],
          [
           "Hilti"
          ],
          [
           "House Foods"
          ],
          [
           "Linuo"
          ],
          [
           "Otype"
          ],
          [
           "Seraphim"
          ],
          [
           "Yunnan Xiaolajiao"
          ],
          [
           "China State Construction"
          ],
          [
           "Kudosbay"
          ],
          [
           "SL - CVTE"
          ],
          [
           "Outerstuff"
          ],
          [
           "BFDA"
          ],
          [
           "Tianma"
          ],
          [
           "WATSON GROUP - Consumer"
          ],
          [
           "Qingdao Pulieen"
          ],
          [
           "SF-Watsons"
          ],
          [
           "SMITHS GROUP"
          ],
          [
           "GE Healthcare"
          ],
          [
           "Yunnan Flower"
          ],
          [
           "Zhejiang Jinyao"
          ],
          [
           "THYSSENKRUPP"
          ],
          [
           "China Mobile"
          ],
          [
           "Yeelight"
          ],
          [
           "BASF"
          ],
          [
           "Keyi"
          ],
          [
           "SONY"
          ],
          [
           "KUNCHI"
          ],
          [
           "Beijing Century Joyo"
          ],
          [
           "利福瑞达"
          ],
          [
           "Fellowes"
          ],
          [
           "Xiang Yun"
          ],
          [
           "Linkdata"
          ],
          [
           "Brembo"
          ],
          [
           "Hengan"
          ]
         ],
         "hovertemplate": "customer_type=Q4<br>ytm_income_amt_scaled=%{x}<br>ytm_gp_margin=%{y}<br>sap_lb_cost=%{marker.size}<br>customer_name=%{customdata[0]}<extra></extra>",
         "legendgroup": "Q4",
         "marker": {
          "color": "#EF553B",
          "size": [
           620.25,
           0,
           0,
           47627.9,
           31331.870000000003,
           0,
           0,
           1401061.35,
           1314168.5499999998,
           8208.35,
           0,
           5155945.35,
           1324.17,
           43731.020000000004,
           2424775.66,
           3626066.63,
           160451.53,
           22003.13,
           121.17,
           134945.55,
           4467074.34,
           71213.73999999999,
           56583.090000000004,
           7386.950000000001,
           0,
           72992.46999999999,
           6660.92,
           629100.3499999999,
           104.59000000000005,
           242202.99000000002,
           0,
           20145.569999999996,
           0,
           701136.78,
           81081.51999999999,
           19592.850000000002,
           1191844.1099999996,
           14234.85,
           67112.51000000001,
           119096.86,
           2981377.9499999997,
           404435.14999999997,
           386.18,
           63661.21000000001,
           16.35,
           1790149.0399999998,
           79900.94000000002,
           782825.76,
           1951963.4300000002,
           5472.890000000003,
           256.88,
           0,
           502411.81,
           1350466.3399999999,
           326433.04,
           5216.07,
           69429.60999999999,
           472094.98,
           11122.360000000002,
           84,
           0,
           361418.92000000004,
           0,
           22144.54,
           32016.169999999995,
           5629.12,
           3859.79,
           2123.59,
           59001.600000000006,
           0
          ],
          "sizemode": "area",
          "sizeref": 162274.36685000002,
          "symbol": "circle"
         },
         "mode": "markers",
         "name": "Q4",
         "orientation": "v",
         "showlegend": true,
         "type": "scatter",
         "x": [
          -4.041182442234052,
          -5.956915852462812,
          -6.776912542565275,
          -6.169493856555507,
          -5.349571492954299,
          -6.100014435771873,
          -6.023115124794157,
          -4.014116977262759,
          -4.8610948877398155,
          -5.767685682209774,
          -4.267278121530208,
          -3.6626957290081403,
          -6.948420755929564,
          -6.1318837274954925,
          -4.1742325476921405,
          -3.727244776293416,
          -4.510268697605346,
          -6.551223223412205,
          -6.199248660046581,
          -4.003877067128444,
          -4.343159108487849,
          -4.607296110501682,
          -5.521183400224454,
          -6.584255843476726,
          -4.78744949906509,
          -6.1977925686375865,
          -5.483308619556038,
          -4.266171927440827,
          -6.914980025313885,
          -6.436256583778569,
          -6.814886584691117,
          -4.571480910967039,
          -4.432855063455701,
          -4.465910660802071,
          -4.4883026021939,
          -5.7452267023439685,
          -3.7026973073609284,
          -5.545201368202661,
          -6.325343651503946,
          -3.9679710042033713,
          -3.6145497200517243,
          -4.987461165075118,
          -6.620239743444158,
          -4.065289889065009,
          -6.959406053063201,
          -4.962864053436407,
          -6.609831407713513,
          -4.609121712881589,
          -4.048377674761248,
          -4.08655777245729,
          -6.902288961462485,
          -5.141123294176238,
          -4.697913022421317,
          -4.540313792016448,
          -5.423365698834544,
          -6.067136429827895,
          -5.800061525722356,
          -4.1522524197894874,
          -4.644377552840197,
          -5.350471376517973,
          -5.912268142759277,
          -4.300287881863962,
          -6.696203576433285,
          -6.606868234003157,
          -6.729868607406488,
          -5.975908848333738,
          -6.1342778581252295,
          -6.638236385091539,
          -5.895602008201858,
          -6.8439618461175025
         ],
         "xaxis": "x",
         "y": [
          -0.0013058453083874056,
          -0.000006521319077736126,
          0.04916938657134849,
          0.008693467574882534,
          -0.027113109598404253,
          -0.09013238631860716,
          0.057748857626478224,
          -0.0066805543534587935,
          0.023586744241166833,
          -0.0037698816715310865,
          0.02263653029740502,
          0.03676840588171302,
          -0.32460793024001977,
          0.051469729305151674,
          0.04573574626815461,
          -0.20935123366955907,
          -0.018172099724003698,
          -0.012380027273908183,
          0.04091810646107333,
          0.007194971333251344,
          -0.04565422707589249,
          0.05344341937398906,
          0.045302494853498534,
          -0.012845494123687302,
          0.053779194056482175,
          0.016320580276958294,
          0.044992041516795915,
          0.05729016472142722,
          -0.10320383373873697,
          0.029082461809532435,
          0.05437848605577693,
          0.019719940008322917,
          0.01802747254232578,
          0.035936118543096134,
          0.030342314941675788,
          -0.055116609658054545,
          -0.03947564457560657,
          0.04001645521884717,
          0.03657942334963742,
          0.004676620438881727,
          0.013370784890806574,
          -0.15549738202635757,
          0.025745620327526704,
          -0.2517610029922413,
          -0.08915353116778088,
          -0.07059541062595737,
          -0.11880344357957855,
          -0.09017384449800919,
          0.017236568032807504,
          0.025119600738588578,
          0.03922325062830699,
          0.056911335201886876,
          0.04930493837489728,
          -0.0516635471439455,
          -0.25853599564375124,
          0.05861122637171781,
          0.03867867531515009,
          -0.028233656375384383,
          0.04897446640517147,
          0.006647835398091027,
          0.04304565590375509,
          0.00602572133832302,
          0.04277153481320611,
          0.022202925066837884,
          -0.193746005149744,
          0.05953970289653596,
          0.04254908098199436,
          0.05096229988884184,
          0.007318304141466717,
          -0.10635588257348767
         ],
         "yaxis": "y"
        },
        {
         "customdata": [
          [
           "Taochen Electronics"
          ],
          [
           "DEERE & COMPANY"
          ],
          [
           "LENOVO"
          ],
          [
           "北京五和博澳药业"
          ],
          [
           "LEXMARK"
          ],
          [
           "Neusoft Medical Systems"
          ],
          [
           "FERRERO"
          ],
          [
           "Husqvarna"
          ],
          [
           "Beijing Hangyu"
          ],
          [
           "SQUIBB"
          ],
          [
           "IBM"
          ],
          [
           "AIRBUS GROUP - Technology"
          ],
          [
           "KONE"
          ],
          [
           "Tsingtao"
          ],
          [
           "Bombardier Recreational Products"
          ],
          [
           "GEZ Qingdao"
          ],
          [
           "DIADORA"
          ],
          [
           "Glico"
          ],
          [
           "SKF - Technology"
          ],
          [
           "ENVISION"
          ],
          [
           "FUJI XEROX"
          ],
          [
           "THERMO FISHER SCIENTIFIC"
          ],
          [
           "Venchi"
          ],
          [
           "Sensori+"
          ],
          [
           "ASUSTEK COMPUTER"
          ],
          [
           "ATG"
          ],
          [
           "DXC"
          ],
          [
           "Schueco"
          ],
          [
           "Razer"
          ],
          [
           "EXAR"
          ],
          [
           "HAIER"
          ],
          [
           "Accuray"
          ],
          [
           "PMI"
          ],
          [
           "SF-JNJ"
          ],
          [
           "SENSATA"
          ],
          [
           "TYCO ELECTRONICS"
          ],
          [
           "Yuan"
          ],
          [
           "Advance Auto Parts"
          ],
          [
           "INFINEON"
          ],
          [
           "Clariant"
          ],
          [
           "Becton Dickinson"
          ],
          [
           "Chui Xue Charging"
          ],
          [
           "MOLEX"
          ],
          [
           "Other Customers Automotive"
          ],
          [
           "NIANCE"
          ],
          [
           "Edelman"
          ],
          [
           "Maxim"
          ],
          [
           "Flex-Tek"
          ],
          [
           "Gabriel"
          ],
          [
           "Dolce & Gabbana"
          ],
          [
           "GENERAL ELECTRIC - Healthcare"
          ],
          [
           "Grandos Coffe"
          ],
          [
           "MingYu logistic"
          ],
          [
           "SAMSUNG"
          ],
          [
           "HITACHI"
          ],
          [
           "UNISPC"
          ],
          [
           "Miltenyi Biotec"
          ],
          [
           "Xiwu"
          ],
          [
           "GENERAL ELECTRIC - Industrial"
          ],
          [
           "Hu’nan Cuilong Trading"
          ],
          [
           "State Grid"
          ],
          [
           "KEYSIGHT"
          ],
          [
           "Hafele"
          ],
          [
           "FEI"
          ],
          [
           "ROCHE"
          ],
          [
           "SDQC"
          ],
          [
           "UNITED TECHNOLOGIES"
          ],
          [
           "MITSUBISHI ELECTRIC"
          ],
          [
           "YUDO"
          ],
          [
           "JCB"
          ],
          [
           "Lifuruida"
          ],
          [
           "OLYMPUS"
          ],
          [
           "INTEL"
          ],
          [
           "Landbase"
          ],
          [
           "Cytiva"
          ],
          [
           "WEI WEI"
          ],
          [
           "C&D Logistics"
          ],
          [
           "长春金赛药业"
          ],
          [
           "Beukay"
          ],
          [
           "SF-Melaleuca"
          ],
          [
           "Jiangling Motors"
          ],
          [
           "Benz"
          ],
          [
           "Prologis"
          ],
          [
           "Townsun"
          ],
          [
           "PHILIPS MEDICAL"
          ],
          [
           "ARTE"
          ],
          [
           "WEIFU GROUP - Industrial"
          ],
          [
           "SL - Jing Tong Lu Yuan"
          ],
          [
           "XingYa"
          ],
          [
           "BEIJING-YILIN"
          ],
          [
           "Genki Sushi"
          ],
          [
           "Wei Chong Jian"
          ],
          [
           "Fisher Joen"
          ],
          [
           "DAINIPPON SCREEN"
          ],
          [
           "FREY"
          ],
          [
           "CHANEL"
          ],
          [
           "SSP Group"
          ],
          [
           "Sincero"
          ],
          [
           "Wuxi No.1 Cotton"
          ],
          [
           "XINWEI"
          ],
          [
           "BAYER"
          ],
          [
           "SF-UNIQLO"
          ],
          [
           "国际生物试剂物流中心"
          ],
          [
           "Other Customers Healthcare"
          ],
          [
           "Deckers"
          ],
          [
           "北京航楹物流"
          ],
          [
           "Biwei"
          ],
          [
           "Marquardt"
          ],
          [
           "Shanghai SINE Pharmaceutical"
          ],
          [
           "CDF International Group"
          ],
          [
           "Meitaoyuan"
          ],
          [
           "TI Automotive"
          ],
          [
           "Nidec"
          ],
          [
           "Guangxi Longtao"
          ],
          [
           "Gui Lin Shen Ke Ji"
          ],
          [
           "V-Zug (Shanghai)"
          ],
          [
           "Eaton Industries"
          ],
          [
           "Nutricia"
          ],
          [
           "Bybon"
          ]
         ],
         "hovertemplate": "customer_type=Q3<br>ytm_income_amt_scaled=%{x}<br>ytm_gp_margin=%{y}<br>sap_lb_cost=%{marker.size}<br>customer_name=%{customdata[0]}<extra></extra>",
         "legendgroup": "Q3",
         "marker": {
          "color": "#00cc96",
          "size": [
           728361.4999999999,
           226665.13,
           48282.91,
           0,
           1203885.13,
           70128.33,
           280626.6,
           894720.62,
           66438.68,
           348875.27,
           2125207.3200000003,
           31316.15,
           2220355.9299999997,
           598.8,
           878263.39,
           36789.92,
           482304.43,
           626.6999999999999,
           1895637.19,
           83158.1,
           921841.7000000001,
           2650152.6,
           248410.97000000006,
           67.47,
           223385.91999999998,
           338707.25,
           172401.30000000002,
           335278.27,
           496274.20000000007,
           568134.2200000001,
           3716379.0200000005,
           496660.66,
           31783.28,
           0,
           2354529.63,
           3984211.8700000006,
           13661.25,
           0,
           6925072.329999998,
           182353.66999999998,
           4537,
           0,
           1948958.89,
           16491.490000000005,
           11078.49,
           3000,
           0,
           9085.99,
           23855.579999999998,
           38007.57,
           1297549.98,
           160.66,
           26.52,
           220460.42,
           359871.23000000004,
           146.4,
           459269.51,
           361.84,
           453202.69999999995,
           121769.83,
           27.14000000000001,
           1570786.71,
           176516.48,
           540294.6399999999,
           4495.9800000000005,
           2073.29,
           137739.24,
           608492.62,
           53879.829999999994,
           914211.1000000001,
           1610.449999999999,
           1700953.0300000003,
           2119311.6199999996,
           3090983.65,
           152397.5,
           10959.66,
           53488.57,
           61.44999999999993,
           2210083.5,
           17322.64,
           1187204.9000000001,
           10685.289999999999,
           3954.54,
           29549.41,
           1352120.3900000001,
           36285.31,
           362142.06,
           1528.34,
           0,
           298419.49999999994,
           22862.91,
           60725.68,
           1367.1099999999997,
           145080.44999999998,
           18016.14,
           258080.82,
           0,
           6615.1799999999985,
           5813.639999999999,
           4419.69,
           172025.22,
           154420.83,
           4379.87,
           0,
           0,
           16919.07,
           164.5,
           1030.34,
           8700.779999999997,
           0.6900000000000001,
           0,
           1359.12,
           796.9700000000003,
           116380.38,
           146716.4,
           38726.32,
           110478.43,
           5441.76,
           0
          ],
          "sizemode": "area",
          "sizeref": 162274.36685000002,
          "symbol": "circle"
         },
         "mode": "markers",
         "name": "Q3",
         "orientation": "v",
         "showlegend": true,
         "type": "scatter",
         "x": [
          -5.770781170212302,
          -5.819378039981227,
          -6.103461787235331,
          -6.71452229180935,
          -3.9857258881050264,
          -6.09020329543415,
          -5.298636013445133,
          -5.047334524597576,
          -6.629357926441561,
          -5.304113142357765,
          -4.650844087745468,
          -6.685812763001725,
          -3.8274289597568436,
          -6.815757842112565,
          -3.8089350006334195,
          -4.920429711682725,
          -5.153022571334744,
          -6.52285022993921,
          -4.287863462266973,
          -3.972266984142967,
          -4.224711266041455,
          -4.259668644778644,
          -5.025746916370212,
          -6.699559997118103,
          -3.9397988286557926,
          -4.192016888349497,
          -5.9367206053661405,
          -4.138821962885281,
          -4.461032740800035,
          -5.3175665923497535,
          -4.257176822966934,
          -4.877522280332697,
          -5.182904059511876,
          -6.32842544473489,
          -4.784011654278986,
          -3.7901449911671117,
          -6.294808230393666,
          -6.520193279583697,
          -3.8481101819796812,
          -5.055337261661517,
          -5.242072906494415,
          -6.953876024858651,
          -3.92407372968149,
          -5.2198198826088875,
          -6.3615698975498995,
          -6.944643800823863,
          -4.4297123249319075,
          -5.922371351912768,
          -5.352307341518682,
          -5.059114837887667,
          -3.8552625730654566,
          -6.928052144221074,
          -6.547017118446035,
          -4.090716068054927,
          -5.265182553628206,
          -6.915599961480236,
          -4.862316846765059,
          -6.892354434020068,
          -5.601199685854955,
          -4.64529407396556,
          -6.8954768252439465,
          -4.930272524567015,
          -4.983132162803116,
          -4.378354918062093,
          -6.539644603035073,
          -6.452824746432843,
          -6.321888191037059,
          -5.586680861159812,
          -5.7405148013266,
          -5.560850076637996,
          -6.8159529455172,
          -4.995320381492255,
          -4.107623312454684,
          -4.286127858504978,
          -5.28576333233296,
          -6.757920946805617,
          -6.411346013597985,
          -6.888568744539572,
          -4.861795060405149,
          -4.805513503405315,
          -4.439512440614446,
          -6.730373404109583,
          -6.2204798757634725,
          -4.656593618624144,
          -4.812163495914771,
          -6.458407548144125,
          -4.419650048438889,
          -6.490679452777961,
          -6.605073864423014,
          -5.7542316226842285,
          -6.692584060441822,
          -6.379453324483935,
          -6.721416818475361,
          -5.868271453076501,
          -6.8312567296472215,
          -5.529803080480845,
          -6.9594996218075025,
          -5.7246928446653955,
          -5.236765901757798,
          -6.946830036438688,
          -5.284990989294817,
          -3.9607464640849317,
          -6.883687112160146,
          -5.4693227609901705,
          -5.699744228894964,
          -5.737799299803217,
          -6.921240203024912,
          -6.6703448226903665,
          -4.825095124808217,
          -6.903610811551774,
          -6.970386928839695,
          -6.542692054138249,
          -5.719453930195332,
          -5.265575005362583,
          -6.475929478080149,
          -5.361279480106249,
          -6.622199129712158,
          -5.998731267395691,
          -6.953775327253503
         ],
         "xaxis": "x",
         "y": [
          0.09098548824930539,
          0.24990634967390385,
          0.4111959037204917,
          0.33361027151049716,
          0.17957545748033474,
          0.1602822738249238,
          0.28800118997819546,
          0.21174175757267544,
          0.08418386444133517,
          0.11752191808016296,
          0.19046903032820253,
          0.21254369353481267,
          0.2312245049735728,
          0.07699707049678632,
          0.22495870992633085,
          0.06196667752177866,
          0.19907901624759647,
          0.07378945790982334,
          0.1786919424546648,
          0.07379639186285022,
          0.20383508286348345,
          0.1711302652516105,
          0.16608465862948757,
          0.34750293704631147,
          0.09937672550403699,
          0.1660507573364654,
          0.16072311728320185,
          0.09104832848709761,
          0.16064428164768782,
          0.2580350872261364,
          0.22139173193109457,
          0.2745811308657547,
          0.11444100832085953,
          0.25049388588682,
          0.09667544094191945,
          0.22781386937097017,
          0.08768057189795911,
          0.07342993492751908,
          0.07703206196990248,
          0.08729291893273736,
          0.10318113788660349,
          0.15475131716491217,
          0.24573766616875528,
          0.10698708327717096,
          0.47051545089458213,
          0.06947600000000002,
          0.10247166848609625,
          0.1233576146183757,
          0.11826817377491926,
          0.09948513218694893,
          0.16858421329585682,
          0.06299089095599841,
          0.14703872271742444,
          0.0824616121047147,
          0.13035167490953134,
          0.3060478247312789,
          0.217672499051273,
          0.07155981673171562,
          0.3557303765296817,
          0.09080107577853648,
          0.17627223430247296,
          0.2921477655853306,
          0.08163572232206347,
          0.18533380366822014,
          0.2732611391615756,
          0.16882405883731025,
          0.13477002353996714,
          0.1795768470554157,
          0.14166395267792423,
          0.1457580470244984,
          0.1825605656455794,
          0.19698611818624318,
          0.19347050298254304,
          0.13284525573461797,
          0.20004100815962395,
          0.44411819390840224,
          0.3691863058116601,
          0.25668310466242805,
          0.1203025916985367,
          0.06931917877424348,
          0.11765984675810824,
          0.23995684126749584,
          0.19940590819114912,
          0.10270930777171466,
          0.12451185315309553,
          0.17124565630670918,
          0.0652082610092806,
          0.27722433754041753,
          0.1129923824886628,
          0.07739351688084724,
          0.15245440075766695,
          0.13716078879264282,
          0.3501322627179033,
          0.27315061276466684,
          0.49046802339481893,
          0.20862893480034883,
          0.2454706446191474,
          0.18009981331901645,
          0.20893122381035076,
          0.4542458178216616,
          0.14241974614651096,
          0.06752445355857585,
          0.12496226091719212,
          0.35589976433492665,
          0.2700882673399348,
          0.08554764178431647,
          0.13586163223559586,
          0.08893537732820438,
          0.07003137998851362,
          0.18651948757283124,
          0.23072902724132227,
          0.10941076661175889,
          0.09460083836392504,
          0.2444717654412344,
          0.2737401192414505,
          0.10335220498646373,
          0.25093919986051394,
          0.15209090001823933,
          0.0770117737260792
         ],
         "yaxis": "y"
        },
        {
         "customdata": [
          [
           "Yi Le Zhong He"
          ],
          [
           "Abbott Group"
          ],
          [
           "UNILEVER"
          ],
          [
           "HERSHEY COMPANY"
          ],
          [
           "Freight Forwarding TSC"
          ],
          [
           "Linqing Lugang"
          ],
          [
           "Luckin"
          ],
          [
           "LINDT & SPRUENGLI"
          ],
          [
           "ECCO"
          ],
          [
           "WHITBREAD"
          ],
          [
           "WATSON GROUP - Retail"
          ],
          [
           "Liao Yuan"
          ],
          [
           "KONICA MINOLTA"
          ],
          [
           "ZTE CORPORATION"
          ],
          [
           "Shuangxing"
          ],
          [
           "TengChong MuChen"
          ],
          [
           "Shanghai Hanjia"
          ],
          [
           "KUKA"
          ],
          [
           "ON SEMICONDUCTOR"
          ],
          [
           "Continental AG"
          ],
          [
           "Freight Forwarding EI"
          ],
          [
           "Goertek"
          ],
          [
           "BMW"
          ],
          [
           "Evisu Group"
          ],
          [
           "Ping’an Shangmao"
          ],
          [
           "VOLKSWAGEN"
          ],
          [
           "Canadian Solar Inc"
          ],
          [
           "Three Squirrels"
          ],
          [
           "ZF"
          ],
          [
           "昆仑润滑油"
          ],
          [
           "APP"
          ],
          [
           "China Railway Construction Group"
          ],
          [
           "Chuang Shi Tong"
          ],
          [
           "Jia Sheng"
          ],
          [
           "Zhongyou"
          ],
          [
           "NITTO DENKO GROUP"
          ],
          [
           "Huijun"
          ],
          [
           "Ding Yao"
          ],
          [
           "Yingli Solar"
          ],
          [
           "Shanghai YiTie"
          ],
          [
           "ZhongNan Engineering"
          ],
          [
           "AnPing Building"
          ],
          [
           "Wanhua Chemical"
          ],
          [
           "Anhui Fengyuan"
          ]
         ],
         "hovertemplate": "customer_type=Q2<br>ytm_income_amt_scaled=%{x}<br>ytm_gp_margin=%{y}<br>sap_lb_cost=%{marker.size}<br>customer_name=%{customdata[0]}<extra></extra>",
         "legendgroup": "Q2",
         "marker": {
          "color": "#ab63fa",
          "size": [
           185569.94,
           10607096.18,
           1904007.7799999998,
           4041699.22,
           95482.69999999995,
           247074.39999999997,
           5792033.59,
           4455367.01,
           5667862.17,
           2971204.6900000004,
           1085680.0699999998,
           0,
           2356963.94,
           2738415.92,
           91067.68,
           20639.04,
           0,
           1109278.6,
           9237725.530000001,
           1453609.78,
           170409.4,
           820767.5700000001,
           33886529.72,
           2722168.7100000004,
           107552.73999999996,
           991386.11,
           1140.2200000000012,
           0,
           218078.21,
           9097792.450000001,
           564721.43,
           180480.56000000003,
           0,
           135936.68000000002,
           0,
           2896258.1,
           23411.85,
           160887.89,
           234623.9,
           70559.68,
           583111.59,
           2569145.3300000005,
           315301.12,
           0
          ],
          "sizemode": "area",
          "sizeref": 162274.36685000002,
          "symbol": "circle"
         },
         "mode": "markers",
         "name": "Q2",
         "orientation": "v",
         "showlegend": true,
         "type": "scatter",
         "x": [
          -1.9559047058192374,
          -2.2650135162873206,
          -1.4633617243974422,
          -3.2054836721679516,
          -3.1684351687658987,
          -2.9864992998455078,
          -1.2160856455559912,
          -3.544970989141605,
          -3.0539604021927547,
          -3.0538242588906375,
          -2.74254121098108,
          -3.5276056041188957,
          -2.337725954030103,
          -2.2722169732133533,
          -2.990842656303168,
          -3.6302341078440348,
          -3.10083584977132,
          -3.48548094675899,
          -2.799639674495703,
          -2.6317393322035785,
          -0.7246744749361799,
          -3.131975690036044,
          -1.1102230246251565e-16,
          -3.6417396208158324,
          -2.4811251249175226,
          -2.1629361246244505,
          -3.041037298155439,
          -4.673570394111726,
          -2.674287649396448,
          -1.6188640312874945,
          -3.465691899188108,
          -3.129111837497459,
          -2.9293533310185578,
          -1.4933331682645672,
          -3.8712200988074774,
          -2.051182087178502,
          -2.8320757611695537,
          -2.2458699012542556,
          -2.147952085849892,
          -3.4287035233759906,
          -2.944903981694762,
          -4.56279239974322,
          -4.130202440982132,
          -3.266869477640366
         ],
         "xaxis": "x",
         "y": [
          0.006760445989051506,
          0.01619774955679713,
          0.055497333525353,
          -0.09059735121191526,
          0.03608552161619638,
          -0.004762002401899694,
          -0.015817876238742732,
          0.02657776317178751,
          -0.35879200380953086,
          0.022822654489348906,
          0.03150986512083786,
          0.00968690119976454,
          0.056587343093312474,
          -0.016598428978197667,
          -0.07001777492119099,
          0.01197971406392,
          0.004195391793505456,
          -0.1653544062722473,
          0.05634433445173735,
          0.03402163993204285,
          0.0037371141178995596,
          0.018285038111593616,
          0.05660921834463966,
          -0.02836853578488591,
          0.007887682916161232,
          0.04797189181966985,
          0.011164180035404514,
          0.008678279038461745,
          0.04950744071071196,
          -0.04571335594936281,
          0.003229390298043544,
          -0.08267006862478846,
          0.0027670772661629946,
          0.010420252630303273,
          0.005658458141327974,
          0.04387295749490195,
          0.00962351939486152,
          -0.016450329228959414,
          0.027033944180177256,
          0.002192561802346701,
          0.04049669471426462,
          -0.06443288320278966,
          -0.016234591706992527,
          0.008948452169202042
         ],
         "yaxis": "y"
        },
        {
         "customdata": [
          [
           "中国大冢"
          ],
          [
           "Beijing Xiaofangui"
          ],
          [
           "Other Project Auto"
          ],
          [
           "济民可信"
          ],
          [
           "GBA"
          ],
          [
           "新华医疗"
          ],
          [
           "LEAP"
          ],
          [
           "SVW"
          ],
          [
           "SL - Zhong Shi Nuo"
          ],
          [
           "doTERR"
          ],
          [
           "Changfeng Group"
          ],
          [
           "Huayi life"
          ],
          [
           "IDLE SPACE"
          ],
          [
           "同仁堂"
          ],
          [
           "Shared Cost Allocate"
          ],
          [
           "Borgward"
          ],
          [
           "SF IT"
          ],
          [
           "Jianmin"
          ],
          [
           "北京速通"
          ],
          [
           "中石油"
          ],
          [
           "Other Profit(JV)"
          ],
          [
           "山东高速信联"
          ],
          [
           "Default"
          ],
          [
           "扬子江"
          ],
          [
           "RPA"
          ],
          [
           "中体彩印务"
          ]
         ],
         "hovertemplate": "customer_type=0<br>ytm_income_amt_scaled=%{x}<br>ytm_gp_margin=%{y}<br>sap_lb_cost=%{marker.size}<br>customer_name=%{customdata[0]}<extra></extra>",
         "legendgroup": "0",
         "marker": {
          "color": "#FFA15A",
          "size": [
           58462.19000000001,
           0,
           2894076.1899999995,
           80438.96,
           375165.71,
           116241.58,
           0,
           1519089.76,
           831.3299999999999,
           0,
           0,
           0,
           0,
           49045.16,
           3.730349362740526e-13,
           0,
           0,
           1.4210854715202004e-14,
           48561.850000000006,
           2443.84,
           0,
           299301.93,
           0,
           138632.87000000002,
           453383.92,
           88.34999999999997
          ],
          "sizemode": "area",
          "sizeref": 162274.36685000002,
          "symbol": "circle"
         },
         "mode": "markers",
         "name": "0",
         "orientation": "v",
         "showlegend": true,
         "type": "scatter",
         "x": [
          -6.972609224592185,
          -6.972609224592185,
          -6.972609224592185,
          -6.972609224592185,
          -6.972609224592185,
          -6.972609224592185,
          -6.972609224592185,
          -6.972609224592185,
          -6.972609224592185,
          -6.972609224592185,
          -6.972609224592185,
          -6.972609224592185,
          -6.972609224592185,
          -6.972609224592185,
          -6.972609224592185,
          -6.972609224592185,
          -6.972609224592185,
          -6.972609224592185,
          -6.972609224592185,
          -6.972609224592185,
          -6.972609224592185,
          -6.972609224592185,
          -6.972609224592185,
          -6.972609224592185,
          -6.972609224592185,
          -6.972609224592185
         ],
         "xaxis": "x",
         "y": [
          0,
          0,
          0,
          0,
          0,
          0,
          0,
          0,
          0,
          0,
          0,
          0,
          0,
          0,
          0,
          0,
          0,
          0,
          0,
          0,
          0,
          0,
          0,
          0,
          0,
          0
         ],
         "yaxis": "y"
        }
       ],
       "layout": {
        "annotations": [
         {
          "opacity": 0.4,
          "showarrow": false,
          "text": "2021 <br> GP_margin .06 <br><br />  ",
          "x": 1,
          "xanchor": "right",
          "xref": "x domain",
          "y": 0.06,
          "yanchor": "bottom",
          "yref": "y"
         }
        ],
        "legend": {
         "itemsizing": "constant",
         "title": {
          "text": "customer_type"
         },
         "tracegroupgap": 0
        },
        "shapes": [
         {
          "line": {
           "color": "black",
           "dash": "dash",
           "width": 3
          },
          "opacity": 0.4,
          "type": "line",
          "x0": 0,
          "x1": 1,
          "xref": "x domain",
          "y0": 0.06,
          "y1": 0.06,
          "yref": "y"
         },
         {
          "line": {
           "color": "black",
           "dash": "dash",
           "width": 3
          },
          "opacity": 0.4,
          "type": "line",
          "x0": -3.592971695626755,
          "x1": -3.592971695626755,
          "xref": "x",
          "y0": 0,
          "y1": 1,
          "yref": "y domain"
         }
        ],
        "template": {
         "data": {
          "bar": [
           {
            "error_x": {
             "color": "#2a3f5f"
            },
            "error_y": {
             "color": "#2a3f5f"
            },
            "marker": {
             "line": {
              "color": "#E5ECF6",
              "width": 0.5
             }
            },
            "type": "bar"
           }
          ],
          "barpolar": [
           {
            "marker": {
             "line": {
              "color": "#E5ECF6",
              "width": 0.5
             }
            },
            "type": "barpolar"
           }
          ],
          "carpet": [
           {
            "aaxis": {
             "endlinecolor": "#2a3f5f",
             "gridcolor": "white",
             "linecolor": "white",
             "minorgridcolor": "white",
             "startlinecolor": "#2a3f5f"
            },
            "baxis": {
             "endlinecolor": "#2a3f5f",
             "gridcolor": "white",
             "linecolor": "white",
             "minorgridcolor": "white",
             "startlinecolor": "#2a3f5f"
            },
            "type": "carpet"
           }
          ],
          "choropleth": [
           {
            "colorbar": {
             "outlinewidth": 0,
             "ticks": ""
            },
            "type": "choropleth"
           }
          ],
          "contour": [
           {
            "colorbar": {
             "outlinewidth": 0,
             "ticks": ""
            },
            "colorscale": [
             [
              0,
              "#0d0887"
             ],
             [
              0.1111111111111111,
              "#46039f"
             ],
             [
              0.2222222222222222,
              "#7201a8"
             ],
             [
              0.3333333333333333,
              "#9c179e"
             ],
             [
              0.4444444444444444,
              "#bd3786"
             ],
             [
              0.5555555555555556,
              "#d8576b"
             ],
             [
              0.6666666666666666,
              "#ed7953"
             ],
             [
              0.7777777777777778,
              "#fb9f3a"
             ],
             [
              0.8888888888888888,
              "#fdca26"
             ],
             [
              1,
              "#f0f921"
             ]
            ],
            "type": "contour"
           }
          ],
          "contourcarpet": [
           {
            "colorbar": {
             "outlinewidth": 0,
             "ticks": ""
            },
            "type": "contourcarpet"
           }
          ],
          "heatmap": [
           {
            "colorbar": {
             "outlinewidth": 0,
             "ticks": ""
            },
            "colorscale": [
             [
              0,
              "#0d0887"
             ],
             [
              0.1111111111111111,
              "#46039f"
             ],
             [
              0.2222222222222222,
              "#7201a8"
             ],
             [
              0.3333333333333333,
              "#9c179e"
             ],
             [
              0.4444444444444444,
              "#bd3786"
             ],
             [
              0.5555555555555556,
              "#d8576b"
             ],
             [
              0.6666666666666666,
              "#ed7953"
             ],
             [
              0.7777777777777778,
              "#fb9f3a"
             ],
             [
              0.8888888888888888,
              "#fdca26"
             ],
             [
              1,
              "#f0f921"
             ]
            ],
            "type": "heatmap"
           }
          ],
          "heatmapgl": [
           {
            "colorbar": {
             "outlinewidth": 0,
             "ticks": ""
            },
            "colorscale": [
             [
              0,
              "#0d0887"
             ],
             [
              0.1111111111111111,
              "#46039f"
             ],
             [
              0.2222222222222222,
              "#7201a8"
             ],
             [
              0.3333333333333333,
              "#9c179e"
             ],
             [
              0.4444444444444444,
              "#bd3786"
             ],
             [
              0.5555555555555556,
              "#d8576b"
             ],
             [
              0.6666666666666666,
              "#ed7953"
             ],
             [
              0.7777777777777778,
              "#fb9f3a"
             ],
             [
              0.8888888888888888,
              "#fdca26"
             ],
             [
              1,
              "#f0f921"
             ]
            ],
            "type": "heatmapgl"
           }
          ],
          "histogram": [
           {
            "marker": {
             "colorbar": {
              "outlinewidth": 0,
              "ticks": ""
             }
            },
            "type": "histogram"
           }
          ],
          "histogram2d": [
           {
            "colorbar": {
             "outlinewidth": 0,
             "ticks": ""
            },
            "colorscale": [
             [
              0,
              "#0d0887"
             ],
             [
              0.1111111111111111,
              "#46039f"
             ],
             [
              0.2222222222222222,
              "#7201a8"
             ],
             [
              0.3333333333333333,
              "#9c179e"
             ],
             [
              0.4444444444444444,
              "#bd3786"
             ],
             [
              0.5555555555555556,
              "#d8576b"
             ],
             [
              0.6666666666666666,
              "#ed7953"
             ],
             [
              0.7777777777777778,
              "#fb9f3a"
             ],
             [
              0.8888888888888888,
              "#fdca26"
             ],
             [
              1,
              "#f0f921"
             ]
            ],
            "type": "histogram2d"
           }
          ],
          "histogram2dcontour": [
           {
            "colorbar": {
             "outlinewidth": 0,
             "ticks": ""
            },
            "colorscale": [
             [
              0,
              "#0d0887"
             ],
             [
              0.1111111111111111,
              "#46039f"
             ],
             [
              0.2222222222222222,
              "#7201a8"
             ],
             [
              0.3333333333333333,
              "#9c179e"
             ],
             [
              0.4444444444444444,
              "#bd3786"
             ],
             [
              0.5555555555555556,
              "#d8576b"
             ],
             [
              0.6666666666666666,
              "#ed7953"
             ],
             [
              0.7777777777777778,
              "#fb9f3a"
             ],
             [
              0.8888888888888888,
              "#fdca26"
             ],
             [
              1,
              "#f0f921"
             ]
            ],
            "type": "histogram2dcontour"
           }
          ],
          "mesh3d": [
           {
            "colorbar": {
             "outlinewidth": 0,
             "ticks": ""
            },
            "type": "mesh3d"
           }
          ],
          "parcoords": [
           {
            "line": {
             "colorbar": {
              "outlinewidth": 0,
              "ticks": ""
             }
            },
            "type": "parcoords"
           }
          ],
          "pie": [
           {
            "automargin": true,
            "type": "pie"
           }
          ],
          "scatter": [
           {
            "marker": {
             "colorbar": {
              "outlinewidth": 0,
              "ticks": ""
             }
            },
            "type": "scatter"
           }
          ],
          "scatter3d": [
           {
            "line": {
             "colorbar": {
              "outlinewidth": 0,
              "ticks": ""
             }
            },
            "marker": {
             "colorbar": {
              "outlinewidth": 0,
              "ticks": ""
             }
            },
            "type": "scatter3d"
           }
          ],
          "scattercarpet": [
           {
            "marker": {
             "colorbar": {
              "outlinewidth": 0,
              "ticks": ""
             }
            },
            "type": "scattercarpet"
           }
          ],
          "scattergeo": [
           {
            "marker": {
             "colorbar": {
              "outlinewidth": 0,
              "ticks": ""
             }
            },
            "type": "scattergeo"
           }
          ],
          "scattergl": [
           {
            "marker": {
             "colorbar": {
              "outlinewidth": 0,
              "ticks": ""
             }
            },
            "type": "scattergl"
           }
          ],
          "scattermapbox": [
           {
            "marker": {
             "colorbar": {
              "outlinewidth": 0,
              "ticks": ""
             }
            },
            "type": "scattermapbox"
           }
          ],
          "scatterpolar": [
           {
            "marker": {
             "colorbar": {
              "outlinewidth": 0,
              "ticks": ""
             }
            },
            "type": "scatterpolar"
           }
          ],
          "scatterpolargl": [
           {
            "marker": {
             "colorbar": {
              "outlinewidth": 0,
              "ticks": ""
             }
            },
            "type": "scatterpolargl"
           }
          ],
          "scatterternary": [
           {
            "marker": {
             "colorbar": {
              "outlinewidth": 0,
              "ticks": ""
             }
            },
            "type": "scatterternary"
           }
          ],
          "surface": [
           {
            "colorbar": {
             "outlinewidth": 0,
             "ticks": ""
            },
            "colorscale": [
             [
              0,
              "#0d0887"
             ],
             [
              0.1111111111111111,
              "#46039f"
             ],
             [
              0.2222222222222222,
              "#7201a8"
             ],
             [
              0.3333333333333333,
              "#9c179e"
             ],
             [
              0.4444444444444444,
              "#bd3786"
             ],
             [
              0.5555555555555556,
              "#d8576b"
             ],
             [
              0.6666666666666666,
              "#ed7953"
             ],
             [
              0.7777777777777778,
              "#fb9f3a"
             ],
             [
              0.8888888888888888,
              "#fdca26"
             ],
             [
              1,
              "#f0f921"
             ]
            ],
            "type": "surface"
           }
          ],
          "table": [
           {
            "cells": {
             "fill": {
              "color": "#EBF0F8"
             },
             "line": {
              "color": "white"
             }
            },
            "header": {
             "fill": {
              "color": "#C8D4E3"
             },
             "line": {
              "color": "white"
             }
            },
            "type": "table"
           }
          ]
         },
         "layout": {
          "annotationdefaults": {
           "arrowcolor": "#2a3f5f",
           "arrowhead": 0,
           "arrowwidth": 1
          },
          "autotypenumbers": "strict",
          "coloraxis": {
           "colorbar": {
            "outlinewidth": 0,
            "ticks": ""
           }
          },
          "colorscale": {
           "diverging": [
            [
             0,
             "#8e0152"
            ],
            [
             0.1,
             "#c51b7d"
            ],
            [
             0.2,
             "#de77ae"
            ],
            [
             0.3,
             "#f1b6da"
            ],
            [
             0.4,
             "#fde0ef"
            ],
            [
             0.5,
             "#f7f7f7"
            ],
            [
             0.6,
             "#e6f5d0"
            ],
            [
             0.7,
             "#b8e186"
            ],
            [
             0.8,
             "#7fbc41"
            ],
            [
             0.9,
             "#4d9221"
            ],
            [
             1,
             "#276419"
            ]
           ],
           "sequential": [
            [
             0,
             "#0d0887"
            ],
            [
             0.1111111111111111,
             "#46039f"
            ],
            [
             0.2222222222222222,
             "#7201a8"
            ],
            [
             0.3333333333333333,
             "#9c179e"
            ],
            [
             0.4444444444444444,
             "#bd3786"
            ],
            [
             0.5555555555555556,
             "#d8576b"
            ],
            [
             0.6666666666666666,
             "#ed7953"
            ],
            [
             0.7777777777777778,
             "#fb9f3a"
            ],
            [
             0.8888888888888888,
             "#fdca26"
            ],
            [
             1,
             "#f0f921"
            ]
           ],
           "sequentialminus": [
            [
             0,
             "#0d0887"
            ],
            [
             0.1111111111111111,
             "#46039f"
            ],
            [
             0.2222222222222222,
             "#7201a8"
            ],
            [
             0.3333333333333333,
             "#9c179e"
            ],
            [
             0.4444444444444444,
             "#bd3786"
            ],
            [
             0.5555555555555556,
             "#d8576b"
            ],
            [
             0.6666666666666666,
             "#ed7953"
            ],
            [
             0.7777777777777778,
             "#fb9f3a"
            ],
            [
             0.8888888888888888,
             "#fdca26"
            ],
            [
             1,
             "#f0f921"
            ]
           ]
          },
          "colorway": [
           "#636efa",
           "#EF553B",
           "#00cc96",
           "#ab63fa",
           "#FFA15A",
           "#19d3f3",
           "#FF6692",
           "#B6E880",
           "#FF97FF",
           "#FECB52"
          ],
          "font": {
           "color": "#2a3f5f"
          },
          "geo": {
           "bgcolor": "white",
           "lakecolor": "white",
           "landcolor": "#E5ECF6",
           "showlakes": true,
           "showland": true,
           "subunitcolor": "white"
          },
          "hoverlabel": {
           "align": "left"
          },
          "hovermode": "closest",
          "mapbox": {
           "style": "light"
          },
          "paper_bgcolor": "white",
          "plot_bgcolor": "#E5ECF6",
          "polar": {
           "angularaxis": {
            "gridcolor": "white",
            "linecolor": "white",
            "ticks": ""
           },
           "bgcolor": "#E5ECF6",
           "radialaxis": {
            "gridcolor": "white",
            "linecolor": "white",
            "ticks": ""
           }
          },
          "scene": {
           "xaxis": {
            "backgroundcolor": "#E5ECF6",
            "gridcolor": "white",
            "gridwidth": 2,
            "linecolor": "white",
            "showbackground": true,
            "ticks": "",
            "zerolinecolor": "white"
           },
           "yaxis": {
            "backgroundcolor": "#E5ECF6",
            "gridcolor": "white",
            "gridwidth": 2,
            "linecolor": "white",
            "showbackground": true,
            "ticks": "",
            "zerolinecolor": "white"
           },
           "zaxis": {
            "backgroundcolor": "#E5ECF6",
            "gridcolor": "white",
            "gridwidth": 2,
            "linecolor": "white",
            "showbackground": true,
            "ticks": "",
            "zerolinecolor": "white"
           }
          },
          "shapedefaults": {
           "line": {
            "color": "#2a3f5f"
           }
          },
          "ternary": {
           "aaxis": {
            "gridcolor": "white",
            "linecolor": "white",
            "ticks": ""
           },
           "baxis": {
            "gridcolor": "white",
            "linecolor": "white",
            "ticks": ""
           },
           "bgcolor": "#E5ECF6",
           "caxis": {
            "gridcolor": "white",
            "linecolor": "white",
            "ticks": ""
           }
          },
          "title": {
           "x": 0.05
          },
          "xaxis": {
           "automargin": true,
           "gridcolor": "white",
           "linecolor": "white",
           "ticks": "",
           "title": {
            "standoff": 15
           },
           "zerolinecolor": "white",
           "zerolinewidth": 2
          },
          "yaxis": {
           "automargin": true,
           "gridcolor": "white",
           "linecolor": "white",
           "ticks": "",
           "title": {
            "standoff": 15
           },
           "zerolinecolor": "white",
           "zerolinewidth": 2
          }
         }
        },
        "title": {
         "text": "利润率y , 收入x, 人力成本 z, customer level"
        },
        "xaxis": {
         "anchor": "y",
         "domain": [
          0,
          1
         ],
         "title": {
          "text": "ytm_income_amt_scaled"
         }
        },
        "yaxis": {
         "anchor": "x",
         "domain": [
          0,
          1
         ],
         "title": {
          "text": "ytm_gp_margin"
         }
        }
       }
      }
     },
     "metadata": {},
     "output_type": "display_data"
    }
   ],
   "source": [
    "def bubble_plt(plot_data, x, color):\n",
    "    if x == 'scaled':\n",
    "        x = 'ytm_income_amt_scaled'\n",
    "        vline = np.log(scaler.transform(np.array(10000000).reshape(-1,1)))[0][0]\n",
    "    else:\n",
    "        x = 'ytm_income_amt'\n",
    "        vline = 10000000\n",
    "    # y = y\n",
    "    fig = px.scatter(\n",
    "        data_frame= plot_data, x = x, y= 'ytm_gp_margin', hover_data=['customer_name'],\n",
    "        size = 'sap_lb_cost', color = color, title='利润率y , 收入x, 人力成本 z, customer level')  \n",
    "    \n",
    "    fig.add_hline(y = .06, line_width=3, line_dash=\"dash\", line_color=\"black\", opacity = .4,\\\n",
    "        annotation_text=\"2021 <br> GP_margin .06 <br><br />  \" , \n",
    "        annotation_position=\"top right\", annotation_opacity = .4, col = 1)\n",
    "    fig.add_vline(x = vline, line_width=3, line_dash=\"dash\", line_color=\"black\", opacity = .4)\n",
    "    return fig\n",
    "bubble_plt(sap_plt, 'scaled',  'customer_type')"
   ]
  },
  {
   "cell_type": "markdown",
   "metadata": {},
   "source": [
    "`人力成本高中低，对应的客户，其利润率有无显著差异？说明什么?` <br>\n",
    "`高人力成本 ~ 高利润 & 利润率.`"
   ]
  },
  {
   "cell_type": "code",
   "execution_count": null,
   "metadata": {},
   "outputs": [],
   "source": [
    "# bubble_plt(sap_plt, 'scaled', 'sap_lb_cost') "
   ]
  },
  {
   "cell_type": "code",
   "execution_count": 257,
   "metadata": {},
   "outputs": [
    {
     "data": {
      "text/html": [
       "<table class=\"simpletable\">\n",
       "<caption>OLS Regression Results</caption>\n",
       "<tr>\n",
       "  <th>Dep. Variable:</th>       <td>sap_lb_cost</td>   <th>  R-squared:         </th> <td>   0.057</td> \n",
       "</tr>\n",
       "<tr>\n",
       "  <th>Model:</th>                   <td>OLS</td>       <th>  Adj. R-squared:    </th> <td>   0.047</td> \n",
       "</tr>\n",
       "<tr>\n",
       "  <th>Method:</th>             <td>Least Squares</td>  <th>  F-statistic:       </th> <td>   5.319</td> \n",
       "</tr>\n",
       "<tr>\n",
       "  <th>Date:</th>             <td>Thu, 09 Dec 2021</td> <th>  Prob (F-statistic):</th> <td>0.000361</td> \n",
       "</tr>\n",
       "<tr>\n",
       "  <th>Time:</th>                 <td>13:38:51</td>     <th>  Log-Likelihood:    </th> <td> -6384.0</td> \n",
       "</tr>\n",
       "<tr>\n",
       "  <th>No. Observations:</th>      <td>   355</td>      <th>  AIC:               </th> <td>1.278e+04</td>\n",
       "</tr>\n",
       "<tr>\n",
       "  <th>Df Residuals:</th>          <td>   350</td>      <th>  BIC:               </th> <td>1.280e+04</td>\n",
       "</tr>\n",
       "<tr>\n",
       "  <th>Df Model:</th>              <td>     4</td>      <th>                     </th>     <td> </td>    \n",
       "</tr>\n",
       "<tr>\n",
       "  <th>Covariance Type:</th>      <td>nonrobust</td>    <th>                     </th>     <td> </td>    \n",
       "</tr>\n",
       "</table>\n",
       "<table class=\"simpletable\">\n",
       "<tr>\n",
       "           <td></td>              <th>coef</th>     <th>std err</th>      <th>t</th>      <th>P>|t|</th>  <th>[0.025</th>    <th>0.975]</th>  \n",
       "</tr>\n",
       "<tr>\n",
       "  <th>Intercept</th>           <td> 2.387e+06</td> <td> 2.27e+06</td> <td>    1.051</td> <td> 0.294</td> <td>-2.08e+06</td> <td> 6.85e+06</td>\n",
       "</tr>\n",
       "<tr>\n",
       "  <th>customer_type[T.Q1]</th> <td>   8.2e+06</td> <td> 3.25e+06</td> <td>    2.526</td> <td> 0.012</td> <td> 1.81e+06</td> <td> 1.46e+07</td>\n",
       "</tr>\n",
       "<tr>\n",
       "  <th>customer_type[T.Q2]</th> <td> 5.978e+06</td> <td> 3.23e+06</td> <td>    1.851</td> <td> 0.065</td> <td>-3.72e+05</td> <td> 1.23e+07</td>\n",
       "</tr>\n",
       "<tr>\n",
       "  <th>customer_type[T.Q3]</th> <td>-1.826e+06</td> <td> 2.65e+06</td> <td>   -0.689</td> <td> 0.491</td> <td>-7.04e+06</td> <td> 3.38e+06</td>\n",
       "</tr>\n",
       "<tr>\n",
       "  <th>customer_type[T.Q4]</th> <td>-1.784e+06</td> <td> 2.87e+06</td> <td>   -0.622</td> <td> 0.534</td> <td>-7.42e+06</td> <td> 3.85e+06</td>\n",
       "</tr>\n",
       "</table>\n",
       "<table class=\"simpletable\">\n",
       "<tr>\n",
       "  <th>Omnibus:</th>       <td>763.700</td> <th>  Durbin-Watson:     </th>  <td>   2.001</td>  \n",
       "</tr>\n",
       "<tr>\n",
       "  <th>Prob(Omnibus):</th> <td> 0.000</td>  <th>  Jarque-Bera (JB):  </th> <td>1041829.237</td>\n",
       "</tr>\n",
       "<tr>\n",
       "  <th>Skew:</th>          <td>15.361</td>  <th>  Prob(JB):          </th>  <td>    0.00</td>  \n",
       "</tr>\n",
       "<tr>\n",
       "  <th>Kurtosis:</th>      <td>266.609</td> <th>  Cond. No.          </th>  <td>    7.20</td>  \n",
       "</tr>\n",
       "</table><br/><br/>Notes:<br/>[1] Standard Errors assume that the covariance matrix of the errors is correctly specified."
      ],
      "text/plain": [
       "<class 'statsmodels.iolib.summary.Summary'>\n",
       "\"\"\"\n",
       "                            OLS Regression Results                            \n",
       "==============================================================================\n",
       "Dep. Variable:            sap_lb_cost   R-squared:                       0.057\n",
       "Model:                            OLS   Adj. R-squared:                  0.047\n",
       "Method:                 Least Squares   F-statistic:                     5.319\n",
       "Date:                Thu, 09 Dec 2021   Prob (F-statistic):           0.000361\n",
       "Time:                        13:38:51   Log-Likelihood:                -6384.0\n",
       "No. Observations:                 355   AIC:                         1.278e+04\n",
       "Df Residuals:                     350   BIC:                         1.280e+04\n",
       "Df Model:                           4                                         \n",
       "Covariance Type:            nonrobust                                         \n",
       "=======================================================================================\n",
       "                          coef    std err          t      P>|t|      [0.025      0.975]\n",
       "---------------------------------------------------------------------------------------\n",
       "Intercept            2.387e+06   2.27e+06      1.051      0.294   -2.08e+06    6.85e+06\n",
       "customer_type[T.Q1]    8.2e+06   3.25e+06      2.526      0.012    1.81e+06    1.46e+07\n",
       "customer_type[T.Q2]  5.978e+06   3.23e+06      1.851      0.065   -3.72e+05    1.23e+07\n",
       "customer_type[T.Q3] -1.826e+06   2.65e+06     -0.689      0.491   -7.04e+06    3.38e+06\n",
       "customer_type[T.Q4] -1.784e+06   2.87e+06     -0.622      0.534   -7.42e+06    3.85e+06\n",
       "==============================================================================\n",
       "Omnibus:                      763.700   Durbin-Watson:                   2.001\n",
       "Prob(Omnibus):                  0.000   Jarque-Bera (JB):          1041829.237\n",
       "Skew:                          15.361   Prob(JB):                         0.00\n",
       "Kurtosis:                     266.609   Cond. No.                         7.20\n",
       "==============================================================================\n",
       "\n",
       "Notes:\n",
       "[1] Standard Errors assume that the covariance matrix of the errors is correctly specified.\n",
       "\"\"\""
      ]
     },
     "execution_count": 257,
     "metadata": {},
     "output_type": "execute_result"
    }
   ],
   "source": [
    "# causal inference.\n",
    "# `高人力成本 ~ 高利润率 .`?\n",
    "smf.ols('sap_lb_cost ~ customer_type', data = sap).fit().summary()\n"
   ]
  },
  {
   "cell_type": "code",
   "execution_count": null,
   "metadata": {},
   "outputs": [],
   "source": [
    "# smf.ols('ytm_gp_margin ~ sap_lb_cost-1', data = sap).fit().summary() #labor_fee"
   ]
  },
  {
   "cell_type": "markdown",
   "metadata": {},
   "source": [
    "合并财务以及商务"
   ]
  },
  {
   "cell_type": "code",
   "execution_count": null,
   "metadata": {},
   "outputs": [],
   "source": [
    "df_plt = df.merge(sap[['sap_lb_cost','labor_fee', 'customer_type', \\\n",
    "    'customer_name', 'ytm_gp_margin', 'ytm_gross_profit_amt']], on = 'customer_name')"
   ]
  },
  {
   "cell_type": "code",
   "execution_count": null,
   "metadata": {},
   "outputs": [],
   "source": [
    "df_plt "
   ]
  },
  {
   "cell_type": "code",
   "execution_count": null,
   "metadata": {},
   "outputs": [],
   "source": [
    "df_plt['abs_sap_lb_cost'] = np.abs(df_plt['sap_lb_cost'])"
   ]
  },
  {
   "cell_type": "code",
   "execution_count": 259,
   "metadata": {},
   "outputs": [],
   "source": [
    "# Q1到Q4不同类别的客户，商机成功率有无显著差异？\n",
    "# 人力成本不同的客户，商机成功率有无显著差异？\n",
    "\n",
    "\n",
    "# px.scatter(data_frame= df_plt, x = 'sap_lb_cost', y= 'opportunity_win_rate', hover_data=['customer_name'], \n",
    "#         size = 'abs_sap_lb_cost', color = 'customer_type', title='人力费用, 商机胜率, 客户类型')  \n",
    "\n",
    "\n",
    "\n",
    "# px.violin(x = df_plt['customer_type'], y =  df_plt['sap_lb_cost'], \\\n",
    "#     points=\"all\", color = df_plt['customer_type'], box = True )\n",
    "\n",
    "\n",
    "    \n",
    "# px.violin(x = df_plt['customer_type'], y =  df_plt['opportunity_win_rate'], \\\n",
    "#     points=\"all\", color = df_plt['customer_type'], box = True )"
   ]
  },
  {
   "cell_type": "code",
   "execution_count": 301,
   "metadata": {},
   "outputs": [
    {
     "data": {
      "text/html": [
       "<table class=\"simpletable\">\n",
       "<caption>OLS Regression Results</caption>\n",
       "<tr>\n",
       "  <th>Dep. Variable:</th>    <td>opportunity_win_rate</td> <th>  R-squared:         </th> <td>   0.038</td>\n",
       "</tr>\n",
       "<tr>\n",
       "  <th>Model:</th>                     <td>OLS</td>         <th>  Adj. R-squared:    </th> <td>   0.008</td>\n",
       "</tr>\n",
       "<tr>\n",
       "  <th>Method:</th>               <td>Least Squares</td>    <th>  F-statistic:       </th> <td>   1.274</td>\n",
       "</tr>\n",
       "<tr>\n",
       "  <th>Date:</th>               <td>Thu, 09 Dec 2021</td>   <th>  Prob (F-statistic):</th>  <td> 0.288</td> \n",
       "</tr>\n",
       "<tr>\n",
       "  <th>Time:</th>                   <td>14:11:39</td>       <th>  Log-Likelihood:    </th> <td> -35.500</td>\n",
       "</tr>\n",
       "<tr>\n",
       "  <th>No. Observations:</th>        <td>   100</td>        <th>  AIC:               </th> <td>   79.00</td>\n",
       "</tr>\n",
       "<tr>\n",
       "  <th>Df Residuals:</th>            <td>    96</td>        <th>  BIC:               </th> <td>   89.42</td>\n",
       "</tr>\n",
       "<tr>\n",
       "  <th>Df Model:</th>                <td>     3</td>        <th>                     </th>     <td> </td>   \n",
       "</tr>\n",
       "<tr>\n",
       "  <th>Covariance Type:</th>        <td>nonrobust</td>      <th>                     </th>     <td> </td>   \n",
       "</tr>\n",
       "</table>\n",
       "<table class=\"simpletable\">\n",
       "<tr>\n",
       "          <td></td>             <th>coef</th>     <th>std err</th>      <th>t</th>      <th>P>|t|</th>  <th>[0.025</th>    <th>0.975]</th>  \n",
       "</tr>\n",
       "<tr>\n",
       "  <th>customer_type[Q1]</th> <td>    0.2507</td> <td>    0.073</td> <td>    3.413</td> <td> 0.001</td> <td>    0.105</td> <td>    0.396</td>\n",
       "</tr>\n",
       "<tr>\n",
       "  <th>customer_type[Q2]</th> <td>    0.3708</td> <td>    0.094</td> <td>    3.939</td> <td> 0.000</td> <td>    0.184</td> <td>    0.558</td>\n",
       "</tr>\n",
       "<tr>\n",
       "  <th>customer_type[Q3]</th> <td>    0.4235</td> <td>    0.055</td> <td>    7.698</td> <td> 0.000</td> <td>    0.314</td> <td>    0.533</td>\n",
       "</tr>\n",
       "<tr>\n",
       "  <th>customer_type[Q4]</th> <td>    0.4071</td> <td>    0.075</td> <td>    5.421</td> <td> 0.000</td> <td>    0.258</td> <td>    0.556</td>\n",
       "</tr>\n",
       "</table>\n",
       "<table class=\"simpletable\">\n",
       "<tr>\n",
       "  <th>Omnibus:</th>       <td>14.613</td> <th>  Durbin-Watson:     </th> <td>   2.139</td>\n",
       "</tr>\n",
       "<tr>\n",
       "  <th>Prob(Omnibus):</th> <td> 0.001</td> <th>  Jarque-Bera (JB):  </th> <td>   7.069</td>\n",
       "</tr>\n",
       "<tr>\n",
       "  <th>Skew:</th>          <td> 0.447</td> <th>  Prob(JB):          </th> <td>  0.0292</td>\n",
       "</tr>\n",
       "<tr>\n",
       "  <th>Kurtosis:</th>      <td> 2.053</td> <th>  Cond. No.          </th> <td>    1.71</td>\n",
       "</tr>\n",
       "</table><br/><br/>Notes:<br/>[1] Standard Errors assume that the covariance matrix of the errors is correctly specified."
      ],
      "text/plain": [
       "<class 'statsmodels.iolib.summary.Summary'>\n",
       "\"\"\"\n",
       "                             OLS Regression Results                             \n",
       "================================================================================\n",
       "Dep. Variable:     opportunity_win_rate   R-squared:                       0.038\n",
       "Model:                              OLS   Adj. R-squared:                  0.008\n",
       "Method:                   Least Squares   F-statistic:                     1.274\n",
       "Date:                  Thu, 09 Dec 2021   Prob (F-statistic):              0.288\n",
       "Time:                          14:11:39   Log-Likelihood:                -35.500\n",
       "No. Observations:                   100   AIC:                             79.00\n",
       "Df Residuals:                        96   BIC:                             89.42\n",
       "Df Model:                             3                                         \n",
       "Covariance Type:              nonrobust                                         \n",
       "=====================================================================================\n",
       "                        coef    std err          t      P>|t|      [0.025      0.975]\n",
       "-------------------------------------------------------------------------------------\n",
       "customer_type[Q1]     0.2507      0.073      3.413      0.001       0.105       0.396\n",
       "customer_type[Q2]     0.3708      0.094      3.939      0.000       0.184       0.558\n",
       "customer_type[Q3]     0.4235      0.055      7.698      0.000       0.314       0.533\n",
       "customer_type[Q4]     0.4071      0.075      5.421      0.000       0.258       0.556\n",
       "==============================================================================\n",
       "Omnibus:                       14.613   Durbin-Watson:                   2.139\n",
       "Prob(Omnibus):                  0.001   Jarque-Bera (JB):                7.069\n",
       "Skew:                           0.447   Prob(JB):                       0.0292\n",
       "Kurtosis:                       2.053   Cond. No.                         1.71\n",
       "==============================================================================\n",
       "\n",
       "Notes:\n",
       "[1] Standard Errors assume that the covariance matrix of the errors is correctly specified.\n",
       "\"\"\""
      ]
     },
     "execution_count": 301,
     "metadata": {},
     "output_type": "execute_result"
    }
   ],
   "source": [
    "# 客户类型, / 人力成本 商机胜率\n",
    "\n",
    "smf.ols('opportunity_win_rate ~   customer_type - 1 ', data = df_plt).fit().summary()\n",
    "# smf.ols('opportunity_win_rate ~  sap_lb_cost  - 1 ', data = df_plt).fit().summary()"
   ]
  },
  {
   "cell_type": "code",
   "execution_count": null,
   "metadata": {},
   "outputs": [],
   "source": [
    "# df_plt['sap_lb_cost'].describe()\n"
   ]
  },
  {
   "cell_type": "code",
   "execution_count": 298,
   "metadata": {},
   "outputs": [
    {
     "data": {
      "text/html": [
       "<table class=\"simpletable\">\n",
       "<caption>OLS Regression Results</caption>\n",
       "<tr>\n",
       "  <th>Dep. Variable:</th>    <td>ytm_gross_profit_amt</td> <th>  R-squared (uncentered):</th>      <td>   0.569</td>\n",
       "</tr>\n",
       "<tr>\n",
       "  <th>Model:</th>                     <td>OLS</td>         <th>  Adj. R-squared (uncentered):</th> <td>   0.565</td>\n",
       "</tr>\n",
       "<tr>\n",
       "  <th>Method:</th>               <td>Least Squares</td>    <th>  F-statistic:       </th>          <td>   130.8</td>\n",
       "</tr>\n",
       "<tr>\n",
       "  <th>Date:</th>               <td>Thu, 09 Dec 2021</td>   <th>  Prob (F-statistic):</th>          <td>8.35e-20</td>\n",
       "</tr>\n",
       "<tr>\n",
       "  <th>Time:</th>                   <td>14:10:10</td>       <th>  Log-Likelihood:    </th>          <td> -1643.1</td>\n",
       "</tr>\n",
       "<tr>\n",
       "  <th>No. Observations:</th>        <td>   100</td>        <th>  AIC:               </th>          <td>   3288.</td>\n",
       "</tr>\n",
       "<tr>\n",
       "  <th>Df Residuals:</th>            <td>    99</td>        <th>  BIC:               </th>          <td>   3291.</td>\n",
       "</tr>\n",
       "<tr>\n",
       "  <th>Df Model:</th>                <td>     1</td>        <th>                     </th>              <td> </td>   \n",
       "</tr>\n",
       "<tr>\n",
       "  <th>Covariance Type:</th>        <td>nonrobust</td>      <th>                     </th>              <td> </td>   \n",
       "</tr>\n",
       "</table>\n",
       "<table class=\"simpletable\">\n",
       "<tr>\n",
       "       <td></td>          <th>coef</th>     <th>std err</th>      <th>t</th>      <th>P>|t|</th>  <th>[0.025</th>    <th>0.975]</th>  \n",
       "</tr>\n",
       "<tr>\n",
       "  <th>sap_lb_cost</th> <td>    0.4911</td> <td>    0.043</td> <td>   11.436</td> <td> 0.000</td> <td>    0.406</td> <td>    0.576</td>\n",
       "</tr>\n",
       "</table>\n",
       "<table class=\"simpletable\">\n",
       "<tr>\n",
       "  <th>Omnibus:</th>       <td>89.735</td> <th>  Durbin-Watson:     </th> <td>   1.984</td> \n",
       "</tr>\n",
       "<tr>\n",
       "  <th>Prob(Omnibus):</th> <td> 0.000</td> <th>  Jarque-Bera (JB):  </th> <td>1230.377</td> \n",
       "</tr>\n",
       "<tr>\n",
       "  <th>Skew:</th>          <td> 2.703</td> <th>  Prob(JB):          </th> <td>6.71e-268</td>\n",
       "</tr>\n",
       "<tr>\n",
       "  <th>Kurtosis:</th>      <td>19.312</td> <th>  Cond. No.          </th> <td>    1.00</td> \n",
       "</tr>\n",
       "</table><br/><br/>Notes:<br/>[1] R² is computed without centering (uncentered) since the model does not contain a constant.<br/>[2] Standard Errors assume that the covariance matrix of the errors is correctly specified."
      ],
      "text/plain": [
       "<class 'statsmodels.iolib.summary.Summary'>\n",
       "\"\"\"\n",
       "                                  OLS Regression Results                                 \n",
       "=========================================================================================\n",
       "Dep. Variable:     ytm_gross_profit_amt   R-squared (uncentered):                   0.569\n",
       "Model:                              OLS   Adj. R-squared (uncentered):              0.565\n",
       "Method:                   Least Squares   F-statistic:                              130.8\n",
       "Date:                  Thu, 09 Dec 2021   Prob (F-statistic):                    8.35e-20\n",
       "Time:                          14:10:10   Log-Likelihood:                         -1643.1\n",
       "No. Observations:                   100   AIC:                                      3288.\n",
       "Df Residuals:                        99   BIC:                                      3291.\n",
       "Df Model:                             1                                                  \n",
       "Covariance Type:              nonrobust                                                  \n",
       "===============================================================================\n",
       "                  coef    std err          t      P>|t|      [0.025      0.975]\n",
       "-------------------------------------------------------------------------------\n",
       "sap_lb_cost     0.4911      0.043     11.436      0.000       0.406       0.576\n",
       "==============================================================================\n",
       "Omnibus:                       89.735   Durbin-Watson:                   1.984\n",
       "Prob(Omnibus):                  0.000   Jarque-Bera (JB):             1230.377\n",
       "Skew:                           2.703   Prob(JB):                    6.71e-268\n",
       "Kurtosis:                      19.312   Cond. No.                         1.00\n",
       "==============================================================================\n",
       "\n",
       "Notes:\n",
       "[1] R² is computed without centering (uncentered) since the model does not contain a constant.\n",
       "[2] Standard Errors assume that the covariance matrix of the errors is correctly specified.\n",
       "\"\"\""
      ]
     },
     "execution_count": 298,
     "metadata": {},
     "output_type": "execute_result"
    }
   ],
   "source": [
    "# 人力成本占比越高的业务，越可能产生高的毛利? yes\n",
    "smf.ols('ytm_gross_profit_amt ~ sap_lb_cost-1 ', data = df_plt).fit().summary() #sap_lb_cost"
   ]
  },
  {
   "cell_type": "markdown",
   "metadata": {},
   "source": []
  },
  {
   "cell_type": "code",
   "execution_count": null,
   "metadata": {},
   "outputs": [],
   "source": [
    "# p7"
   ]
  },
  {
   "cell_type": "code",
   "execution_count": null,
   "metadata": {},
   "outputs": [],
   "source": [
    "# sap_plt['customer_type'].value_counts()"
   ]
  },
  {
   "cell_type": "code",
   "execution_count": null,
   "metadata": {},
   "outputs": [],
   "source": [
    "sap['customer_name'].nunique()"
   ]
  },
  {
   "cell_type": "code",
   "execution_count": null,
   "metadata": {},
   "outputs": [],
   "source": [
    "sap['customer_type'].value_counts()"
   ]
  },
  {
   "cell_type": "code",
   "execution_count": null,
   "metadata": {},
   "outputs": [],
   "source": [
    "px.bar(data_frame= sap, x = 'customer_type',  hover_data=['customer_name'], \n",
    "    color = 'customer_type', title='customer type count')  \n",
    "\n",
    "# Q4    133\n",
    "# Q3     80\n",
    "# 0      47\n",
    "# Q1     46\n",
    "# Q2     44"
   ]
  },
  {
   "cell_type": "code",
   "execution_count": 282,
   "metadata": {},
   "outputs": [],
   "source": [
    "# sap_plt.columns"
   ]
  },
  {
   "cell_type": "code",
   "execution_count": 267,
   "metadata": {},
   "outputs": [],
   "source": [
    "def bubble_plt(plot_data, x, color):\n",
    "    if x == 'scaled':\n",
    "        x = 'ytm_income_amt_scaled'\n",
    "        vline = np.log(scaler.transform(np.array(10000000).reshape(-1,1)))[0][0]\n",
    "    else:\n",
    "        x = 'ytm_income_amt'\n",
    "        vline = 10000000\n",
    "    # y = y\n",
    "    fig = px.scatter(\n",
    "        data_frame= plot_data, x = x, y= 'ytm_gp_margin', hover_data=['customer_name'],\n",
    "        size = 'abs_ytm_income_amt', color = color, title='利润率y , 收入x, 收入绝对值z customer level')  \n",
    "    \n",
    "    fig.add_hline(y = .06, line_width=3, line_dash=\"dash\", line_color=\"black\", opacity = .4,\\\n",
    "        annotation_text=\"2021 <br> GP_margin .06 <br><br />  \" , \n",
    "        annotation_position=\"top right\", annotation_opacity = .4, col = 1)\n",
    "    fig.add_vline(x = vline, line_width=3, line_dash=\"dash\", line_color=\"black\", opacity = .4)\n",
    "    return fig\n",
    "# bubble_plt(sap_plt, 'scaled',  'customer_type')"
   ]
  },
  {
   "cell_type": "code",
   "execution_count": 288,
   "metadata": {},
   "outputs": [
    {
     "data": {
      "application/vnd.plotly.v1+json": {
       "config": {
        "plotlyServerURL": "https://plot.ly"
       },
       "data": [
        {
         "customdata": [
          [
           "BURBERRY"
          ],
          [
           "DHL Supply Chain"
          ],
          [
           "MARS"
          ],
          [
           "Nespresso"
          ],
          [
           "Taochen Electronics"
          ],
          [
           "DEERE & COMPANY"
          ],
          [
           "Nexperia"
          ],
          [
           "Yi Le Zhong He"
          ],
          [
           "Guxiandao Green Fiber"
          ],
          [
           "Honor"
          ],
          [
           "LENOVO"
          ],
          [
           "United Imaging"
          ],
          [
           "中国大冢"
          ],
          [
           "北京五和博澳药业"
          ],
          [
           "Abbott Group"
          ],
          [
           "LEXMARK"
          ],
          [
           "Neusoft Medical Systems"
          ],
          [
           "STARBUCKS"
          ],
          [
           "Baker Hughes"
          ],
          [
           "Beijing Xiaofangui"
          ],
          [
           "Husqvarna"
          ],
          [
           "Beijing Hangyu"
          ],
          [
           "Other Project Auto"
          ],
          [
           "SQUIBB"
          ],
          [
           "B&Q"
          ],
          [
           "AIRBUS GROUP - Technology"
          ],
          [
           "NESTLE"
          ],
          [
           "ZEBRA TECHNOLOGIES"
          ],
          [
           "UNILEVER"
          ],
          [
           "济民可信"
          ],
          [
           "GBA"
          ],
          [
           "Hongxun"
          ],
          [
           "PERNOD RICARD"
          ],
          [
           "新华医疗"
          ],
          [
           "Civilization Mengyi Group"
          ],
          [
           "HERSHEY COMPANY"
          ],
          [
           "Tsingtao"
          ],
          [
           "HORMEL"
          ],
          [
           "WEIFU GROUP - Technology"
          ],
          [
           "Bombardier Recreational Products"
          ],
          [
           "Freight Forwarding TSC"
          ],
          [
           "GEZ Qingdao"
          ],
          [
           "Huazhongbao"
          ],
          [
           "Linqing Lugang"
          ],
          [
           "Luckin"
          ],
          [
           "Harley-Davidson"
          ],
          [
           "NOKIA"
          ],
          [
           "DIADORA"
          ],
          [
           "SIEMENS - Healthcare"
          ],
          [
           "MICHELIN"
          ],
          [
           "Glico"
          ],
          [
           "LAM RESEARCH"
          ],
          [
           "ENVISION"
          ],
          [
           "LEAP"
          ],
          [
           "ERICSSON"
          ],
          [
           "Lanzhou BSH"
          ],
          [
           "SVW"
          ],
          [
           "BOSE"
          ],
          [
           "Kalsec"
          ],
          [
           "OTIS"
          ],
          [
           "SL - Zhong Shi Nuo"
          ],
          [
           "Sensori+"
          ],
          [
           "doTERR"
          ],
          [
           "ASUSTEK COMPUTER"
          ],
          [
           "WHITBREAD"
          ],
          [
           "ATG"
          ],
          [
           "DXC"
          ],
          [
           "MEDTRONIC"
          ],
          [
           "Qingdao Haihang Jieyun"
          ],
          [
           "COACH"
          ],
          [
           "Huanqing"
          ],
          [
           "Hewlett Packard"
          ],
          [
           "Schueco"
          ],
          [
           "Razer"
          ],
          [
           "WATSON GROUP - Retail"
          ],
          [
           "EXAR"
          ],
          [
           "HAIER"
          ],
          [
           "Liao Yuan"
          ],
          [
           "Accuray"
          ],
          [
           "Changfeng Group"
          ],
          [
           "Kindos"
          ],
          [
           "PMI"
          ],
          [
           "FORD MOTOR"
          ],
          [
           "KONICA MINOLTA"
          ],
          [
           "ZTE CORPORATION"
          ],
          [
           "SENSATA"
          ],
          [
           "Shuangxing"
          ],
          [
           "TYCO ELECTRONICS"
          ],
          [
           "Yuan"
          ],
          [
           "H3C"
          ],
          [
           "LinkedCare"
          ],
          [
           "TengChong MuChen"
          ],
          [
           "Advance Auto Parts"
          ],
          [
           "Midea"
          ],
          [
           "SF-ELC"
          ],
          [
           "Shanghai Hanjia"
          ],
          [
           "CORNING"
          ],
          [
           "Wuxi Lead"
          ],
          [
           "INFINEON"
          ],
          [
           "KUKA"
          ],
          [
           "Clariant"
          ],
          [
           "Becton Dickinson"
          ],
          [
           "Chongqing Tianhan"
          ],
          [
           "JOHNSON & JOHNSON"
          ],
          [
           "ASTRAZENECA"
          ],
          [
           "CCL"
          ],
          [
           "Huayi life"
          ],
          [
           "Chui Xue Charging"
          ],
          [
           "ON SEMICONDUCTOR"
          ],
          [
           "Oak coffee&tea"
          ],
          [
           "SF Zhida"
          ],
          [
           "MOLEX"
          ],
          [
           "Other Customers Automotive"
          ],
          [
           "Tencent"
          ],
          [
           "DIODES"
          ],
          [
           "Kangkun"
          ],
          [
           "Rayco"
          ],
          [
           "Shanghai Tiange"
          ],
          [
           "Yuwell"
          ],
          [
           "Yunnan Youjia"
          ],
          [
           "Edelman"
          ],
          [
           "Maxim"
          ],
          [
           "SHELL"
          ],
          [
           "Flex-Tek"
          ],
          [
           "GEELY"
          ],
          [
           "Continental AG"
          ],
          [
           "Freight Forwarding EI"
          ],
          [
           "Gabriel"
          ],
          [
           "KLA TENCOR"
          ],
          [
           "Dolce & Gabbana"
          ],
          [
           "GENERAL ELECTRIC - Healthcare"
          ],
          [
           "Goertek"
          ],
          [
           "Grandos Coffe"
          ],
          [
           "MingYu logistic"
          ],
          [
           "SAMSUNG"
          ],
          [
           "HITACHI"
          ],
          [
           "IDLE SPACE"
          ],
          [
           "UNISPC"
          ],
          [
           "CNHi"
          ],
          [
           "Miltenyi Biotec"
          ],
          [
           "Xiwu"
          ],
          [
           "GENERAL ELECTRIC - Industrial"
          ],
          [
           "Hu’nan Cuilong Trading"
          ],
          [
           "Ogawa"
          ],
          [
           "State Grid"
          ],
          [
           "SOLVAY"
          ],
          [
           "同仁堂"
          ],
          [
           "KEYSIGHT"
          ],
          [
           "Hafele"
          ],
          [
           "Hilti"
          ],
          [
           "FEI"
          ],
          [
           "Evisu Group"
          ],
          [
           "ROCHE"
          ],
          [
           "SDQC"
          ],
          [
           "UNITED TECHNOLOGIES"
          ],
          [
           "Shared Cost Allocate"
          ],
          [
           "YUDO"
          ],
          [
           "JCB"
          ],
          [
           "Lifuruida"
          ],
          [
           "OLYMPUS"
          ],
          [
           "INTEL"
          ],
          [
           "ASML"
          ],
          [
           "Borgward"
          ],
          [
           "WEI WEI"
          ],
          [
           "C&D Logistics"
          ],
          [
           "VOLKSWAGEN"
          ],
          [
           "长春金赛药业"
          ],
          [
           "Linuo"
          ],
          [
           "Otype"
          ],
          [
           "Beukay"
          ],
          [
           "Canadian Solar Inc"
          ],
          [
           "SF-Melaleuca"
          ],
          [
           "Jiangling Motors"
          ],
          [
           "Seraphim"
          ],
          [
           "Yunnan Xiaolajiao"
          ],
          [
           "Benz"
          ],
          [
           "Three Squirrels"
          ],
          [
           "ZF"
          ],
          [
           "China State Construction"
          ],
          [
           "Jianmin"
          ],
          [
           "Prologis"
          ],
          [
           "Townsun"
          ],
          [
           "Kudosbay"
          ],
          [
           "昆仑润滑油"
          ],
          [
           "PHILIPS MEDICAL"
          ],
          [
           "RICHEMONT INTERNATIONAL"
          ],
          [
           "WEIFU GROUP - Industrial"
          ],
          [
           "APPLE"
          ],
          [
           "Outerstuff"
          ],
          [
           "SL - Jing Tong Lu Yuan"
          ],
          [
           "TCC"
          ],
          [
           "UCO"
          ],
          [
           "XingYa"
          ],
          [
           "China Railway Construction Group"
          ],
          [
           "BEIJING-YILIN"
          ],
          [
           "Genki Sushi"
          ],
          [
           "Wei Chong Jian"
          ],
          [
           "Fisher Joen"
          ],
          [
           "DAINIPPON SCREEN"
          ],
          [
           "BFDA"
          ],
          [
           "CHANEL"
          ],
          [
           "SSP Group"
          ],
          [
           "Sincero"
          ],
          [
           "WATSON GROUP - Consumer"
          ],
          [
           "Wuxi No.1 Cotton"
          ],
          [
           "XINWEI"
          ],
          [
           "BAYER"
          ],
          [
           "SF-UNIQLO"
          ],
          [
           "Chuang Shi Tong"
          ],
          [
           "北京速通"
          ],
          [
           "国际生物试剂物流中心"
          ],
          [
           "Other Customers Healthcare"
          ],
          [
           "Qingdao Pulieen"
          ],
          [
           "Deckers"
          ],
          [
           "SF-Watsons"
          ],
          [
           "中石油"
          ],
          [
           "北京航楹物流"
          ],
          [
           "SMITHS GROUP"
          ],
          [
           "Biwei"
          ],
          [
           "GE Healthcare"
          ],
          [
           "WABCO"
          ],
          [
           "Jia Sheng"
          ],
          [
           "Marquardt"
          ],
          [
           "Shanghai SINE Pharmaceutical"
          ],
          [
           "Yunnan Flower"
          ],
          [
           "APPLIED MATERIAL"
          ],
          [
           "Zhongyou"
          ],
          [
           "CDF International Group"
          ],
          [
           "Zhejiang Jinyao"
          ],
          [
           "NITTO DENKO GROUP"
          ],
          [
           "Meitaoyuan"
          ],
          [
           "平安好医生"
          ],
          [
           "TI Automotive"
          ],
          [
           "THYSSENKRUPP"
          ],
          [
           "China Mobile"
          ],
          [
           "Huijun"
          ],
          [
           "Yeelight"
          ],
          [
           "Ding Yao"
          ],
          [
           "BASF"
          ],
          [
           "Nidec"
          ],
          [
           "Keyi"
          ],
          [
           "Other Profit(JV)"
          ],
          [
           "山东高速信联"
          ],
          [
           "Default"
          ],
          [
           "扬子江"
          ],
          [
           "Guangxi Longtao"
          ],
          [
           "Gui Lin Shen Ke Ji"
          ],
          [
           "SONY"
          ],
          [
           "Yingli Solar"
          ],
          [
           "KUNCHI"
          ],
          [
           "V-Zug (Shanghai)"
          ],
          [
           "RPA"
          ],
          [
           "Shanghai YiTie"
          ],
          [
           "Beijing Century Joyo"
          ],
          [
           "ZhongNan Engineering"
          ],
          [
           "Pou Sheng Int’l"
          ],
          [
           "Eaton Industries"
          ],
          [
           "AnPing Building"
          ],
          [
           "Wanhua Chemical"
          ],
          [
           "Anhui Fengyuan"
          ],
          [
           "利福瑞达"
          ],
          [
           "Fellowes"
          ],
          [
           "Xiang Yun"
          ],
          [
           "Linkdata"
          ],
          [
           "Nutricia"
          ],
          [
           "Brembo"
          ],
          [
           "Hengan"
          ],
          [
           "Bybon"
          ],
          [
           "中体彩印务"
          ]
         ],
         "hovertemplate": "is_operation=非操作型<br>ytm_income_amt_scaled=%{x}<br>ytm_gp_margin=%{y}<br>abs_ytm_income_amt=%{marker.size}<br>customer_name=%{customdata[0]}<extra></extra>",
         "legendgroup": "非操作型",
         "marker": {
          "color": "#636efa",
          "size": [
           16538288.679999998,
           6260328.04,
           124843796.63,
           10556330.15,
           820233.2199999999,
           764599.58,
           21681896.590000007,
           52860536.21000001,
           621040,
           44686573.24000002,
           488318.2399999999,
           76218.97,
           0,
           103825.82,
           38711208.48,
           6637418.09,
           499541.89,
           245271810.02000004,
           434583.78,
           0,
           2065234.77,
           144400.95,
           0,
           1517688.81,
           1434571.71,
           117119.73,
           491222.2100000001,
           16249284.930003662,
           86729236.41999993,
           0,
           0,
           558672.35,
           59097889.28000001,
           0,
           6441754.34,
           14899633.62,
           59880.46,
           13174192.6,
           2560193.5300000003,
           7989159.88,
           15475304.36,
           2392390.49,
           823869.3600000001,
           18633562.62999999,
           111158531.87000002,
           15962402.91,
           30667448.130000003,
           1822737.91,
           4922146.130000001,
           96419424.71,
           200258.01,
           20533690.51,
           6732132.12,
           0,
           80323805.22000003,
           8633.030000000002,
           0,
           26148734.04,
           464753.95,
           5436496.619999999,
           0,
           110706.46,
           0,
           6965935.6000000015,
           17397398.72,
           5334451.31,
           640902.95,
           32579544.700000003,
           3784270.4499999993,
           39298692.74,
           184792,
           56192012.02,
           5645164.92,
           3993051.190000001,
           23879267.56,
           1492695.37,
           4975698.010000001,
           10699316.31,
           2512734.68,
           0,
           411506.09,
           1758696.93,
           90720303.85999998,
           35971592.21,
           38430825.04000001,
           2793602.0500000003,
           18551277.750000007,
           8147383.630000001,
           341867.98,
           16072634.999999996,
           6511685.429999999,
           9621335.65,
           201728.9,
           4536701.49,
           12641789.35,
           16582253.440000009,
           3401737.9900000007,
           1152744.24,
           7668687.880000001,
           11174819.719999995,
           2045962.63,
           1637397.43,
           167330.27000000002,
           26450233.84,
           22487794.520000003,
           2782804.44,
           0,
           6667.73,
           22534424.31,
           412619.52,
           1210852.59,
           7081930.039999999,
           1682177.46,
           4927984.26,
           16917308,
           20917.439999999995,
           250266.64,
           60240,
           3538637.54,
           4117243.270000001,
           10000,
           4131312.94,
           3971905.03,
           655261.8600000002,
           35244574.510000005,
           26718602.39,
           181925878.78,
           1429688.9400000002,
           27499343.34,
           2036918.94,
           7611521.12,
           16063030.78,
           16066.45,
           187057.12,
           5940745.73,
           1591936.4300000002,
           0,
           20685.95,
           3876146.9,
           2556636.38,
           29465,
           1036984.65,
           3261756.8399999994,
           850590.78,
           28273.88,
           8924156.75,
           0,
           2365504.52,
           2225557.4499999997,
           1117019.48,
           4367611.380000004,
           9507237.95,
           191050.51,
           240360.41,
           323313.96,
           0,
           856273.51,
           1094200.72,
           59799.99,
           2194324.93,
           5835236.91,
           42633588.84,
           0,
           84440.9,
           265473.2,
           42909364.67,
           30914.15,
           6762633.489999999,
           9779004.08,
           2558154.7800000003,
           17625824.679999996,
           2726674.83,
           4087584.619999999,
           2214420.69,
           148953.49000000008,
           96647.88,
           3160987.32,
           25590928.39,
           6102813.31,
           0,
           395454.0299999999,
           3221146.04,
           4686.41,
           74188153.53999999,
           2706265.56,
           35479522.22,
           4176659.15,
           243742684.71,
           154201.17,
           218333.32,
           24032785.64,
           7366023.320000002,
           156618.08000000002,
           16110110.13,
           839804.71,
           113949.81,
           285503.17,
           100689.75,
           711289.3799999999,
           3394890.3000000003,
           1139824.35,
           4652.98,
           875552.4900000001,
           5966969.84,
           1647986.47,
           9208.12,
           1553797.0399999998,
           6814223.97,
           19750146,
           0,
           32790.94,
           1232872.55,
           25688.08,
           906578.81,
           1848777.57,
           0,
           859560.69,
           3076489.8000000003,
           18586.41,
           3661826.19,
           25205905.82,
           84157992.23999992,
           124441.93,
           2666964.01,
           1307436.82,
           50210448.20999999,
           7485441.96,
           25188.36,
           519426.77000000014,
           48024564.34,
           784.47,
           12977168.75,
           189396.26,
           786389.91,
           5565150.609999999,
           21803969.149999995,
           3265071,
           39466235.05,
           1432964.18,
           882003.6000000001,
           665496.19,
           0,
           0,
           0,
           0,
           1591173.440000002,
           226817.1,
           4750870.210000001,
           43562484.70999997,
           112264.15,
           1413769.45,
           0,
           11848254.39,
           155705.16,
           19439953.2,
           13738860.690000003,
           147971.7,
           3572593.97,
           5697086.3,
           13991520.28,
           96874.72,
           602722.02,
           462799.42,
           140007.81000000003,
           581166,
           682606.23,
           48409.17,
           6703.91,
           0
          ],
          "sizemode": "area",
          "sizeref": 939702.397075,
          "symbol": "circle"
         },
         "mode": "markers",
         "name": "非操作型",
         "orientation": "v",
         "showlegend": true,
         "type": "scatter",
         "x": [
          -3.1034353353646904,
          -4.041182442234052,
          -1.1003263991080119,
          -3.5406276959736576,
          -5.770781170212302,
          -5.819378039981227,
          -2.837600535272744,
          -1.9559047058192374,
          -5.956915852462812,
          -2.1226773390288467,
          -6.103461787235331,
          -6.776912542565275,
          -6.972609224592185,
          -6.71452229180935,
          -2.2650135162873206,
          -3.9857258881050264,
          -6.09020329543415,
          -0.426406526055022,
          -6.169493856555507,
          -6.972609224592185,
          -5.047334524597576,
          -6.629357926441561,
          -6.972609224592185,
          -5.304113142357765,
          -5.349571492954299,
          -6.685812763001725,
          -6.100014435771873,
          -3.120693433666201,
          -1.4633617243974422,
          -6.972609224592185,
          -6.972609224592185,
          -6.023115124794157,
          -1.8450661549558656,
          -6.972609224592185,
          -4.014116977262759,
          -3.2054836721679516,
          -6.815757842112565,
          -3.3255372110428363,
          -4.8610948877398155,
          -3.8089350006334195,
          -3.1684351687658987,
          -4.920429711682725,
          -5.767685682209774,
          -2.9864992998455078,
          -1.2160856455559912,
          -3.138124555986618,
          -2.495576179671812,
          -5.153022571334744,
          -4.267278121530208,
          -1.3578521067298612,
          -6.52285022993921,
          -2.8911167808152487,
          -3.972266984142967,
          -6.972609224592185,
          -1.539763886307839,
          -6.948420755929564,
          -6.972609224592185,
          -2.653014773651711,
          -6.1318837274954925,
          -4.1742325476921405,
          -6.972609224592185,
          -6.699559997118103,
          -6.972609224592185,
          -3.9397988286557926,
          -3.0538242588906375,
          -4.192016888349497,
          -5.9367206053661405,
          -2.4357606801381206,
          -4.510268697605346,
          -2.2500863919103216,
          -6.551223223412205,
          -1.8951800816241124,
          -4.138821962885281,
          -4.461032740800035,
          -2.74254121098108,
          -5.3175665923497535,
          -4.257176822966934,
          -3.5276056041188957,
          -4.877522280332697,
          -6.972609224592185,
          -6.199248660046581,
          -5.182904059511876,
          -1.4185497262221047,
          -2.337725954030103,
          -2.2722169732133533,
          -4.784011654278986,
          -2.990842656303168,
          -3.7901449911671117,
          -6.294808230393666,
          -3.1313907958486067,
          -4.003877067128444,
          -3.6302341078440348,
          -6.520193279583697,
          -4.343159108487849,
          -3.365691867481438,
          -3.10083584977132,
          -4.607296110501682,
          -5.521183400224454,
          -3.8481101819796812,
          -3.48548094675899,
          -5.055337261661517,
          -5.242072906494415,
          -6.584255843476726,
          -2.641702227564772,
          -2.8016791419133167,
          -4.78744949906509,
          -6.972609224592185,
          -6.953876024858651,
          -2.799639674495703,
          -6.1977925686375865,
          -5.483308619556038,
          -3.92407372968149,
          -5.2198198826088875,
          -4.266171927440827,
          -3.0812441256055263,
          -6.914980025313885,
          -6.436256583778569,
          -6.814886584691117,
          -4.571480910967039,
          -4.432855063455701,
          -6.944643800823863,
          -4.4297123249319075,
          -4.465910660802071,
          -5.922371351912768,
          -2.3579436540286616,
          -2.6317393322035785,
          -0.7246744749361799,
          -5.352307341518682,
          -2.6033071178993885,
          -5.059114837887667,
          -3.8552625730654566,
          -3.131975690036044,
          -6.928052144221074,
          -6.547017118446035,
          -4.090716068054927,
          -5.265182553628206,
          -6.972609224592185,
          -6.915599961480236,
          -4.4883026021939,
          -4.862316846765059,
          -6.892354434020068,
          -5.601199685854955,
          -4.64529407396556,
          -5.7452267023439685,
          -6.8954768252439465,
          -3.7026973073609284,
          -6.972609224592185,
          -4.930272524567015,
          -4.983132162803116,
          -5.545201368202661,
          -4.378354918062093,
          -3.6417396208158324,
          -6.539644603035073,
          -6.452824746432843,
          -6.321888191037059,
          -6.972609224592185,
          -5.7405148013266,
          -5.560850076637996,
          -6.8159529455172,
          -4.995320381492255,
          -4.107623312454684,
          -2.1693310840334545,
          -6.972609224592185,
          -6.757920946805617,
          -6.411346013597985,
          -2.1629361246244505,
          -6.888568744539572,
          -3.9679710042033713,
          -3.6145497200517243,
          -4.861795060405149,
          -3.041037298155439,
          -4.805513503405315,
          -4.439512440614446,
          -4.987461165075118,
          -6.620239743444158,
          -6.730373404109583,
          -4.673570394111726,
          -2.674287649396448,
          -4.065289889065009,
          -6.972609224592185,
          -6.2204798757634725,
          -4.656593618624144,
          -6.959406053063201,
          -1.6188640312874945,
          -4.812163495914771,
          -2.3513651626472822,
          -4.419650048438889,
          -0.43265144635417485,
          -6.609831407713513,
          -6.490679452777961,
          -2.736225817522073,
          -3.886573115009086,
          -6.605073864423014,
          -3.129111837497459,
          -5.7542316226842285,
          -6.692584060441822,
          -6.379453324483935,
          -6.721416818475361,
          -5.868271453076501,
          -4.609121712881589,
          -5.529803080480845,
          -6.9594996218075025,
          -5.7246928446653955,
          -4.08655777245729,
          -5.236765901757798,
          -6.946830036438688,
          -5.284990989294817,
          -3.9607464640849317,
          -2.9293533310185578,
          -6.972609224592185,
          -6.883687112160146,
          -5.4693227609901705,
          -6.902288961462485,
          -5.699744228894964,
          -5.141123294176238,
          -6.972609224592185,
          -5.737799299803217,
          -4.697913022421317,
          -6.921240203024912,
          -4.540313792016448,
          -2.6892396656948434,
          -1.4933331682645672,
          -6.6703448226903665,
          -4.825095124808217,
          -5.423365698834544,
          -2.006988948328945,
          -3.8712200988074774,
          -6.903610811551774,
          -6.067136429827895,
          -2.051182087178502,
          -6.970386928839695,
          -3.3402097723342963,
          -6.542692054138249,
          -5.800061525722356,
          -4.1522524197894874,
          -2.8320757611695537,
          -4.644377552840197,
          -2.2458699012542556,
          -5.350471376517973,
          -5.719453930195332,
          -5.912268142759277,
          -6.972609224592185,
          -6.972609224592185,
          -6.972609224592185,
          -6.972609224592185,
          -5.265575005362583,
          -6.475929478080149,
          -4.300287881863962,
          -2.147952085849892,
          -6.696203576433285,
          -5.361279480106249,
          -6.972609224592185,
          -3.4287035233759906,
          -6.606868234003157,
          -2.944903981694762,
          -3.2846406005366195,
          -6.622199129712158,
          -4.56279239974322,
          -4.130202440982132,
          -3.266869477640366,
          -6.729868607406488,
          -5.975908848333738,
          -6.1342778581252295,
          -6.638236385091539,
          -5.998731267395691,
          -5.895602008201858,
          -6.8439618461175025,
          -6.953775327253503,
          -6.972609224592185
         ],
         "xaxis": "x",
         "y": [
          0.22638391446919642,
          -0.0013058453083874056,
          0.0981415427176762,
          0.19666145814888147,
          0.09098548824930539,
          0.24990634967390385,
          0.3673121166749374,
          0.006760445989051506,
          -0.000006521319077736126,
          0.10294020656483019,
          0.4111959037204917,
          0.04916938657134849,
          0,
          0.33361027151049716,
          0.01619774955679713,
          0.17957545748033474,
          0.1602822738249238,
          0.11061265152235718,
          0.008693467574882534,
          0,
          0.21174175757267544,
          0.08418386444133517,
          0,
          0.11752191808016296,
          -0.027113109598404253,
          0.21254369353481267,
          -0.09013238631860716,
          0.15788537409831022,
          0.055497333525353,
          0,
          0,
          0.057748857626478224,
          0.1011290198823156,
          0,
          -0.0066805543534587935,
          -0.09059735121191526,
          0.07699707049678632,
          0.15681080979490158,
          0.023586744241166833,
          0.22495870992633085,
          0.03608552161619638,
          0.06196667752177866,
          -0.0037698816715310865,
          -0.004762002401899694,
          -0.015817876238742732,
          0.1404663121612684,
          0.13491118897345308,
          0.19907901624759647,
          0.02263653029740502,
          0.20344622112193064,
          0.07378945790982334,
          0.08576809167072608,
          0.07379639186285022,
          0,
          0.09354168666961007,
          -0.32460793024001977,
          0,
          0.1535953872128642,
          0.051469729305151674,
          0.04573574626815461,
          0,
          0.34750293704631147,
          0,
          0.09937672550403699,
          0.022822654489348906,
          0.1660507573364654,
          0.16072311728320185,
          0.14751377909833113,
          -0.018172099724003698,
          0.1418435195002367,
          -0.012380027273908183,
          0.15460552804031807,
          0.09104832848709761,
          0.16064428164768782,
          0.03150986512083786,
          0.2580350872261364,
          0.22139173193109457,
          0.00968690119976454,
          0.2745811308657547,
          0,
          0.04091810646107333,
          0.11444100832085953,
          0.1016800789626454,
          0.056587343093312474,
          -0.016598428978197667,
          0.09667544094191945,
          -0.07001777492119099,
          0.22781386937097017,
          0.08768057189795911,
          0.12481068723330052,
          0.007194971333251344,
          0.01197971406392,
          0.07342993492751908,
          -0.04565422707589249,
          0.15426857512065736,
          0.004195391793505456,
          0.05344341937398906,
          0.045302494853498534,
          0.07703206196990248,
          -0.1653544062722473,
          0.08729291893273736,
          0.10318113788660349,
          -0.012845494123687302,
          0.06755233888699712,
          0.14013307250728105,
          0.053779194056482175,
          0,
          0.15475131716491217,
          0.05634433445173735,
          0.016320580276958294,
          0.044992041516795915,
          0.24573766616875528,
          0.10698708327717096,
          0.05729016472142722,
          0.13515368579918277,
          -0.10320383373873697,
          0.029082461809532435,
          0.05437848605577693,
          0.019719940008322917,
          0.01802747254232578,
          0.06947600000000002,
          0.10247166848609625,
          0.035936118543096134,
          0.1233576146183757,
          0.08831773636866626,
          0.03402163993204285,
          0.0037371141178995596,
          0.11826817377491926,
          0.22485577395609196,
          0.09948513218694893,
          0.16858421329585682,
          0.018285038111593616,
          0.06299089095599841,
          0.14703872271742444,
          0.0824616121047147,
          0.13035167490953134,
          0,
          0.3060478247312789,
          0.030342314941675788,
          0.217672499051273,
          0.07155981673171562,
          0.3557303765296817,
          0.09080107577853648,
          -0.055116609658054545,
          0.17627223430247296,
          -0.03947564457560657,
          0,
          0.2921477655853306,
          0.08163572232206347,
          0.04001645521884717,
          0.18533380366822014,
          -0.02836853578488591,
          0.2732611391615756,
          0.16882405883731025,
          0.13477002353996714,
          0,
          0.14166395267792423,
          0.1457580470244984,
          0.1825605656455794,
          0.19698611818624318,
          0.19347050298254304,
          0.16664696881755636,
          0,
          0.44411819390840224,
          0.3691863058116601,
          0.04797189181966985,
          0.25668310466242805,
          0.004676620438881727,
          0.013370784890806574,
          0.1203025916985367,
          0.011164180035404514,
          0.06931917877424348,
          0.11765984675810824,
          -0.15549738202635757,
          0.025745620327526704,
          0.23995684126749584,
          0.008678279038461745,
          0.04950744071071196,
          -0.2517610029922413,
          0,
          0.19940590819114912,
          0.10270930777171466,
          -0.08915353116778088,
          -0.04571335594936281,
          0.12451185315309553,
          0.12606916723017805,
          0.0652082610092806,
          0.10776440914012117,
          -0.11880344357957855,
          0.27722433754041753,
          0.062455492362973465,
          0.0871349712208079,
          0.1129923824886628,
          -0.08267006862478846,
          0.07739351688084724,
          0.15245440075766695,
          0.13716078879264282,
          0.3501322627179033,
          0.27315061276466684,
          -0.09017384449800919,
          0.20862893480034883,
          0.2454706446191474,
          0.18009981331901645,
          0.025119600738588578,
          0.20893122381035076,
          0.4542458178216616,
          0.14241974614651096,
          0.06752445355857585,
          0.0027670772661629946,
          0,
          0.12496226091719212,
          0.35589976433492665,
          0.03922325062830699,
          0.2700882673399348,
          0.056911335201886876,
          0,
          0.08554764178431647,
          0.04930493837489728,
          0.13586163223559586,
          -0.0516635471439455,
          0.060424610044821706,
          0.010420252630303273,
          0.08893537732820438,
          0.07003137998851362,
          -0.25853599564375124,
          0.17901223710267286,
          0.005658458141327974,
          0.18651948757283124,
          0.05861122637171781,
          0.04387295749490195,
          0.23072902724132227,
          0.10286611630907545,
          0.10941076661175889,
          0.03867867531515009,
          -0.028233656375384383,
          0.00962351939486152,
          0.04897446640517147,
          -0.016450329228959414,
          0.006647835398091027,
          0.09460083836392504,
          0.04304565590375509,
          0,
          0,
          0,
          0,
          0.2444717654412344,
          0.2737401192414505,
          0.00602572133832302,
          0.027033944180177256,
          0.04277153481320611,
          0.10335220498646373,
          0,
          0.002192561802346701,
          0.022202925066837884,
          0.04049669471426462,
          0.0690346762661586,
          0.25093919986051394,
          -0.06443288320278966,
          -0.016234591706992527,
          0.008948452169202042,
          -0.193746005149744,
          0.05953970289653596,
          0.04254908098199436,
          0.05096229988884184,
          0.15209090001823933,
          0.007318304141466717,
          -0.10635588257348767,
          0.0770117737260792,
          0
         ],
         "yaxis": "y"
        },
        {
         "customdata": [
          [
           "Burton"
          ],
          [
           "FERRERO"
          ],
          [
           "IBM"
          ],
          [
           "SIEMENS"
          ],
          [
           "KONE"
          ],
          [
           "HONEYWELL"
          ],
          [
           "MLB"
          ],
          [
           "Mary Kay Cosmetics"
          ],
          [
           "SKF - Technology"
          ],
          [
           "LINDT & SPRUENGLI"
          ],
          [
           "FUJI XEROX"
          ],
          [
           "ECCO"
          ],
          [
           "THERMO FISHER SCIENTIFIC"
          ],
          [
           "Venchi"
          ],
          [
           "TOD'S"
          ],
          [
           "TATA"
          ],
          [
           "GENERAL MOTORS"
          ],
          [
           "SF-JNJ"
          ],
          [
           "HUAWEI"
          ],
          [
           "DELL TECHNOLOGIES"
          ],
          [
           "SKF - Industrial"
          ],
          [
           "NIANCE"
          ],
          [
           "BMW"
          ],
          [
           "House Foods"
          ],
          [
           "MITSUBISHI ELECTRIC"
          ],
          [
           "Landbase"
          ],
          [
           "Cytiva"
          ],
          [
           "SF IT"
          ],
          [
           "Huan Sheng Solar"
          ],
          [
           "Ping’an Shangmao"
          ],
          [
           "ARTE"
          ],
          [
           "SL - CVTE"
          ],
          [
           "APP"
          ],
          [
           "Tianma"
          ],
          [
           "FREY"
          ],
          [
           "Suzhou Hengding"
          ]
         ],
         "hovertemplate": "is_operation=操作型<br>ytm_income_amt_scaled=%{x}<br>ytm_gp_margin=%{y}<br>abs_ytm_income_amt=%{marker.size}<br>customer_name=%{customdata[0]}<extra></extra>",
         "legendgroup": "操作型",
         "marker": {
          "color": "#EF553B",
          "size": [
           12438891.76,
           1527960.77,
           3241752.63,
           71092365.50000001,
           7836305.370000003,
           22883700.65,
           32441327.91,
           9302763.93,
           4814673.500000001,
           10509052.179999998,
           5151523.109999999,
           17394982.34,
           4962437.35,
           2117997.67,
           8699207.92,
           33163207.680000007,
           103339707.27,
           318909.69999999995,
           75219230.89000002,
           47761861.39,
           19592003.04,
           297017.43,
           375880958.83,
           320982.37000000005,
           1057307.0699999996,
           4823649.64,
           1552325.21,
           0,
           17090262.48,
           31118975.32000001,
           237059.21,
           2278345.13,
           11405208.6,
           6212917.200000001,
           53536.64,
           34872318.599999994
          ],
          "sizemode": "area",
          "sizeref": 939702.397075,
          "symbol": "circle"
         },
         "mode": "markers",
         "name": "操作型",
         "orientation": "v",
         "showlegend": true,
         "type": "scatter",
         "x": [
          -3.3814292902240966,
          -5.298636013445133,
          -4.650844087745468,
          -1.6612825899652346,
          -3.8274289597568436,
          -2.7844940665026154,
          -2.4399665289206527,
          -3.6626957290081403,
          -4.287863462266973,
          -3.544970989141605,
          -4.224711266041455,
          -3.0539604021927547,
          -4.259668644778644,
          -5.025746916370212,
          -3.727244776293416,
          -2.4181927089752007,
          -1.288782133706787,
          -6.32842544473489,
          -1.605126429430477,
          -2.0566271930102,
          -2.9372511681920397,
          -6.3615698975498995,
          -1.1102230246251565e-16,
          -6.325343651503946,
          -5.586680861159812,
          -4.286127858504978,
          -5.28576333233296,
          -6.972609224592185,
          -3.0712791569911637,
          -2.4811251249175226,
          -6.458407548144125,
          -4.962864053436407,
          -3.465691899188108,
          -4.048377674761248,
          -6.8312567296472215,
          -2.36845617182207
         ],
         "xaxis": "x",
         "y": [
          0.2136076075960644,
          0.28800118997819546,
          0.19046903032820253,
          0.21789926092696996,
          0.2312245049735728,
          0.19237012524021108,
          0.06325839113902025,
          0.03676840588171302,
          0.1786919424546648,
          0.02657776317178751,
          0.20383508286348345,
          -0.35879200380953086,
          0.1711302652516105,
          0.16608465862948757,
          -0.20935123366955907,
          0.08392234481221343,
          0.11851321997653261,
          0.25049388588682,
          0.1669950923636729,
          0.2815647055752239,
          0.09464059270582882,
          0.47051545089458213,
          0.05660921834463966,
          0.03657942334963742,
          0.1795768470554157,
          0.13284525573461797,
          0.20004100815962395,
          0,
          0.06231274629317466,
          0.007887682916161232,
          0.17124565630670918,
          -0.07059541062595737,
          0.003229390298043544,
          0.017236568032807504,
          0.49046802339481893,
          0.1055890829123131
         ],
         "yaxis": "y"
        }
       ],
       "layout": {
        "annotations": [
         {
          "opacity": 0.4,
          "showarrow": false,
          "text": "2021 <br> GP_margin .06 <br><br />  ",
          "x": 1,
          "xanchor": "right",
          "xref": "x domain",
          "y": 0.06,
          "yanchor": "bottom",
          "yref": "y"
         }
        ],
        "legend": {
         "itemsizing": "constant",
         "title": {
          "text": "is_operation"
         },
         "tracegroupgap": 0
        },
        "shapes": [
         {
          "line": {
           "color": "black",
           "dash": "dash",
           "width": 3
          },
          "opacity": 0.4,
          "type": "line",
          "x0": 0,
          "x1": 1,
          "xref": "x domain",
          "y0": 0.06,
          "y1": 0.06,
          "yref": "y"
         },
         {
          "line": {
           "color": "black",
           "dash": "dash",
           "width": 3
          },
          "opacity": 0.4,
          "type": "line",
          "x0": -3.592971695626755,
          "x1": -3.592971695626755,
          "xref": "x",
          "y0": 0,
          "y1": 1,
          "yref": "y domain"
         }
        ],
        "template": {
         "data": {
          "bar": [
           {
            "error_x": {
             "color": "#2a3f5f"
            },
            "error_y": {
             "color": "#2a3f5f"
            },
            "marker": {
             "line": {
              "color": "#E5ECF6",
              "width": 0.5
             }
            },
            "type": "bar"
           }
          ],
          "barpolar": [
           {
            "marker": {
             "line": {
              "color": "#E5ECF6",
              "width": 0.5
             }
            },
            "type": "barpolar"
           }
          ],
          "carpet": [
           {
            "aaxis": {
             "endlinecolor": "#2a3f5f",
             "gridcolor": "white",
             "linecolor": "white",
             "minorgridcolor": "white",
             "startlinecolor": "#2a3f5f"
            },
            "baxis": {
             "endlinecolor": "#2a3f5f",
             "gridcolor": "white",
             "linecolor": "white",
             "minorgridcolor": "white",
             "startlinecolor": "#2a3f5f"
            },
            "type": "carpet"
           }
          ],
          "choropleth": [
           {
            "colorbar": {
             "outlinewidth": 0,
             "ticks": ""
            },
            "type": "choropleth"
           }
          ],
          "contour": [
           {
            "colorbar": {
             "outlinewidth": 0,
             "ticks": ""
            },
            "colorscale": [
             [
              0,
              "#0d0887"
             ],
             [
              0.1111111111111111,
              "#46039f"
             ],
             [
              0.2222222222222222,
              "#7201a8"
             ],
             [
              0.3333333333333333,
              "#9c179e"
             ],
             [
              0.4444444444444444,
              "#bd3786"
             ],
             [
              0.5555555555555556,
              "#d8576b"
             ],
             [
              0.6666666666666666,
              "#ed7953"
             ],
             [
              0.7777777777777778,
              "#fb9f3a"
             ],
             [
              0.8888888888888888,
              "#fdca26"
             ],
             [
              1,
              "#f0f921"
             ]
            ],
            "type": "contour"
           }
          ],
          "contourcarpet": [
           {
            "colorbar": {
             "outlinewidth": 0,
             "ticks": ""
            },
            "type": "contourcarpet"
           }
          ],
          "heatmap": [
           {
            "colorbar": {
             "outlinewidth": 0,
             "ticks": ""
            },
            "colorscale": [
             [
              0,
              "#0d0887"
             ],
             [
              0.1111111111111111,
              "#46039f"
             ],
             [
              0.2222222222222222,
              "#7201a8"
             ],
             [
              0.3333333333333333,
              "#9c179e"
             ],
             [
              0.4444444444444444,
              "#bd3786"
             ],
             [
              0.5555555555555556,
              "#d8576b"
             ],
             [
              0.6666666666666666,
              "#ed7953"
             ],
             [
              0.7777777777777778,
              "#fb9f3a"
             ],
             [
              0.8888888888888888,
              "#fdca26"
             ],
             [
              1,
              "#f0f921"
             ]
            ],
            "type": "heatmap"
           }
          ],
          "heatmapgl": [
           {
            "colorbar": {
             "outlinewidth": 0,
             "ticks": ""
            },
            "colorscale": [
             [
              0,
              "#0d0887"
             ],
             [
              0.1111111111111111,
              "#46039f"
             ],
             [
              0.2222222222222222,
              "#7201a8"
             ],
             [
              0.3333333333333333,
              "#9c179e"
             ],
             [
              0.4444444444444444,
              "#bd3786"
             ],
             [
              0.5555555555555556,
              "#d8576b"
             ],
             [
              0.6666666666666666,
              "#ed7953"
             ],
             [
              0.7777777777777778,
              "#fb9f3a"
             ],
             [
              0.8888888888888888,
              "#fdca26"
             ],
             [
              1,
              "#f0f921"
             ]
            ],
            "type": "heatmapgl"
           }
          ],
          "histogram": [
           {
            "marker": {
             "colorbar": {
              "outlinewidth": 0,
              "ticks": ""
             }
            },
            "type": "histogram"
           }
          ],
          "histogram2d": [
           {
            "colorbar": {
             "outlinewidth": 0,
             "ticks": ""
            },
            "colorscale": [
             [
              0,
              "#0d0887"
             ],
             [
              0.1111111111111111,
              "#46039f"
             ],
             [
              0.2222222222222222,
              "#7201a8"
             ],
             [
              0.3333333333333333,
              "#9c179e"
             ],
             [
              0.4444444444444444,
              "#bd3786"
             ],
             [
              0.5555555555555556,
              "#d8576b"
             ],
             [
              0.6666666666666666,
              "#ed7953"
             ],
             [
              0.7777777777777778,
              "#fb9f3a"
             ],
             [
              0.8888888888888888,
              "#fdca26"
             ],
             [
              1,
              "#f0f921"
             ]
            ],
            "type": "histogram2d"
           }
          ],
          "histogram2dcontour": [
           {
            "colorbar": {
             "outlinewidth": 0,
             "ticks": ""
            },
            "colorscale": [
             [
              0,
              "#0d0887"
             ],
             [
              0.1111111111111111,
              "#46039f"
             ],
             [
              0.2222222222222222,
              "#7201a8"
             ],
             [
              0.3333333333333333,
              "#9c179e"
             ],
             [
              0.4444444444444444,
              "#bd3786"
             ],
             [
              0.5555555555555556,
              "#d8576b"
             ],
             [
              0.6666666666666666,
              "#ed7953"
             ],
             [
              0.7777777777777778,
              "#fb9f3a"
             ],
             [
              0.8888888888888888,
              "#fdca26"
             ],
             [
              1,
              "#f0f921"
             ]
            ],
            "type": "histogram2dcontour"
           }
          ],
          "mesh3d": [
           {
            "colorbar": {
             "outlinewidth": 0,
             "ticks": ""
            },
            "type": "mesh3d"
           }
          ],
          "parcoords": [
           {
            "line": {
             "colorbar": {
              "outlinewidth": 0,
              "ticks": ""
             }
            },
            "type": "parcoords"
           }
          ],
          "pie": [
           {
            "automargin": true,
            "type": "pie"
           }
          ],
          "scatter": [
           {
            "marker": {
             "colorbar": {
              "outlinewidth": 0,
              "ticks": ""
             }
            },
            "type": "scatter"
           }
          ],
          "scatter3d": [
           {
            "line": {
             "colorbar": {
              "outlinewidth": 0,
              "ticks": ""
             }
            },
            "marker": {
             "colorbar": {
              "outlinewidth": 0,
              "ticks": ""
             }
            },
            "type": "scatter3d"
           }
          ],
          "scattercarpet": [
           {
            "marker": {
             "colorbar": {
              "outlinewidth": 0,
              "ticks": ""
             }
            },
            "type": "scattercarpet"
           }
          ],
          "scattergeo": [
           {
            "marker": {
             "colorbar": {
              "outlinewidth": 0,
              "ticks": ""
             }
            },
            "type": "scattergeo"
           }
          ],
          "scattergl": [
           {
            "marker": {
             "colorbar": {
              "outlinewidth": 0,
              "ticks": ""
             }
            },
            "type": "scattergl"
           }
          ],
          "scattermapbox": [
           {
            "marker": {
             "colorbar": {
              "outlinewidth": 0,
              "ticks": ""
             }
            },
            "type": "scattermapbox"
           }
          ],
          "scatterpolar": [
           {
            "marker": {
             "colorbar": {
              "outlinewidth": 0,
              "ticks": ""
             }
            },
            "type": "scatterpolar"
           }
          ],
          "scatterpolargl": [
           {
            "marker": {
             "colorbar": {
              "outlinewidth": 0,
              "ticks": ""
             }
            },
            "type": "scatterpolargl"
           }
          ],
          "scatterternary": [
           {
            "marker": {
             "colorbar": {
              "outlinewidth": 0,
              "ticks": ""
             }
            },
            "type": "scatterternary"
           }
          ],
          "surface": [
           {
            "colorbar": {
             "outlinewidth": 0,
             "ticks": ""
            },
            "colorscale": [
             [
              0,
              "#0d0887"
             ],
             [
              0.1111111111111111,
              "#46039f"
             ],
             [
              0.2222222222222222,
              "#7201a8"
             ],
             [
              0.3333333333333333,
              "#9c179e"
             ],
             [
              0.4444444444444444,
              "#bd3786"
             ],
             [
              0.5555555555555556,
              "#d8576b"
             ],
             [
              0.6666666666666666,
              "#ed7953"
             ],
             [
              0.7777777777777778,
              "#fb9f3a"
             ],
             [
              0.8888888888888888,
              "#fdca26"
             ],
             [
              1,
              "#f0f921"
             ]
            ],
            "type": "surface"
           }
          ],
          "table": [
           {
            "cells": {
             "fill": {
              "color": "#EBF0F8"
             },
             "line": {
              "color": "white"
             }
            },
            "header": {
             "fill": {
              "color": "#C8D4E3"
             },
             "line": {
              "color": "white"
             }
            },
            "type": "table"
           }
          ]
         },
         "layout": {
          "annotationdefaults": {
           "arrowcolor": "#2a3f5f",
           "arrowhead": 0,
           "arrowwidth": 1
          },
          "autotypenumbers": "strict",
          "coloraxis": {
           "colorbar": {
            "outlinewidth": 0,
            "ticks": ""
           }
          },
          "colorscale": {
           "diverging": [
            [
             0,
             "#8e0152"
            ],
            [
             0.1,
             "#c51b7d"
            ],
            [
             0.2,
             "#de77ae"
            ],
            [
             0.3,
             "#f1b6da"
            ],
            [
             0.4,
             "#fde0ef"
            ],
            [
             0.5,
             "#f7f7f7"
            ],
            [
             0.6,
             "#e6f5d0"
            ],
            [
             0.7,
             "#b8e186"
            ],
            [
             0.8,
             "#7fbc41"
            ],
            [
             0.9,
             "#4d9221"
            ],
            [
             1,
             "#276419"
            ]
           ],
           "sequential": [
            [
             0,
             "#0d0887"
            ],
            [
             0.1111111111111111,
             "#46039f"
            ],
            [
             0.2222222222222222,
             "#7201a8"
            ],
            [
             0.3333333333333333,
             "#9c179e"
            ],
            [
             0.4444444444444444,
             "#bd3786"
            ],
            [
             0.5555555555555556,
             "#d8576b"
            ],
            [
             0.6666666666666666,
             "#ed7953"
            ],
            [
             0.7777777777777778,
             "#fb9f3a"
            ],
            [
             0.8888888888888888,
             "#fdca26"
            ],
            [
             1,
             "#f0f921"
            ]
           ],
           "sequentialminus": [
            [
             0,
             "#0d0887"
            ],
            [
             0.1111111111111111,
             "#46039f"
            ],
            [
             0.2222222222222222,
             "#7201a8"
            ],
            [
             0.3333333333333333,
             "#9c179e"
            ],
            [
             0.4444444444444444,
             "#bd3786"
            ],
            [
             0.5555555555555556,
             "#d8576b"
            ],
            [
             0.6666666666666666,
             "#ed7953"
            ],
            [
             0.7777777777777778,
             "#fb9f3a"
            ],
            [
             0.8888888888888888,
             "#fdca26"
            ],
            [
             1,
             "#f0f921"
            ]
           ]
          },
          "colorway": [
           "#636efa",
           "#EF553B",
           "#00cc96",
           "#ab63fa",
           "#FFA15A",
           "#19d3f3",
           "#FF6692",
           "#B6E880",
           "#FF97FF",
           "#FECB52"
          ],
          "font": {
           "color": "#2a3f5f"
          },
          "geo": {
           "bgcolor": "white",
           "lakecolor": "white",
           "landcolor": "#E5ECF6",
           "showlakes": true,
           "showland": true,
           "subunitcolor": "white"
          },
          "hoverlabel": {
           "align": "left"
          },
          "hovermode": "closest",
          "mapbox": {
           "style": "light"
          },
          "paper_bgcolor": "white",
          "plot_bgcolor": "#E5ECF6",
          "polar": {
           "angularaxis": {
            "gridcolor": "white",
            "linecolor": "white",
            "ticks": ""
           },
           "bgcolor": "#E5ECF6",
           "radialaxis": {
            "gridcolor": "white",
            "linecolor": "white",
            "ticks": ""
           }
          },
          "scene": {
           "xaxis": {
            "backgroundcolor": "#E5ECF6",
            "gridcolor": "white",
            "gridwidth": 2,
            "linecolor": "white",
            "showbackground": true,
            "ticks": "",
            "zerolinecolor": "white"
           },
           "yaxis": {
            "backgroundcolor": "#E5ECF6",
            "gridcolor": "white",
            "gridwidth": 2,
            "linecolor": "white",
            "showbackground": true,
            "ticks": "",
            "zerolinecolor": "white"
           },
           "zaxis": {
            "backgroundcolor": "#E5ECF6",
            "gridcolor": "white",
            "gridwidth": 2,
            "linecolor": "white",
            "showbackground": true,
            "ticks": "",
            "zerolinecolor": "white"
           }
          },
          "shapedefaults": {
           "line": {
            "color": "#2a3f5f"
           }
          },
          "ternary": {
           "aaxis": {
            "gridcolor": "white",
            "linecolor": "white",
            "ticks": ""
           },
           "baxis": {
            "gridcolor": "white",
            "linecolor": "white",
            "ticks": ""
           },
           "bgcolor": "#E5ECF6",
           "caxis": {
            "gridcolor": "white",
            "linecolor": "white",
            "ticks": ""
           }
          },
          "title": {
           "x": 0.05
          },
          "xaxis": {
           "automargin": true,
           "gridcolor": "white",
           "linecolor": "white",
           "ticks": "",
           "title": {
            "standoff": 15
           },
           "zerolinecolor": "white",
           "zerolinewidth": 2
          },
          "yaxis": {
           "automargin": true,
           "gridcolor": "white",
           "linecolor": "white",
           "ticks": "",
           "title": {
            "standoff": 15
           },
           "zerolinecolor": "white",
           "zerolinewidth": 2
          }
         }
        },
        "title": {
         "text": "利润率y , 收入x, 收入绝对值z customer level"
        },
        "xaxis": {
         "anchor": "y",
         "domain": [
          0,
          1
         ],
         "title": {
          "text": "ytm_income_amt_scaled"
         }
        },
        "yaxis": {
         "anchor": "x",
         "domain": [
          0,
          1
         ],
         "title": {
          "text": "ytm_gp_margin"
         }
        }
       }
      }
     },
     "metadata": {},
     "output_type": "display_data"
    }
   ],
   "source": [
    "# p9\n",
    "bubble_plt(sap_plt, 'scaled', 'is_operation') # has_vas \n",
    "# bubble_plt(sap_plt, 'scaled', 'has_vas') #  \n",
    "# df_plt['has_vas']"
   ]
  },
  {
   "cell_type": "code",
   "execution_count": 293,
   "metadata": {},
   "outputs": [
    {
     "data": {
      "text/html": [
       "<table class=\"simpletable\">\n",
       "<caption>OLS Regression Results</caption>\n",
       "<tr>\n",
       "  <th>Dep. Variable:</th>    <td>ytm_gross_profit_amt</td> <th>  R-squared:         </th> <td>   0.009</td> \n",
       "</tr>\n",
       "<tr>\n",
       "  <th>Model:</th>                     <td>OLS</td>         <th>  Adj. R-squared:    </th> <td>   0.006</td> \n",
       "</tr>\n",
       "<tr>\n",
       "  <th>Method:</th>               <td>Least Squares</td>    <th>  F-statistic:       </th> <td>   3.143</td> \n",
       "</tr>\n",
       "<tr>\n",
       "  <th>Date:</th>               <td>Thu, 09 Dec 2021</td>   <th>  Prob (F-statistic):</th>  <td>0.0771</td>  \n",
       "</tr>\n",
       "<tr>\n",
       "  <th>Time:</th>                   <td>14:06:36</td>       <th>  Log-Likelihood:    </th> <td> -5985.2</td> \n",
       "</tr>\n",
       "<tr>\n",
       "  <th>No. Observations:</th>        <td>   355</td>        <th>  AIC:               </th> <td>1.197e+04</td>\n",
       "</tr>\n",
       "<tr>\n",
       "  <th>Df Residuals:</th>            <td>   353</td>        <th>  BIC:               </th> <td>1.198e+04</td>\n",
       "</tr>\n",
       "<tr>\n",
       "  <th>Df Model:</th>                <td>     1</td>        <th>                     </th>     <td> </td>    \n",
       "</tr>\n",
       "<tr>\n",
       "  <th>Covariance Type:</th>        <td>nonrobust</td>      <th>                     </th>     <td> </td>    \n",
       "</tr>\n",
       "</table>\n",
       "<table class=\"simpletable\">\n",
       "<tr>\n",
       "            <td></td>              <th>coef</th>     <th>std err</th>      <th>t</th>      <th>P>|t|</th>  <th>[0.025</th>    <th>0.975]</th>  \n",
       "</tr>\n",
       "<tr>\n",
       "  <th>Intercept</th>            <td> 1.644e+06</td> <td> 7.86e+05</td> <td>    2.091</td> <td> 0.037</td> <td> 9.79e+04</td> <td> 3.19e+06</td>\n",
       "</tr>\n",
       "<tr>\n",
       "  <th>is_operation[T.非操作型]</th> <td>-1.484e+06</td> <td> 8.37e+05</td> <td>   -1.773</td> <td> 0.077</td> <td>-3.13e+06</td> <td> 1.62e+05</td>\n",
       "</tr>\n",
       "</table>\n",
       "<table class=\"simpletable\">\n",
       "<tr>\n",
       "  <th>Omnibus:</th>       <td>266.762</td> <th>  Durbin-Watson:     </th> <td>   1.979</td> \n",
       "</tr>\n",
       "<tr>\n",
       "  <th>Prob(Omnibus):</th> <td> 0.000</td>  <th>  Jarque-Bera (JB):  </th> <td>19044.428</td>\n",
       "</tr>\n",
       "<tr>\n",
       "  <th>Skew:</th>          <td>-2.419</td>  <th>  Prob(JB):          </th> <td>    0.00</td> \n",
       "</tr>\n",
       "<tr>\n",
       "  <th>Kurtosis:</th>      <td>38.554</td>  <th>  Cond. No.          </th> <td>    5.65</td> \n",
       "</tr>\n",
       "</table><br/><br/>Notes:<br/>[1] Standard Errors assume that the covariance matrix of the errors is correctly specified."
      ],
      "text/plain": [
       "<class 'statsmodels.iolib.summary.Summary'>\n",
       "\"\"\"\n",
       "                             OLS Regression Results                             \n",
       "================================================================================\n",
       "Dep. Variable:     ytm_gross_profit_amt   R-squared:                       0.009\n",
       "Model:                              OLS   Adj. R-squared:                  0.006\n",
       "Method:                   Least Squares   F-statistic:                     3.143\n",
       "Date:                  Thu, 09 Dec 2021   Prob (F-statistic):             0.0771\n",
       "Time:                          14:06:36   Log-Likelihood:                -5985.2\n",
       "No. Observations:                   355   AIC:                         1.197e+04\n",
       "Df Residuals:                       353   BIC:                         1.198e+04\n",
       "Df Model:                             1                                         \n",
       "Covariance Type:              nonrobust                                         \n",
       "========================================================================================\n",
       "                           coef    std err          t      P>|t|      [0.025      0.975]\n",
       "----------------------------------------------------------------------------------------\n",
       "Intercept             1.644e+06   7.86e+05      2.091      0.037    9.79e+04    3.19e+06\n",
       "is_operation[T.非操作型] -1.484e+06   8.37e+05     -1.773      0.077   -3.13e+06    1.62e+05\n",
       "==============================================================================\n",
       "Omnibus:                      266.762   Durbin-Watson:                   1.979\n",
       "Prob(Omnibus):                  0.000   Jarque-Bera (JB):            19044.428\n",
       "Skew:                          -2.419   Prob(JB):                         0.00\n",
       "Kurtosis:                      38.554   Cond. No.                         5.65\n",
       "==============================================================================\n",
       "\n",
       "Notes:\n",
       "[1] Standard Errors assume that the covariance matrix of the errors is correctly specified.\n",
       "\"\"\""
      ]
     },
     "execution_count": 293,
     "metadata": {},
     "output_type": "execute_result"
    }
   ],
   "source": [
    "# 不同仓储客户的分类\n",
    "# 有无仓储业务，其利润率高低，有无显著差异？\n",
    "# 不同仓储业务类型的客户，利润率有无显著差异？\n",
    "# fee_type\n",
    "\n",
    "smf.ols('ytm_gross_profit_amt ~ is_operation ', data = sap).fit().summary() #ytm_gross_profit_amt\n",
    "\n",
    "# smf.ols('ytm_gross_profit_amt ~ has_vas  ', data = sap).fit().summary() "
   ]
  },
  {
   "cell_type": "code",
   "execution_count": 278,
   "metadata": {},
   "outputs": [],
   "source": [
    "corr_vas = sap['has_vas'].replace('有VAS', 1).replace('无VAS', 0)\n",
    "corr_vas = pd.concat([corr_vas, sap['ytm_gross_profit_amt']], axis = 1)\n",
    "coach_corr = corr_vas.corr()\n",
    "coach_corr.style.background_gradient(cmap='coolwarm', axis=None)"
   ]
  },
  {
   "cell_type": "code",
   "execution_count": 299,
   "metadata": {},
   "outputs": [],
   "source": [
    "corr_lb = sap[['sap_lb_cost', 'ytm_gross_profit_amt']]"
   ]
  },
  {
   "cell_type": "code",
   "execution_count": 300,
   "metadata": {},
   "outputs": [
    {
     "data": {
      "text/html": [
       "<style type=\"text/css\">\n",
       "#T_343de_row0_col0, #T_343de_row1_col1 {\n",
       "  background-color: #b40426;\n",
       "  color: #f1f1f1;\n",
       "}\n",
       "#T_343de_row0_col1, #T_343de_row1_col0 {\n",
       "  background-color: #3b4cc0;\n",
       "  color: #f1f1f1;\n",
       "}\n",
       "</style>\n",
       "<table id=\"T_343de_\">\n",
       "  <thead>\n",
       "    <tr>\n",
       "      <th class=\"blank level0\" >&nbsp;</th>\n",
       "      <th class=\"col_heading level0 col0\" >sap_lb_cost</th>\n",
       "      <th class=\"col_heading level0 col1\" >ytm_gross_profit_amt</th>\n",
       "    </tr>\n",
       "  </thead>\n",
       "  <tbody>\n",
       "    <tr>\n",
       "      <th id=\"T_343de_level0_row0\" class=\"row_heading level0 row0\" >sap_lb_cost</th>\n",
       "      <td id=\"T_343de_row0_col0\" class=\"data row0 col0\" >1.000000</td>\n",
       "      <td id=\"T_343de_row0_col1\" class=\"data row0 col1\" >-0.363952</td>\n",
       "    </tr>\n",
       "    <tr>\n",
       "      <th id=\"T_343de_level0_row1\" class=\"row_heading level0 row1\" >ytm_gross_profit_amt</th>\n",
       "      <td id=\"T_343de_row1_col0\" class=\"data row1 col0\" >-0.363952</td>\n",
       "      <td id=\"T_343de_row1_col1\" class=\"data row1 col1\" >1.000000</td>\n",
       "    </tr>\n",
       "  </tbody>\n",
       "</table>\n"
      ],
      "text/plain": [
       "<pandas.io.formats.style.Styler at 0x1cfca3d2d90>"
      ]
     },
     "execution_count": 300,
     "metadata": {},
     "output_type": "execute_result"
    }
   ],
   "source": [
    "coach_corr = corr_lb.corr()\n",
    "coach_corr.style.background_gradient(cmap='coolwarm', axis=None)"
   ]
  },
  {
   "cell_type": "code",
   "execution_count": 290,
   "metadata": {},
   "outputs": [
    {
     "data": {
      "text/plain": [
       "array(['非操作型', '操作型'], dtype=object)"
      ]
     },
     "execution_count": 290,
     "metadata": {},
     "output_type": "execute_result"
    }
   ],
   "source": [
    "sap['is_operation'].unique()"
   ]
  },
  {
   "cell_type": "code",
   "execution_count": 292,
   "metadata": {},
   "outputs": [
    {
     "data": {
      "text/html": [
       "<style type=\"text/css\">\n",
       "#T_8c783_row0_col0, #T_8c783_row1_col1 {\n",
       "  background-color: #b40426;\n",
       "  color: #f1f1f1;\n",
       "}\n",
       "#T_8c783_row0_col1, #T_8c783_row1_col0 {\n",
       "  background-color: #3b4cc0;\n",
       "  color: #f1f1f1;\n",
       "}\n",
       "</style>\n",
       "<table id=\"T_8c783_\">\n",
       "  <thead>\n",
       "    <tr>\n",
       "      <th class=\"blank level0\" >&nbsp;</th>\n",
       "      <th class=\"col_heading level0 col0\" >is_operation</th>\n",
       "      <th class=\"col_heading level0 col1\" >ytm_gross_profit_amt</th>\n",
       "    </tr>\n",
       "  </thead>\n",
       "  <tbody>\n",
       "    <tr>\n",
       "      <th id=\"T_8c783_level0_row0\" class=\"row_heading level0 row0\" >is_operation</th>\n",
       "      <td id=\"T_8c783_row0_col0\" class=\"data row0 col0\" >1.000000</td>\n",
       "      <td id=\"T_8c783_row0_col1\" class=\"data row0 col1\" >0.093937</td>\n",
       "    </tr>\n",
       "    <tr>\n",
       "      <th id=\"T_8c783_level0_row1\" class=\"row_heading level0 row1\" >ytm_gross_profit_amt</th>\n",
       "      <td id=\"T_8c783_row1_col0\" class=\"data row1 col0\" >0.093937</td>\n",
       "      <td id=\"T_8c783_row1_col1\" class=\"data row1 col1\" >1.000000</td>\n",
       "    </tr>\n",
       "  </tbody>\n",
       "</table>\n"
      ],
      "text/plain": [
       "<pandas.io.formats.style.Styler at 0x1cfcd9c7400>"
      ]
     },
     "execution_count": 292,
     "metadata": {},
     "output_type": "execute_result"
    }
   ],
   "source": [
    "corr_opera = sap['is_operation'].replace('操作型', 1).replace('非操作型', 0)\n",
    "corr_opera = pd.concat([corr_opera, sap['ytm_gross_profit_amt']], axis = 1)\n",
    "coach_corr = corr_opera.corr()\n",
    "coach_corr.style.background_gradient(cmap='coolwarm', axis=None)"
   ]
  },
  {
   "cell_type": "code",
   "execution_count": null,
   "metadata": {},
   "outputs": [],
   "source": []
  },
  {
   "cell_type": "code",
   "execution_count": null,
   "metadata": {},
   "outputs": [],
   "source": [
    "\n",
    "# 不同象限WMS客户，其inbound/outbound量是否有显著区别？\n",
    "smf.ols(\n",
    "    'ytm_gross_profit_amt ~ inbound_line_count +\\\n",
    "         inbound_receive_qty + outbound_line_count + outbound_shipped_qty ' # + stock_turn_monthly + location_usage_rate\n",
    "         , data = sap).fit().summary()\n",
    "\n",
    "# smf.ols('ytm_gross_profit_amt ~ has_vas  ', data = sap).fit().summary()"
   ]
  }
 ],
 "metadata": {
  "interpreter": {
   "hash": "47b50d2908d96196e4220cfb4e81faa93803065ea975497e7026f672c1f58470"
  },
  "kernelspec": {
   "display_name": "Python 3.8.8 64-bit ('siming': conda)",
   "language": "python",
   "name": "python3"
  },
  "language_info": {
   "codemirror_mode": {
    "name": "ipython",
    "version": 3
   },
   "file_extension": ".py",
   "mimetype": "text/x-python",
   "name": "python",
   "nbconvert_exporter": "python",
   "pygments_lexer": "ipython3",
   "version": "3.8.8"
  },
  "orig_nbformat": 4
 },
 "nbformat": 4,
 "nbformat_minor": 2
}

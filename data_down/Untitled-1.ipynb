{
 "cells": [
  {
   "cell_type": "code",
   "execution_count": 38,
   "metadata": {},
   "outputs": [],
   "source": [
    "import pandas as pd\n",
    "import re\n",
    "import os\n",
    "import numpy as np\n",
    "import matplotlib.pyplot as plt\n",
    "import seaborn as sns\n",
    "\n",
    "os.getcwd()\n",
    "df = pd.read_csv('./dws_dsc_customer_opportunity_monthly_kpi_1.csv')\n",
    "op = pd.read_csv('dwd_dsc_d365_opportunity_df.csv', sep = '\\001')\n",
    "df.columns = [re.sub('\\w+\\.', '', i) for i in list(df.columns)]\n",
    "op.columns = [re.sub('\\w+\\.', '', i) for i in list(op.columns)]\n",
    "df = df.fillna(0)\n",
    "# df.columns\n",
    "df['if_cooped'] = 0\n",
    "df['if_cooped'] = df['if_cooped'].where(df['contract_signed_opportunity_num'] < 1, 1) # 今年有没合作。\n",
    "cus_bf_21 = op[(op['createdon'] < '2021-11-01') & (op['milestone'] == 'Contract Signed')]['account_name_en'].unique()\n",
    "cus_bf_21 = list(cus_bf_21)\n",
    "cus_af_21 = list(df['customer_name'].unique())\n",
    "df['old_cust'] = df['customer_name'].isin(cus_bf_21)\n",
    "# df.to_csv('./data_down/dws_dsc_customer_opportunity_monthly_kpi_1.csv', index = None, encoding='utf_8_sig')\n",
    "\n",
    "\n",
    "colors = sns.color_palette('rocket')[0:5]\n",
    "import plotly.express as px\n",
    "import plotly.graph_objects as go\n",
    "from plotly.subplots import make_subplots\n",
    "# plt1"
   ]
  },
  {
   "cell_type": "code",
   "execution_count": 92,
   "metadata": {},
   "outputs": [],
   "source": [
    "def plot_pie(plt10, plt11,  bi_title, **kwargs):\n",
    "    \"\"\"\n",
    "    成功, 总和, \n",
    "    \"\"\"\n",
    "    colors = ['gold', 'mediumturquoise', 'darkorange', 'lightgreen']\n",
    "    fig = make_subplots(rows=1, cols=2, specs=[[{'type':'domain'}, {'type':'domain'}]])\n",
    "    \n",
    "    fig.add_trace(\n",
    "        go.Pie(values = [round(plt10 / plt11, 2), 1- round(plt10 / plt11, 2)], \n",
    "        labels = ['succeed', 'fail']),\n",
    "        1, 1)\n",
    "\n",
    "    fig.add_trace(\n",
    "        go.Pie(values = [plt10, plt11 - plt10], \n",
    "        labels = ['succeed', 'fail']),\n",
    "        1, 2)\n",
    "    fig.update_traces(hoverinfo='label+percent', textinfo='value', textfont_size=20,\n",
    "                  marker=dict(colors=colors, line=dict(color='#000000', width=2)))\n",
    "    fig.update_layout(title_text=bi_title,\n",
    "    width=900,\n",
    "    height=400,\n",
    "    margin=dict(l=10, r=10, t=50, b=20),\n",
    "    paper_bgcolor=\"LightSteelBlue\",)\n",
    "\n",
    "    return fig\n",
    " "
   ]
  },
  {
   "cell_type": "code",
   "execution_count": null,
   "metadata": {},
   "outputs": [],
   "source": [
    "\n",
    "# plt10 = sum(df['contract_signed_opportunity_num'])  # win\n",
    "# plt11 = sum(df['total_opportunity_num']) # 整体的商机成功率.a\n",
    "# plot_pie(plt10, plt11,  \"整体的商机本年成功率\\t\\n 成功数量\")\n"
   ]
  },
  {
   "cell_type": "code",
   "execution_count": 450,
   "metadata": {},
   "outputs": [],
   "source": [
    "# plt12 = df.query(\"total_opportunity_num > 0 & if_cooped == 1\")['annual_average_revenue'].sum() # win\n",
    "# plt13 = df['annual_average_revenue'].sum()\n",
    "# plot_pie(plt12, plt13,  \"整体的商机本年成功金额占比 \\t\\n 成功金额\")"
   ]
  },
  {
   "cell_type": "code",
   "execution_count": 90,
   "metadata": {},
   "outputs": [],
   "source": [
    "plt20 = df.query(\"old_cust == 1 & if_cooped == 1 & total_opportunity_num > 0\").shape[0] \n",
    "plt21 = df.query(\"old_cust == 1 & total_opportunity_num > 0\").shape[0] \n",
    "# 0.592375366568915 旧客户留存率。\n",
    "plot_pie(plt20, plt21, '老客户留存率 \\n\\t 老客户留存数')\n",
    "\n",
    "plt30 = df.query(\"old_cust == 1 & total_opportunity_num > 0 \")['contract_signed_opportunity_num'].sum()\n",
    "plt31 = df.query(\"old_cust == 1 & total_opportunity_num > 0 \")['total_opportunity_num'].sum() \n",
    "plot_pie(plt30, plt31,  \"商机level: 老客本年商机成功率\\t\\n 成功数量\")\n",
    "\n",
    "\n",
    "\n",
    "plt30 = df.query(\"old_cust == 1 & total_opportunity_num > 0 & if_cooped == 1\")['annual_average_revenue'].sum()\n",
    "plt31 = df.query(\"old_cust == 1 & total_opportunity_num > 0 \")['annual_average_revenue'].sum() \n",
    "plot_pie(plt30, plt31,  \"商机level: 老客本年成功金额占比 \\t\\n 成功金额\")\n",
    "\n"
   ]
  },
  {
   "cell_type": "code",
   "execution_count": 263,
   "metadata": {},
   "outputs": [],
   "source": [
    "# df.query(\"old_cust == 0 & total_opportunity_num > 0 & \")['total_opportunity_num'].sum() "
   ]
  },
  {
   "cell_type": "code",
   "execution_count": 91,
   "metadata": {},
   "outputs": [],
   "source": [
    "# [df.query(\"old_cust == 1\")['total_opportunity_num'].sum(), df.query(\"old_cust == 1\")['total_opportunity_num'].sum() / sum(df['total_opportunity_num'])]\n",
    "plt32 = df.query(\"old_cust == 0 & total_opportunity_num > 0\")['contract_signed_opportunity_num'].sum() \n",
    "plt33 = df.query(\"old_cust == 0 & total_opportunity_num > 0\")['total_opportunity_num'].sum()  # xinke zong \n",
    "plot_pie(plt32, plt33, '商机level: 新客户本年商机成功率 \\n\\t 新客户本年商机成功数')\n",
    "\n",
    "plt36 = df.query(\"old_cust == 0 & total_opportunity_num > 0 & if_cooped == 1\")['annual_average_revenue'].sum()\n",
    "plt37 = df.query(\"old_cust == 0 & total_opportunity_num > 0\")['annual_average_revenue'].sum()  # xinke zong \n",
    "plot_pie(plt36, plt37, '商机level: 新客户本年成功金额占比 \\t\\n 成功金额')"
   ]
  },
  {
   "cell_type": "code",
   "execution_count": 476,
   "metadata": {},
   "outputs": [
    {
     "name": "stderr",
     "output_type": "stream",
     "text": [
      "C:\\Users\\DSCSHA~1\\AppData\\Local\\Temp/ipykernel_37772/3523455288.py:2: SettingWithCopyWarning:\n",
      "\n",
      "\n",
      "A value is trying to be set on a copy of a slice from a DataFrame.\n",
      "Try using .loc[row_indexer,col_indexer] = value instead\n",
      "\n",
      "See the caveats in the documentation: https://pandas.pydata.org/pandas-docs/stable/user_guide/indexing.html#returning-a-view-versus-a-copy\n",
      "\n"
     ]
    }
   ],
   "source": [
    "plt38 = op.query(\"opportunity_record == 'New Business'\")\n",
    "plt38['annual_average_gross_profit'] = plt38['annual_average_gross_profit'].astype(float)\n",
    "plt38 = plt38.sort_values('annual_average_gross_profit', ascending=False).head(30)\n",
    "# px.bar(plt38, x = 'account_name_en', y = 'annual_average_gross_profit')"
   ]
  },
  {
   "cell_type": "code",
   "execution_count": 499,
   "metadata": {},
   "outputs": [],
   "source": [
    "# plt39 = op.fillna(0).query(\"opportunity_record != 0 & opportunity_record != 'BCA Not Required'\")\n",
    "# # plt39 = plt39[plt39['annual_average_gross_profit'].str.contains('[azAZ]').fillna(True)] \n",
    "# plt39 = plt39[plt39['annual_average_gross_profit'].str.match('(\\d+\\.)').fillna(False)]\n",
    "# plt39['annual_average_gross_profit'] = plt39['annual_average_gross_profit'].astype(float)\n",
    "# plt39 = plt39.sort_values('annual_average_gross_profit', ascending=False).head(30)\n",
    "# px.bar(plt39, x = 'account_name_en', y = 'annual_average_gross_profit', color = 'opportunity_record')\n"
   ]
  },
  {
   "cell_type": "markdown",
   "metadata": {},
   "source": [
    "---\n",
    "# 客户"
   ]
  },
  {
   "cell_type": "code",
   "execution_count": 28,
   "metadata": {},
   "outputs": [],
   "source": [
    "plt42 = len(set(np.intersect1d(cus_bf_21, cus_af_21)))\n",
    "plt43 = len(cus_af_21)\n",
    "\n",
    "plot_pie(plt42, plt43, '客户level :  本年有商机的老客占比 \\n\\t 老客户数')\n",
    "# \"\"\"# [341, 717]  今年出现的过往的客户 vs 今年的所有\"\"\""
   ]
  },
  {
   "cell_type": "code",
   "execution_count": 30,
   "metadata": {},
   "outputs": [],
   "source": [
    "plt40 = df.query(\"old_cust == 0 & total_opportunity_num > 0 & if_cooped == 1\")['customer_name'].nunique()\n",
    "plt41 = df.query(\"old_cust == 0 & total_opportunity_num > 0\")['customer_name'].nunique()\n",
    "plot_pie(plt40, plt41, '客户level :  客户转化率 \\n\\t 客户转化数')\n"
   ]
  },
  {
   "cell_type": "markdown",
   "metadata": {},
   "source": [
    "** 从年初到现在  总体 annual_average_revenue**"
   ]
  },
  {
   "cell_type": "code",
   "execution_count": 55,
   "metadata": {},
   "outputs": [
    {
     "data": {
      "text/plain": [
       "16164700.52"
      ]
     },
     "execution_count": 55,
     "metadata": {},
     "output_type": "execute_result"
    }
   ],
   "source": [
    "a0 = df['annual_average_revenue'].sum() ;a0"
   ]
  },
  {
   "cell_type": "markdown",
   "metadata": {},
   "source": [
    "** 从年初到现在新增的客户为我们带来的 annual_average_revenue 收益 **"
   ]
  },
  {
   "cell_type": "code",
   "execution_count": 324,
   "metadata": {},
   "outputs": [
    {
     "data": {
      "text/plain": [
       "28914133.0"
      ]
     },
     "execution_count": 324,
     "metadata": {},
     "output_type": "execute_result"
    }
   ],
   "source": [
    "a1 = df.query(\"old_cust == 0 & total_opportunity_num > 0 & if_cooped == 1\")['annual_average_revenue'].sum();a1*100"
   ]
  },
  {
   "cell_type": "markdown",
   "metadata": {},
   "source": [
    "** 从年初到现在老的客户为我们带来的新的商机的 annual_average_revenue 收益 **"
   ]
  },
  {
   "cell_type": "code",
   "execution_count": 325,
   "metadata": {},
   "outputs": [
    {
     "data": {
      "text/plain": [
       "614776910.0"
      ]
     },
     "execution_count": 325,
     "metadata": {},
     "output_type": "execute_result"
    }
   ],
   "source": [
    "b = df.query(\"old_cust == 1 & total_opportunity_num > 0 & if_cooped == 1\")['annual_average_revenue'].sum();b*100"
   ]
  },
  {
   "cell_type": "code",
   "execution_count": 56,
   "metadata": {},
   "outputs": [
    {
     "data": {
      "text/plain": [
       "0.3982078370110132"
      ]
     },
     "execution_count": 56,
     "metadata": {},
     "output_type": "execute_result"
    }
   ],
   "source": [
    "(a1 + b )/ a0 # 百分之四十的金额 被得到."
   ]
  },
  {
   "cell_type": "markdown",
   "metadata": {},
   "source": [
    "--- \n",
    "## ci"
   ]
  },
  {
   "cell_type": "code",
   "execution_count": 41,
   "metadata": {},
   "outputs": [],
   "source": [
    "opp = op[['account_name_en','annual_average_gross_profit_base', 'annual_average_gross_profit',\n",
    "        'annual_average_revenue_base', 'annual_average_revenue',\n",
    "        'bg', 'contract_term', 'milestone', 'opportunity_record', 'product1', 'sector', 'contract_value',\n",
    "        'commission', 'fivem_customer']]  \n",
    "opp = opp.fillna(0)\n",
    "opp = opp[opp['contract_term'] < 60]\n",
    "# op['contract_value_log'] = np.log(op['contract_value'])\n",
    "opp = opp[opp['contract_term'] != 0] "
   ]
  },
  {
   "cell_type": "code",
   "execution_count": 35,
   "metadata": {},
   "outputs": [],
   "source": [
    "# opp = op\n",
    "mst_list = ['Contract Signed', 'Closed-Canceled', 'Closed-Lost']\n",
    "sctr_list = ['Other', 0]\n",
    "prodc_list = [0]\n",
    "\n",
    "# opp = opp[opp['milestone'].isin(mst_list)]\n",
    "# opp = opp[~opp['sector'].isin(sctr_list)]\n",
    "# opp = opp[~opp['product1'].isin(prodc_list)]\n",
    "\n",
    "opp = opp[opp['contract_value'] != 0]\n",
    "opp['contract_value_log'] = np.log(op['contract_value'])\n",
    "px.scatter(opp, x = 'contract_term', y = 'contract_value_log',\\\n",
    "     color=\"sector\", trendline = 'ols')\n"
   ]
  },
  {
   "cell_type": "code",
   "execution_count": 67,
   "metadata": {},
   "outputs": [],
   "source": [
    "import statsmodels.formula.api as smf\n",
    "# smf.ols('contract_value ~ contract_term + product1', data = op).fit().summary()\n"
   ]
  },
  {
   "cell_type": "markdown",
   "metadata": {},
   "source": [
    "`商机金额大小与转化率的关系。 c 不显著#`"
   ]
  },
  {
   "cell_type": "code",
   "execution_count": 78,
   "metadata": {},
   "outputs": [
    {
     "name": "stdout",
     "output_type": "stream",
     "text": [
      "Optimization terminated successfully.\n",
      "         Current function value: 0.679574\n",
      "         Iterations 5\n"
     ]
    },
    {
     "data": {
      "text/html": [
       "<table class=\"simpletable\">\n",
       "<caption>Logit Regression Results</caption>\n",
       "<tr>\n",
       "  <th>Dep. Variable:</th>      <td>win_or_loss</td>   <th>  No. Observations:  </th>  <td>  5079</td>  \n",
       "</tr>\n",
       "<tr>\n",
       "  <th>Model:</th>                 <td>Logit</td>      <th>  Df Residuals:      </th>  <td>  5077</td>  \n",
       "</tr>\n",
       "<tr>\n",
       "  <th>Method:</th>                 <td>MLE</td>       <th>  Df Model:          </th>  <td>     1</td>  \n",
       "</tr>\n",
       "<tr>\n",
       "  <th>Date:</th>            <td>Wed, 08 Dec 2021</td> <th>  Pseudo R-squ.:     </th> <td>0.0001876</td>\n",
       "</tr>\n",
       "<tr>\n",
       "  <th>Time:</th>                <td>18:32:38</td>     <th>  Log-Likelihood:    </th> <td> -3451.6</td> \n",
       "</tr>\n",
       "<tr>\n",
       "  <th>converged:</th>             <td>True</td>       <th>  LL-Null:           </th> <td> -3452.2</td> \n",
       "</tr>\n",
       "<tr>\n",
       "  <th>Covariance Type:</th>     <td>nonrobust</td>    <th>  LLR p-value:       </th>  <td>0.2551</td>  \n",
       "</tr>\n",
       "</table>\n",
       "<table class=\"simpletable\">\n",
       "<tr>\n",
       "         <td></td>           <th>coef</th>     <th>std err</th>      <th>z</th>      <th>P>|z|</th>  <th>[0.025</th>    <th>0.975]</th>  \n",
       "</tr>\n",
       "<tr>\n",
       "  <th>Intercept</th>      <td>   -0.3250</td> <td>    0.029</td> <td>  -11.256</td> <td> 0.000</td> <td>   -0.382</td> <td>   -0.268</td>\n",
       "</tr>\n",
       "<tr>\n",
       "  <th>contract_value</th> <td>-8.588e-07</td> <td> 8.37e-07</td> <td>   -1.026</td> <td> 0.305</td> <td> -2.5e-06</td> <td> 7.81e-07</td>\n",
       "</tr>\n",
       "</table>"
      ],
      "text/plain": [
       "<class 'statsmodels.iolib.summary.Summary'>\n",
       "\"\"\"\n",
       "                           Logit Regression Results                           \n",
       "==============================================================================\n",
       "Dep. Variable:            win_or_loss   No. Observations:                 5079\n",
       "Model:                          Logit   Df Residuals:                     5077\n",
       "Method:                           MLE   Df Model:                            1\n",
       "Date:                Wed, 08 Dec 2021   Pseudo R-squ.:               0.0001876\n",
       "Time:                        18:32:38   Log-Likelihood:                -3451.6\n",
       "converged:                       True   LL-Null:                       -3452.2\n",
       "Covariance Type:            nonrobust   LLR p-value:                    0.2551\n",
       "==================================================================================\n",
       "                     coef    std err          z      P>|z|      [0.025      0.975]\n",
       "----------------------------------------------------------------------------------\n",
       "Intercept         -0.3250      0.029    -11.256      0.000      -0.382      -0.268\n",
       "contract_value -8.588e-07   8.37e-07     -1.026      0.305    -2.5e-06    7.81e-07\n",
       "==================================================================================\n",
       "\"\"\""
      ]
     },
     "execution_count": 78,
     "metadata": {},
     "output_type": "execute_result"
    }
   ],
   "source": [
    "# 商机金额大小与转化率的关系。 c\n",
    "# df = df[(df['milestone'] != 'Early Lead') & (df['milestone'] != 'Potential Opportunity')]\n",
    "def load_opp(df):\n",
    "     df['win_or_loss'] = 0\n",
    "     df['win_or_loss'] = df['win_or_loss'].where(df['milestone']  != 'Contract Signed', 1)\n",
    "     df = df.fillna(0)\n",
    "     # 删除有汉字的。\n",
    "     df = df[~df['annual_average_gross_profit'].str.contains('[azAZ]').fillna(False)]\n",
    "     df = df[~df['annual_average_revenue'].str.contains('[azAZ]').fillna(False)]\n",
    "     return df\n",
    "opp = load_opp(opp)\n",
    "smf.logit(formula = \"win_or_loss ~ contract_value \", data = opp).fit().summary()"
   ]
  },
  {
   "cell_type": "code",
   "execution_count": 50,
   "metadata": {},
   "outputs": [
    {
     "data": {
      "text/plain": [
       "array(['Contract Signed', 'Closed-Canceled', 'Early Lead', 'Qualified',\n",
       "       'Closed-Lost', 'Opportunity Gain', 'Shortlisted',\n",
       "       'Potential Opportunity', 'DCI Conducted', 'Peer Review'],\n",
       "      dtype=object)"
      ]
     },
     "execution_count": 50,
     "metadata": {},
     "output_type": "execute_result"
    }
   ],
   "source": [
    "opp['milestone'].unique()"
   ]
  },
  {
   "cell_type": "code",
   "execution_count": 108,
   "metadata": {},
   "outputs": [],
   "source": [
    "violin\n",
    "# px.violin(x = opp['win_or_loss'], y =  np.log(opp['contract_value']), \\\n",
    "#     points=\"all\", color = opp['win_or_loss'], box = True )"
   ]
  },
  {
   "cell_type": "markdown",
   "metadata": {},
   "source": [
    "### open shangji \n",
    "> open 商机可能带来 3565583.7480000006 的收入."
   ]
  },
  {
   "cell_type": "code",
   "execution_count": 87,
   "metadata": {},
   "outputs": [
    {
     "data": {
      "text/plain": [
       "3565583.7480000006"
      ]
     },
     "execution_count": 87,
     "metadata": {},
     "output_type": "execute_result"
    }
   ],
   "source": [
    "# go.Figure(go.Sunburst(\n",
    "#     labels=[ \"Cain\", \"Seth\", \"Enos\", \"Noam\", \"Abel\", \"Awan\", \"Enoch\", \"Azura\"],\n",
    "#     parents=[  \"Eve\", \"Eve\", \"Seth\", \"Seth\", \"Eve\", \"Eve\", \"Awan\", \"Eve\" ],\n",
    "#     values=[  14, 12, 10, 2, 6, 6, 4, 4],\n",
    "# ))\n",
    "\n",
    "opp[~opp['milestone'].isin(mst_list)]['annual_average_revenue'].astype(float).sum() * .4\n",
    "\n",
    "open 商机可能带来 3565583.7480000006 的收入."
   ]
  },
  {
   "cell_type": "markdown",
   "metadata": {},
   "source": [
    "---\n",
    "# sap"
   ]
  },
  {
   "cell_type": "code",
   "execution_count": 317,
   "metadata": {},
   "outputs": [],
   "source": [
    "import pandas as pd\n",
    "import re\n",
    "import os\n",
    "import numpy as np\n",
    "import matplotlib.pyplot as plt\n",
    "import seaborn as sns\n",
    "\n",
    "os.getcwd()\n",
    "sap = pd.read_csv('./dws_dsc_customer_operation_monthly_kpi.csv', sep = '\\001')\n",
    "# op = pd.read_csv('dwd_dsc_d365_opportunity_df.csv', sep = '\\001')\n",
    "sap.columns = [re.sub('\\w+\\.', '', i) for i in list(sap.columns)] \n",
    "sap = sap.fillna(0)\n",
    "sap['ytm_cogs'] = sap['ytm_income_amt'] - sap['ytm_gross_profit_amt']\n",
    "sap['ytm_gp_margin'] = sap['ytm_gross_profit_amt'] / sap['ytm_income_amt'] \n",
    "sap['ytm_gp_margin'].replace([-np.inf, np.inf],  0, inplace = True)\n",
    "# sap= sap.query('ytm_gp_margin > -3 & ytm_gp_margin < 3 ') \n",
    "# df.columns "
   ]
  },
  {
   "cell_type": "code",
   "execution_count": 116,
   "metadata": {},
   "outputs": [],
   "source": [
    "# # def plot_pie(plt10, plt11,  bi_title, **kwargs):\n",
    "# #     \"\"\"\n",
    "# #     成功, 总和, \n",
    "# #     \"\"\"\n",
    "# #     colors = ['gold', 'mediumturquoise', 'darkorange', 'lightgreen']\n",
    "# #     fig = make_subplots(rows=1, cols=2, specs=[[{'type':'domain'}, {'type':'domain'}]])\n",
    "    \n",
    "# #     fig.add_trace(\n",
    "# #         go.Pie(values = [round(plt10 / plt11, 2), 1- round(plt10 / plt11, 2)], \n",
    "# #         labels = ['succeed', 'fail']),\n",
    "# #         1, 1)\n",
    "\n",
    "# #     fig.add_trace(\n",
    "# #         go.Pie(values = [plt10, plt11 - plt10], \n",
    "# #         labels = ['succeed', 'fail']),\n",
    "# #         1, 2)\n",
    "# #     fig.update_traces(hoverinfo='label+percent', textinfo='value', textfont_size=20,\n",
    "# #                   marker=dict(colors=colors, line=dict(color='#000000', width=2)))\n",
    "# #     fig.update_layout(title_text=bi_title,\n",
    "# #     width=900,\n",
    "# #     height=400,\n",
    "# #     margin=dict(l=10, r=10, t=50, b=20),\n",
    "# #     paper_bgcolor=\"LightSteelBlue\",)\n",
    "\n",
    "# #     return fig\n",
    "# sap_ly = pd.concat([sap[['customer_name', 'bg_code', 'year', 'month', 'account_name_cn',\n",
    "#        'geographical_location', 'industry', 'ou_num']], \n",
    "#        sap[pd.Series(sap.columns)[pd.Series(sap.columns).str.contains('^ly')]]], axis = 1)\n",
    "# sap_ly['year'] = 2020\n",
    "# sap_ty = sap.iloc[:,0:28]\n",
    "# sap_ly.columns = sap_ty.columns\n",
    "# sap_long = pd.concat([sap_ty, sap_ly], axis = 0).drop(['month', 'account_name_cn',\n",
    "#        'geographical_location', 'industry', 'ou_num'], axis = 1)"
   ]
  },
  {
   "cell_type": "code",
   "execution_count": 322,
   "metadata": {},
   "outputs": [
    {
     "name": "stderr",
     "output_type": "stream",
     "text": [
      "C:\\Users\\DSCSHA~1\\AppData\\Local\\Temp/ipykernel_37772/3892181128.py:6: RuntimeWarning:\n",
      "\n",
      "divide by zero encountered in log\n",
      "\n"
     ]
    }
   ],
   "source": [
    "sap_plt = sap[~sap['customer_name'].str.contains('ISC').fillna(False)]\n",
    "sap_plt = sap_plt[sap_plt['customer_name'] != 0]\n",
    "from sklearn.preprocessing import MinMaxScaler\n",
    "scaler = MinMaxScaler() \n",
    "scaled = scaler.fit_transform(np.array(sap_plt['ytm_income_amt']).reshape(-1,1))\n",
    "sap_plt['ytm_income_amt_scaled'] = np.log(scaled)\n",
    "sap_plt['abs_ytm_income_amt'] = np.abs(sap_plt['ytm_income_amt'])\n",
    "sap_plt= sap_plt.query('ytm_gp_margin > -3 & ytm_gp_margin < 3 ') \n",
    "# sap_plt = sap_plt.query(\"income_amt_scaled > -4\")"
   ]
  },
  {
   "cell_type": "code",
   "execution_count": 398,
   "metadata": {},
   "outputs": [],
   "source": [
    "def bubble_plt(plot_data, x, color):\n",
    "    if x == 'scaled':\n",
    "        x = 'ytm_income_amt_scaled'\n",
    "        vline = np.log(scaler.transform(np.array(10000000).reshape(-1,1)))[0][0]\n",
    "    else:\n",
    "        x = 'ytm_income_amt'\n",
    "        vline = 10000000\n",
    "    # y = y\n",
    "    fig = px.scatter(\n",
    "        data_frame= plot_data, x = x, y= 'ytm_gp_margin', hover_data=['customer_name'],\n",
    "        size = 'abs_ytm_income_amt', color = color, title='gross_profit_margin against income, customer level')  \n",
    "    \n",
    "    fig.add_hline(y = .06, line_width=3, line_dash=\"dash\", line_color=\"black\", opacity = .4,\\\n",
    "        annotation_text=\"2021 <br> GP_margin .06 <br><br />  \" , \n",
    "        annotation_position=\"top right\", annotation_opacity = .4, col = 1)\n",
    "    fig.add_vline(x = vline, line_width=3, line_dash=\"dash\", line_color=\"black\", opacity = .4)\n",
    "    return fig\n",
    "# bubble_plt(sap_plt, 'x',  'customer_type')"
   ]
  },
  {
   "cell_type": "code",
   "execution_count": 330,
   "metadata": {},
   "outputs": [],
   "source": [
    "# bubble_plt(sap_plt, 'scaled', 'labor_fee_rate') # 人力成本高中低，对应的客户，其利润率有无显著差异？说明什么? "
   ]
  },
  {
   "cell_type": "code",
   "execution_count": 408,
   "metadata": {},
   "outputs": [],
   "source": [
    "# 按人力成本占总成本占比，高中低客户分布如何？\n",
    "# sap['labor_fee_rate']\n",
    "\n",
    "smf.ols('labor_fee_rate ~ customer_type', data = sap).fit().summary()\n"
   ]
  },
  {
   "cell_type": "code",
   "execution_count": 405,
   "metadata": {},
   "outputs": [
    {
     "data": {
      "text/html": [
       "<table class=\"simpletable\">\n",
       "<caption>OLS Regression Results</caption>\n",
       "<tr>\n",
       "  <th>Dep. Variable:</th>      <td>ytm_gp_margin</td>  <th>  R-squared:         </th> <td>   0.000</td> \n",
       "</tr>\n",
       "<tr>\n",
       "  <th>Model:</th>                   <td>OLS</td>       <th>  Adj. R-squared:    </th> <td>  -0.003</td> \n",
       "</tr>\n",
       "<tr>\n",
       "  <th>Method:</th>             <td>Least Squares</td>  <th>  F-statistic:       </th> <td> 0.06155</td> \n",
       "</tr>\n",
       "<tr>\n",
       "  <th>Date:</th>             <td>Wed, 08 Dec 2021</td> <th>  Prob (F-statistic):</th>  <td> 0.804</td>  \n",
       "</tr>\n",
       "<tr>\n",
       "  <th>Time:</th>                 <td>21:33:14</td>     <th>  Log-Likelihood:    </th> <td> -13778.</td> \n",
       "</tr>\n",
       "<tr>\n",
       "  <th>No. Observations:</th>      <td>   365</td>      <th>  AIC:               </th> <td>2.756e+04</td>\n",
       "</tr>\n",
       "<tr>\n",
       "  <th>Df Residuals:</th>          <td>   363</td>      <th>  BIC:               </th> <td>2.757e+04</td>\n",
       "</tr>\n",
       "<tr>\n",
       "  <th>Df Model:</th>              <td>     1</td>      <th>                     </th>     <td> </td>    \n",
       "</tr>\n",
       "<tr>\n",
       "  <th>Covariance Type:</th>      <td>nonrobust</td>    <th>                     </th>     <td> </td>    \n",
       "</tr>\n",
       "</table>\n",
       "<table class=\"simpletable\">\n",
       "<tr>\n",
       "      <td></td>         <th>coef</th>     <th>std err</th>      <th>t</th>      <th>P>|t|</th>  <th>[0.025</th>    <th>0.975]</th>  \n",
       "</tr>\n",
       "<tr>\n",
       "  <th>Intercept</th> <td>-3.334e+14</td> <td> 3.24e+14</td> <td>   -1.029</td> <td> 0.304</td> <td> -9.7e+14</td> <td> 3.04e+14</td>\n",
       "</tr>\n",
       "<tr>\n",
       "  <th>labor_fee</th> <td>   3.4e+08</td> <td> 1.37e+09</td> <td>    0.248</td> <td> 0.804</td> <td>-2.36e+09</td> <td> 3.04e+09</td>\n",
       "</tr>\n",
       "</table>\n",
       "<table class=\"simpletable\">\n",
       "<tr>\n",
       "  <th>Omnibus:</th>       <td>862.169</td> <th>  Durbin-Watson:     </th>  <td>   2.006</td>  \n",
       "</tr>\n",
       "<tr>\n",
       "  <th>Prob(Omnibus):</th> <td> 0.000</td>  <th>  Jarque-Bera (JB):  </th> <td>1991693.422</td>\n",
       "</tr>\n",
       "<tr>\n",
       "  <th>Skew:</th>          <td>-19.022</td> <th>  Prob(JB):          </th>  <td>    0.00</td>  \n",
       "</tr>\n",
       "<tr>\n",
       "  <th>Kurtosis:</th>      <td>362.880</td> <th>  Cond. No.          </th>  <td>2.44e+05</td>  \n",
       "</tr>\n",
       "</table><br/><br/>Notes:<br/>[1] Standard Errors assume that the covariance matrix of the errors is correctly specified.<br/>[2] The condition number is large, 2.44e+05. This might indicate that there are<br/>strong multicollinearity or other numerical problems."
      ],
      "text/plain": [
       "<class 'statsmodels.iolib.summary.Summary'>\n",
       "\"\"\"\n",
       "                            OLS Regression Results                            \n",
       "==============================================================================\n",
       "Dep. Variable:          ytm_gp_margin   R-squared:                       0.000\n",
       "Model:                            OLS   Adj. R-squared:                 -0.003\n",
       "Method:                 Least Squares   F-statistic:                   0.06155\n",
       "Date:                Wed, 08 Dec 2021   Prob (F-statistic):              0.804\n",
       "Time:                        21:33:14   Log-Likelihood:                -13778.\n",
       "No. Observations:                 365   AIC:                         2.756e+04\n",
       "Df Residuals:                     363   BIC:                         2.757e+04\n",
       "Df Model:                           1                                         \n",
       "Covariance Type:            nonrobust                                         \n",
       "==============================================================================\n",
       "                 coef    std err          t      P>|t|      [0.025      0.975]\n",
       "------------------------------------------------------------------------------\n",
       "Intercept  -3.334e+14   3.24e+14     -1.029      0.304    -9.7e+14    3.04e+14\n",
       "labor_fee     3.4e+08   1.37e+09      0.248      0.804   -2.36e+09    3.04e+09\n",
       "==============================================================================\n",
       "Omnibus:                      862.169   Durbin-Watson:                   2.006\n",
       "Prob(Omnibus):                  0.000   Jarque-Bera (JB):          1991693.422\n",
       "Skew:                         -19.022   Prob(JB):                         0.00\n",
       "Kurtosis:                     362.880   Cond. No.                     2.44e+05\n",
       "==============================================================================\n",
       "\n",
       "Notes:\n",
       "[1] Standard Errors assume that the covariance matrix of the errors is correctly specified.\n",
       "[2] The condition number is large, 2.44e+05. This might indicate that there are\n",
       "strong multicollinearity or other numerical problems.\n",
       "\"\"\""
      ]
     },
     "execution_count": 405,
     "metadata": {},
     "output_type": "execute_result"
    }
   ],
   "source": [
    "smf.ols('ytm_gp_margin ~ labor_fee_rate', data = sap).fit().summary() #labor_fee"
   ]
  },
  {
   "cell_type": "markdown",
   "metadata": {},
   "source": [
    "6 down\n"
   ]
  },
  {
   "cell_type": "code",
   "execution_count": 409,
   "metadata": {},
   "outputs": [],
   "source": [
    "df_plt = df.merge(sap[['labor_fee_rate','labor_fee', 'customer_type', 'customer_name', 'ytm_gp_margin', 'ytm_gross_profit_amt']], on = 'customer_name')"
   ]
  },
  {
   "cell_type": "code",
   "execution_count": 411,
   "metadata": {},
   "outputs": [],
   "source": [
    "# Q1到Q4不同类别的客户，商机成功率有无显著差异？\n",
    "# 人力成本不同的客户，商机成功率有无显著差异？\n",
    "\n",
    "\n",
    "# px.scatter(data_frame= df_plt, x = 'labor_fee', y= 'opportunity_win_rate', hover_data=['customer_name'], \n",
    "#         size = 'labor_fee', color = 'customer_type', title='人力费用, 商机胜率, 客户类型')  \n",
    "\n",
    "\n",
    "\n",
    "# px.violin(x = df_plt['customer_type'], y =  df_plt['labor_fee_rate'], \\\n",
    "#     points=\"all\", color = df_plt['customer_type'], box = True )\n",
    "\n",
    "\n",
    "    \n",
    "# px.violin(x = df_plt['customer_type'], y =  df_plt['opportunity_win_rate'], \\\n",
    "#     points=\"all\", color = df_plt['customer_type'], box = True )"
   ]
  },
  {
   "cell_type": "code",
   "execution_count": 353,
   "metadata": {},
   "outputs": [],
   "source": [
    "# 客户类型 人力成本\n",
    "# smf.ols('labor_fee_rate ~ customer_type-1', data = df_plt).fit().summary()"
   ]
  },
  {
   "cell_type": "code",
   "execution_count": 394,
   "metadata": {},
   "outputs": [],
   "source": [
    "# 客户类型, / 人力成本 商机胜率\n",
    "\n",
    "smf.ols('opportunity_win_rate ~   customer_type - 1 ', data = df_plt).fit().summary()\n",
    "smf.ols('opportunity_win_rate ~  labor_fee_rate  - 1 ', data = df_plt).fit().summary()"
   ]
  },
  {
   "cell_type": "code",
   "execution_count": 413,
   "metadata": {},
   "outputs": [],
   "source": [
    "# 人力成本占比越高的业务，越可能产生高的利润? yes\n",
    "# smf.ols('ytm_gross_profit_amt ~ labor_fee_rate-1 ', data = df_plt).fit().summary() #labor_fee"
   ]
  },
  {
   "cell_type": "markdown",
   "metadata": {},
   "source": []
  },
  {
   "cell_type": "code",
   "execution_count": 357,
   "metadata": {},
   "outputs": [],
   "source": [
    "# p7"
   ]
  },
  {
   "cell_type": "code",
   "execution_count": 401,
   "metadata": {},
   "outputs": [],
   "source": [
    "# sap_plt['customer_type'].value_counts()"
   ]
  },
  {
   "cell_type": "code",
   "execution_count": 370,
   "metadata": {},
   "outputs": [],
   "source": [
    "px.bar(data_frame= sap_plt, x = 'customer_type',  hover_data=['customer_name'], \n",
    "    color = 'customer_type', title='customer type count')  \n",
    "\n",
    "# Q4    133\n",
    "# Q3     80\n",
    "# 0      47\n",
    "# Q1     46\n",
    "# Q2     44"
   ]
  },
  {
   "cell_type": "code",
   "execution_count": 417,
   "metadata": {},
   "outputs": [],
   "source": [
    "# p9\n",
    "# bubble_plt(sap_plt, 'scaled', 'is_operation') # has_vas \n",
    "# df_plt['has_vas']"
   ]
  },
  {
   "cell_type": "code",
   "execution_count": 440,
   "metadata": {},
   "outputs": [],
   "source": [
    "# 不同仓储客户的分类\n",
    "# 有无仓储业务，其利润率高低，有无显著差异？\n",
    "# 不同仓储业务类型的客户，利润率有无显著差异？\n",
    "# fee_type\n",
    "\n",
    "# smf.ols('ytm_gross_profit_amt ~ is_operation', data = sap).fit().summary() #ytm_gross_profit_amt\n",
    "\n",
    "# smf.ols('ytm_gross_profit_amt ~ has_vas  ', data = sap).fit().summary() "
   ]
  },
  {
   "cell_type": "code",
   "execution_count": 443,
   "metadata": {},
   "outputs": [],
   "source": [
    "# sap.columns"
   ]
  },
  {
   "cell_type": "code",
   "execution_count": 447,
   "metadata": {},
   "outputs": [],
   "source": [
    "\n",
    "# 不同象限WMS客户，其inbound/outbound量是否有显著区别？\n",
    "# smf.ols(\n",
    "#     'ytm_gross_profit_amt ~ inbound_line_count +\\\n",
    "#          inbound_receive_qty + outbound_line_count + outbound_shipped_qty ' # + stock_turn_monthly + location_usage_rate\n",
    "#          , data = sap).fit().summary()\n",
    "\n",
    "# smf.ols('ytm_gross_profit_amt ~ has_vas  ', data = sap).fit().summary()"
   ]
  }
 ],
 "metadata": {
  "interpreter": {
   "hash": "47b50d2908d96196e4220cfb4e81faa93803065ea975497e7026f672c1f58470"
  },
  "kernelspec": {
   "display_name": "Python 3.8.8 64-bit ('siming': conda)",
   "language": "python",
   "name": "python3"
  },
  "language_info": {
   "codemirror_mode": {
    "name": "ipython",
    "version": 3
   },
   "file_extension": ".py",
   "mimetype": "text/x-python",
   "name": "python",
   "nbconvert_exporter": "python",
   "pygments_lexer": "ipython3",
   "version": "3.8.8"
  },
  "orig_nbformat": 4
 },
 "nbformat": 4,
 "nbformat_minor": 2
}

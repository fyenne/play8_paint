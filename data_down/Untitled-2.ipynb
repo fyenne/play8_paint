{
 "cells": [
  {
   "cell_type": "code",
   "execution_count": 1,
   "metadata": {},
   "outputs": [],
   "source": [
    "import pandas as pd\n",
    "import re\n",
    "import os\n",
    "import numpy as np "
   ]
  },
  {
   "cell_type": "code",
   "execution_count": 72,
   "metadata": {},
   "outputs": [],
   "source": [
    "inc = pd.read_csv('./inc.csv', sep = '\\001')\n",
    "cc = pd.read_csv('./cc.csv', sep = '\\001')\n",
    "def col_na(op):\n",
    "    op.columns = [re.sub('\\w+\\.', '', i) for i in list(op.columns)]\n",
    "    return op"
   ]
  },
  {
   "cell_type": "code",
   "execution_count": 45,
   "metadata": {},
   "outputs": [],
   "source": [
    "# inc = col_na(inc)\n",
    "# cc = col_na(cc)\n",
    "# cc.columns = ['cost_center', 'sap_customer']\n",
    "# inc.query(\"cost_center == 'ACCURBJTDD'\")"
   ]
  },
  {
   "cell_type": "code",
   "execution_count": 73,
   "metadata": {},
   "outputs": [],
   "source": [
    "inc = col_na(inc)\n",
    "cc = col_na(cc)\n",
    "cc.columns = ['cost_center', 'sap_customer']\n",
    "# inc = inc.merge(cc, on = 'cost_center', how = 'inner')\n",
    "# inc = inc[~inc['sap_customer'].isna()]"
   ]
  },
  {
   "cell_type": "code",
   "execution_count": 88,
   "metadata": {},
   "outputs": [
    {
     "data": {
      "text/plain": [
       "3325810961.4700003"
      ]
     },
     "execution_count": 88,
     "metadata": {},
     "output_type": "execute_result"
    }
   ],
   "source": [
    "dwd_dsc_finance_income_statement_sum_mi[dwd_dsc_finance_income_statement_sum_mi.groupby('cost_center')['month'].transform('min') >= 202012] ['income'].sum()"
   ]
  },
  {
   "cell_type": "code",
   "execution_count": 75,
   "metadata": {},
   "outputs": [
    {
     "data": {
      "text/plain": [
       "array(['HDLEPSZHDS', 'MTDIGNTTRW', 'STARBSHHTS', ..., 'YUWELJSTRT',\n",
       "       'ZATSXSHTRT', 'ZJCOCWHGDG'], dtype=object)"
      ]
     },
     "execution_count": 75,
     "metadata": {},
     "output_type": "execute_result"
    }
   ],
   "source": [
    "inc[inc.groupby('cost_center')['month'].transform('min') <= 202101]['cost_center'].unique()"
   ]
  },
  {
   "cell_type": "code",
   "execution_count": null,
   "metadata": {},
   "outputs": [],
   "source": []
  },
  {
   "cell_type": "code",
   "execution_count": null,
   "metadata": {},
   "outputs": [],
   "source": []
  },
  {
   "cell_type": "code",
   "execution_count": 48,
   "metadata": {},
   "outputs": [],
   "source": [
    "# 最小小于界限的ou\n",
    "ti = inc[inc.groupby('cost_center')['month'].transform('min') <= 202101]['cost_center'].unique()\n",
    "ti1 = cc[cc['cost_center'].isin(ti)]['sap_customer'].unique()"
   ]
  },
  {
   "cell_type": "code",
   "execution_count": 49,
   "metadata": {},
   "outputs": [],
   "source": [
    "inc_gi = inc[inc.groupby('cost_center')['month'].transform('min') > 202101]"
   ]
  },
  {
   "cell_type": "code",
   "execution_count": 69,
   "metadata": {},
   "outputs": [],
   "source": [
    "out = inc_gi[~inc_gi['sap_customer'].isin(ti1)]"
   ]
  },
  {
   "cell_type": "code",
   "execution_count": 71,
   "metadata": {},
   "outputs": [
    {
     "data": {
      "text/plain": [
       "cost_center                AEON2SSW3TBREMBWXIHSDGABNSHTRDHILTISHTRTKUKAXW...\n",
       "year                                                                  370026\n",
       "month                                                               37002783\n",
       "period                                                                   183\n",
       "currency                   HKDCNYCNYCNYCNYCNYCNYCNYHKDCNYCNYCNYCNYCNYCNYC...\n",
       "net_profit                                                      -32591991.09\n",
       "gross_profit                                                    -32591991.09\n",
       "tax                                                                      0.0\n",
       "income                                                         -105140735.58\n",
       "total_cost                                                      -72548744.49\n",
       "hr_cost                                                           -792690.43\n",
       "outsource_labor_cost                                             -3987618.29\n",
       "outsource_business_cost                                          -1164358.41\n",
       "inc_day                                                             37002783\n",
       "sap_customer               AEON (HC & B2C)BremboDolce & GabbanaHiltiKUKAW...\n",
       "dtype: object"
      ]
     },
     "execution_count": 71,
     "metadata": {},
     "output_type": "execute_result"
    }
   ],
   "source": [
    "out[out['month'] == 202201].sum()"
   ]
  }
 ],
 "metadata": {
  "interpreter": {
   "hash": "47b50d2908d96196e4220cfb4e81faa93803065ea975497e7026f672c1f58470"
  },
  "kernelspec": {
   "display_name": "Python 3.8.8 64-bit ('siming': conda)",
   "language": "python",
   "name": "python3"
  },
  "language_info": {
   "codemirror_mode": {
    "name": "ipython",
    "version": 3
   },
   "file_extension": ".py",
   "mimetype": "text/x-python",
   "name": "python",
   "nbconvert_exporter": "python",
   "pygments_lexer": "ipython3",
   "version": "3.8.8"
  },
  "orig_nbformat": 4
 },
 "nbformat": 4,
 "nbformat_minor": 2
}

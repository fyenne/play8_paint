{
 "cells": [
  {
   "cell_type": "code",
   "execution_count": null,
   "metadata": {},
   "outputs": [],
   "source": [
    "\"\"\"\n",
    "download data without empty ou, when select\n",
    "['bca_cc_cust_rel.csv',\n",
    " 'bca_without_mail.csv',\n",
    " 'dwd_dsc_d365_contract_df.csv',\n",
    " 'dwd_dsc_d365_opportunity_df.csv',\n",
    " 'dwd_dsc_finance_estimate_summary_di.csv',\n",
    " 'dwd_dsc_hr_cost_dtl.csv',\n",
    " 'dwd_fact_warehouse_billing_detail_dtl.csv'] \n",
    "\"\"\"\n",
    "import pandas as pd\n",
    "import re, os \n",
    "import datetime\n",
    "import plotly.express as px\n",
    "import plotly.graph_objects as go\n",
    "import numpy as np\n",
    "import warnings\n",
    "from fyenn_class import pd_loaddata\n",
    "warnings.filterwarnings(\"ignore\")\n",
    "# os.listdir('./data_down')\n",
    "pd.set_option(\"display.max_rows\", 15, \"display.max_columns\", None, 'display.float_format', lambda x: '%.3f' % x)\n",
    "# pd.set_option()\n"
   ]
  },
  {
   "cell_type": "code",
   "execution_count": null,
   "metadata": {},
   "outputs": [],
   "source": [
    "# read data\n",
    "df_oppa = pd.read_csv('./data_down/' + 'dwd_dsc_d365_opportunity_df.csv', sep = '\\001') \n",
    "# df_esti = pd.read_csv('./data_down/' + 'dwd_dsc_finance_estimate_summary_di.csv', sep = '\\001') \n",
    "# df_cost = pd.read_csv('./data_down/' + 'dwd_dsc_hr_cost_dtl.csv', sep = '\\001') \n",
    "# df_bill = pd.read_csv('./data_down/' + 'dwd_fact_warehouse_billing_detail_dtl.csv', sep = '\\001') \n",
    "# df_bcaw = pd.read_csv('./data_down/' + 'bca_without_mail.csv', sep = '\\001') \n",
    "rel = pd.read_csv('./data_down/' + 'bca_cc_cust_rel.csv') \n",
    "# df_bill_type = pd.read_csv('./data_down/' + 'dim_dsc_billing_type_info.csv', sep = '\\001') \n",
    "\"\"\"\n",
    "pic part data\n",
    "\"\"\"\n",
    "sap_fina = pd.read_csv('./data_down/' + 'smart_hr_pl_0l.csv', sep = '\\001') \n",
    "sap_fina['mm'] = [str(i).zfill(2) for i in sap_fina['mm']]\n",
    "sap_fina['yrmon'] = sap_fina[['yy', 'mm']].astype(str).apply(lambda x: ''.join(x), axis = 1)\n",
    "# levin_table = pd.read_excel('./data_down/' + 'OU_Segementation2.xlsx', sheet_name = 2) \n",
    "# for i in os.listdir('./data_down'): \n",
    "#     print(re.findall( '\\w+', i)[0])\n",
    "#     df = pd.read_csv('./data_down/' + i, sep = '\\001') \n",
    "def colname_modi(df):\n",
    "    df.columns = [ re.sub('^\\w+\\.{1}', '', i) for i in list(df.columns)]\n",
    "\n",
    "for i in [df_oppa, ]: #df_bill, df_bill_type, df_esti,  df_cost\n",
    "    try:\n",
    "        colname_modi(i)\n",
    "    except:\n",
    "        pass\n",
    "del i\n",
    "# rel = rel.drop(['SAP Customer', 'Finance Remark'], axis=1)\n",
    "\n",
    "rel = rel[~rel['SAP Cost Center'].str.match('中|国')] \n",
    "rel.columns = ['cc_in_ou', 'sap_cust', 'bca', 'account_name_en']\n",
    "rel['five_cc'] = rel['cc_in_ou'].str.slice(0,5)\n",
    "rel2 = rel[['cc_in_ou', 'sap_cust', 'bca', 'five_cc']].merge(\n",
    "    rel[['account_name_en', 'five_cc']].query(\"account_name_en != '(blank)'\"\n",
    "    ), on = 'five_cc', how = 'left').drop_duplicates()\n",
    "rel2 = rel2.sort_values(['account_name_en', 'bca']).drop_duplicates(subset = 'cc_in_ou')\n",
    "\n",
    "cc = pd_loaddata.pd_excel('./data_down/DSC成本中心_Complete', 0)\n",
    "cc = cc.iloc[1:, [4,12]]\n",
    "cc.columns = ['bg', 'cc_mapper']\n",
    "cc['bg'] = cc['bg'].str.extract('(\\w+$)')\n",
    "\n",
    "\n",
    "# rel = pd_loaddata.pd_excel('./data_down/BCA与CC对照表_20211209', 1)\n",
    "# rel.columns = list(rel.iloc[0])\n",
    "# rel = rel.iloc[1:,]\n"
   ]
  },
  {
   "cell_type": "code",
   "execution_count": null,
   "metadata": {},
   "outputs": [],
   "source": [
    "\"\"\"\n",
    "my functions.\n",
    "to customer level. functions set up.\n",
    "\"\"\"\n",
    "def data_clean(df, substr_year, **kwargs):\n",
    "    \"\"\"\n",
    "    where u can set for month/year level.\n",
    "    \"\"\"\n",
    "    df = df[~df['account_name_en'].isna()]\n",
    "    df[substr_year] = df[substr_year].astype(str).str.slice(0,4) \n",
    "    df = df.groupby(['account_name_en', 'sap_cust', substr_year]).agg({\n",
    "        **kwargs\n",
    "    })\n",
    "    df = df.rename({substr_year: 'month'}, axis = 1)\n",
    "    return df \n",
    "\n",
    "def to_cust_level(df,  substr_year, **kwargs):\n",
    "    \"\"\"\n",
    "    (df,  substr_year, **kwargs) 必须要有ou_code or cost_center!! \n",
    "    merge all to cust level \\\n",
    "        to_cust_level(df,  substr_year, **kwargs):\n",
    "    \"\"\"\n",
    "    try:\n",
    "        df1 = df.merge(rel2, left_on = 'ou_code', right_on = 'cc_in_ou', how  ='left')\n",
    "    except:\n",
    "        df1 = df.merge(rel2, left_on = 'cost_center', right_on = 'cc_in_ou', how  ='left')\n",
    "    return data_clean(df1, substr_year,  **kwargs)\n",
    "\n",
    "    \n",
    "\"\"\"\n",
    "opportunity select cols.\n",
    "\"\"\"\n",
    "\n",
    "def oppo_mas(op):\n",
    "    \"\"\"\n",
    "    opportunity select cols.\n",
    "    \"\"\"\n",
    "    columns = [\n",
    "        'opportunity_number', 'account_name_en', 'account_name_cn', \n",
    "        'actual_close_date', 'createdon', 'expected_golive_date', \n",
    "        'annual_average_gross_profit','annual_average_revenue', 'bca_ref_number', 'bg', 'commission', \n",
    "        'contract_end_date', 'contract_term', \n",
    "        'milestone', 'opportunity_type', 'product1', 'product2','product3','product4', 'sector', 'territory',\n",
    "        'contract_value', 'salesperson1', 'salesperson2', 'salesperson3', 'salesperson4'\n",
    "        ]\n",
    "    op = op[columns]\n",
    "    \n",
    "    def mon_mani(op, col):\n",
    "        \"\"\"钱多点\"\"\"\n",
    "        op = op[op[col].astype(str).str.match('(\\d+\\.)').fillna(False)]\n",
    "        op[col] = op[col].astype(float) * 1000    \n",
    "        return op  \n",
    "    for i in ['contract_value', 'annual_average_revenue', 'annual_average_gross_profit']:\n",
    "        op = mon_mani(op, i)\n",
    "    \n",
    "    def op_cals(sap):\n",
    "        \"\"\"\n",
    "        对op 内的财务数据进行sap相似处理.\n",
    "        \"\"\"\n",
    "        sap['cogs'] = sap['annual_average_revenue'] - sap['annual_average_gross_profit']\n",
    "        sap['gp_margin'] = sap['annual_average_gross_profit'] / sap['annual_average_revenue'] \n",
    "        sap['gp_margin'].replace([-np.inf, np.inf],  0, inplace = True)\n",
    "        return sap\n",
    "    op = op_cals(op)\n",
    "\n",
    "    def time_mani(op, col):\n",
    "        \"\"\"\n",
    "        时间格式化.\n",
    "        \"\"\"\n",
    "        op[col] = op[col].str.slice(0,10).fillna(pd.NaT) \n",
    "        op[col] = pd.to_datetime(op[col])\n",
    "        return op\n",
    "\n",
    "    for i in ['actual_close_date', 'createdon', 'expected_golive_date', 'contract_end_date']:\n",
    "        op = time_mani(op, i)\n",
    "\n",
    "    \n",
    "    op = op[~op['account_name_en'].str.contains('Freight Forwarding ').fillna(False)]\n",
    "    op = op[op['account_name_en'] != 'Freight Forwarding Customer']\n",
    "    # 删除同一批次导入的数据. 第一次.\n",
    "    op['time_var'] = op['actual_close_date'] - op['createdon'] \n",
    "    op['time_var'] = op['time_var'].astype(str).str.extract('(\\d+)').fillna(0).astype(int)\n",
    "\n",
    "    return op\n",
    "    "
   ]
  },
  {
   "cell_type": "code",
   "execution_count": null,
   "metadata": {},
   "outputs": [],
   "source": [
    "# \"\"\"\n",
    "# ~billing~\n",
    "# bill detail table now having 50+ bms_types. which is unacceptalble/\n",
    "# \"\"\"\n",
    "# def data_load_bms():\n",
    "#     df = df_bill.copy()\n",
    "#     df['month'] = df['bms_bill_end_date'].astype(str).str.slice(0,6) \n",
    "#     df = df.merge(df_bill_type, left_on = 'bms_fee_type', right_on = 'billing_fee_type_code', how = 'left')\n",
    "#     bms = df.pivot_table(index= ['cost_center', 'month'],\\\n",
    "#         columns= 'category',\n",
    "#         values='bms_amount',).reset_index().fillna(0)\n",
    "#     return bms\n",
    "# bms = data_load_bms()\n",
    "# bms['yr'] = bms['month'].str.slice(0,4)\n",
    "# bms_cus_yr = to_cust_level(df = bms, substr_year = 'month' ,\\\n",
    "#     cost_center = set, \n",
    "#     人力 = 'sum',\n",
    "#     场地 = 'sum',\n",
    "#     增值 = 'sum',\n",
    "#     报关代理 = 'sum',\n",
    "#     操作 = 'sum',\n",
    "#     短驳运输 = 'sum',\n",
    "#     索赔及返利 = 'sum',\n",
    "#     设备使用 = 'sum' ).reset_index()\n",
    "# bms_cus_yr.head(2)"
   ]
  },
  {
   "cell_type": "markdown",
   "metadata": {},
   "source": [
    "### finish load\n",
    "---\n"
   ]
  },
  {
   "cell_type": "markdown",
   "metadata": {},
   "source": [
    "> some opportunity analysis"
   ]
  },
  {
   "cell_type": "code",
   "execution_count": null,
   "metadata": {},
   "outputs": [],
   "source": [
    "# op = oppo_mas(df_oppa)\n",
    "# op['mont_code'] = op['expected_golive_date'].astype(str).str.slice(0,7).str.replace('-', '')\n",
    "# # op.head(2)\n",
    "# op['prodct'] = op[['product1','product2', 'product3', 'product4']].astype(str).apply(lambda x: ','.join(x), axis = 1)\n",
    "# op['prodct'] = op['prodct'].str.replace(',nan', '')\n",
    "# op = op.drop(['product1','product2', 'product3', 'product4'], axis = 1)\n",
    "# op['commission'] = op['commission'].replace('TRUE', 1).replace('FALSE', 0)\n",
    "# # # from sklearn.preprocessing import MinMaxScaler\n",
    "# # # scaler = MinMaxScaler() \n",
    "# # plt_cs = op[op['milestone'] == 'Contract Signed']\n",
    "# # def bubble_plt(plot_data, color):\n",
    "# #     fig = px.scatter(\n",
    "# #         data_frame= plot_data, x = 'annual_average_revenue', y= 'time_var', hover_data=['account_name_en'],\n",
    "# #         size = 'annual_average_gross_profit', color = color, title='  ')  \n",
    "# #     # fig.add_vline(x = vline, line_width=3, line_dash=\"dash\", line_color=\"black\", opacity = .4)\n",
    "# #     return fig\n",
    "# # # bubble_plt(plt_cs,   'sector')\n",
    "# # op2"
   ]
  },
  {
   "cell_type": "markdown",
   "metadata": {},
   "source": [
    "---\n",
    "# opdata\n",
    "\"\"\"manipulation\"\"\""
   ]
  },
  {
   "cell_type": "code",
   "execution_count": null,
   "metadata": {},
   "outputs": [],
   "source": [
    "import datetime\n",
    "import calendar\n",
    "from tqdm import tqdm\n",
    "op = oppo_mas(df_oppa)\n",
    "def op_more(op):\n",
    "    op['mont_code'] = op['expected_golive_date'].astype(str).str.slice(0,7).str.replace('-', '')\n",
    "    # op.head(2)\n",
    "    op['prodct'] = op[['product1','product2', 'product3', 'product4']].astype(str).apply(lambda x: ','.join(x), axis = 1)\n",
    "    op['sales'] = op[['salesperson1','salesperson2', 'salesperson3', 'salesperson4']].astype(str).apply(lambda x: ','.join(x), axis = 1)\n",
    "    op['prodct'] = op['prodct'].str.replace(',nan', '')\n",
    "    op['sales'] = op['sales'].str.replace(',nan', '')\n",
    "\n",
    "    op = op.drop(['product1','product2', 'product3', 'product4'], axis = 1)\n",
    "    op = op.drop(['salesperson1','salesperson2', 'salesperson3', 'salesperson4'], axis = 1)\n",
    "\n",
    "    op['commission'] = op['commission'].replace('TRUE', 1).replace('FALSE', 0)\n",
    "    return op\n",
    "op = op_more(op).merge(rel[['account_name_en', 'cc_in_ou']], on = 'account_name_en', how = 'inner')\n"
   ]
  },
  {
   "cell_type": "code",
   "execution_count": null,
   "metadata": {},
   "outputs": [],
   "source": [
    "op2 = op[op['milestone'] == 'Contract Signed']\n",
    "\"\"\"\n",
    "以月份为组的sum? 这里合理吗?\n",
    "\"\"\"\n",
    "op2 = op2.groupby(['account_name_en', 'account_name_cn', 'bg', 'mont_code', 'opportunity_number', 'cc_in_ou']).agg({\n",
    "    'commission':sum,\n",
    "    'annual_average_gross_profit' :sum, \n",
    "    'annual_average_revenue' :sum, \n",
    "    'contract_term' :sum, \n",
    "    'contract_value' :sum, \n",
    "    'prodct': set,\n",
    "    'sales':set\n",
    "}).reset_index()\n",
    "op2['mon_to_yrend'] = (op2['mont_code'].str.slice(0,4) + '12').astype(int) - op2['mont_code'].astype(int)\n",
    "monlist = [\n",
    "    'annual_average_gross_profit',\n",
    "    'annual_average_revenue',\n",
    "    # 'contract_term',\n",
    "    'contract_value',] \n",
    "\n",
    "op2['mont_code'] = op2['mont_code']+'01'\n",
    "\n",
    "\n",
    "def add_months(sourcedate, months):\n",
    "    \"\"\"\n",
    "    make duplicates\n",
    "    \"\"\"\n",
    "    month = sourcedate.month - 1 + months\n",
    "    year = sourcedate.year + month // 12\n",
    "    month = month % 12 + 1\n",
    "    day = min(sourcedate.day, calendar.monthrange(year,month)[1])\n",
    "    return datetime.date(year, month, day).strftime('%Y%m')\n",
    "# add_months(pd.to_datetime(op2['mont_code'])[0] ,1) \n",
    "q = []\n",
    "for i, j in zip(pd.to_datetime(op2['mont_code']), op2['contract_term'].astype(int)):\n",
    "    q.append( add_months(i, j))\n",
    "op2['end_mont_code'] = q\n",
    "op2['mon_to_yrend_future'] = (\n",
    "    op2['end_mont_code'].astype(str).str.slice(0,4) + '12').astype(int) - op2['end_mont_code'].astype(int)\n"
   ]
  },
  {
   "cell_type": "code",
   "execution_count": null,
   "metadata": {},
   "outputs": [],
   "source": [
    "# df_oppa.sort_values('account_name_en')"
   ]
  },
  {
   "cell_type": "code",
   "execution_count": null,
   "metadata": {},
   "outputs": [],
   "source": [
    "op2['dupli'] = op2['end_mont_code'].str.slice(0,4).astype(int) - op2['mont_code'].str.slice(0,4).astype(int)\n",
    "tst = pd.DataFrame()\n",
    "for i, j in tqdm(zip(range(op2.shape[0]), op2['dupli'])):\n",
    "    \"\"\"\n",
    "    复制第一条数据, 产生每年年化收益.\n",
    "    \"\"\"\n",
    "    try:\n",
    "        tst = tst.append(pd.concat([pd.DataFrame(op2.iloc[i, :]).T] * int(j)))\n",
    "    except:\n",
    "        pass\n",
    "\n",
    "\n",
    "for i in tqdm(monlist):\n",
    "    \"\"\"\n",
    "    第一条数据已经转化为实际年收入\n",
    "    \"\"\"\n",
    "    name = i\n",
    "    op2[name] = op2[i].astype(float) / 12 * op2['mon_to_yrend']"
   ]
  },
  {
   "cell_type": "code",
   "execution_count": null,
   "metadata": {},
   "outputs": [],
   "source": [
    "\"\"\"\n",
    "除掉第一年数据.\n",
    "\"\"\"\n",
    "tst['row_num'] = tst.groupby(['account_name_en', 'mont_code','annual_average_gross_profit']).cumcount() + 1\n",
    "tst['mont_code'] = tst['mont_code'].str.slice(0,4).astype(int) + tst['row_num'].astype(int)\n",
    "op2['mont_code'] = op2['mont_code'].str.slice(0,4).astype(int)\n",
    "\"\"\"\n",
    "中间年\n",
    "\"\"\"\n",
    "mid_yrs = tst.groupby([\n",
    "    'account_name_en', 'contract_term', 'annual_average_gross_profit'], as_index=False\n",
    "    ).apply(lambda x: x.iloc[:-1])\n",
    "\n",
    "\"\"\"\n",
    "结束年\n",
    "\"\"\"\n",
    "end_yrs = tst.groupby([\n",
    "    'account_name_en', 'contract_term', 'annual_average_gross_profit'], as_index=False\n",
    "    ).apply(lambda x: x.iloc[-1])\n",
    "\n",
    "for i in tqdm(monlist):\n",
    "    \"\"\"\n",
    "    结束年数据已经转化为实际年收入\n",
    "    \"\"\"\n",
    "    name = i\n",
    "    end_yrs[name] = end_yrs[i].astype(float) / 12 * (12 - end_yrs['mon_to_yrend'])"
   ]
  },
  {
   "cell_type": "code",
   "execution_count": null,
   "metadata": {},
   "outputs": [],
   "source": [
    "\"\"\"\n",
    "concat all yrs to one\n",
    "\"\"\"\n",
    "op_all = pd.concat([op2, mid_yrs, end_yrs]).sort_values(\n",
    "    ['account_name_en', 'mont_code']\n",
    "    ).reset_index(\n",
    "\n",
    "    ).drop_duplicates(subset = monlist + ['mont_code'])\n",
    "op_all = op_all.drop('index', axis = 1)"
   ]
  },
  {
   "cell_type": "code",
   "execution_count": null,
   "metadata": {},
   "outputs": [],
   "source": [
    "# duplicated might caused by the rows who are first and last at the same time.? \n",
    "# not sure about it , but never mind since the value of these amount is short.\n",
    "# sap.head(4)\n",
    "# op_all"
   ]
  },
  {
   "cell_type": "code",
   "execution_count": null,
   "metadata": {},
   "outputs": [],
   "source": [
    "op_all['prodct'] =[' '.join(i) for i in op_all['prodct']]\n",
    "op_all['sales'] =[' '.join(i) for i in op_all['sales']]\n",
    "\"\"\"\n",
    "年粒度\n",
    "\"\"\"\n",
    "op_all = op_all.groupby(['account_name_en', 'account_name_cn', 'bg', 'mont_code', 'cc_in_ou']).agg(\n",
    "    {\n",
    "    'commission':sum,\n",
    "    'annual_average_gross_profit' :sum, \n",
    "    'annual_average_revenue' :sum, \n",
    "    'contract_term' :'mean', \n",
    "    'contract_value' :sum, \n",
    "    'prodct': set  ,\n",
    "    'sales': set,\n",
    "    'opportunity_number': [set, 'count'],\n",
    "    }\n",
    ").reset_index()\n",
    "op_all[('prodct', 'set')] = [';'.join(i) for i in op_all[('prodct', 'set')]]\n",
    "op_all[('sales', 'set')] = [';'.join(i) for i in op_all[('sales', 'set')]]"
   ]
  },
  {
   "cell_type": "code",
   "execution_count": null,
   "metadata": {},
   "outputs": [],
   "source": [
    "op_all.columns = op_all.columns.droplevel(1)\n",
    "list = op_all.columns.values\n",
    "list[-1] = 'opportunity_number_num'\n",
    "op_all.columns = list\n",
    "del list\n",
    "# del df_bill, df_bill_type, df_esti, i, j\n",
    "# del q, op, op2, tst, mid_yrs, end_yrs\n",
    "# del tst2"
   ]
  },
  {
   "cell_type": "markdown",
   "metadata": {},
   "source": [
    "`===========================`\n",
    "<br>\n",
    "`merge sap`"
   ]
  },
  {
   "cell_type": "code",
   "execution_count": null,
   "metadata": {},
   "outputs": [],
   "source": [
    "\"\"\"\n",
    "~sap~\n",
    "\"\"\"\n",
    "def load_data_sap():\n",
    "    df = sap_fina.copy()\n",
    "    df = df.rename({'prctr': 'cost_center'}, axis =1 )\n",
    "    return df\n",
    "\n",
    "sap_fina = load_data_sap()\n",
    "\n",
    "# sap = to_cust_level(sap_fina, 'yrmon', \\\n",
    "#     cost_center = set, \n",
    "#     income_amt = sum,\n",
    "#     gross_profit_amt = sum,\n",
    "#     human_cost_amt = sum, \n",
    "#     service_outsourcing_amt = sum,\n",
    "#     labor_service_outsourcing_amt = sum\n",
    " \n",
    "#     ).reset_index()\n",
    "    \n",
    "# sap = sap.rename({'yrmon':'mont_code'}, axis =1 )\n",
    "# sap['lb_cost'] = sap.iloc[:, -3:].sum(axis = 1)\n",
    "# sap.head(3)\n",
    "sap_fina = sap_fina.rename({'yrmon':'mont_code'}, axis =1 )\n",
    "sap = sap_fina\n",
    "sap['cc_mapper'] = sap['cost_center'].str.slice(0,10)\n",
    "sap = sap.merge(cc, on = 'cc_mapper', how = 'inner') \n",
    "sap['bg'] = sap['bg'].replace('香港', 'HK')\n",
    "sap = sap.merge(rel2.drop(['bca', 'five_cc'], axis = 1).drop_duplicates(), left_on='cost_center', right_on='cc_in_ou', how = 'inner')"
   ]
  },
  {
   "cell_type": "code",
   "execution_count": null,
   "metadata": {},
   "outputs": [],
   "source": [
    "\"\"\"\n",
    "多行op 匹配单行的sap  \n",
    "时间节点要用 actual go live 的yr. 对应当月的sap财务状况.\n",
    "cc level modified\n",
    "\"\"\"\n",
    "sap['mont_code'] = sap['mont_code'].astype(int)\n",
    "# sap['cost_center'] = [','.join(i) for i in sap['cost_center']]\n",
    "\n",
    "sap = sap.groupby(['account_name_en', 'cost_center', 'sap_cust', 'yy', 'bg']).agg(\n",
    "    {\n",
    "        # 'cost_center': set, \n",
    "        'income_amt': sum,\n",
    "        'gross_profit_amt': sum, \n",
    "        'human_cost_amt': sum, \n",
    "        'service_outsourcing_amt': sum,\n",
    "        'labor_service_outsourcing_amt': sum, \n",
    "        # 'lb_cost': sum\n",
    "    }\n",
    ").reset_index()\n",
    "\n",
    "# sap['cost_center'] = [','.join(i) for i in sap['cost_center']]\n",
    "sap['mont_code'] = sap['yy']"
   ]
  },
  {
   "cell_type": "code",
   "execution_count": null,
   "metadata": {},
   "outputs": [],
   "source": [
    "op_all= op_all.rename({'cc_in_ou':'cost_center'}, axis =1 )"
   ]
  },
  {
   "cell_type": "code",
   "execution_count": null,
   "metadata": {},
   "outputs": [],
   "source": [
    "sap.head(2)"
   ]
  },
  {
   "cell_type": "code",
   "execution_count": null,
   "metadata": {},
   "outputs": [],
   "source": [
    "# op_all.sort_values('account_name_en').head(22)"
   ]
  },
  {
   "cell_type": "code",
   "execution_count": null,
   "metadata": {},
   "outputs": [],
   "source": [
    "# sap[sap['account_name_en'] .str.contains('Abb').fillna(False)]"
   ]
  },
  {
   "cell_type": "code",
   "execution_count": null,
   "metadata": {},
   "outputs": [],
   "source": [
    "# op_all[op_all['account_name_en'].str.contains('Abb').fillna(False)]"
   ]
  },
  {
   "cell_type": "code",
   "execution_count": null,
   "metadata": {},
   "outputs": [],
   "source": [
    "###\n",
    "op_all"
   ]
  },
  {
   "cell_type": "code",
   "execution_count": null,
   "metadata": {},
   "outputs": [],
   "source": [
    "\n",
    "# merge prepared\n",
    "op_sap = op_all.merge(\n",
    "    sap, on = ['account_name_en', 'mont_code', 'bg', 'cost_center'], how = 'right'\n",
    "    ).sort_values(['account_name_en','cost_center', 'mont_code']);op_sap.shape\n",
    "\n"
   ]
  },
  {
   "cell_type": "code",
   "execution_count": null,
   "metadata": {},
   "outputs": [],
   "source": [
    "# op_sap.to_csv('./data_up/opp_all_sap.csv', index = None, encoding = 'utf_8_sig')"
   ]
  },
  {
   "cell_type": "code",
   "execution_count": null,
   "metadata": {},
   "outputs": [],
   "source": [
    "# op_all.to_csv('./data_up/op_all.csv', index = False, encoding = 'utf_8_sig')\n",
    "# sap.to_csv('./data_up/sap.csv', index = False, encoding = 'utf_8_sig')\n",
    "# op_sap_bg_summary.to_csv('./data_up/op_sap_bg_sum.csv', index = False, encoding = 'utf_8_sig')"
   ]
  },
  {
   "cell_type": "code",
   "execution_count": null,
   "metadata": {},
   "outputs": [],
   "source": [
    "op_sap = op_sap.groupby(['account_name_en','account_name_cn','bg', 'mont_code', 'sap_cust'], as_index=False).agg(\n",
    "    {   \n",
    "        'commission':'mean',\n",
    "        'annual_average_gross_profit' :'mean', \n",
    "        'annual_average_revenue' :'mean', \n",
    "        'contract_term' :'mean', \n",
    "        'contract_value' :'mean', \n",
    "        'prodct': 'first'  ,\n",
    "        'sales': 'first', # 仅取第一个sales 和第一个product set\n",
    "        # 'opportunity_number': [set, 'count'],\n",
    "        'income_amt': sum,\n",
    "        'gross_profit_amt': sum, \n",
    "        'human_cost_amt': sum, \n",
    "        'service_outsourcing_amt': sum,\n",
    "        'labor_service_outsourcing_amt': sum, \n",
    "    }\n",
    ")"
   ]
  },
  {
   "cell_type": "code",
   "execution_count": null,
   "metadata": {},
   "outputs": [],
   "source": [
    "op_sap = op_sap[~op_sap['annual_average_gross_profit'].isna()]\n",
    "op_sap['gp_est_over_real'] = op_sap['annual_average_gross_profit'] / op_sap['gross_profit_amt']\n",
    "op_sap['rev_est_over_real'] = op_sap['annual_average_revenue'] / op_sap['income_amt']\n",
    "op_sap = op_sap[~op_sap['prodct'].str.contains('Freight Forwarding').fillna(False)]\n",
    "monlist_all = monlist + ['income_amt', 'gross_profit_amt']"
   ]
  },
  {
   "cell_type": "code",
   "execution_count": null,
   "metadata": {},
   "outputs": [],
   "source": [
    "# op_sap.to_csv('./data_up/opp_all_sap_cust_level.csv', index = None, encoding = 'utf_8_sig')"
   ]
  },
  {
   "cell_type": "code",
   "execution_count": null,
   "metadata": {},
   "outputs": [],
   "source": [
    "# op[op['cc_in_ou'] == 'AMATXBJKCS']"
   ]
  },
  {
   "cell_type": "code",
   "execution_count": null,
   "metadata": {},
   "outputs": [],
   "source": [
    "# op_sap"
   ]
  },
  {
   "cell_type": "code",
   "execution_count": null,
   "metadata": {},
   "outputs": [],
   "source": [
    "# op_sap.to_pickle('./data_up/op_sap.p')\n",
    "# op_sap.head(4)\n",
    "# op_sap['account_name_en'].nunique()\n"
   ]
  },
  {
   "cell_type": "code",
   "execution_count": null,
   "metadata": {},
   "outputs": [],
   "source": [
    "op_sap_bg_summary = op_sap.groupby(['bg', 'mont_code'], as_index = False)[monlist_all].sum()\n",
    "op_sap_bg_summary['gp_est_over_real'] = op_sap_bg_summary['annual_average_gross_profit'] / op_sap_bg_summary['gross_profit_amt']\n",
    "op_sap_bg_summary['rev_est_over_real'] = op_sap_bg_summary['annual_average_revenue'] / op_sap_bg_summary['income_amt']"
   ]
  },
  {
   "cell_type": "code",
   "execution_count": null,
   "metadata": {},
   "outputs": [],
   "source": [
    "op_sap_bg_summary_21 = op_sap_bg_summary.query(\"mont_code == 2021 & bg != 'SPD' & bg != 'ZQ'\")\n",
    "plt = op_sap_bg_summary_21"
   ]
  },
  {
   "cell_type": "code",
   "execution_count": null,
   "metadata": {},
   "outputs": [],
   "source": [
    "\n",
    "# plt =op_sap[op_sap['mont_code'] < 202106]\n",
    "# plt[~plt['annual_average_gross_profit'].isna()]\n",
    "fig = go.Figure()\n",
    "\n",
    "# fig.add_trace( go.Bar(x = plt['bg'], y = plt['annual_average_revenue'],\\\n",
    "#     text = (plt['income_amt']/100000000).round(2).astype(str) + '亿\\t' +plt['bg'], name = 'opportunity_rev'))\n",
    "# fig.add_trace( go.Bar(x = plt['bg'], y = plt['income_amt'],\\\n",
    "#     text = (plt['income_amt']/100000000).round(2).astype(str) + '亿\\t' +plt['bg'], name = 'sap_income_amt'))\n",
    "\n",
    "\n",
    "# fig.add_trace(go.Bar(x = plt['bg'], y = plt['annual_average_gross_profit'], \\\n",
    "#     text = (plt['annual_average_gross_profit'].astype(int)/100000000).round(2).astype(str) + '亿\\t' +plt['bg'], name = 'opportunity_gp'))\n",
    " \n",
    "# fig.add_trace(go.Bar(x = plt['bg'], y = plt['gross_profit_amt'], \\\n",
    "#     text = (plt['gross_profit_amt']/100000000).round(2).astype(str) + '\\t' +plt['bg'], name = 'sap_gross_profit_amt'))\n",
    " \n",
    "fig.add_trace(go.Bar(x = plt['bg'], y = plt['gp_est_over_real'], \\\n",
    "    text = plt['gp_est_over_real'].round(2).astype(str) + '\\t' +plt['bg'], name = 'gp_est_over_real'))\n",
    "fig.add_trace( go.Bar(x = plt['bg'], y = plt['rev_est_over_real'],\\\n",
    "    text = plt['rev_est_over_real'].round(2).astype(str) + '\\t' +plt['bg'], name = 'rev_est_over_real'))\n",
    "# fig.write_html('./data_up/bg_proportion.html')"
   ]
  },
  {
   "cell_type": "markdown",
   "metadata": {},
   "source": []
  },
  {
   "cell_type": "code",
   "execution_count": null,
   "metadata": {},
   "outputs": [],
   "source": [
    "# op 全部"
   ]
  },
  {
   "cell_type": "code",
   "execution_count": null,
   "metadata": {},
   "outputs": [],
   "source": [
    "op3 = op[op['milestone'] != 'Contract Signed']\n",
    "op3 = op3[~op3['milestone'].str.contains('(Close)')]\n",
    "op3 = op3[op3['expected_golive_date'] > '2021-12-31']\n",
    "op3 = op3[op3['expected_golive_date'] < '2022-06-30']\n",
    "# op3 = op3.groupby('bg')[monlist].sum().reset_index()\n",
    "# op22 = op_all[op_all['mont_code'] == 2022].groupby(['bg', 'mont_code'])[monlist].sum().reset_index()\n",
    "# op3_22 = pd.concat([op3 , op22], axis = 0).drop('mont_code', axis = 1).groupby('bg', as_index = False).sum()"
   ]
  },
  {
   "cell_type": "code",
   "execution_count": null,
   "metadata": {},
   "outputs": [],
   "source": [
    "# opened\n",
    "op3_old = op3[ op3['account_name_en'].isin(op_all['account_name_en'])]\n",
    "op3_new = op3[~op3['account_name_en'].isin(op_all['account_name_en'])]\n"
   ]
  },
  {
   "cell_type": "code",
   "execution_count": null,
   "metadata": {},
   "outputs": [],
   "source": [
    "df_oppa['milestone'].unique()"
   ]
  },
  {
   "cell_type": "code",
   "execution_count": null,
   "metadata": {},
   "outputs": [],
   "source": [
    "df_oppa['opportunity_type'].unique()"
   ]
  },
  {
   "cell_type": "code",
   "execution_count": null,
   "metadata": {},
   "outputs": [],
   "source": [
    "op['opportunity_type'].unique()"
   ]
  },
  {
   "cell_type": "code",
   "execution_count": null,
   "metadata": {},
   "outputs": [],
   "source": [
    "# opened\n",
    "op_20 = df_oppa[df_oppa['expected_golive_date']<'2020-12-31']\n",
    "op_20_old = op_20[ op_20['account_name_en'].isin(op_20[op_20['milestone'].isin([ \n",
    "       'Contract Signed'])]['account_name_en'])]\n",
    "# op_new = op_20[~op_20['account_name_en'].isin(op_20['account_name_en'])]\n",
    "op_20_new = op_20[ op_20['account_name_en'].isin(op_20[~op_20['milestone'].isin([ \n",
    "       'Contract Signed'])]['account_name_en'])]\n",
    "\n",
    "# 491 1171\n"
   ]
  },
  {
   "cell_type": "code",
   "execution_count": null,
   "metadata": {},
   "outputs": [],
   "source": [
    "def all_op_by_time(condition1, condition2, close_or_open):\n",
    "    \"\"\"\n",
    "    所有的op, 筛选时间. 分类到旧客, 新客.\n",
    "    \"\"\"\n",
    "    op21 = df_oppa[(df_oppa['expected_golive_date']>=condition1) & (df_oppa['expected_golive_date']<=condition2)]\n",
    "    op21_old = op21[op21['account_name_en'].isin(op_20_old['account_name_en'].unique())] \n",
    "    op21_new = op21[~op21['account_name_en'].isin(op_20_old['account_name_en'].unique())] \n",
    "    if close_or_open == 1:\n",
    "        op21_old = op21_old[op21_old['milestone'].isin(['Contract Signed', 'Closed-Canceled', 'Closed-Lost',])]\n",
    "        op21_new = op21_new[op21_new['milestone'].isin(['Contract Signed', 'Closed-Canceled', 'Closed-Lost',])]\n",
    "    else: \n",
    "        op21_old = op21_old[~op21_old['milestone'].isin(['Contract Signed', 'Closed-Canceled', 'Closed-Lost',])]\n",
    "        op21_new = op21_new[~op21_new['milestone'].isin(['Contract Signed', 'Closed-Canceled', 'Closed-Lost',])]\n",
    "    op21_old['annual_average_gross_profit'] = op21_old['annual_average_gross_profit'].astype(float) *1000\n",
    "    op21_new['annual_average_gross_profit'] = op21_new['annual_average_gross_profit'].astype(float) *1000\n",
    "    op21_old['annual_average_revenue'] = op21_old['annual_average_revenue'].astype(float) *1000\n",
    "    op21_new['annual_average_revenue'] = op21_new['annual_average_revenue'].astype(float) *1000\n",
    "    return op21_old , op21_new\n",
    "\n",
    "op21_old = all_op_by_time('2020-12-31', '2021-12-31', 1)[0]\n",
    "op21_new = all_op_by_time('2020-12-31', '2021-12-31', 1)[1]\n",
    "    # op21_new['milestone'].value_counts()\n",
    "    # 182/(253 +182+132)\n",
    "    # op21_old['milestone'] .value_counts()\n",
    "    # 266/ (266 +93+152)\n",
    "    # op21_new\n",
    "\n",
    "def conversion_rate(col, name):\n",
    "    name = name + '_conversion_rate'\n",
    "    op21_old_bg = pd.DataFrame(op21_old.groupby(['bg', 'milestone', 'opportunity_type'])[col].sum())\n",
    "    op21_new_bg = pd.DataFrame(op21_new.groupby(['bg', 'milestone', 'opportunity_type'])[col].sum())\n",
    "    op21_old_bg.columns = [name]\n",
    "    op21_old_bg = op21_old_bg.reset_index()\n",
    "    op21_new_bg.columns = [name]\n",
    "    op21_new_bg = op21_new_bg.reset_index()\n",
    "    op21_old_bg['tt'] = op21_old_bg.groupby('bg')[name].transform( 'sum')\n",
    "    op21_new_bg['tt'] = op21_new_bg.groupby('bg')[name].transform( 'sum')\n",
    "    op21_old_bg[name] = op21_old_bg[name] / op21_old_bg['tt']\n",
    "    op21_new_bg[name] = op21_new_bg[name] / op21_new_bg['tt']\n",
    "    return op21_old_bg, op21_new_bg"
   ]
  },
  {
   "cell_type": "code",
   "execution_count": null,
   "metadata": {},
   "outputs": [],
   "source": [
    "# op21_old = op21_old.merge(op21_old_bg[op21_old_bg['milestone'] == 'Contract Signed'][['bg', 'frac', 'milestone']], on = ['bg', 'milestone'])\n",
    "# op21_new = op21_new.merge(op21_new_bg[op21_new_bg['milestone'] == 'Contract Signed'][['bg', 'frac', 'milestone']], on = ['bg', 'milestone'])\n",
    "# op21_new = op21_new[op21_new['opportunity_record'] != 'Straightforward Renewals']\n",
    "# op21[~op21['milestone'].isin(['Contract Signed', 'Closed-Canceled', 'Closed-Lost',])]\n"
   ]
  },
  {
   "cell_type": "code",
   "execution_count": null,
   "metadata": {},
   "outputs": [],
   "source": [
    "\n",
    "op21_old_bg['type'] = '老客'\n",
    "op21_new_bg['type'] = '新客'\n",
    "\n",
    "pd.concat([op21_old_bg, op21_new_bg]).drop('index', axis = 1)\\\n",
    "    # .to_csv('./data_up/cvrt_rate_21.csv', index= None, encoding = 'utf_8_sig')"
   ]
  },
  {
   "cell_type": "code",
   "execution_count": null,
   "metadata": {},
   "outputs": [],
   "source": [
    "# (op21_old['annual_average_revenue'] * op21_old['frac']).sum() + (op21_new['annual_average_revenue'] * op21_new['frac']).sum()\n",
    "# new_gp\n",
    "# old_rev\n",
    "df = conversion_rate('annual_average_gross_profit', 'rev')[0]\n",
    "df['type'] = 'old'\n",
    "df1 = conversion_rate('annual_average_gross_profit', 'rev')[0]\n",
    "df1['type'] = 'new'\n",
    "pd.concat([df, df1])\\\n",
    "    .to_csv('./data_up/cvrt_rate_21_gp.csv', index= None, encoding = 'utf_8_sig')\n",
    "\n",
    "# conversion_rate('annual_average_revenue', 'rev')[1] "
   ]
  },
  {
   "cell_type": "code",
   "execution_count": null,
   "metadata": {},
   "outputs": [],
   "source": [
    "\n",
    "def convert_22(col):\n",
    "    op22_old = all_op_by_time('2021-12-31', '2024-12-31', 0)[0]\n",
    "    op22_new = all_op_by_time('2021-12-31', '2024-12-31', 0)[1]\n",
    "    old_rev = conversion_rate('annual_average_revenue', 'rev')[0]\n",
    "    new_rev = conversion_rate('annual_average_revenue', 'rev')[1]\n",
    "    old_gp = conversion_rate('annual_average_gross_profit', 'gp')[0]\n",
    "    new_gp = conversion_rate('annual_average_gross_profit', 'gp')[1]\n",
    "    if col == 1:\n",
    "        col1 = 'annual_average_revenue'\n",
    "        col2 = 'rev_conversion_rate'\n",
    "        col3 = 'rev_cvted_22'\n",
    "        old_rev = old_rev\n",
    "        new_rev = new_rev\n",
    "    else:\n",
    "        col1 = 'annual_average_gross_profit'\n",
    "        col2 = 'gp_conversion_rate'\n",
    "        col3 = 'gp_cvted_22'\n",
    "        old_rev = old_gp\n",
    "        new_rev = new_gp\n",
    "    op22_old = pd.DataFrame(op22_old.groupby(['bg', 'opportunity_type'], as_index = False)[col1].sum())\n",
    "    op22_new = pd.DataFrame(op22_new.groupby(['bg', 'opportunity_type'], as_index = False)[col1].sum())\n",
    "    op22_old_converted = op22_old.merge(\n",
    "        old_rev.query(\"milestone == 'Contract Signed'\").drop(['tt', 'milestone'], axis = 1))\n",
    "    op22_old_converted[col3] = op22_old_converted[col1] * op22_old_converted[col2]\n",
    "    op22_new_converted = op22_new.merge(\n",
    "        new_rev.query(\"milestone == 'Contract Signed'\").drop(['tt', 'milestone'], axis = 1))\n",
    "    op22_new_converted[col3] = op22_new_converted[col1] * op22_new_converted[col2]\n",
    "    return op22_old_converted, op22_new_converted\n"
   ]
  },
  {
   "cell_type": "code",
   "execution_count": null,
   "metadata": {},
   "outputs": [],
   "source": [
    "op22_old_rev_converted = convert_22(1)[0]\n",
    "op22_new_rev_converted = convert_22(1)[1]\n",
    "op22_old_gp_converted = convert_22(2)[0]\n",
    "op22_new_gp_converted = convert_22(2)[1]"
   ]
  },
  {
   "cell_type": "code",
   "execution_count": null,
   "metadata": {},
   "outputs": [],
   "source": [
    "\n",
    "\n",
    "op22_old_gp_converted['type'] = 'old'\n",
    "op22_new_gp_converted['type'] = 'new'\n",
    "\n",
    "pd.concat([op22_old_gp_converted, op22_new_gp_converted]) #.drop('index', axis = 1)\\\n",
    "    .to_csv('./data_up/value_cvrtd_22_gp.csv', index= None, encoding = 'utf_8_sig')"
   ]
  },
  {
   "cell_type": "code",
   "execution_count": null,
   "metadata": {},
   "outputs": [],
   "source": [
    "# fig = go.Figure()\n",
    "\n",
    "# # fig.add_trace( go.Bar(x = plt['bg'], y = plt['annual_average_revenue'],\\\n",
    "# #     text = (plt['income_amt']/100000000).round(2).astype(str) + '亿\\t' +plt['bg'], name = 'opportunity_rev'))\n",
    "# # fig.add_trace( go.Bar(x = plt['bg'], y = plt['income_amt'],\\\n",
    "# #     text = (plt['income_amt']/100000000).round(2).astype(str) + '亿\\t' +plt['bg'], name = 'sap_income_amt'))\n",
    "\n",
    "\n",
    "# fig.add_trace(go.Bar(x = plt['bg'], y = plt['annual_average_gross_profit'], \\\n",
    "#     text = (plt['annual_average_gross_profit'].astype(int)/100000000).round(2).astype(str) + '亿\\t' +plt['bg'], name = 'opportunity_gp'))\n",
    " \n",
    "# fig.add_trace(go.Bar(x = plt['bg'], y = plt['gross_profit_amt'], \\\n",
    "#     text = (plt['gross_profit_amt']/100000000).round(2).astype(str) + '\\t' +plt['bg'], name = 'sap_gross_profit_amt'))"
   ]
  },
  {
   "cell_type": "code",
   "execution_count": null,
   "metadata": {},
   "outputs": [],
   "source": [
    "# 全部的\n",
    "sap_fina[sap_fina['yy'] == 2021][['income_amt', 'gross_profit_amt']].sum()"
   ]
  },
  {
   "cell_type": "code",
   "execution_count": null,
   "metadata": {},
   "outputs": [],
   "source": [
    "# 能mapping 到的\n",
    "mapped_21_sap =  op_sap_bg_summary[op_sap_bg_summary['mont_code'] == 2021][['income_amt', 'gross_profit_amt']].sum()\n",
    "# fig = go.Figure(go.Pie(values = [4329535156.610, 7849952033.350 - 4329535156.610], \\\n",
    "#     labels= ['能map', '不能map'], text = ['43.3亿', '35.2亿'],\n",
    "#     name = '在商机与sap的mapping中的金额分布'))\n",
    "# fig.update_layout(\n",
    "#     margin=dict(l=5, r=5, t=5, b=5),\n",
    "#     # paper_bgcolor=\"LightSteelBlue\",a/\n",
    "# )\n",
    "\n"
   ]
  },
  {
   "cell_type": "code",
   "execution_count": null,
   "metadata": {},
   "outputs": [],
   "source": [
    "mapped_21_sap[0]*1.2 - 2952038347 - 2337495730 * .46"
   ]
  },
  {
   "cell_type": "code",
   "execution_count": null,
   "metadata": {},
   "outputs": [],
   "source": [
    "go.Figure(go.Bar(\n",
    "    y =  [2952038347.500], text = 'already had' + '\\n\\t' + str('29.5亿')\n",
    "    )\n",
    "    ).add_trace(\n",
    "        go.Bar(\n",
    "            y =  [2337495730.050], text = 'opened' + '\\n\\t' + str('23.4亿')\n",
    "        )\n",
    "    ).add_trace(\n",
    "        go.Bar(y = [mapped_21_sap[0]*1.2 - 2952038347 - 2337495730 * .46], text = 'to go' + '\\n\\t' + str('11.7亿'))\n",
    "        ) .update_layout(barmode='stack')"
   ]
  },
  {
   "cell_type": "code",
   "execution_count": null,
   "metadata": {},
   "outputs": [],
   "source": [
    "op3_pred = op3_22.merge(plt[['gp_est_over_real', 'rev_est_over_real', 'bg']], on = 'bg')"
   ]
  },
  {
   "cell_type": "code",
   "execution_count": null,
   "metadata": {},
   "outputs": [],
   "source": [
    "op3_pred['pred_annual_average_gross_profit']  = op3_pred['annual_average_gross_profit'] * op3_pred['gp_est_over_real']\n",
    "op3_pred['pred_annual_average_revenue']  = op3_pred['annual_average_revenue'] * op3_pred['rev_est_over_real']"
   ]
  },
  {
   "cell_type": "code",
   "execution_count": null,
   "metadata": {},
   "outputs": [],
   "source": [
    "op3_pred.sum()"
   ]
  },
  {
   "cell_type": "code",
   "execution_count": null,
   "metadata": {},
   "outputs": [],
   "source": [
    "op3_22"
   ]
  },
  {
   "cell_type": "code",
   "execution_count": null,
   "metadata": {},
   "outputs": [],
   "source": [
    "# from fbprophet import Prophet\n",
    "# # df = x[['CREATION_DATE_TIME_STAMP', 'qty']]\n",
    "# df_naiv = x_train \n",
    "# df_naiv = df_naiv.rename({'date1' : 'ds'}, axis = 1)\n",
    "# df_naiv_test = x_test\n",
    "# df_naiv_test = df_naiv_test.rename({'date1' : 'ds'}, axis = 1)\n",
    "# m = Prophet()\n",
    "# [m.add_regressor(i) for i in cols]\n",
    "\n",
    "# m.fit(df_naiv)\n",
    "\n",
    "# # from sklearn.metrics import mean_absolute_percentage_error\n",
    "\n",
    "# # # m.predict(x_test)\n",
    "\n",
    "\n",
    "# def fillna_(col, op_sap):\n",
    "#     name = 'prd_' + col\n",
    "#     op_sap[name] = op_sap.groupby('account_name_en')[col].cumsum()\n",
    "#     op_sap[name]  = op_sap .groupby('account_name_en')[name].fillna(method = 'bfill').fillna(method = 'ffill')\n",
    "#     return op_sap\n",
    "# for i in ['contract_value', 'annual_average_revenue', 'annual_average_gross_profit']:\n",
    "#         op_sap = fillna_(i, op_sap)"
   ]
  },
  {
   "cell_type": "markdown",
   "metadata": {},
   "source": []
  },
  {
   "cell_type": "code",
   "execution_count": null,
   "metadata": {},
   "outputs": [],
   "source": [
    "sales = pd.read_csv('./data_up/opp_all_sap_cust_level.csv')"
   ]
  },
  {
   "cell_type": "code",
   "execution_count": null,
   "metadata": {},
   "outputs": [],
   "source": [
    "# pd.concat([sales, sales['sales'].str.split(',', expand = True)], axis = 1)"
   ]
  },
  {
   "cell_type": "code",
   "execution_count": null,
   "metadata": {},
   "outputs": [],
   "source": [
    "sales = sales.groupby([ 'mont_code', 'sales'], as_index=False).agg(\n",
    "    {   \n",
    "        'account_name_en':set,\n",
    "        'account_name_cn' : set,\n",
    "        'bg' : set,\n",
    "        'sap_cust':set,\n",
    "        'commission':'mean',\n",
    "        'annual_average_gross_profit' :'mean', \n",
    "        'annual_average_revenue' :'mean', \n",
    "        'contract_term' :'mean', \n",
    "        'contract_value' :'mean', \n",
    "        'prodct': 'first'  ,\n",
    "        # 'sales': 'first', # 仅取第一个sales 和第一个product set\n",
    "        # 'opportunity_number': [set, 'count'],\n",
    "        'income_amt': sum,\n",
    "        'gross_profit_amt': sum, \n",
    "        # 'human_cost_amt': sum, \n",
    "        # 'service_outsourcing_amt': sum,\n",
    "        # 'labor_service_outsourcing_amt': sum, \n",
    "    }\n",
    ")"
   ]
  },
  {
   "cell_type": "code",
   "execution_count": null,
   "metadata": {},
   "outputs": [],
   "source": [
    "sales['rev_rate_sales'] = sales['annual_average_revenue'] / sales['income_amt']\n",
    "sales['gp_rate_sales'] = sales['annual_average_gross_profit'] / sales['gross_profit_amt']\n",
    "sales = sales[sales['rev_rate_sales'] != np.inf]"
   ]
  },
  {
   "cell_type": "code",
   "execution_count": null,
   "metadata": {},
   "outputs": [],
   "source": [
    "sales['sales'] = sales['sales'].str.replace('nan', '').str.replace('^;', '').str.replace(';$', '')"
   ]
  },
  {
   "cell_type": "code",
   "execution_count": null,
   "metadata": {},
   "outputs": [],
   "source": [
    "pd_loaddata.pd_tocsv(sales, './data_up/sales_performance.csv')"
   ]
  },
  {
   "cell_type": "code",
   "execution_count": null,
   "metadata": {},
   "outputs": [],
   "source": [
    "# sales[sales['mont_code'] == 2021]"
   ]
  },
  {
   "cell_type": "code",
   "execution_count": null,
   "metadata": {},
   "outputs": [],
   "source": []
  }
 ],
 "metadata": {
  "interpreter": {
   "hash": "47b50d2908d96196e4220cfb4e81faa93803065ea975497e7026f672c1f58470"
  },
  "kernelspec": {
   "display_name": "Python 3.8.8 64-bit ('siming': conda)",
   "language": "python",
   "name": "python3"
  },
  "language_info": {
   "codemirror_mode": {
    "name": "ipython",
    "version": 3
   },
   "file_extension": ".py",
   "mimetype": "text/x-python",
   "name": "python",
   "nbconvert_exporter": "python",
   "pygments_lexer": "ipython3",
   "version": "3.8.8"
  },
  "orig_nbformat": 4
 },
 "nbformat": 4,
 "nbformat_minor": 2
}

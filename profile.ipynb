{
 "cells": [
  {
   "cell_type": "code",
   "execution_count": 77,
   "metadata": {},
   "outputs": [
    {
     "data": {
      "text/plain": [
       "\"\\ndownload data without empty ou, when select\\n['bca_cc_cust_rel.csv',\\n 'bca_without_mail.csv',\\n 'dwd_dsc_d365_contract_df.csv',\\n 'dwd_dsc_d365_opportunity_df.csv',\\n 'dwd_dsc_finance_estimate_summary_di.csv',\\n 'dwd_dsc_hr_cost_dtl.csv',\\n 'dwd_fact_warehouse_billing_detail_dtl.csv']\\n\""
      ]
     },
     "execution_count": 77,
     "metadata": {},
     "output_type": "execute_result"
    }
   ],
   "source": [
    "import pandas as pd\n",
    "import re, os \n",
    "import datetime\n",
    "import plotly.express as px\n",
    "import plotly.graph_objects as go\n",
    "import numpy as np\n",
    "\n",
    "os.listdir('./data_down')\n",
    "\n",
    "\n",
    "\"\"\"\n",
    "download data without empty ou, when select\n",
    "['bca_cc_cust_rel.csv',\n",
    " 'bca_without_mail.csv',\n",
    " 'dwd_dsc_d365_contract_df.csv',\n",
    " 'dwd_dsc_d365_opportunity_df.csv',\n",
    " 'dwd_dsc_finance_estimate_summary_di.csv',\n",
    " 'dwd_dsc_hr_cost_dtl.csv',\n",
    " 'dwd_fact_warehouse_billing_detail_dtl.csv']\n",
    "\"\"\""
   ]
  },
  {
   "cell_type": "code",
   "execution_count": 78,
   "metadata": {},
   "outputs": [],
   "source": [
    "df_oppa = pd.read_csv('./data_down/' + 'dwd_dsc_d365_opportunity_df.csv', sep = '\\001') \n",
    "df_bill = pd.read_csv('./data_down/' + 'dwd_dsc_finance_estimate_summary_di.csv', sep = '\\001') \n",
    "df_cost = pd.read_csv('./data_down/' + 'dwd_dsc_hr_cost_dtl.csv', sep = '\\001') \n",
    "df_esti = pd.read_csv('./data_down/' + 'dwd_fact_warehouse_billing_detail_dtl.csv', sep = '\\001') \n",
    "rel = pd.read_csv('./data_down/' + 'bca_cc_cust_rel.csv', sep = '\\001') \n",
    "# for i in os.listdir('./data_down'): \n",
    "#     print(re.findall( '\\w+', i)[0])\n",
    "#     df = pd.read_csv('./data_down/' + i, sep = '\\001') \n",
    "def colname_modi(df):\n",
    "    df.columns = [ re.sub('^\\w+.{1}', '', i) for i in list(df.columns)]\n",
    "for i in [df_oppa,df_bill,df_cost,df_esti,rel]:\n",
    "    colname_modi(i)"
   ]
  },
  {
   "cell_type": "code",
   "execution_count": 79,
   "metadata": {},
   "outputs": [
    {
     "name": "stderr",
     "output_type": "stream",
     "text": [
      "C:\\Users\\DSCSHA~1\\AppData\\Local\\Temp/ipykernel_33456/1032199403.py:3: FutureWarning: Dropping of nuisance columns in DataFrame reductions (with 'numeric_only=None') is deprecated; in a future version this will raise TypeError.  Select only valid columns before calling the reduction.\n",
      "  frame = pd.DataFrame(df_cost.sum(axis = 0) == 0)\n"
     ]
    }
   ],
   "source": [
    "# pre screen data\n",
    "df_cost = df_cost.dropna(axis=1, how = 'all').fillna(0)\n",
    "frame = pd.DataFrame(df_cost.sum(axis = 0) == 0)\n",
    "df_cost = df_cost.loc[:, frame[frame[0] == False].index.tolist()]\n",
    "del frame\n",
    "rel = rel.drop(['cc_in_bca', 'start_date'], axis=1)"
   ]
  },
  {
   "cell_type": "code",
   "execution_count": 80,
   "metadata": {},
   "outputs": [],
   "source": [
    "def data_prepare():\n",
    "    \"\"\"\n",
    "    data prepare\n",
    "    \"\"\"\n",
    "    df = pd.read_csv('./data_down/dwd_dsc_d365_opportunity_df.csv', sep = '\\001')\n",
    "\n",
    "    df.columns = [re.sub('^\\w+.{1}', '', i) for i in list(df.columns)]\n",
    "    df['contract_end_date'] = df['contract_end_date'].str.slice(0,10).fillna(pd.NaT)\n",
    "    colname = ['annual_average_gross_profit_base', 'annual_average_gross_profit',\n",
    "        'annual_average_revenue_base', 'annual_average_revenue']\n",
    "    for i in colname:\n",
    "        df = df[~df.index.isin(df[i].str.extract('([a-zA-Z]+)').dropna().index)]\n",
    "\n",
    "    df[['annual_average_gross_profit_base', 'annual_average_gross_profit',\n",
    "        'annual_average_revenue_base', 'annual_average_revenue']] = df[['annual_average_gross_profit_base', 'annual_average_gross_profit',\n",
    "        'annual_average_revenue_base', 'annual_average_revenue']].astype(float)\n",
    "    df['contract_end_date'] = pd.to_datetime(df['contract_end_date'])\n",
    "\n",
    "    contract_summary = df.groupby([\n",
    "        'account_name_en', 'contract_end_date', 'account_id','bg', 'contract_term', 'milestone','opportunity_record'\\\n",
    "        ,'product1', 'product2', 'sector'\n",
    "        ])[[\n",
    "        'annual_average_gross_profit_base', 'annual_average_gross_profit',\n",
    "        'annual_average_revenue_base', 'annual_average_revenue', 'contract_value']].sum()\n",
    "    contract_summary = contract_summary.reset_index()\n",
    "    contract_summary['contract_end_yr'] = contract_summary['contract_end_date'].astype(str).str.slice(0,4)\n",
    "    return contract_summary\n",
    "\n",
    "contract_summary = data_prepare()"
   ]
  },
  {
   "cell_type": "code",
   "execution_count": 81,
   "metadata": {},
   "outputs": [],
   "source": [
    "df_list = [df_oppa,df_bill,df_cost,df_esti]"
   ]
  },
  {
   "cell_type": "code",
   "execution_count": 83,
   "metadata": {},
   "outputs": [
    {
     "name": "stdout",
     "output_type": "stream",
     "text": [
      "Empty DataFrame\n",
      "Columns: [0]\n",
      "Index: [] \t\n",
      "              0\n",
      "13  cost_center \t\n",
      "         0\n",
      "1  ou_code \t\n",
      "              0\n",
      "12  cost_center \t\n"
     ]
    }
   ],
   "source": [
    "def check_ouname(df):\n",
    "    print(pd.Series(df.columns).str.extract('(ou_code|cost_center)').dropna(),'\\t')\n",
    "\n",
    "for i in df_list:\n",
    "    check_ouname(i)"
   ]
  },
  {
   "cell_type": "code",
   "execution_count": 84,
   "metadata": {},
   "outputs": [],
   "source": [
    "def to_cust_level(df):\n",
    "    \"\"\"\n",
    "    merge all to cust level\n",
    "    \"\"\"\n",
    "    try:\n",
    "        df = df.merge(rel, left_on = 'ou_code', right_on = 'cc_in_ou', how  ='left')\n",
    "    except:\n",
    "        df = df.merge(rel, left_on = 'cost_center', right_on = 'cc_in_ou', how  ='left')\n",
    "    \n",
    "\n",
    "    return df"
   ]
  },
  {
   "cell_type": "code",
   "execution_count": 87,
   "metadata": {},
   "outputs": [],
   "source": [
    "# to_cust_level(df_bill)[~to_cust_level(df_bill)['account_name_en'].isna()]"
   ]
  },
  {
   "cell_type": "code",
   "execution_count": null,
   "metadata": {},
   "outputs": [],
   "source": []
  },
  {
   "cell_type": "code",
   "execution_count": 88,
   "metadata": {},
   "outputs": [
    {
     "data": {
      "text/html": [
       "<div>\n",
       "<style scoped>\n",
       "    .dataframe tbody tr th:only-of-type {\n",
       "        vertical-align: middle;\n",
       "    }\n",
       "\n",
       "    .dataframe tbody tr th {\n",
       "        vertical-align: top;\n",
       "    }\n",
       "\n",
       "    .dataframe thead th {\n",
       "        text-align: right;\n",
       "    }\n",
       "</style>\n",
       "<table border=\"1\" class=\"dataframe\">\n",
       "  <thead>\n",
       "    <tr style=\"text-align: right;\">\n",
       "      <th></th>\n",
       "      <th>account_name_en</th>\n",
       "      <th>contract_end_date</th>\n",
       "      <th>account_id</th>\n",
       "      <th>bg</th>\n",
       "      <th>contract_term</th>\n",
       "      <th>milestone</th>\n",
       "      <th>opportunity_record</th>\n",
       "      <th>product1</th>\n",
       "      <th>product2</th>\n",
       "      <th>sector</th>\n",
       "      <th>annual_average_gross_profit_base</th>\n",
       "      <th>annual_average_gross_profit</th>\n",
       "      <th>annual_average_revenue_base</th>\n",
       "      <th>annual_average_revenue</th>\n",
       "      <th>contract_value</th>\n",
       "      <th>contract_end_yr</th>\n",
       "    </tr>\n",
       "  </thead>\n",
       "  <tbody>\n",
       "    <tr>\n",
       "      <th>0</th>\n",
       "      <td>ABC</td>\n",
       "      <td>2021-06-28</td>\n",
       "      <td>e0209d33-e3aa-ea11-a812-000d3a851174</td>\n",
       "      <td>TSC</td>\n",
       "      <td>12.0</td>\n",
       "      <td>Closed-Canceled</td>\n",
       "      <td>New Business</td>\n",
       "      <td>Warehousing</td>\n",
       "      <td>Transportation</td>\n",
       "      <td>Technology</td>\n",
       "      <td>5000.0</td>\n",
       "      <td>5000.0</td>\n",
       "      <td>50000.0</td>\n",
       "      <td>50000.0</td>\n",
       "      <td>50000.00</td>\n",
       "      <td>2021</td>\n",
       "    </tr>\n",
       "    <tr>\n",
       "      <th>1</th>\n",
       "      <td>ADIDAS</td>\n",
       "      <td>2018-09-29</td>\n",
       "      <td>f64a8fa5-a304-4c85-9641-7205e77e70d8</td>\n",
       "      <td>HK</td>\n",
       "      <td>36.0</td>\n",
       "      <td>Contract Signed</td>\n",
       "      <td>New Business</td>\n",
       "      <td>Warehousing</td>\n",
       "      <td>Warehousing</td>\n",
       "      <td>Retail</td>\n",
       "      <td>950.4</td>\n",
       "      <td>1188.0</td>\n",
       "      <td>10777.6</td>\n",
       "      <td>13472.0</td>\n",
       "      <td>40416.00</td>\n",
       "      <td>2018</td>\n",
       "    </tr>\n",
       "    <tr>\n",
       "      <th>2</th>\n",
       "      <td>ADIDAS</td>\n",
       "      <td>2019-10-30</td>\n",
       "      <td>f64a8fa5-a304-4c85-9641-7205e77e70d8</td>\n",
       "      <td>HK</td>\n",
       "      <td>12.0</td>\n",
       "      <td>Contract Signed</td>\n",
       "      <td>Straightforward Renewals</td>\n",
       "      <td>Warehousing</td>\n",
       "      <td>Transportation</td>\n",
       "      <td>Retail</td>\n",
       "      <td>1087.2</td>\n",
       "      <td>1359.0</td>\n",
       "      <td>13123.2</td>\n",
       "      <td>16404.0</td>\n",
       "      <td>0.00</td>\n",
       "      <td>2019</td>\n",
       "    </tr>\n",
       "    <tr>\n",
       "      <th>3</th>\n",
       "      <td>ADIDAS</td>\n",
       "      <td>2020-12-02</td>\n",
       "      <td>f64a8fa5-a304-4c85-9641-7205e77e70d8</td>\n",
       "      <td>HK</td>\n",
       "      <td>6.0</td>\n",
       "      <td>Contract Signed</td>\n",
       "      <td>New Business</td>\n",
       "      <td>Warehousing</td>\n",
       "      <td>Transportation</td>\n",
       "      <td>Retail</td>\n",
       "      <td>1.6</td>\n",
       "      <td>2.0</td>\n",
       "      <td>1728.0</td>\n",
       "      <td>2160.0</td>\n",
       "      <td>1080.00</td>\n",
       "      <td>2020</td>\n",
       "    </tr>\n",
       "    <tr>\n",
       "      <th>4</th>\n",
       "      <td>ADIDAS</td>\n",
       "      <td>2021-06-01</td>\n",
       "      <td>f64a8fa5-a304-4c85-9641-7205e77e70d8</td>\n",
       "      <td>HK</td>\n",
       "      <td>6.0</td>\n",
       "      <td>Closed-Lost</td>\n",
       "      <td>Change Renewals</td>\n",
       "      <td>Transportation</td>\n",
       "      <td>Warehousing</td>\n",
       "      <td>Retail</td>\n",
       "      <td>1.6</td>\n",
       "      <td>2.0</td>\n",
       "      <td>1728.0</td>\n",
       "      <td>2160.0</td>\n",
       "      <td>1182.82</td>\n",
       "      <td>2021</td>\n",
       "    </tr>\n",
       "  </tbody>\n",
       "</table>\n",
       "</div>"
      ],
      "text/plain": [
       "  account_name_en contract_end_date                            account_id  \\\n",
       "0             ABC        2021-06-28  e0209d33-e3aa-ea11-a812-000d3a851174   \n",
       "1          ADIDAS        2018-09-29  f64a8fa5-a304-4c85-9641-7205e77e70d8   \n",
       "2          ADIDAS        2019-10-30  f64a8fa5-a304-4c85-9641-7205e77e70d8   \n",
       "3          ADIDAS        2020-12-02  f64a8fa5-a304-4c85-9641-7205e77e70d8   \n",
       "4          ADIDAS        2021-06-01  f64a8fa5-a304-4c85-9641-7205e77e70d8   \n",
       "\n",
       "    bg  contract_term        milestone        opportunity_record  \\\n",
       "0  TSC           12.0  Closed-Canceled              New Business   \n",
       "1   HK           36.0  Contract Signed              New Business   \n",
       "2   HK           12.0  Contract Signed  Straightforward Renewals   \n",
       "3   HK            6.0  Contract Signed              New Business   \n",
       "4   HK            6.0      Closed-Lost           Change Renewals   \n",
       "\n",
       "         product1        product2      sector  \\\n",
       "0     Warehousing  Transportation  Technology   \n",
       "1     Warehousing     Warehousing      Retail   \n",
       "2     Warehousing  Transportation      Retail   \n",
       "3     Warehousing  Transportation      Retail   \n",
       "4  Transportation     Warehousing      Retail   \n",
       "\n",
       "   annual_average_gross_profit_base  annual_average_gross_profit  \\\n",
       "0                            5000.0                       5000.0   \n",
       "1                             950.4                       1188.0   \n",
       "2                            1087.2                       1359.0   \n",
       "3                               1.6                          2.0   \n",
       "4                               1.6                          2.0   \n",
       "\n",
       "   annual_average_revenue_base  annual_average_revenue  contract_value  \\\n",
       "0                      50000.0                 50000.0        50000.00   \n",
       "1                      10777.6                 13472.0        40416.00   \n",
       "2                      13123.2                 16404.0            0.00   \n",
       "3                       1728.0                  2160.0         1080.00   \n",
       "4                       1728.0                  2160.0         1182.82   \n",
       "\n",
       "  contract_end_yr  \n",
       "0            2021  \n",
       "1            2018  \n",
       "2            2019  \n",
       "3            2020  \n",
       "4            2021  "
      ]
     },
     "execution_count": 88,
     "metadata": {},
     "output_type": "execute_result"
    }
   ],
   "source": [
    "contract_summary.head()"
   ]
  },
  {
   "cell_type": "code",
   "execution_count": null,
   "metadata": {},
   "outputs": [],
   "source": [
    "# def get_options(list_stocks):\n",
    "#     dict_list = []\n",
    "#     for i in list_stocks:\n",
    "#         dict_list.append({'label': i, 'value': i})\n",
    "#     return dict_list"
   ]
  },
  {
   "cell_type": "code",
   "execution_count": null,
   "metadata": {},
   "outputs": [],
   "source": [
    "df_sub = contract_summary"
   ]
  },
  {
   "cell_type": "code",
   "execution_count": null,
   "metadata": {},
   "outputs": [],
   "source": [
    "df_sub[df_sub['account_name_en'] == 'ABC']['annual_average_revenue']"
   ]
  },
  {
   "cell_type": "code",
   "execution_count": null,
   "metadata": {},
   "outputs": [],
   "source": [
    "min = pd.to_datetime('2018-01-01', format='%Y-%m-%d')\n",
    "max = pd.to_datetime('2024-01-01', format='%Y-%m-%d')"
   ]
  },
  {
   "cell_type": "code",
   "execution_count": null,
   "metadata": {},
   "outputs": [],
   "source": [
    "# fig = go.Figure(data = [go.Scatter(x = df_sub ['contract_end_date'] ,\n",
    "#                                 y = df_sub ['annual_average_revenue'],\n",
    "#                                 mode='markers',\n",
    "#                                 marker_size=df_sub['annual_average_revenue']/1000,\n",
    "#                                 opacity=0.87,\n",
    "#                                 name='account',\n",
    "#                                 textposition='bottom center')],\n",
    "#                                 layout=go.Layout(\n",
    "#                                     xaxis = dict(range = [min, max]),\n",
    "#                                     yaxis = dict(range = [0, 100000]),\n",
    "#                                     legend = {'xanchor': 'left'}\n",
    "#                                 )\n",
    "#                                 ) \n",
    "# fig"
   ]
  },
  {
   "cell_type": "code",
   "execution_count": null,
   "metadata": {},
   "outputs": [],
   "source": [
    "# df['contract_end_date'] = df['contract_end_date'].str.slice(0,10).fillna(pd.NaT)\n",
    "# colname = ['annual_average_gross_profit_base', 'annual_average_gross_profit',\n",
    "#        'annual_average_revenue_base', 'annual_average_revenue']\n",
    "# for i in colname:\n",
    "#     df = df[~df.index.isin(df[i].str.extract('([a-zA-Z]+)').dropna().index)]\n",
    "\n",
    "# df[['annual_average_gross_profit_base', 'annual_average_gross_profit',\n",
    "#     'annual_average_revenue_base', 'annual_average_revenue']] = df[['annual_average_gross_profit_base', 'annual_average_gross_profit',\n",
    "#     'annual_average_revenue_base', 'annual_average_revenue']].astype(float)\n",
    "# df['contract_end_date'] = pd.to_datetime(df['contract_end_date'])\n",
    "# contract_summary = df.groupby(['account_name_en', 'contract_end_date'])[[\n",
    "#        'annual_average_gross_profit_base', 'annual_average_gross_profit',\n",
    "#        'annual_average_revenue_base', 'annual_average_revenue']].sum()\n",
    "# contract_summary = contract_summary.reset_index()\n",
    "# contract_summary['contract_end_yr'] = contract_summary['contract_end_date'].astype(str).str.slice(0,4)"
   ]
  },
  {
   "cell_type": "code",
   "execution_count": null,
   "metadata": {},
   "outputs": [],
   "source": [
    "contract_summary['contract_end_date']"
   ]
  },
  {
   "cell_type": "code",
   "execution_count": null,
   "metadata": {},
   "outputs": [],
   "source": [
    "# fig = px.scatter(x = \"contract_end_date\", y= \"annual_average_revenue\", \\\n",
    "#     color = 'account_name_en',  size = 'annual_average_revenue',\n",
    "#     data_frame  = contract_summary.head(65))\n",
    "\n",
    "# min = pd.to_datetime('2018-01-01', format='%Y-%m-%d')\n",
    "# max = pd.to_datetime('2024-01-01', format='%Y-%m-%d')\n",
    "# fig.update_xaxes(range = list([min, max]))\n",
    "\n",
    "# fig.update_layout(\n",
    "#     title_text=\"Title\",\n",
    "#     showlegend = True\n",
    "# )\n",
    "\n",
    "# # Add range slider\n",
    "# fig.update_layout(\n",
    "\n",
    "# )\n",
    "\n"
   ]
  },
  {
   "cell_type": "code",
   "execution_count": null,
   "metadata": {},
   "outputs": [],
   "source": []
  }
 ],
 "metadata": {
  "interpreter": {
   "hash": "47b50d2908d96196e4220cfb4e81faa93803065ea975497e7026f672c1f58470"
  },
  "kernelspec": {
   "display_name": "Python 3.8.8 64-bit ('siming': conda)",
   "language": "python",
   "name": "python3"
  },
  "language_info": {
   "codemirror_mode": {
    "name": "ipython",
    "version": 3
   },
   "file_extension": ".py",
   "mimetype": "text/x-python",
   "name": "python",
   "nbconvert_exporter": "python",
   "pygments_lexer": "ipython3",
   "version": "3.8.8"
  },
  "orig_nbformat": 4
 },
 "nbformat": 4,
 "nbformat_minor": 2
}

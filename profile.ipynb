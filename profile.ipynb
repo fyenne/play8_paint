{
 "cells": [
  {
   "cell_type": "code",
   "execution_count": 1,
   "metadata": {},
   "outputs": [
    {
     "data": {
      "text/plain": [
       "\"\\ndownload data without empty ou, when select\\n['bca_cc_cust_rel.csv',\\n 'bca_without_mail.csv',\\n 'dwd_dsc_d365_contract_df.csv',\\n 'dwd_dsc_d365_opportunity_df.csv',\\n 'dwd_dsc_finance_estimate_summary_di.csv',\\n 'dwd_dsc_hr_cost_dtl.csv',\\n 'dwd_fact_warehouse_billing_detail_dtl.csv']\\n\\n#  this doc would be on monthly & customer level\\n#  however the opportunity might not applicable for this.\\n\""
      ]
     },
     "execution_count": 1,
     "metadata": {},
     "output_type": "execute_result"
    }
   ],
   "source": [
    "import pandas as pd\n",
    "import re, os \n",
    "import datetime\n",
    "import plotly.express as px\n",
    "import plotly.graph_objects as go\n",
    "import numpy as np\n",
    "\n",
    "os.listdir('./data_down')\n",
    "\n",
    "\n",
    "\"\"\"\n",
    "download data without empty ou, when select\n",
    "['bca_cc_cust_rel.csv',\n",
    " 'bca_without_mail.csv',\n",
    " 'dwd_dsc_d365_contract_df.csv',\n",
    " 'dwd_dsc_d365_opportunity_df.csv',\n",
    " 'dwd_dsc_finance_estimate_summary_di.csv',\n",
    " 'dwd_dsc_hr_cost_dtl.csv',\n",
    " 'dwd_fact_warehouse_billing_detail_dtl.csv']\n",
    "\n",
    "#  this doc would be on monthly & customer level\n",
    "#  however the opportunity might not applicable for this.\n",
    "\"\"\""
   ]
  },
  {
   "cell_type": "code",
   "execution_count": 230,
   "metadata": {},
   "outputs": [
    {
     "data": {
      "text/html": [
       "<div>\n",
       "<style scoped>\n",
       "    .dataframe tbody tr th:only-of-type {\n",
       "        vertical-align: middle;\n",
       "    }\n",
       "\n",
       "    .dataframe tbody tr th {\n",
       "        vertical-align: top;\n",
       "    }\n",
       "\n",
       "    .dataframe thead th {\n",
       "        text-align: right;\n",
       "    }\n",
       "</style>\n",
       "<table border=\"1\" class=\"dataframe\">\n",
       "  <thead>\n",
       "    <tr style=\"text-align: right;\">\n",
       "      <th></th>\n",
       "      <th>yy</th>\n",
       "      <th>mm</th>\n",
       "      <th>wear</th>\n",
       "      <th>cost_center</th>\n",
       "      <th>income_amt</th>\n",
       "      <th>gross_profit_amt</th>\n",
       "      <th>human_cost_amt</th>\n",
       "      <th>service_outsourcing_amt</th>\n",
       "      <th>labor_service_outsourcing_amt</th>\n",
       "      <th>mont_code</th>\n",
       "    </tr>\n",
       "  </thead>\n",
       "  <tbody>\n",
       "    <tr>\n",
       "      <th>21868</th>\n",
       "      <td>2021</td>\n",
       "      <td>1</td>\n",
       "      <td>CNY</td>\n",
       "      <td>3125CSHKQP</td>\n",
       "      <td>0.00</td>\n",
       "      <td>0.000000e+00</td>\n",
       "      <td>0.00</td>\n",
       "      <td>0.00</td>\n",
       "      <td>0.00</td>\n",
       "      <td>202101</td>\n",
       "    </tr>\n",
       "    <tr>\n",
       "      <th>21869</th>\n",
       "      <td>2021</td>\n",
       "      <td>1</td>\n",
       "      <td>CNY</td>\n",
       "      <td>ABBOTBJTRT</td>\n",
       "      <td>168064.36</td>\n",
       "      <td>2.649461e+04</td>\n",
       "      <td>13397.95</td>\n",
       "      <td>204.93</td>\n",
       "      <td>0.00</td>\n",
       "      <td>202101</td>\n",
       "    </tr>\n",
       "    <tr>\n",
       "      <th>21870</th>\n",
       "      <td>2021</td>\n",
       "      <td>1</td>\n",
       "      <td>CNY</td>\n",
       "      <td>ABBOTBJXWS</td>\n",
       "      <td>135352.46</td>\n",
       "      <td>-5.966761e+04</td>\n",
       "      <td>45017.62</td>\n",
       "      <td>514.18</td>\n",
       "      <td>0.00</td>\n",
       "      <td>202101</td>\n",
       "    </tr>\n",
       "    <tr>\n",
       "      <th>21871</th>\n",
       "      <td>2021</td>\n",
       "      <td>1</td>\n",
       "      <td>CNY</td>\n",
       "      <td>ABBOTCDTRT</td>\n",
       "      <td>236173.39</td>\n",
       "      <td>1.165960e+05</td>\n",
       "      <td>14514.50</td>\n",
       "      <td>137.89</td>\n",
       "      <td>0.00</td>\n",
       "      <td>202101</td>\n",
       "    </tr>\n",
       "    <tr>\n",
       "      <th>21872</th>\n",
       "      <td>2021</td>\n",
       "      <td>1</td>\n",
       "      <td>CNY</td>\n",
       "      <td>ABBOTCDXXS</td>\n",
       "      <td>87526.69</td>\n",
       "      <td>-3.011359e+04</td>\n",
       "      <td>34627.55</td>\n",
       "      <td>266.70</td>\n",
       "      <td>7797.08</td>\n",
       "      <td>202101</td>\n",
       "    </tr>\n",
       "    <tr>\n",
       "      <th>...</th>\n",
       "      <td>...</td>\n",
       "      <td>...</td>\n",
       "      <td>...</td>\n",
       "      <td>...</td>\n",
       "      <td>...</td>\n",
       "      <td>...</td>\n",
       "      <td>...</td>\n",
       "      <td>...</td>\n",
       "      <td>...</td>\n",
       "      <td>...</td>\n",
       "    </tr>\n",
       "    <tr>\n",
       "      <th>34592</th>\n",
       "      <td>2021</td>\n",
       "      <td>10</td>\n",
       "      <td>HKD</td>\n",
       "      <td>XXSECI252P</td>\n",
       "      <td>0.00</td>\n",
       "      <td>0.000000e+00</td>\n",
       "      <td>0.00</td>\n",
       "      <td>0.00</td>\n",
       "      <td>0.00</td>\n",
       "      <td>202110</td>\n",
       "    </tr>\n",
       "    <tr>\n",
       "      <th>34593</th>\n",
       "      <td>2021</td>\n",
       "      <td>10</td>\n",
       "      <td>HKD</td>\n",
       "      <td>XXSECI252S</td>\n",
       "      <td>0.00</td>\n",
       "      <td>-3.637979e-12</td>\n",
       "      <td>0.00</td>\n",
       "      <td>0.00</td>\n",
       "      <td>27734.41</td>\n",
       "      <td>202110</td>\n",
       "    </tr>\n",
       "    <tr>\n",
       "      <th>34594</th>\n",
       "      <td>2021</td>\n",
       "      <td>10</td>\n",
       "      <td>HKD</td>\n",
       "      <td>YAMA1M101S</td>\n",
       "      <td>2822.90</td>\n",
       "      <td>9.976600e+02</td>\n",
       "      <td>1029.65</td>\n",
       "      <td>0.00</td>\n",
       "      <td>0.00</td>\n",
       "      <td>202110</td>\n",
       "    </tr>\n",
       "    <tr>\n",
       "      <th>34595</th>\n",
       "      <td>2021</td>\n",
       "      <td>10</td>\n",
       "      <td>HKD</td>\n",
       "      <td>YAMA1TP02T</td>\n",
       "      <td>2650.00</td>\n",
       "      <td>2.170700e+02</td>\n",
       "      <td>17.05</td>\n",
       "      <td>0.00</td>\n",
       "      <td>0.00</td>\n",
       "      <td>202110</td>\n",
       "    </tr>\n",
       "    <tr>\n",
       "      <th>34596</th>\n",
       "      <td>2021</td>\n",
       "      <td>10</td>\n",
       "      <td>HKD</td>\n",
       "      <td>ZILV1TP06R</td>\n",
       "      <td>0.00</td>\n",
       "      <td>3.200000e+00</td>\n",
       "      <td>0.00</td>\n",
       "      <td>0.00</td>\n",
       "      <td>0.00</td>\n",
       "      <td>202110</td>\n",
       "    </tr>\n",
       "  </tbody>\n",
       "</table>\n",
       "<p>12729 rows × 10 columns</p>\n",
       "</div>"
      ],
      "text/plain": [
       "         yy  mm wear cost_center  income_amt  gross_profit_amt  \\\n",
       "21868  2021   1  CNY  3125CSHKQP        0.00      0.000000e+00   \n",
       "21869  2021   1  CNY  ABBOTBJTRT   168064.36      2.649461e+04   \n",
       "21870  2021   1  CNY  ABBOTBJXWS   135352.46     -5.966761e+04   \n",
       "21871  2021   1  CNY  ABBOTCDTRT   236173.39      1.165960e+05   \n",
       "21872  2021   1  CNY  ABBOTCDXXS    87526.69     -3.011359e+04   \n",
       "...     ...  ..  ...         ...         ...               ...   \n",
       "34592  2021  10  HKD  XXSECI252P        0.00      0.000000e+00   \n",
       "34593  2021  10  HKD  XXSECI252S        0.00     -3.637979e-12   \n",
       "34594  2021  10  HKD  YAMA1M101S     2822.90      9.976600e+02   \n",
       "34595  2021  10  HKD  YAMA1TP02T     2650.00      2.170700e+02   \n",
       "34596  2021  10  HKD  ZILV1TP06R        0.00      3.200000e+00   \n",
       "\n",
       "       human_cost_amt  service_outsourcing_amt  labor_service_outsourcing_amt  \\\n",
       "21868            0.00                     0.00                           0.00   \n",
       "21869        13397.95                   204.93                           0.00   \n",
       "21870        45017.62                   514.18                           0.00   \n",
       "21871        14514.50                   137.89                           0.00   \n",
       "21872        34627.55                   266.70                        7797.08   \n",
       "...               ...                      ...                            ...   \n",
       "34592            0.00                     0.00                           0.00   \n",
       "34593            0.00                     0.00                       27734.41   \n",
       "34594         1029.65                     0.00                           0.00   \n",
       "34595           17.05                     0.00                           0.00   \n",
       "34596            0.00                     0.00                           0.00   \n",
       "\n",
       "       mont_code  \n",
       "21868     202101  \n",
       "21869     202101  \n",
       "21870     202101  \n",
       "21871     202101  \n",
       "21872     202101  \n",
       "...          ...  \n",
       "34592     202110  \n",
       "34593     202110  \n",
       "34594     202110  \n",
       "34595     202110  \n",
       "34596     202110  \n",
       "\n",
       "[12729 rows x 10 columns]"
      ]
     },
     "execution_count": 230,
     "metadata": {},
     "output_type": "execute_result"
    }
   ],
   "source": [
    "sap_fina[sap_fina['yy'] == 2021]"
   ]
  },
  {
   "cell_type": "code",
   "execution_count": 161,
   "metadata": {},
   "outputs": [
    {
     "data": {
      "text/plain": [
       "6941636281.690003"
      ]
     },
     "execution_count": 161,
     "metadata": {},
     "output_type": "execute_result"
    }
   ],
   "source": [
    "sap_fina[sap_fina['yy'] == 2021]['income_amt'].sum()"
   ]
  },
  {
   "cell_type": "code",
   "execution_count": 2,
   "metadata": {},
   "outputs": [],
   "source": [
    "# read data\n",
    "df_oppa = pd.read_csv('./data_down/' + 'dwd_dsc_d365_opportunity_df.csv', sep = '\\001') \n",
    "df_esti = pd.read_csv('./data_down/' + 'dwd_dsc_finance_estimate_summary_di.csv', sep = '\\001') \n",
    "df_cost = pd.read_csv('./data_down/' + 'dwd_dsc_hr_cost_dtl.csv', sep = '\\001') \n",
    "df_bill = pd.read_csv('./data_down/' + 'dwd_fact_warehouse_billing_detail_dtl.csv', sep = '\\001') \n",
    "df_bcaw = pd.read_csv('./data_down/' + 'bca_without_mail.csv', sep = '\\001') \n",
    "rel = pd.read_csv('./data_down/' + 'bca_cc_cust_rel.csv', sep = '\\001') \n",
    "df_bill_type = pd.read_csv('./data_down/' + 'dim_dsc_billing_type_info.csv', sep = '\\001') \n",
    "\"\"\"\n",
    "pic part data\n",
    "\"\"\"\n",
    "sap_fina = pd.read_csv('./data_down/' + 'smart_hr_pl_0l.csv', sep = '\\001') \n",
    "levin_table = pd.read_excel('./data_down/' + 'OU_Segementation2.xlsx', sheet_name = 2) \n",
    "# for i in os.listdir('./data_down'): \n",
    "#     print(re.findall( '\\w+', i)[0])\n",
    "#     df = pd.read_csv('./data_down/' + i, sep = '\\001') \n",
    "def colname_modi(df):\n",
    "    df.columns = [ re.sub('^\\w+.{1}', '', i) for i in list(df.columns)]\n",
    "for i in [df_oppa, df_bill,df_cost,df_esti,rel, df_bcaw, sap_fina]:\n",
    "    colname_modi(i)\n",
    "del i\n",
    "rel = rel.drop(['cc_in_bca', 'start_date'], axis=1)"
   ]
  },
  {
   "cell_type": "code",
   "execution_count": 4,
   "metadata": {},
   "outputs": [],
   "source": [
    "# pd.set_option(\"display.max_rows\", 15, \"display.max_columns\", 15)\n",
    "# df_oppa[df_oppa['milestone'] == 'Closed-Lost']\n",
    "\n",
    "# # loss_reason situation_update_next_steps description territory contract_value situation_update_next_steps sector product1\n",
    "# # opportunity_type expected_golive_date\t contract_term contract_end_date"
   ]
  },
  {
   "cell_type": "code",
   "execution_count": 3,
   "metadata": {},
   "outputs": [
    {
     "data": {
      "text/html": [
       "<div>\n",
       "<style scoped>\n",
       "    .dataframe tbody tr th:only-of-type {\n",
       "        vertical-align: middle;\n",
       "    }\n",
       "\n",
       "    .dataframe tbody tr th {\n",
       "        vertical-align: top;\n",
       "    }\n",
       "\n",
       "    .dataframe thead th {\n",
       "        text-align: right;\n",
       "    }\n",
       "</style>\n",
       "<table border=\"1\" class=\"dataframe\">\n",
       "  <thead>\n",
       "    <tr style=\"text-align: right;\">\n",
       "      <th></th>\n",
       "      <th>account_name_en</th>\n",
       "      <th>contract_end_date</th>\n",
       "      <th>account_id</th>\n",
       "      <th>bg</th>\n",
       "      <th>contract_term</th>\n",
       "      <th>milestone</th>\n",
       "      <th>opportunity_record</th>\n",
       "      <th>product1</th>\n",
       "      <th>product2</th>\n",
       "      <th>sector</th>\n",
       "      <th>annual_average_gross_profit_base</th>\n",
       "      <th>annual_average_gross_profit</th>\n",
       "      <th>annual_average_revenue_base</th>\n",
       "      <th>annual_average_revenue</th>\n",
       "      <th>contract_value</th>\n",
       "      <th>contract_end_yr</th>\n",
       "    </tr>\n",
       "  </thead>\n",
       "  <tbody>\n",
       "    <tr>\n",
       "      <th>0</th>\n",
       "      <td>ABC</td>\n",
       "      <td>2021-06-28</td>\n",
       "      <td>e0209d33-e3aa-ea11-a812-000d3a851174</td>\n",
       "      <td>TSC</td>\n",
       "      <td>12.0</td>\n",
       "      <td>Closed-Canceled</td>\n",
       "      <td>New Business</td>\n",
       "      <td>Warehousing</td>\n",
       "      <td>Transportation</td>\n",
       "      <td>Technology</td>\n",
       "      <td>5000.0</td>\n",
       "      <td>5000.0</td>\n",
       "      <td>50000.0</td>\n",
       "      <td>50000.0</td>\n",
       "      <td>50000.0</td>\n",
       "      <td>2021</td>\n",
       "    </tr>\n",
       "    <tr>\n",
       "      <th>1</th>\n",
       "      <td>ADIDAS</td>\n",
       "      <td>2018-09-29</td>\n",
       "      <td>f64a8fa5-a304-4c85-9641-7205e77e70d8</td>\n",
       "      <td>HK</td>\n",
       "      <td>36.0</td>\n",
       "      <td>Contract Signed</td>\n",
       "      <td>New Business</td>\n",
       "      <td>Warehousing</td>\n",
       "      <td>Warehousing</td>\n",
       "      <td>Retail</td>\n",
       "      <td>950.4</td>\n",
       "      <td>1188.0</td>\n",
       "      <td>10777.6</td>\n",
       "      <td>13472.0</td>\n",
       "      <td>40416.0</td>\n",
       "      <td>2018</td>\n",
       "    </tr>\n",
       "    <tr>\n",
       "      <th>2</th>\n",
       "      <td>ADIDAS</td>\n",
       "      <td>2019-10-30</td>\n",
       "      <td>f64a8fa5-a304-4c85-9641-7205e77e70d8</td>\n",
       "      <td>HK</td>\n",
       "      <td>12.0</td>\n",
       "      <td>Contract Signed</td>\n",
       "      <td>Straightforward Renewals</td>\n",
       "      <td>Warehousing</td>\n",
       "      <td>Transportation</td>\n",
       "      <td>Retail</td>\n",
       "      <td>1087.2</td>\n",
       "      <td>1359.0</td>\n",
       "      <td>13123.2</td>\n",
       "      <td>16404.0</td>\n",
       "      <td>0.0</td>\n",
       "      <td>2019</td>\n",
       "    </tr>\n",
       "  </tbody>\n",
       "</table>\n",
       "</div>"
      ],
      "text/plain": [
       "  account_name_en contract_end_date                            account_id  \\\n",
       "0             ABC        2021-06-28  e0209d33-e3aa-ea11-a812-000d3a851174   \n",
       "1          ADIDAS        2018-09-29  f64a8fa5-a304-4c85-9641-7205e77e70d8   \n",
       "2          ADIDAS        2019-10-30  f64a8fa5-a304-4c85-9641-7205e77e70d8   \n",
       "\n",
       "    bg  contract_term        milestone        opportunity_record     product1  \\\n",
       "0  TSC           12.0  Closed-Canceled              New Business  Warehousing   \n",
       "1   HK           36.0  Contract Signed              New Business  Warehousing   \n",
       "2   HK           12.0  Contract Signed  Straightforward Renewals  Warehousing   \n",
       "\n",
       "         product2      sector  annual_average_gross_profit_base  \\\n",
       "0  Transportation  Technology                            5000.0   \n",
       "1     Warehousing      Retail                             950.4   \n",
       "2  Transportation      Retail                            1087.2   \n",
       "\n",
       "   annual_average_gross_profit  annual_average_revenue_base  \\\n",
       "0                       5000.0                      50000.0   \n",
       "1                       1188.0                      10777.6   \n",
       "2                       1359.0                      13123.2   \n",
       "\n",
       "   annual_average_revenue  contract_value contract_end_yr  \n",
       "0                 50000.0         50000.0            2021  \n",
       "1                 13472.0         40416.0            2018  \n",
       "2                 16404.0             0.0            2019  "
      ]
     },
     "execution_count": 3,
     "metadata": {},
     "output_type": "execute_result"
    }
   ],
   "source": [
    "def data_prepare():\n",
    "    \"\"\"\n",
    "    data prepare opportunity .\n",
    "    \"\"\"\n",
    "    # df = pd.read_csv('./data_down/dwd_dsc_d365_opportunity_df.csv', sep = '\\001')\n",
    "\n",
    "    # df.columns = [re.sub('^\\w+.{1}', '', i) for i in list(df.columns)]\n",
    "    df = df_oppa.copy()\n",
    "    df['contract_end_date'] = df['contract_end_date'].str.slice(0,10).fillna(pd.NaT)\n",
    "    colname = ['annual_average_gross_profit_base', 'annual_average_gross_profit',\n",
    "        'annual_average_revenue_base', 'annual_average_revenue']\n",
    "    for i in colname:\n",
    "        df = df[~df.index.isin(df[i].str.extract('([a-zA-Z]+)').dropna().index)]\n",
    "\n",
    "    df[['annual_average_gross_profit_base', 'annual_average_gross_profit',\n",
    "        'annual_average_revenue_base', 'annual_average_revenue']] = df[['annual_average_gross_profit_base', 'annual_average_gross_profit',\n",
    "        'annual_average_revenue_base', 'annual_average_revenue']].astype(float)\n",
    "    df['contract_end_date'] = pd.to_datetime(df['contract_end_date'])\n",
    "\n",
    "    contract_summary = df.groupby([\n",
    "        'account_name_en', 'contract_end_date', 'account_id','bg', 'contract_term', 'milestone','opportunity_record'\\\n",
    "        ,'product1', 'product2', 'sector'\n",
    "        ])[[\n",
    "        'annual_average_gross_profit_base', 'annual_average_gross_profit',\n",
    "        'annual_average_revenue_base', 'annual_average_revenue', 'contract_value']].sum()\n",
    "    contract_summary = contract_summary.reset_index()\n",
    "    contract_summary['contract_end_yr'] = contract_summary['contract_end_date'].astype(str).str.slice(0,4)\n",
    "    return contract_summary\n",
    "\n",
    "opportunity = data_prepare();opportunity.head(3)\n",
    "# del contract_summary"
   ]
  },
  {
   "cell_type": "code",
   "execution_count": null,
   "metadata": {},
   "outputs": [],
   "source": [
    "# df_list = [opportunity,df_bill,df_cost,df_esti]\n",
    "# def check_ouname(df):\n",
    "#     print(pd.Series(df.columns).str.extract('(ou_code|cost_center)').dropna(),'\\t')\n",
    "\n",
    "# for i in df_list:\n",
    "#     check_ouname(i)\n",
    "# del df_list,i"
   ]
  },
  {
   "cell_type": "code",
   "execution_count": 47,
   "metadata": {},
   "outputs": [],
   "source": [
    "\"\"\"\n",
    "my functions.\n",
    "to customer level. functions set up.\n",
    "\"\"\"\n",
    "def data_clean(df, substr_year, **kwargs):\n",
    "    \"\"\"\n",
    "    where u can set for month/year level.\n",
    "    \"\"\"\n",
    "    df = df[~df['account_name_en'].isna()]\n",
    "    df[substr_year] = df[substr_year].astype(str).str.slice(0,4) \n",
    "    df = df.groupby(['account_name_en','account_name_cn', substr_year]).agg({\n",
    "        **kwargs\n",
    "    })\n",
    "    df = df.rename({substr_year: 'month'}, axis = 1)\n",
    "    return df \n",
    "\n",
    "def to_cust_level(df,  substr_year, **kwargs):\n",
    "    \"\"\"\n",
    "    (df,  substr_year, **kwargs) 必须要有ou_code or cost_center!! \n",
    "    merge all to cust level \\\n",
    "        to_cust_level(df,  substr_year, **kwargs):\n",
    "    \"\"\"\n",
    "    try:\n",
    "        df1 = df.merge(rel, left_on = 'ou_code', right_on = 'cc_in_ou', how  ='left')\n",
    "    except:\n",
    "        df1 = df.merge(rel, left_on = 'cost_center', right_on = 'cc_in_ou', how  ='left')\n",
    "    return data_clean(df1, substr_year,  **kwargs)"
   ]
  },
  {
   "cell_type": "markdown",
   "metadata": {},
   "source": [
    "---\n",
    "# billing"
   ]
  },
  {
   "cell_type": "code",
   "execution_count": 7,
   "metadata": {},
   "outputs": [
    {
     "data": {
      "text/html": [
       "<div>\n",
       "<style scoped>\n",
       "    .dataframe tbody tr th:only-of-type {\n",
       "        vertical-align: middle;\n",
       "    }\n",
       "\n",
       "    .dataframe tbody tr th {\n",
       "        vertical-align: top;\n",
       "    }\n",
       "\n",
       "    .dataframe thead th {\n",
       "        text-align: right;\n",
       "    }\n",
       "</style>\n",
       "<table border=\"1\" class=\"dataframe\">\n",
       "  <thead>\n",
       "    <tr style=\"text-align: right;\">\n",
       "      <th>category</th>\n",
       "      <th>cost_center</th>\n",
       "      <th>month</th>\n",
       "      <th>人力</th>\n",
       "      <th>场地</th>\n",
       "      <th>增值</th>\n",
       "      <th>报关代理</th>\n",
       "      <th>操作</th>\n",
       "      <th>短驳运输</th>\n",
       "      <th>索赔及返利</th>\n",
       "      <th>设备使用</th>\n",
       "    </tr>\n",
       "  </thead>\n",
       "  <tbody>\n",
       "    <tr>\n",
       "      <th>0</th>\n",
       "      <td>ABBOTBJXWS</td>\n",
       "      <td>202003</td>\n",
       "      <td>8153.490566</td>\n",
       "      <td>94013.547170</td>\n",
       "      <td>1368.516509</td>\n",
       "      <td>0.0</td>\n",
       "      <td>18795.386792</td>\n",
       "      <td>0.0</td>\n",
       "      <td>0.0</td>\n",
       "      <td>16845.283019</td>\n",
       "    </tr>\n",
       "    <tr>\n",
       "      <th>1</th>\n",
       "      <td>ABBOTBJXWS</td>\n",
       "      <td>202005</td>\n",
       "      <td>16216.742138</td>\n",
       "      <td>182958.566038</td>\n",
       "      <td>1066.343553</td>\n",
       "      <td>0.0</td>\n",
       "      <td>55997.735849</td>\n",
       "      <td>0.0</td>\n",
       "      <td>0.0</td>\n",
       "      <td>17986.415094</td>\n",
       "    </tr>\n",
       "  </tbody>\n",
       "</table>\n",
       "</div>"
      ],
      "text/plain": [
       "category cost_center   month            人力             场地           增值  报关代理  \\\n",
       "0         ABBOTBJXWS  202003   8153.490566   94013.547170  1368.516509   0.0   \n",
       "1         ABBOTBJXWS  202005  16216.742138  182958.566038  1066.343553   0.0   \n",
       "\n",
       "category            操作  短驳运输  索赔及返利          设备使用  \n",
       "0         18795.386792   0.0    0.0  16845.283019  \n",
       "1         55997.735849   0.0    0.0  17986.415094  "
      ]
     },
     "execution_count": 7,
     "metadata": {},
     "output_type": "execute_result"
    }
   ],
   "source": [
    "\"\"\"\n",
    "~billing~\n",
    "bill detail table now having 50+ bms_types. which is unacceptalble/\n",
    "\"\"\"\n",
    "def data_load_bms():\n",
    "    df = df_bill.copy()\n",
    "    df['month'] = df['bms_bill_end_date'].astype(str).str.slice(0,6) \n",
    "    df = df.merge(df_bill_type, left_on = 'bms_fee_type', right_on = 'billing_fee_type_code', how = 'left')\n",
    "    bms = df.pivot_table(index= ['cost_center', 'month'],\\\n",
    "        columns= 'category',\n",
    "        values='bms_amount',).reset_index().fillna(0)\n",
    "    return bms\n",
    "bms = data_load_bms()\n",
    "bms['yr'] = bms['month'].str.slice(0,4)\n",
    "bms.head(2)"
   ]
  },
  {
   "cell_type": "code",
   "execution_count": 8,
   "metadata": {},
   "outputs": [
    {
     "name": "stderr",
     "output_type": "stream",
     "text": [
      "C:\\Users\\DSCSHA~1\\AppData\\Local\\Temp/ipykernel_21156/4278657550.py:9: SettingWithCopyWarning: \n",
      "A value is trying to be set on a copy of a slice from a DataFrame.\n",
      "Try using .loc[row_indexer,col_indexer] = value instead\n",
      "\n",
      "See the caveats in the documentation: https://pandas.pydata.org/pandas-docs/stable/user_guide/indexing.html#returning-a-view-versus-a-copy\n",
      "  df[substr_year] = df[substr_year].astype(str).str.slice(0,4)\n"
     ]
    },
    {
     "data": {
      "text/html": [
       "<div>\n",
       "<style scoped>\n",
       "    .dataframe tbody tr th:only-of-type {\n",
       "        vertical-align: middle;\n",
       "    }\n",
       "\n",
       "    .dataframe tbody tr th {\n",
       "        vertical-align: top;\n",
       "    }\n",
       "\n",
       "    .dataframe thead th {\n",
       "        text-align: right;\n",
       "    }\n",
       "</style>\n",
       "<table border=\"1\" class=\"dataframe\">\n",
       "  <thead>\n",
       "    <tr style=\"text-align: right;\">\n",
       "      <th></th>\n",
       "      <th>account_name_en</th>\n",
       "      <th>account_name_cn</th>\n",
       "      <th>month</th>\n",
       "      <th>cost_center</th>\n",
       "      <th>人力</th>\n",
       "      <th>场地</th>\n",
       "      <th>增值</th>\n",
       "      <th>报关代理</th>\n",
       "      <th>操作</th>\n",
       "      <th>短驳运输</th>\n",
       "      <th>索赔及返利</th>\n",
       "      <th>设备使用</th>\n",
       "    </tr>\n",
       "  </thead>\n",
       "  <tbody>\n",
       "    <tr>\n",
       "      <th>0</th>\n",
       "      <td>ASML</td>\n",
       "      <td>阿斯麦</td>\n",
       "      <td>2020</td>\n",
       "      <td>{ASMLXXMXAS, ASMLXSHZCS, ASMLXGZGQS, ASMLXNJLH...</td>\n",
       "      <td>1.327222e+06</td>\n",
       "      <td>2.650783e+06</td>\n",
       "      <td>277290.273019</td>\n",
       "      <td>8.301644e+05</td>\n",
       "      <td>351038.906930</td>\n",
       "      <td>3.930000e+04</td>\n",
       "      <td>0.0</td>\n",
       "      <td>218274.787736</td>\n",
       "    </tr>\n",
       "    <tr>\n",
       "      <th>1</th>\n",
       "      <td>ASML</td>\n",
       "      <td>阿斯麦</td>\n",
       "      <td>2021</td>\n",
       "      <td>{ASMLXXAEPS, ASMLXXMXAS, ASMLXSHZCS, ASMLXTJXQ...</td>\n",
       "      <td>2.027038e+06</td>\n",
       "      <td>3.116845e+06</td>\n",
       "      <td>614587.514906</td>\n",
       "      <td>2.113024e+06</td>\n",
       "      <td>180360.231132</td>\n",
       "      <td>1.676826e+06</td>\n",
       "      <td>0.0</td>\n",
       "      <td>274845.181649</td>\n",
       "    </tr>\n",
       "  </tbody>\n",
       "</table>\n",
       "</div>"
      ],
      "text/plain": [
       "  account_name_en account_name_cn month  \\\n",
       "0            ASML             阿斯麦  2020   \n",
       "1            ASML             阿斯麦  2021   \n",
       "\n",
       "                                         cost_center            人力  \\\n",
       "0  {ASMLXXMXAS, ASMLXSHZCS, ASMLXGZGQS, ASMLXNJLH...  1.327222e+06   \n",
       "1  {ASMLXXAEPS, ASMLXXMXAS, ASMLXSHZCS, ASMLXTJXQ...  2.027038e+06   \n",
       "\n",
       "             场地             增值          报关代理             操作          短驳运输  \\\n",
       "0  2.650783e+06  277290.273019  8.301644e+05  351038.906930  3.930000e+04   \n",
       "1  3.116845e+06  614587.514906  2.113024e+06  180360.231132  1.676826e+06   \n",
       "\n",
       "   索赔及返利           设备使用  \n",
       "0    0.0  218274.787736  \n",
       "1    0.0  274845.181649  "
      ]
     },
     "execution_count": 8,
     "metadata": {},
     "output_type": "execute_result"
    }
   ],
   "source": [
    "bms_cus_yr = to_cust_level(df = bms, substr_year = 'month' ,\\\n",
    "    cost_center = set, \n",
    "    人力 = 'sum',\n",
    "    场地 = 'sum',\n",
    "    增值 = 'sum',\n",
    "    报关代理 = 'sum',\n",
    "    操作 = 'sum',\n",
    "    短驳运输 = 'sum',\n",
    "    索赔及返利 = 'sum',\n",
    "    设备使用 = 'sum' ).reset_index()\n",
    "bms_cus_yr.head(2)"
   ]
  },
  {
   "cell_type": "markdown",
   "metadata": {},
   "source": [
    "---\n",
    "# SAP sys finance"
   ]
  },
  {
   "cell_type": "code",
   "execution_count": 48,
   "metadata": {},
   "outputs": [
    {
     "name": "stderr",
     "output_type": "stream",
     "text": [
      "C:\\Users\\DSCSHA~1\\AppData\\Local\\Temp/ipykernel_21156/2950030418.py:10: SettingWithCopyWarning: \n",
      "A value is trying to be set on a copy of a slice from a DataFrame.\n",
      "Try using .loc[row_indexer,col_indexer] = value instead\n",
      "\n",
      "See the caveats in the documentation: https://pandas.pydata.org/pandas-docs/stable/user_guide/indexing.html#returning-a-view-versus-a-copy\n",
      "  df[substr_year] = df[substr_year].astype(str).str.slice(0,4)\n"
     ]
    }
   ],
   "source": [
    "def load_data_sap():\n",
    "    df = sap_fina.copy()\n",
    "    df = df.rename({'prctr': 'cost_center'}, axis =1 )\n",
    "    return df\n",
    "\n",
    "sap_fina = load_data_sap()\n",
    "\n",
    "sap_cust_yr = to_cust_level(sap_fina, 'yy', \\\n",
    "    cost_center = set, \n",
    "    income_amt = sum,\n",
    "    gross_profit_amt = sum,\n",
    "    human_cost_amt = sum, \n",
    "    service_outsourcing_amt = sum,\n",
    "    labor_service_outsourcing_amt = sum).reset_index()\n",
    "    \n",
    "sap_cust_yr = sap_cust_yr.rename({'yy':'month'}, axis =1 )"
   ]
  },
  {
   "cell_type": "code",
   "execution_count": 72,
   "metadata": {},
   "outputs": [
    {
     "data": {
      "text/plain": [
       "0       True\n",
       "1       True\n",
       "2      False\n",
       "3      False\n",
       "4      False\n",
       "       ...  \n",
       "187    False\n",
       "190    False\n",
       "191     True\n",
       "194    False\n",
       "196     True\n",
       "Name: wh_pct, Length: 92, dtype: bool"
      ]
     },
     "execution_count": 72,
     "metadata": {},
     "output_type": "execute_result"
    }
   ],
   "source": [
    "def data_man_fca():\n",
    "    finance_cust_ann = sap_cust_yr.merge(bms_cus_yr, on = ['account_name_en', 'month'], how = 'inner') \n",
    "    finance_cust_ann['operation_fee'] = finance_cust_ann['人力'] +  finance_cust_ann['操作']\n",
    "    finance_cust_ann['bms_total'] = finance_cust_ann[['人力', '场地', '增值', '报关代理', '操作',\n",
    "        '短驳运输', '索赔及返利', '设备使用']].sum(axis = 1)\n",
    "    finance_cust_ann['op_pct'] = finance_cust_ann['operation_fee'] / finance_cust_ann['bms_total']\n",
    "    finance_cust_ann['wh_pct'] = finance_cust_ann['场地'] / finance_cust_ann['bms_total']\n",
    "    finance_cust_ann['va_pct'] = finance_cust_ann['增值'] / finance_cust_ann['bms_total']\n",
    "    finance_cust_ann['type']   = finance_cust_ann[['op_pct','wh_pct','va_pct']].idxmax(axis = 1)\n",
    "    return finance_cust_ann\n"
   ]
  },
  {
   "cell_type": "code",
   "execution_count": 302,
   "metadata": {},
   "outputs": [
    {
     "name": "stderr",
     "output_type": "stream",
     "text": [
      "C:\\Users\\DSCSHA~1\\AppData\\Local\\Temp/ipykernel_21156/2853613689.py:3: SettingWithCopyWarning:\n",
      "\n",
      "\n",
      "A value is trying to be set on a copy of a slice from a DataFrame.\n",
      "Try using .loc[row_indexer,col_indexer] = value instead\n",
      "\n",
      "See the caveats in the documentation: https://pandas.pydata.org/pandas-docs/stable/user_guide/indexing.html#returning-a-view-versus-a-copy\n",
      "\n"
     ]
    },
    {
     "data": {
      "text/html": [
       "<div>\n",
       "<style scoped>\n",
       "    .dataframe tbody tr th:only-of-type {\n",
       "        vertical-align: middle;\n",
       "    }\n",
       "\n",
       "    .dataframe tbody tr th {\n",
       "        vertical-align: top;\n",
       "    }\n",
       "\n",
       "    .dataframe thead th {\n",
       "        text-align: right;\n",
       "    }\n",
       "</style>\n",
       "<table border=\"1\" class=\"dataframe\">\n",
       "  <thead>\n",
       "    <tr style=\"text-align: right;\">\n",
       "      <th></th>\n",
       "      <th>account_name_en</th>\n",
       "      <th>account_name_cn_x</th>\n",
       "      <th>month</th>\n",
       "      <th>cost_center_x</th>\n",
       "      <th>income_amt</th>\n",
       "      <th>gross_profit_amt</th>\n",
       "      <th>human_cost_amt</th>\n",
       "      <th>service_outsourcing_amt</th>\n",
       "      <th>labor_service_outsourcing_amt</th>\n",
       "      <th>account_name_cn_y</th>\n",
       "      <th>...</th>\n",
       "      <th>短驳运输</th>\n",
       "      <th>索赔及返利</th>\n",
       "      <th>设备使用</th>\n",
       "      <th>bms_total</th>\n",
       "      <th>operation_fee</th>\n",
       "      <th>op_pct</th>\n",
       "      <th>wh_pct</th>\n",
       "      <th>va_pct</th>\n",
       "      <th>type</th>\n",
       "      <th>flag</th>\n",
       "    </tr>\n",
       "  </thead>\n",
       "  <tbody>\n",
       "    <tr>\n",
       "      <th>0</th>\n",
       "      <td>ASML</td>\n",
       "      <td>阿斯麦</td>\n",
       "      <td>2020</td>\n",
       "      <td>{ASMLXXMXAS, ASMLXSHZCS, ASMLXGZGQS, ASMLXTJXQ...</td>\n",
       "      <td>44186486.9</td>\n",
       "      <td>7216033.92</td>\n",
       "      <td>8542221.21</td>\n",
       "      <td>136642.98</td>\n",
       "      <td>249772.05</td>\n",
       "      <td>阿斯麦</td>\n",
       "      <td>...</td>\n",
       "      <td>39300.0</td>\n",
       "      <td>0.0</td>\n",
       "      <td>218274.787736</td>\n",
       "      <td>5.694073e+06</td>\n",
       "      <td>1.678261e+06</td>\n",
       "      <td>0.294738</td>\n",
       "      <td>0.465534</td>\n",
       "      <td>0.048698</td>\n",
       "      <td>balance</td>\n",
       "      <td>True</td>\n",
       "    </tr>\n",
       "  </tbody>\n",
       "</table>\n",
       "<p>1 rows × 26 columns</p>\n",
       "</div>"
      ],
      "text/plain": [
       "  account_name_en account_name_cn_x month  \\\n",
       "0            ASML               阿斯麦  2020   \n",
       "\n",
       "                                       cost_center_x  income_amt  \\\n",
       "0  {ASMLXXMXAS, ASMLXSHZCS, ASMLXGZGQS, ASMLXTJXQ...  44186486.9   \n",
       "\n",
       "   gross_profit_amt  human_cost_amt  service_outsourcing_amt  \\\n",
       "0        7216033.92      8542221.21                136642.98   \n",
       "\n",
       "   labor_service_outsourcing_amt account_name_cn_y  ...     短驳运输  索赔及返利  \\\n",
       "0                      249772.05               阿斯麦  ...  39300.0    0.0   \n",
       "\n",
       "            设备使用     bms_total  operation_fee    op_pct    wh_pct    va_pct  \\\n",
       "0  218274.787736  5.694073e+06   1.678261e+06  0.294738  0.465534  0.048698   \n",
       "\n",
       "      type  flag  \n",
       "0  balance  True  \n",
       "\n",
       "[1 rows x 26 columns]"
      ]
     },
     "execution_count": 302,
     "metadata": {},
     "output_type": "execute_result"
    }
   ],
   "source": [
    "def mani(type):\n",
    "    df = finance_cust_ann[finance_cust_ann['type'] == type] \n",
    "    df['flag'] = df[i] < .5\n",
    "    return df\n",
    "finance_cust_ann2 = pd.DataFrame()\n",
    "for i in finance_cust_ann['type'].unique():\n",
    "    finance_cust_ann2 = pd.concat([finance_cust_ann2, mani(i)], axis = 0)\n",
    "finance_cust_ann2.loc[finance_cust_ann2['flag'] == True,  'type'] = 'balance'\n",
    "\n",
    "finance_cust_ann2.head(1)"
   ]
  },
  {
   "cell_type": "code",
   "execution_count": 303,
   "metadata": {},
   "outputs": [],
   "source": [
    "finance_cust_ann2 = finance_cust_ann2.drop('flag', axis = 1)\n",
    "finance_cust_ann2['type'] = finance_cust_ann2['type'].replace(\n",
    "    {'wh_pct': '仓储型', 'balance': '平衡型', 'va_pct': '增值型', 'op_pct': '操作型'})"
   ]
  },
  {
   "cell_type": "code",
   "execution_count": 304,
   "metadata": {},
   "outputs": [
    {
     "data": {
      "text/plain": [
       "116"
      ]
     },
     "execution_count": 304,
     "metadata": {},
     "output_type": "execute_result"
    }
   ],
   "source": [
    "finance_cust_ann2['account_name_en'].nunique()\n",
    "\n",
    "# my mapping 116 customers."
   ]
  },
  {
   "cell_type": "code",
   "execution_count": 305,
   "metadata": {},
   "outputs": [],
   "source": [
    "from plotly.subplots import make_subplots\n",
    "import plotly.graph_objects as go"
   ]
  },
  {
   "cell_type": "code",
   "execution_count": 306,
   "metadata": {},
   "outputs": [],
   "source": [
    "# finance_cust_ann2.to_csv('./plot_data.csv', index = None, encoding = 'utf_8_sig', sep = '\\001')\n",
    "plot_data = finance_cust_ann2[finance_cust_ann2['month'] > \"2019\"]"
   ]
  },
  {
   "cell_type": "code",
   "execution_count": 307,
   "metadata": {},
   "outputs": [],
   "source": [
    "plot_data = plot_data.rename({'month' : 'year'}, axis = 1)"
   ]
  },
  {
   "cell_type": "code",
   "execution_count": 334,
   "metadata": {},
   "outputs": [],
   "source": [
    "plot_data['profit_rate'] = plot_data['gross_profit_amt']/ (plot_data['income_amt'] - plot_data['gross_profit_amt'])\n",
    "plot_data = plot_data[plot_data['profit_rate'] < 3]"
   ]
  },
  {
   "cell_type": "code",
   "execution_count": 381,
   "metadata": {},
   "outputs": [],
   "source": [
    "cust_weight_avg  = plot_data.groupby('year').apply(\n",
    "    lambda x: np.average(x['profit_rate'], weights=x['income_amt']))\n",
    "line_20 = cust_weight_avg[0].round(4)\n",
    "line_21 = cust_weight_avg[1].round(4)\n"
   ]
  },
  {
   "cell_type": "code",
   "execution_count": 408,
   "metadata": {},
   "outputs": [
    {
     "data": {
      "application/vnd.plotly.v1+json": {
       "config": {
        "plotlyServerURL": "https://plot.ly"
       },
       "data": [
        {
         "customdata": [
          [
           "阿斯麦"
          ],
          [
           "爱步"
          ],
          [
           "惠普"
          ],
          [
           "瑞士莲"
          ],
          [
           "西门子"
          ],
          [
           "苏州科密优机电科技"
          ],
          [
           "斑马技术"
          ],
          [
           "博柏利"
          ],
          [
           "惠美寿集团"
          ],
          [
           "英特尔"
          ],
          [
           "玛氏 箭牌糖果"
          ],
          [
           "美的"
          ],
          [
           "星巴克"
          ],
          [
           "赛默飞世尔"
          ],
          [
           "宝马中国"
          ],
          [
           "宝马供应商"
          ]
         ],
         "hovertemplate": "type=平衡型<br>year=2020<br>income_amt=%{marker.size}<br>profit_rate=%{y}<br>account_name_cn_x=%{customdata[0]}<extra></extra>",
         "legendgroup": "平衡型",
         "marker": {
          "color": "#636efa",
          "size": [
           44186486.9,
           14401635.540000001,
           72928007.74000001,
           12902497.399999999,
           71958530.11000001,
           71958530.11000001,
           12954155.72,
           39317479.28,
           8824273.08,
           5963250.4,
           176196335.58,
           9274471.41,
           232694746.37000003,
           4407406.21,
           217696970.28,
           209999387.28
          ],
          "sizemode": "area",
          "sizeref": 960858.7677249999,
          "symbol": "circle"
         },
         "mode": "markers",
         "name": "平衡型",
         "orientation": "v",
         "showlegend": true,
         "type": "scatter",
         "x": [
          44186486.9,
          14401635.540000001,
          72928007.74000001,
          12902497.399999999,
          71958530.11000001,
          71958530.11000001,
          12954155.72,
          39317479.28,
          8824273.08,
          5963250.4,
          176196335.58,
          9274471.41,
          232694746.37000003,
          4407406.21,
          217696970.28,
          209999387.28
         ],
         "xaxis": "x",
         "y": [
          0.19518381135074758,
          -0.2551058360148085,
          0.2533585612643197,
          0.2894331574545818,
          0.4099257060760133,
          0.4099257060760133,
          0.24137394739996906,
          0.33491850061494705,
          -0.09486656441731166,
          0.1442268988135904,
          0.16855619895195711,
          0.05390028100139635,
          0.10183936928368184,
          0.19707900802667047,
          0.13424620220231104,
          0.1322763712812243
         ],
         "yaxis": "y"
        },
        {
         "customdata": [
          [
           "阿斯麦"
          ],
          [
           "欧泰谱"
          ],
          [
           "中通服供应链管理"
          ],
          [
           "戴尔"
          ],
          [
           "惠普"
          ],
          [
           "昆仑润滑油"
          ],
          [
           "利盟"
          ],
          [
           "联想"
          ],
          [
           "瑞士莲"
          ],
          [
           "诺基亚 网络"
          ],
          [
           "沃尔沃汽车"
          ],
          [
           "博柏利"
          ],
          [
           "蔻驰"
          ],
          [
           "敦豪物流 供应链"
          ],
          [
           "敦豪物流 供应链物流"
          ],
          [
           "顺邦国际物流"
          ],
          [
           "爱步"
          ],
          [
           "英特尔"
          ],
          [
           "米其林"
          ],
          [
           "浓遇咖啡"
          ],
          [
           "青木科技"
          ],
          [
           "斯库林集团"
          ],
          [
           "顺丰速运"
          ],
          [
           "赛默飞世尔"
          ],
          [
           "闻绮"
          ]
         ],
         "hovertemplate": "type=平衡型<br>year=2021<br>income_amt=%{marker.size}<br>profit_rate=%{y}<br>account_name_cn_x=%{customdata[0]}<extra></extra>",
         "legendgroup": "平衡型",
         "marker": {
          "color": "#636efa",
          "size": [
           42633588.839999996,
           9779004.08,
           10292319.830000002,
           39437205.28,
           53583839.760000005,
           47865169.13,
           6637418.09,
           1581355.54,
           10509052.18,
           30667448.13,
           35244574.51,
           43567817.28,
           5210750.86,
           711289.3799999999,
           711289.3799999999,
           34700787.240000024,
           11076181.48,
           5835236.91,
           96419424.71,
           10556330.15,
           10428346.889999999,
           711289.3799999999,
           25660784.01,
           4468301.130000004,
           2117997.67
          ],
          "sizemode": "area",
          "sizeref": 960858.7677249999,
          "symbol": "circle"
         },
         "mode": "markers",
         "name": "平衡型",
         "orientation": "v",
         "showlegend": false,
         "type": "scatter",
         "x": [
          42633588.839999996,
          9779004.08,
          10292319.830000002,
          39437205.28,
          53583839.760000005,
          47865169.13,
          6637418.09,
          1581355.54,
          10509052.18,
          30667448.13,
          35244574.51,
          43567817.28,
          5210750.86,
          711289.3799999999,
          711289.3799999999,
          34700787.240000024,
          11076181.48,
          5835236.91,
          96419424.71,
          10556330.15,
          10428346.889999999,
          711289.3799999999,
          25660784.01,
          4468301.130000004,
          2117997.67
         ],
         "xaxis": "x2",
         "y": [
          0.19997163576773846,
          0.013551985574770139,
          0.5199599285916308,
          0.4162675468304383,
          0.18226973555545195,
          -0.035298051319006485,
          0.21888113796404432,
          0.4368486796430452,
          0.027303427193514904,
          0.15595068073226195,
          0.09687337342385793,
          0.28176607299781936,
          0.24500049862133322,
          0.3758008434231897,
          0.3758008434231897,
          -0.03221958895177399,
          -0.36683073732682214,
          0.23988025695029908,
          0.2554080170311673,
          0.24480520714930223,
          -0.3841625482307651,
          0.3758008434231897,
          0.28299660180532876,
          0.23311771059185996,
          0.19916249334918443
         ],
         "yaxis": "y2"
        },
        {
         "customdata": [
          [
           "雅培 营养品"
          ],
          [
           "安科锐"
          ],
          [
           "艾沛克斯工具"
          ],
          [
           "博士"
          ],
          [
           "百时美施贵宝"
          ],
          [
           "北京京通路远机房设备"
          ],
          [
           "北京金剑伟业物流"
          ],
          [
           "中通服供应链管理"
          ],
          [
           "蔻驰 皮革"
          ],
          [
           "敦豪物流 供应链"
          ],
          [
           "大昌华嘉"
          ],
          [
           "敦豪物流 供应链物流"
          ],
          [
           "迪亚多纳"
          ],
          [
           "福特汽车"
          ],
          [
           "好时"
          ],
          [
           "吉林省成全物流"
          ],
          [
           "科磊半导体"
          ],
          [
           "凯斯克"
          ],
          [
           "利盟"
          ],
          [
           "联想"
          ],
          [
           "本土物流"
          ],
          [
           "瑞幸咖啡"
          ],
          [
           "MingYu logistic"
          ],
          [
           "诺基亚 网络"
          ],
          [
           "奥佳华按摩椅"
          ],
          [
           "保乐力加"
          ],
          [
           "斯库林集团"
          ],
          [
           "顺丰速运"
          ],
          [
           "瑞典滚珠轴承"
          ],
          [
           "壳牌"
          ],
          [
           "中铁信息工程集团"
          ],
          [
           "索尔维"
          ],
          [
           "广州淘通科技"
          ],
          [
           "沃尔沃汽车"
          ]
         ],
         "hovertemplate": "type=仓储型<br>year=2020<br>income_amt=%{marker.size}<br>profit_rate=%{y}<br>account_name_cn_x=%{customdata[0]}<extra></extra>",
         "legendgroup": "仓储型",
         "marker": {
          "color": "#EF553B",
          "size": [
           51638291.91,
           419497.23,
           2125397.29,
           23383845.93,
           1849845.9300000002,
           152833.33000000002,
           15250201.709999999,
           32170185.23000002,
           26790044.1,
           713046.5599999999,
           1471966.33,
           713046.5599999999,
           2381299.56,
           97281407.41,
           25481708.88,
           42704596.85,
           29859788.330000002,
           499758.79000000004,
           8499280.799999999,
           1394148.47,
           23383845.93,
           109903279.08999999,
           830861.61,
           36840838.64,
           645258.95,
           37297399.379999995,
           713046.5599999999,
           43500692.32000002,
           3214978.74,
           3696578.28,
           247980,
           3672532.8699999996,
           73105015.80000003,
           36996898.38
          ],
          "sizemode": "area",
          "sizeref": 960858.7677249999,
          "symbol": "circle"
         },
         "mode": "markers",
         "name": "仓储型",
         "orientation": "v",
         "showlegend": true,
         "type": "scatter",
         "x": [
          51638291.91,
          419497.23,
          2125397.29,
          23383845.93,
          1849845.9300000002,
          152833.33000000002,
          15250201.709999999,
          32170185.23000002,
          26790044.1,
          713046.5599999999,
          1471966.33,
          713046.5599999999,
          2381299.56,
          97281407.41,
          25481708.88,
          42704596.85,
          29859788.330000002,
          499758.79000000004,
          8499280.799999999,
          1394148.47,
          23383845.93,
          109903279.08999999,
          830861.61,
          36840838.64,
          645258.95,
          37297399.379999995,
          713046.5599999999,
          43500692.32000002,
          3214978.74,
          3696578.28,
          247980,
          3672532.8699999996,
          73105015.80000003,
          36996898.38
         ],
         "xaxis": "x",
         "y": [
          0.013982141276379464,
          0.7881723066078882,
          0.31996443978722483,
          0.23547062482517347,
          0.1647805808230799,
          0.8012462424273991,
          -0.13473128258644712,
          0.3158981598351712,
          0.19592904921846732,
          0.45057682601558696,
          -0.013445655918889802,
          0.45057682601558696,
          0.6300554934981766,
          0.18160186744371917,
          -0.03910562087889796,
          0.1370212940136544,
          0.33666899745163165,
          0.24106385176730835,
          0.2526437422552898,
          0.3747220120505316,
          0.23547062482517347,
          0.041470858302068904,
          0.19217304029708104,
          0.16283723522392135,
          0.07594335579051492,
          0.1922779697748563,
          0.45057682601558696,
          0.2846875465223,
          0.27770363559203054,
          0.11099048611655413,
          0.4428583747053973,
          0.0590868722095619,
          0.1788713812413917,
          0.1319395963516302
         ],
         "yaxis": "y"
        },
        {
         "customdata": [
          [
           "雅培 营养品"
          ],
          [
           "安科锐"
          ],
          [
           "空中客车 安保系统"
          ],
          [
           "艾沛克斯工具"
          ],
          [
           "博士"
          ],
          [
           "百时美施贵宝"
          ],
          [
           "北京航宇快捷货运代理有限公司"
          ],
          [
           "北京京通路远机房设备"
          ],
          [
           "北京金剑伟业物流"
          ],
          [
           "北京亿林在线科贸"
          ],
          [
           "波顿"
          ],
          [
           "香奈儿"
          ],
          [
           "蔻驰 皮革"
          ],
          [
           "咖世家"
          ],
          [
           "大昌华嘉"
          ],
          [
           "迪亚多纳"
          ],
          [
           "艾默生"
          ],
          [
           "福特汽车"
          ],
          [
           "丰宜科技"
          ],
          [
           "北京福田戴姆勒汽车"
          ],
          [
           "好时"
          ],
          [
           "科磊半导体"
          ],
          [
           "凯斯克"
          ],
          [
           "本土物流"
          ],
          [
           "瑞幸咖啡"
          ],
          [
           "MLB"
          ],
          [
           "MingYu logistic"
          ],
          [
           "奥佳华按摩椅"
          ],
          [
           "傲司弗"
          ],
          [
           "保乐力加"
          ],
          [
           "旭格"
          ],
          [
           "上海萨依克信息技术"
          ],
          [
           "上海心味电子商务有限公司"
          ],
          [
           "壳牌"
          ],
          [
           "中铁信息工程集团"
          ],
          [
           "索尔维"
          ],
          [
           "深圳威巍生物科技有限公司"
          ],
          [
           "无锡先导智能装备"
          ]
         ],
         "hovertemplate": "type=仓储型<br>year=2021<br>income_amt=%{marker.size}<br>profit_rate=%{y}<br>account_name_cn_x=%{customdata[0]}<extra></extra>",
         "legendgroup": "仓储型",
         "marker": {
          "color": "#EF553B",
          "size": [
           38711208.48,
           2512734.68,
           117119.73,
           5334451.31,
           21861839.88,
           1517688.81,
           612476.97,
           218333.32,
           12903369.83,
           839804.71,
           11166397.89,
           1139824.35,
           23041761.72,
           11940781.87,
           218812.69000000003,
           1822737.9100000001,
           100689.75,
           94807888.47999999,
           1631890.21,
           3394890.3,
           14899633.620000001,
           27499343.34,
           464753.95,
           21861839.88,
           110111218.79000002,
           32441327.909999996,
           651811.07,
           850590.78,
           390604.38,
           46833493.28,
           5645164.92,
           877738.9400000001,
           1641098.33,
           3340464.55,
           234160,
           3052340.88,
           84440.9,
           1152744.24
          ],
          "sizemode": "area",
          "sizeref": 960858.7677249999,
          "symbol": "circle"
         },
         "mode": "markers",
         "name": "仓储型",
         "orientation": "v",
         "showlegend": false,
         "type": "scatter",
         "x": [
          38711208.48,
          2512734.68,
          117119.73,
          5334451.31,
          21861839.88,
          1517688.81,
          612476.97,
          218333.32,
          12903369.83,
          839804.71,
          11166397.89,
          1139824.35,
          23041761.72,
          11940781.87,
          218812.69000000003,
          1822737.9100000001,
          100689.75,
          94807888.47999999,
          1631890.21,
          3394890.3,
          14899633.620000001,
          27499343.34,
          464753.95,
          21861839.88,
          110111218.79000002,
          32441327.909999996,
          651811.07,
          850590.78,
          390604.38,
          46833493.28,
          5645164.92,
          877738.9400000001,
          1641098.33,
          3340464.55,
          234160,
          3052340.88,
          84440.9,
          1152744.24
         ],
         "xaxis": "x2",
         "y": [
          0.016464436373773334,
          0.3785139076868167,
          0.26991172943791647,
          0.1991137455873442,
          0.2178159030292275,
          0.1331726197941293,
          0.05670752508774074,
          0.3835551637101781,
          -0.20690175176312464,
          0.08388572841933091,
          0.31037621420568534,
          0.26362972311568506,
          0.14913872780029422,
          0.011285331498264913,
          -0.5284139952229471,
          0.24856261764411414,
          0.5387746500268511,
          0.11404356709619333,
          0.17266303074512548,
          -0.08271510544222556,
          -0.08307131051734157,
          0.2900824987159937,
          0.054262611215820634,
          0.2178159030292275,
          -0.016543540644372412,
          0.0675302458443568,
          0.0856539430729584,
          -0.052237458071972644,
          0.4040277459514688,
          0.10243999044474526,
          0.10016850327757519,
          0.033458406433800256,
          0.1750366303417851,
          0.07507915641928556,
          1.0061517646613318,
          -0.2953622933866841,
          0.798943568653551,
          0.09816267773057485
         ],
         "yaxis": "y2"
        },
        {
         "customdata": [
          [
           "华晨宝马"
          ],
          [
           "DXC科技"
          ],
          [
           "戴尔"
          ],
          [
           "顺邦国际物流"
          ],
          [
           "费列罗"
          ],
          [
           "富士施乐"
          ],
          [
           "海尔"
          ],
          [
           "惠普企业"
          ],
          [
           "英飞凌"
          ],
          [
           "强生"
          ],
          [
           "是德科技"
          ],
          [
           "拉姆研究"
          ],
          [
           "乐缤士"
          ],
          [
           "米其林"
          ],
          [
           "妮瑞斯"
          ],
          [
           "安世"
          ],
          [
           "奥林巴斯 生命科学"
          ],
          [
           "傲司弗"
          ],
          [
           "荷兰皇家壳牌"
          ],
          [
           "森萨塔"
          ],
          [
           "上汽通用五菱"
          ],
          [
           "泰科电子"
          ],
          [
           "赛默飞世尔"
          ],
          [
           "威孚高科技集团"
          ],
          [
           "中兴通讯"
          ]
         ],
         "hovertemplate": "type=操作型<br>year=2020<br>income_amt=%{marker.size}<br>profit_rate=%{y}<br>account_name_cn_x=%{customdata[0]}<extra></extra>",
         "legendgroup": "操作型",
         "marker": {
          "color": "#00cc96",
          "size": [
           384343507.09,
           860248.91,
           38897483.62,
           31840743.220000017,
           1699763.1700000002,
           5812149.72,
           4750268.210000001,
           551653.65,
           30776878.16,
           57958382.86,
           2603831.02,
           21346945.96,
           2988519.36,
           90929763.16,
           217832.98,
           23916241.83000001,
           2702893.87,
           236133.54,
           1049958.1199999999,
           3255193.38,
           100171116.62000002,
           8782216.870000003,
           2702893.87,
           3292105.16,
           42198405.47
          ],
          "sizemode": "area",
          "sizeref": 960858.7677249999,
          "symbol": "circle"
         },
         "mode": "markers",
         "name": "操作型",
         "orientation": "v",
         "showlegend": true,
         "type": "scatter",
         "x": [
          384343507.09,
          860248.91,
          38897483.62,
          31840743.220000017,
          1699763.1700000002,
          5812149.72,
          4750268.210000001,
          551653.65,
          30776878.16,
          57958382.86,
          2603831.02,
          21346945.96,
          2988519.36,
          90929763.16,
          217832.98,
          23916241.83000001,
          2702893.87,
          236133.54,
          1049958.1199999999,
          3255193.38,
          100171116.62000002,
          8782216.870000003,
          2702893.87,
          3292105.16,
          42198405.47
         ],
         "xaxis": "x",
         "y": [
          0.08719158449515993,
          0.25179829911790624,
          0.3663597328169996,
          0.05504037539803719,
          0.5344986754257703,
          0.17244369887122551,
          0.29463192133285987,
          0.5921111522600493,
          0.5963361011418823,
          0.08875256727377696,
          0.543927303675095,
          0.14234357414698387,
          -0.052235707252859136,
          0.2217219747442779,
          0.9439058363941347,
          0.617791414345884,
          0.36869539865732737,
          0.8807293166682386,
          0.4670952618757716,
          0.2049093151209642,
          0.10256082573181895,
          0.3775976458651728,
          0.36869539865732737,
          0.10096621949580754,
          0.08745923552699722
         ],
         "yaxis": "y"
        },
        {
         "customdata": [
          [
           "Arte珠宝"
          ],
          [
           "英美烟草"
          ],
          [
           "视源电子科技"
          ],
          [
           "常州涛晨电子科技"
          ],
          [
           "康宁"
          ],
          [
           "DXC科技"
          ],
          [
           "惠美寿集团"
          ],
          [
           "费列罗"
          ],
          [
           "富贵平安"
          ],
          [
           "富士施乐"
          ],
          [
           "格来赛生命科技"
          ],
          [
           "海尔"
          ],
          [
           "惠普企业"
          ],
          [
           "华为"
          ],
          [
           "杭州锐太供应链管理"
          ],
          [
           "好侍食品"
          ],
          [
           "东方环晟光伏"
          ],
          [
           "英飞凌"
          ],
          [
           "强生"
          ],
          [
           "顾家家居"
          ],
          [
           "是德科技"
          ],
          [
           "拉姆研究"
          ],
          [
           "乐缤士"
          ],
          [
           "美的"
          ],
          [
           "妮瑞斯"
          ],
          [
           "安世"
          ],
          [
           "奥林巴斯 生命科学"
          ],
          [
           "奥的斯电梯"
          ],
          [
           "荷兰皇家壳牌"
          ],
          [
           "森萨塔"
          ],
          [
           "上汽通用五菱"
          ],
          [
           "西门子"
          ],
          [
           "瑞典滚珠轴承"
          ],
          [
           "星巴克"
          ],
          [
           "苏州科密优机电科技"
          ],
          [
           "泰科电子"
          ],
          [
           "赛默飞世尔"
          ],
          [
           "托德斯"
          ],
          [
           "威孚高科技集团"
          ],
          [
           "云度汽车"
          ],
          [
           "斑马技术"
          ],
          [
           "中兴通讯"
          ]
         ],
         "hovertemplate": "type=操作型<br>year=2021<br>income_amt=%{marker.size}<br>profit_rate=%{y}<br>account_name_cn_x=%{customdata[0]}<extra></extra>",
         "legendgroup": "操作型",
         "marker": {
          "color": "#00cc96",
          "size": [
           237059.21,
           1187720,
           2278345.13,
           820233.22,
           3401737.99,
           640902.95,
           9507237.95,
           1527960.77,
           31118975.320000008,
           5151523.11,
           1552325.21,
           4975698.010000001,
           591899.6100000001,
           80518545.12,
           8116567.87,
           320982.37,
           11460110.64,
           12821187.88,
           47715707.6,
           11174819.72,
           2365504.52,
           20533690.51,
           4823649.64,
           5364706.98,
           297017.43,
           21681896.59000001,
           2194324.93,
           4973719.5200000005,
           631440.48,
           2793602.05,
           101148127.58,
           70774332.53000002,
           18006491.39,
           245271810.02000004,
           70774332.53000002,
           8147383.630000001,
           2194324.93,
           8699207.92,
           2560193.5300000003,
           856273.5100000001,
           12922278.230003662,
           38430825.04000001
          ],
          "sizemode": "area",
          "sizeref": 960858.7677249999,
          "symbol": "circle"
         },
         "mode": "markers",
         "name": "操作型",
         "orientation": "v",
         "showlegend": false,
         "type": "scatter",
         "x": [
          237059.21,
          1187720,
          2278345.13,
          820233.22,
          3401737.99,
          640902.95,
          9507237.95,
          1527960.77,
          31118975.320000008,
          5151523.11,
          1552325.21,
          4975698.010000001,
          591899.6100000001,
          80518545.12,
          8116567.87,
          320982.37,
          11460110.64,
          12821187.88,
          47715707.6,
          11174819.72,
          2365504.52,
          20533690.51,
          4823649.64,
          5364706.98,
          297017.43,
          21681896.59000001,
          2194324.93,
          4973719.5200000005,
          631440.48,
          2793602.05,
          101148127.58,
          70774332.53000002,
          18006491.39,
          245271810.02000004,
          70774332.53000002,
          8147383.630000001,
          2194324.93,
          8699207.92,
          2560193.5300000003,
          856273.5100000001,
          12922278.230003662,
          38430825.04000001
         ],
         "xaxis": "x2",
         "y": [
          0.2066301764930291,
          0.19324159422068077,
          -0.06594032621967016,
          0.10009244855076523,
          0.05646088196718672,
          0.1915018995434854,
          -0.024301891801109022,
          0.40449672938270165,
          0.00795039309596101,
          0.25602118163733695,
          0.25006407853409085,
          0.2843428987470011,
          0.350359132114785,
          0.19916215689055758,
          0.11851983462636832,
          0.03796828118080828,
          0.08924367777113502,
          0.6167381702075463,
          0.07660061172647435,
          -0.1416584749544104,
          0.4127242260200121,
          0.093814371265453,
          0.15319671213603175,
          -0.0078097809942730785,
          0.8886292370372925,
          0.5805581651801912,
          0.2453084842584704,
          0.22007951030007308,
          -0.12541669373882952,
          0.10702182285703092,
          0.13688564273461507,
          0.27951281758905283,
          0.13852527087839514,
          0.1243694906518425,
          0.27951281758905283,
          0.29502455474742983,
          0.2453084842584704,
          -0.17311036516192269,
          0.024156517849438723,
          0.16504485990062032,
          0.21754835616714152,
          -0.01632741946579739
         ],
         "yaxis": "y2"
        },
        {
         "customdata": [
          [
           "北京航宇快捷货运代理有限公司"
          ],
          [
           "美台半导体"
          ],
          [
           "爱立信"
          ],
          [
           "丰宜科技"
          ],
          [
           "华为"
          ],
          [
           "上海心味电子商务有限公司"
          ],
          [
           "闻绮"
          ]
         ],
         "hovertemplate": "type=增值型<br>year=2020<br>income_amt=%{marker.size}<br>profit_rate=%{y}<br>account_name_cn_x=%{customdata[0]}<extra></extra>",
         "legendgroup": "增值型",
         "marker": {
          "color": "#ab63fa",
          "size": [
           516523.41,
           32360842.060000002,
           98557736.86,
           1070276.58,
           166312501.71,
           1082039.1400000001,
           1070276.58
          ],
          "sizemode": "area",
          "sizeref": 960858.7677249999,
          "symbol": "circle"
         },
         "mode": "markers",
         "name": "增值型",
         "orientation": "v",
         "showlegend": true,
         "type": "scatter",
         "x": [
          516523.41,
          32360842.060000002,
          98557736.86,
          1070276.58,
          166312501.71,
          1082039.1400000001,
          1070276.58
         ],
         "xaxis": "x",
         "y": [
          0.10115053610383194,
          0.2268213835000087,
          0.12082562317866902,
          0.10356586503185918,
          0.25175503625962325,
          0.10626014160783138,
          0.10356586503185918
         ],
         "yaxis": "y"
        },
        {
         "customdata": [
          [
           "宝马中国"
          ],
          [
           "华晨宝马"
          ],
          [
           "美台半导体"
          ],
          [
           "爱立信"
          ],
          [
           "吉林省成全物流"
          ],
          [
           "柯尼卡美能达"
          ],
          [
           "玛氏 箭牌糖果"
          ],
          [
           "宝马供应商"
          ],
          [
           "广州淘通科技"
          ]
         ],
         "hovertemplate": "type=增值型<br>year=2021<br>income_amt=%{marker.size}<br>profit_rate=%{y}<br>account_name_cn_x=%{customdata[0]}<extra></extra>",
         "legendgroup": "增值型",
         "marker": {
          "color": "#ab63fa",
          "size": [
           189598583.6,
           368669600.06,
           27621477.76,
           80323805.22000003,
           33615846.169999994,
           58247316.989999995,
           124843796.63000001,
           186143325.29,
           55705717.11000002
          ],
          "sizemode": "area",
          "sizeref": 960858.7677249999,
          "symbol": "circle"
         },
         "mode": "markers",
         "name": "增值型",
         "orientation": "v",
         "showlegend": false,
         "type": "scatter",
         "x": [
          189598583.6,
          368669600.06,
          27621477.76,
          80323805.22000003,
          33615846.169999994,
          58247316.989999995,
          124843796.63000001,
          186143325.29,
          55705717.11000002
         ],
         "xaxis": "x2",
         "y": [
          0.13907909878464705,
          0.05835545103080159,
          0.20781394240188283,
          0.10319469223679079,
          0.05261752599147787,
          0.040963753493727245,
          0.10882144745131919,
          0.13845784643260456,
          0.09304929361809508
         ],
         "yaxis": "y2"
        }
       ],
       "layout": {
        "annotations": [
         {
          "showarrow": false,
          "text": "year=2020",
          "x": 0.245,
          "xanchor": "center",
          "xref": "paper",
          "y": 1,
          "yanchor": "bottom",
          "yref": "paper"
         },
         {
          "showarrow": false,
          "text": "year=2021",
          "x": 0.755,
          "xanchor": "center",
          "xref": "paper",
          "y": 1,
          "yanchor": "bottom",
          "yref": "paper"
         },
         {
          "opacity": 0.4,
          "showarrow": false,
          "text": "2020 <br> weighted mean profit_rate <br>, 0.1696",
          "x": 1,
          "xanchor": "right",
          "xref": "x domain",
          "y": 0.1696,
          "yanchor": "bottom",
          "yref": "y"
         },
         {
          "opacity": 0.4,
          "showarrow": false,
          "text": "2021 <br> weighted mean profit_rate <br>, 0.126",
          "x": 1,
          "xanchor": "right",
          "xref": "x2 domain",
          "y": 0.126,
          "yanchor": "bottom",
          "yref": "y2"
         }
        ],
        "legend": {
         "itemsizing": "constant",
         "title": {
          "text": "type"
         },
         "tracegroupgap": 0
        },
        "shapes": [
         {
          "line": {
           "color": "black",
           "dash": "dash",
           "width": 3
          },
          "opacity": 0.4,
          "type": "line",
          "x0": 0,
          "x1": 1,
          "xref": "x domain",
          "y0": 0.1696,
          "y1": 0.1696,
          "yref": "y"
         },
         {
          "line": {
           "color": "black",
           "dash": "dash",
           "width": 3
          },
          "opacity": 0.4,
          "type": "line",
          "x0": 0,
          "x1": 1,
          "xref": "x2 domain",
          "y0": 0.126,
          "y1": 0.126,
          "yref": "y2"
         }
        ],
        "template": {
         "data": {
          "bar": [
           {
            "error_x": {
             "color": "#2a3f5f"
            },
            "error_y": {
             "color": "#2a3f5f"
            },
            "marker": {
             "line": {
              "color": "#E5ECF6",
              "width": 0.5
             }
            },
            "type": "bar"
           }
          ],
          "barpolar": [
           {
            "marker": {
             "line": {
              "color": "#E5ECF6",
              "width": 0.5
             }
            },
            "type": "barpolar"
           }
          ],
          "carpet": [
           {
            "aaxis": {
             "endlinecolor": "#2a3f5f",
             "gridcolor": "white",
             "linecolor": "white",
             "minorgridcolor": "white",
             "startlinecolor": "#2a3f5f"
            },
            "baxis": {
             "endlinecolor": "#2a3f5f",
             "gridcolor": "white",
             "linecolor": "white",
             "minorgridcolor": "white",
             "startlinecolor": "#2a3f5f"
            },
            "type": "carpet"
           }
          ],
          "choropleth": [
           {
            "colorbar": {
             "outlinewidth": 0,
             "ticks": ""
            },
            "type": "choropleth"
           }
          ],
          "contour": [
           {
            "colorbar": {
             "outlinewidth": 0,
             "ticks": ""
            },
            "colorscale": [
             [
              0,
              "#0d0887"
             ],
             [
              0.1111111111111111,
              "#46039f"
             ],
             [
              0.2222222222222222,
              "#7201a8"
             ],
             [
              0.3333333333333333,
              "#9c179e"
             ],
             [
              0.4444444444444444,
              "#bd3786"
             ],
             [
              0.5555555555555556,
              "#d8576b"
             ],
             [
              0.6666666666666666,
              "#ed7953"
             ],
             [
              0.7777777777777778,
              "#fb9f3a"
             ],
             [
              0.8888888888888888,
              "#fdca26"
             ],
             [
              1,
              "#f0f921"
             ]
            ],
            "type": "contour"
           }
          ],
          "contourcarpet": [
           {
            "colorbar": {
             "outlinewidth": 0,
             "ticks": ""
            },
            "type": "contourcarpet"
           }
          ],
          "heatmap": [
           {
            "colorbar": {
             "outlinewidth": 0,
             "ticks": ""
            },
            "colorscale": [
             [
              0,
              "#0d0887"
             ],
             [
              0.1111111111111111,
              "#46039f"
             ],
             [
              0.2222222222222222,
              "#7201a8"
             ],
             [
              0.3333333333333333,
              "#9c179e"
             ],
             [
              0.4444444444444444,
              "#bd3786"
             ],
             [
              0.5555555555555556,
              "#d8576b"
             ],
             [
              0.6666666666666666,
              "#ed7953"
             ],
             [
              0.7777777777777778,
              "#fb9f3a"
             ],
             [
              0.8888888888888888,
              "#fdca26"
             ],
             [
              1,
              "#f0f921"
             ]
            ],
            "type": "heatmap"
           }
          ],
          "heatmapgl": [
           {
            "colorbar": {
             "outlinewidth": 0,
             "ticks": ""
            },
            "colorscale": [
             [
              0,
              "#0d0887"
             ],
             [
              0.1111111111111111,
              "#46039f"
             ],
             [
              0.2222222222222222,
              "#7201a8"
             ],
             [
              0.3333333333333333,
              "#9c179e"
             ],
             [
              0.4444444444444444,
              "#bd3786"
             ],
             [
              0.5555555555555556,
              "#d8576b"
             ],
             [
              0.6666666666666666,
              "#ed7953"
             ],
             [
              0.7777777777777778,
              "#fb9f3a"
             ],
             [
              0.8888888888888888,
              "#fdca26"
             ],
             [
              1,
              "#f0f921"
             ]
            ],
            "type": "heatmapgl"
           }
          ],
          "histogram": [
           {
            "marker": {
             "colorbar": {
              "outlinewidth": 0,
              "ticks": ""
             }
            },
            "type": "histogram"
           }
          ],
          "histogram2d": [
           {
            "colorbar": {
             "outlinewidth": 0,
             "ticks": ""
            },
            "colorscale": [
             [
              0,
              "#0d0887"
             ],
             [
              0.1111111111111111,
              "#46039f"
             ],
             [
              0.2222222222222222,
              "#7201a8"
             ],
             [
              0.3333333333333333,
              "#9c179e"
             ],
             [
              0.4444444444444444,
              "#bd3786"
             ],
             [
              0.5555555555555556,
              "#d8576b"
             ],
             [
              0.6666666666666666,
              "#ed7953"
             ],
             [
              0.7777777777777778,
              "#fb9f3a"
             ],
             [
              0.8888888888888888,
              "#fdca26"
             ],
             [
              1,
              "#f0f921"
             ]
            ],
            "type": "histogram2d"
           }
          ],
          "histogram2dcontour": [
           {
            "colorbar": {
             "outlinewidth": 0,
             "ticks": ""
            },
            "colorscale": [
             [
              0,
              "#0d0887"
             ],
             [
              0.1111111111111111,
              "#46039f"
             ],
             [
              0.2222222222222222,
              "#7201a8"
             ],
             [
              0.3333333333333333,
              "#9c179e"
             ],
             [
              0.4444444444444444,
              "#bd3786"
             ],
             [
              0.5555555555555556,
              "#d8576b"
             ],
             [
              0.6666666666666666,
              "#ed7953"
             ],
             [
              0.7777777777777778,
              "#fb9f3a"
             ],
             [
              0.8888888888888888,
              "#fdca26"
             ],
             [
              1,
              "#f0f921"
             ]
            ],
            "type": "histogram2dcontour"
           }
          ],
          "mesh3d": [
           {
            "colorbar": {
             "outlinewidth": 0,
             "ticks": ""
            },
            "type": "mesh3d"
           }
          ],
          "parcoords": [
           {
            "line": {
             "colorbar": {
              "outlinewidth": 0,
              "ticks": ""
             }
            },
            "type": "parcoords"
           }
          ],
          "pie": [
           {
            "automargin": true,
            "type": "pie"
           }
          ],
          "scatter": [
           {
            "marker": {
             "colorbar": {
              "outlinewidth": 0,
              "ticks": ""
             }
            },
            "type": "scatter"
           }
          ],
          "scatter3d": [
           {
            "line": {
             "colorbar": {
              "outlinewidth": 0,
              "ticks": ""
             }
            },
            "marker": {
             "colorbar": {
              "outlinewidth": 0,
              "ticks": ""
             }
            },
            "type": "scatter3d"
           }
          ],
          "scattercarpet": [
           {
            "marker": {
             "colorbar": {
              "outlinewidth": 0,
              "ticks": ""
             }
            },
            "type": "scattercarpet"
           }
          ],
          "scattergeo": [
           {
            "marker": {
             "colorbar": {
              "outlinewidth": 0,
              "ticks": ""
             }
            },
            "type": "scattergeo"
           }
          ],
          "scattergl": [
           {
            "marker": {
             "colorbar": {
              "outlinewidth": 0,
              "ticks": ""
             }
            },
            "type": "scattergl"
           }
          ],
          "scattermapbox": [
           {
            "marker": {
             "colorbar": {
              "outlinewidth": 0,
              "ticks": ""
             }
            },
            "type": "scattermapbox"
           }
          ],
          "scatterpolar": [
           {
            "marker": {
             "colorbar": {
              "outlinewidth": 0,
              "ticks": ""
             }
            },
            "type": "scatterpolar"
           }
          ],
          "scatterpolargl": [
           {
            "marker": {
             "colorbar": {
              "outlinewidth": 0,
              "ticks": ""
             }
            },
            "type": "scatterpolargl"
           }
          ],
          "scatterternary": [
           {
            "marker": {
             "colorbar": {
              "outlinewidth": 0,
              "ticks": ""
             }
            },
            "type": "scatterternary"
           }
          ],
          "surface": [
           {
            "colorbar": {
             "outlinewidth": 0,
             "ticks": ""
            },
            "colorscale": [
             [
              0,
              "#0d0887"
             ],
             [
              0.1111111111111111,
              "#46039f"
             ],
             [
              0.2222222222222222,
              "#7201a8"
             ],
             [
              0.3333333333333333,
              "#9c179e"
             ],
             [
              0.4444444444444444,
              "#bd3786"
             ],
             [
              0.5555555555555556,
              "#d8576b"
             ],
             [
              0.6666666666666666,
              "#ed7953"
             ],
             [
              0.7777777777777778,
              "#fb9f3a"
             ],
             [
              0.8888888888888888,
              "#fdca26"
             ],
             [
              1,
              "#f0f921"
             ]
            ],
            "type": "surface"
           }
          ],
          "table": [
           {
            "cells": {
             "fill": {
              "color": "#EBF0F8"
             },
             "line": {
              "color": "white"
             }
            },
            "header": {
             "fill": {
              "color": "#C8D4E3"
             },
             "line": {
              "color": "white"
             }
            },
            "type": "table"
           }
          ]
         },
         "layout": {
          "annotationdefaults": {
           "arrowcolor": "#2a3f5f",
           "arrowhead": 0,
           "arrowwidth": 1
          },
          "autotypenumbers": "strict",
          "coloraxis": {
           "colorbar": {
            "outlinewidth": 0,
            "ticks": ""
           }
          },
          "colorscale": {
           "diverging": [
            [
             0,
             "#8e0152"
            ],
            [
             0.1,
             "#c51b7d"
            ],
            [
             0.2,
             "#de77ae"
            ],
            [
             0.3,
             "#f1b6da"
            ],
            [
             0.4,
             "#fde0ef"
            ],
            [
             0.5,
             "#f7f7f7"
            ],
            [
             0.6,
             "#e6f5d0"
            ],
            [
             0.7,
             "#b8e186"
            ],
            [
             0.8,
             "#7fbc41"
            ],
            [
             0.9,
             "#4d9221"
            ],
            [
             1,
             "#276419"
            ]
           ],
           "sequential": [
            [
             0,
             "#0d0887"
            ],
            [
             0.1111111111111111,
             "#46039f"
            ],
            [
             0.2222222222222222,
             "#7201a8"
            ],
            [
             0.3333333333333333,
             "#9c179e"
            ],
            [
             0.4444444444444444,
             "#bd3786"
            ],
            [
             0.5555555555555556,
             "#d8576b"
            ],
            [
             0.6666666666666666,
             "#ed7953"
            ],
            [
             0.7777777777777778,
             "#fb9f3a"
            ],
            [
             0.8888888888888888,
             "#fdca26"
            ],
            [
             1,
             "#f0f921"
            ]
           ],
           "sequentialminus": [
            [
             0,
             "#0d0887"
            ],
            [
             0.1111111111111111,
             "#46039f"
            ],
            [
             0.2222222222222222,
             "#7201a8"
            ],
            [
             0.3333333333333333,
             "#9c179e"
            ],
            [
             0.4444444444444444,
             "#bd3786"
            ],
            [
             0.5555555555555556,
             "#d8576b"
            ],
            [
             0.6666666666666666,
             "#ed7953"
            ],
            [
             0.7777777777777778,
             "#fb9f3a"
            ],
            [
             0.8888888888888888,
             "#fdca26"
            ],
            [
             1,
             "#f0f921"
            ]
           ]
          },
          "colorway": [
           "#636efa",
           "#EF553B",
           "#00cc96",
           "#ab63fa",
           "#FFA15A",
           "#19d3f3",
           "#FF6692",
           "#B6E880",
           "#FF97FF",
           "#FECB52"
          ],
          "font": {
           "color": "#2a3f5f"
          },
          "geo": {
           "bgcolor": "white",
           "lakecolor": "white",
           "landcolor": "#E5ECF6",
           "showlakes": true,
           "showland": true,
           "subunitcolor": "white"
          },
          "hoverlabel": {
           "align": "left"
          },
          "hovermode": "closest",
          "mapbox": {
           "style": "light"
          },
          "paper_bgcolor": "white",
          "plot_bgcolor": "#E5ECF6",
          "polar": {
           "angularaxis": {
            "gridcolor": "white",
            "linecolor": "white",
            "ticks": ""
           },
           "bgcolor": "#E5ECF6",
           "radialaxis": {
            "gridcolor": "white",
            "linecolor": "white",
            "ticks": ""
           }
          },
          "scene": {
           "xaxis": {
            "backgroundcolor": "#E5ECF6",
            "gridcolor": "white",
            "gridwidth": 2,
            "linecolor": "white",
            "showbackground": true,
            "ticks": "",
            "zerolinecolor": "white"
           },
           "yaxis": {
            "backgroundcolor": "#E5ECF6",
            "gridcolor": "white",
            "gridwidth": 2,
            "linecolor": "white",
            "showbackground": true,
            "ticks": "",
            "zerolinecolor": "white"
           },
           "zaxis": {
            "backgroundcolor": "#E5ECF6",
            "gridcolor": "white",
            "gridwidth": 2,
            "linecolor": "white",
            "showbackground": true,
            "ticks": "",
            "zerolinecolor": "white"
           }
          },
          "shapedefaults": {
           "line": {
            "color": "#2a3f5f"
           }
          },
          "ternary": {
           "aaxis": {
            "gridcolor": "white",
            "linecolor": "white",
            "ticks": ""
           },
           "baxis": {
            "gridcolor": "white",
            "linecolor": "white",
            "ticks": ""
           },
           "bgcolor": "#E5ECF6",
           "caxis": {
            "gridcolor": "white",
            "linecolor": "white",
            "ticks": ""
           }
          },
          "title": {
           "x": 0.05
          },
          "xaxis": {
           "automargin": true,
           "gridcolor": "white",
           "linecolor": "white",
           "ticks": "",
           "title": {
            "standoff": 15
           },
           "zerolinecolor": "white",
           "zerolinewidth": 2
          },
          "yaxis": {
           "automargin": true,
           "gridcolor": "white",
           "linecolor": "white",
           "ticks": "",
           "title": {
            "standoff": 15
           },
           "zerolinecolor": "white",
           "zerolinewidth": 2
          }
         }
        },
        "title": {
         "text": "profit_rate against income, customer level"
        },
        "xaxis": {
         "anchor": "y",
         "domain": [
          0,
          0.49
         ],
         "title": {
          "text": "income_amt"
         }
        },
        "xaxis2": {
         "anchor": "y2",
         "domain": [
          0.51,
          1
         ],
         "matches": "x",
         "title": {
          "text": "income_amt"
         }
        },
        "yaxis": {
         "anchor": "x",
         "domain": [
          0,
          1
         ],
         "title": {
          "text": "profit_rate"
         }
        },
        "yaxis2": {
         "anchor": "x2",
         "domain": [
          0,
          1
         ],
         "matches": "y",
         "showticklabels": false
        }
       }
      }
     },
     "metadata": {},
     "output_type": "display_data"
    }
   ],
   "source": [
    " \n",
    "fig = px.scatter(\n",
    "    data_frame= plot_data, x = 'income_amt', y= 'profit_rate', hover_data=['account_name_cn_x'],\n",
    "    size = 'income_amt', color = 'type', facet_col = 'year', title='profit_rate against income, customer level')  \n",
    "# hover_data=  ['account_name_en'] , \n",
    "fig.add_hline(y = line_20, line_width=3, line_dash=\"dash\", line_color=\"black\", opacity = .4,\\\n",
    "    annotation_text=\"2020 <br> weighted mean profit_rate <br>, %s\" %line_20 , \n",
    "    annotation_position=\"top right\", annotation_opacity = .4, col = 1)\n",
    "fig.add_hline(y = line_21, line_width=3, line_dash=\"dash\", line_color=\"black\", opacity = .4,\\\n",
    "    annotation_text=\"2021 <br> weighted mean profit_rate <br>, %s\" %line_21 , \n",
    "    annotation_position=\"top right\", annotation_opacity = .4, col = 2)"
   ]
  },
  {
   "cell_type": "code",
   "execution_count": 409,
   "metadata": {},
   "outputs": [],
   "source": [
    "fig.write_html('./fig_cust_profit_rate.html')\n",
    "# plot_data.to_csv('./data_out/income_customer_cats.csv', encoding = 'utf_8_sig', index = None)"
   ]
  },
  {
   "cell_type": "markdown",
   "metadata": {},
   "source": []
  },
  {
   "cell_type": "code",
   "execution_count": 285,
   "metadata": {},
   "outputs": [],
   "source": [
    "bms_cc_ou = bms.groupby(['cost_center','yr']).agg({\n",
    "    '人力': sum, \n",
    "    '场地': sum, \n",
    "    '增值': sum, \n",
    "    '报关代理': sum, \n",
    "    '操作': sum, \n",
    "    '短驳运输': sum, \n",
    "    '索赔及返利': sum,\n",
    "    '设备使用': sum,\n",
    "}).reset_index()\n",
    "\n",
    "sap_cc_ou = sap_fina.groupby(['yy', 'cost_center']).agg({\n",
    "    'income_amt': sum, \n",
    "    'gross_profit_amt': sum,\n",
    "    'human_cost_amt': sum,\n",
    "    'service_outsourcing_amt': sum,\n",
    "    'labor_service_outsourcing_amt': sum,\n",
    "}).reset_index()\n",
    "\n",
    "sap_cc_ou = sap_cc_ou.rename({'yy': 'yr'}, axis = 1)\n",
    "\n",
    "bms_cc_ou['yr'] = bms_cc_ou['yr'].astype(int)"
   ]
  },
  {
   "cell_type": "code",
   "execution_count": 293,
   "metadata": {},
   "outputs": [],
   "source": [
    "plt2 = sap_cc_ou.merge(bms_cc_ou, on = ['cost_center', 'yr'], how = 'inner')\n",
    "plt2 = plt2[plt2['yr'] > 2019]"
   ]
  },
  {
   "cell_type": "code",
   "execution_count": 295,
   "metadata": {},
   "outputs": [
    {
     "data": {
      "text/plain": [
       "(560, 15)"
      ]
     },
     "execution_count": 295,
     "metadata": {},
     "output_type": "execute_result"
    }
   ],
   "source": [
    "plt2.shape # 560"
   ]
  },
  {
   "cell_type": "code",
   "execution_count": 296,
   "metadata": {},
   "outputs": [],
   "source": [
    "def data_man_cc(finance_cust_ann): \n",
    "    \"\"\"\n",
    "    客户的收益类型.计算\n",
    "    \"\"\"\n",
    "    finance_cust_ann['operation_fee'] = finance_cust_ann['人力'] +  finance_cust_ann['操作']\n",
    "    finance_cust_ann['bms_total'] = finance_cust_ann[['人力', '场地', '增值', '报关代理', '操作',\n",
    "        '短驳运输', '索赔及返利', '设备使用']].sum(axis = 1)\n",
    "    finance_cust_ann['op_pct'] = finance_cust_ann['operation_fee'] / finance_cust_ann['bms_total']\n",
    "    finance_cust_ann['wh_pct'] = finance_cust_ann['场地'] / finance_cust_ann['bms_total']\n",
    "    finance_cust_ann['va_pct'] = finance_cust_ann['增值'] / finance_cust_ann['bms_total']\n",
    "    finance_cust_ann['type']   = finance_cust_ann[['op_pct','wh_pct','va_pct']].idxmax(axis = 1)\n",
    "    return finance_cust_ann\n",
    "plt2 = data_man_cc(plt2)\n",
    "plt2 = plt2[~plt2['type'].isna()]\n",
    "# 560 "
   ]
  },
  {
   "cell_type": "code",
   "execution_count": 329,
   "metadata": {},
   "outputs": [
    {
     "name": "stderr",
     "output_type": "stream",
     "text": [
      "C:\\Users\\DSCSHA~1\\AppData\\Local\\Temp/ipykernel_21156/2659271940.py:3: SettingWithCopyWarning:\n",
      "\n",
      "\n",
      "A value is trying to be set on a copy of a slice from a DataFrame.\n",
      "Try using .loc[row_indexer,col_indexer] = value instead\n",
      "\n",
      "See the caveats in the documentation: https://pandas.pydata.org/pandas-docs/stable/user_guide/indexing.html#returning-a-view-versus-a-copy\n",
      "\n"
     ]
    },
    {
     "data": {
      "text/plain": [
       "343"
      ]
     },
     "execution_count": 329,
     "metadata": {},
     "output_type": "execute_result"
    }
   ],
   "source": [
    "def mani(type):\n",
    "    \"\"\"\n",
    "    add balance type to the table.\n",
    "    \"\"\"\n",
    "    df = plt2[plt2['type'] == type] \n",
    "    df['flag'] = df[type] < .5\n",
    "    return df\n",
    "plt21 = pd.DataFrame()\n",
    "for i in plt2['type'].unique():\n",
    "    plt21 = pd.concat([plt21, mani(i)], axis = 0)\n",
    "plt21.loc[plt21['flag'] == True,  'type'] = 'balance'\n",
    "\n",
    "plt21 = plt21.drop('flag', axis = 1)\n",
    "plt21['type'] = plt21['type'].replace(\n",
    "    {'wh_pct': '仓储型', 'balance': '平衡型', 'va_pct': '增值型', 'op_pct': '操作型'})\n",
    " "
   ]
  },
  {
   "cell_type": "code",
   "execution_count": 345,
   "metadata": {},
   "outputs": [
    {
     "name": "stderr",
     "output_type": "stream",
     "text": [
      "C:\\Users\\DSCSHA~1\\AppData\\Local\\Temp/ipykernel_21156/2140466091.py:1: SettingWithCopyWarning:\n",
      "\n",
      "\n",
      "A value is trying to be set on a copy of a slice from a DataFrame.\n",
      "Try using .loc[row_indexer,col_indexer] = value instead\n",
      "\n",
      "See the caveats in the documentation: https://pandas.pydata.org/pandas-docs/stable/user_guide/indexing.html#returning-a-view-versus-a-copy\n",
      "\n"
     ]
    }
   ],
   "source": [
    "plt21['profit_rate'] = plt21['gross_profit_amt']/ (plt21['income_amt'] - plt21['gross_profit_amt'])\n",
    "plt21 = plt21[(plt21['profit_rate'] < 2) & (plt21['profit_rate'] > -2)]"
   ]
  },
  {
   "cell_type": "code",
   "execution_count": 421,
   "metadata": {},
   "outputs": [
    {
     "data": {
      "text/plain": [
       "0.14562988090173806"
      ]
     },
     "execution_count": 421,
     "metadata": {},
     "output_type": "execute_result"
    }
   ],
   "source": [
    "cc_weight_avg[2021]"
   ]
  },
  {
   "cell_type": "code",
   "execution_count": 422,
   "metadata": {},
   "outputs": [],
   "source": [
    "cc_weight_avg  = plt21.groupby('yr').apply(\n",
    "    lambda x: np.average(x['profit_rate'], weights=x['income_amt']))\n",
    "line_20 = cc_weight_avg[2020].round(4)\n",
    "line_21 = cc_weight_avg[2021].round(4)\n"
   ]
  },
  {
   "cell_type": "code",
   "execution_count": 423,
   "metadata": {},
   "outputs": [
    {
     "data": {
      "application/vnd.plotly.v1+json": {
       "config": {
        "plotlyServerURL": "https://plot.ly"
       },
       "data": [
        {
         "customdata": [
          [
           "ABBOTBJXWS"
          ],
          [
           "ABBOTCDXXS"
          ],
          [
           "ABBOTSHDBS"
          ],
          [
           "ABBOTSHKQS"
          ],
          [
           "ABBOTSZLHS"
          ],
          [
           "ACCURBJXWS"
          ],
          [
           "ASMLXSHZCS"
          ],
          [
           "ASMLXSZEPS"
          ],
          [
           "ATGXXSHYSS"
          ],
          [
           "AZXXXWXWHS"
          ],
          [
           "BOSEXGZHPS"
          ],
          [
           "BOSEXSHKQS"
          ],
          [
           "CEXARSHBSS"
          ],
          [
           "COACHSHSFS"
          ],
          [
           "DELLSSHALS"
          ],
          [
           "DIADOXMNSS"
          ],
          [
           "DKSHXSHKQP"
          ],
          [
           "EADSXBJXWS"
          ],
          [
           "ERISLGZHPS"
          ],
          [
           "FEIXXXAEPS"
          ],
          [
           "FORDCCSLGS"
          ],
          [
           "FORDXGHD1S"
          ],
          [
           "FORDXWHFWS"
          ],
          [
           "FORDXZJJSS"
          ],
          [
           "FUJIXWHXDS"
          ],
          [
           "H3CNHBJXWS"
          ],
          [
           "H3CUHBJXWS"
          ],
          [
           "H3CUHSHYXS"
          ],
          [
           "H3CUHXAXXS"
          ],
          [
           "HERSHSHKQP"
          ],
          [
           "HERSHSHKQS"
          ],
          [
           "HITACSHZCS"
          ],
          [
           "HPIPSBJXWS"
          ],
          [
           "HPIPSSHYXS"
          ],
          [
           "HPPXXSHMFS"
          ],
          [
           "HUAWEDHWMS"
          ],
          [
           "HUSQVSHMFS"
          ],
          [
           "HWSXXBJXWS"
          ],
          [
           "JCBXXSHKQS"
          ],
          [
           "JOHNDCDXDS"
          ],
          [
           "JTLYSBJXWS"
          ],
          [
           "KALSESHKQS"
          ],
          [
           "KLATEDLTZS"
          ],
          [
           "KLATEGZHPS"
          ],
          [
           "KLATEHFCBS"
          ],
          [
           "KLATEJNWHS"
          ],
          [
           "KLATENJBYS"
          ],
          [
           "KLATESHZCS"
          ],
          [
           "KLATEWHSLS"
          ],
          [
           "KLATEXAEPS"
          ],
          [
           "KLATEXMNSS"
          ],
          [
           "KODAKSHMFS"
          ],
          [
           "LAMRENJLHS"
          ],
          [
           "LEMARBJXWS"
          ],
          [
           "LEMARGHD2S"
          ],
          [
           "LEMARSHYXS"
          ],
          [
           "LENXXSHYXS"
          ],
          [
           "LINDTSHKQP"
          ],
          [
           "LUCKIBJALS"
          ],
          [
           "LUCKISHDQS"
          ],
          [
           "LUCKISJLQS"
          ],
          [
           "MARSXJXXWS"
          ],
          [
           "MARSXSYFMS"
          ],
          [
           "MINGYCDXXS"
          ],
          [
           "MINGYSYFMS"
          ],
          [
           "MOLEXSHBSS"
          ],
          [
           "NEUSMBJXWS"
          ],
          [
           "NEUSMGHD1S"
          ],
          [
           "OGAWASHJDS"
          ],
          [
           "OTCHESHFSS"
          ],
          [
           "OTCONSHKQS"
          ],
          [
           "OTTECBJXWS"
          ],
          [
           "OTTECSHFSS"
          ],
          [
           "PERNOSHFSS"
          ],
          [
           "PERNOSHMFS"
          ],
          [
           "SCREESHZCS"
          ],
          [
           "SHEHKSHTWS"
          ],
          [
           "SINORBJXWS"
          ],
          [
           "SKFCNSHMFS"
          ],
          [
           "SOLVASHFSS"
          ],
          [
           "SQUIBSHHTS"
          ],
          [
           "STARBSHHTS"
          ],
          [
           "STARBSHLGS"
          ],
          [
           "STARBSYXXS"
          ],
          [
           "UNISYBJXWS"
          ],
          [
           "VOLVOGZHPS"
          ],
          [
           "VOLVOSHY2S"
          ],
          [
           "ZEBRASHALS"
          ],
          [
           "ZHENZSHDQS"
          ],
          [
           "ZSNUOBJXWS"
          ]
         ],
         "hovertemplate": "type=仓储型<br>yr=2020<br>income_amt=%{marker.size}<br>profit_rate=%{y}<br>cost_center=%{customdata[0]}<extra></extra>",
         "legendgroup": "仓储型",
         "marker": {
          "color": "#636efa",
          "size": [
           1700030.52,
           1055621.61,
           7628477.06,
           11546899.17,
           1778474.74,
           419497.23,
           17657571.33,
           697352.85,
           2125397.29,
           17050431.3,
           267732.66000000003,
           8804639.34,
           962547.29,
           21977714.87,
           19456807.81,
           2381299.56,
           1471966.33,
           104796.29000000001,
           5763429.730000002,
           394441.66,
           20773876.66,
           12878715.370000003,
           16661382.64,
           8852679.72,
           453830.06000000006,
           1239448.23,
           10961033.58,
           3376470.1,
           172455,
           8821192.4,
           16660516.48,
           901835.8500000001,
           956752.0099999999,
           296329.75,
           4329634.41,
           13293070.960000008,
           2634640.17,
           9024071.450000001,
           33453.93,
           809664.55,
           152833.33000000002,
           364507.82,
           1317554.63,
           76300.95,
           1855928.53,
           93500,
           1947150.04,
           12305242.870000001,
           1552236.4,
           2393256.58,
           1499575.46,
           223817.65,
           1726400.17,
           993983.6399999999,
           1025125.18,
           730178.0999999999,
           201104.01,
           5936398.630000001,
           15250201.709999999,
           52923358.15999999,
           1327073.02,
           38013908.060000025,
           7613489.109999999,
           171698.12,
           159404.7,
           14352699.65,
           354408.68,
           35865.09,
           645258.95,
           1123634.2899999998,
           59547.130000000005,
           236000.96,
           184697.65000000002,
           34554050.95999999,
           2743348.42,
           713046.5599999999,
           3696578.28,
           247980,
           3214978.74,
           3152019.61,
           1722245.9300000002,
           20755180.56,
           305793.51,
           2752900.45,
           187424.24,
           9013019.18,
           27983879.200000003,
           11735863.16,
           35340076.6,
           48165.14
          ],
          "sizemode": "area",
          "sizeref": 239704.76002500005,
          "symbol": "circle"
         },
         "mode": "markers",
         "name": "仓储型",
         "orientation": "v",
         "showlegend": true,
         "type": "scatter",
         "x": [
          1700030.52,
          1055621.61,
          7628477.06,
          11546899.17,
          1778474.74,
          419497.23,
          17657571.33,
          697352.85,
          2125397.29,
          17050431.3,
          267732.66000000003,
          8804639.34,
          962547.29,
          21977714.87,
          19456807.81,
          2381299.56,
          1471966.33,
          104796.29000000001,
          5763429.730000002,
          394441.66,
          20773876.66,
          12878715.370000003,
          16661382.64,
          8852679.72,
          453830.06000000006,
          1239448.23,
          10961033.58,
          3376470.1,
          172455,
          8821192.4,
          16660516.48,
          901835.8500000001,
          956752.0099999999,
          296329.75,
          4329634.41,
          13293070.960000008,
          2634640.17,
          9024071.450000001,
          33453.93,
          809664.55,
          152833.33000000002,
          364507.82,
          1317554.63,
          76300.95,
          1855928.53,
          93500,
          1947150.04,
          12305242.870000001,
          1552236.4,
          2393256.58,
          1499575.46,
          223817.65,
          1726400.17,
          993983.6399999999,
          1025125.18,
          730178.0999999999,
          201104.01,
          5936398.630000001,
          15250201.709999999,
          52923358.15999999,
          1327073.02,
          38013908.060000025,
          7613489.109999999,
          171698.12,
          159404.7,
          14352699.65,
          354408.68,
          35865.09,
          645258.95,
          1123634.2899999998,
          59547.130000000005,
          236000.96,
          184697.65000000002,
          34554050.95999999,
          2743348.42,
          713046.5599999999,
          3696578.28,
          247980,
          3214978.74,
          3152019.61,
          1722245.9300000002,
          20755180.56,
          305793.51,
          2752900.45,
          187424.24,
          9013019.18,
          27983879.200000003,
          11735863.16,
          35340076.6,
          48165.14
         ],
         "xaxis": "x",
         "y": [
          -0.21198168678317694,
          -0.20013293312409416,
          -0.22963513605720012,
          0.013113424938760436,
          -0.36619589718682594,
          0.7881723066078882,
          0.1934910571969885,
          0.023584878588886034,
          0.31996443978722483,
          0.19462047714745895,
          -0.2699033952140847,
          0.19597891587401312,
          0.08060276372611035,
          0.194470912633884,
          0.39710794577862146,
          0.6300554934981766,
          -0.013445655918889802,
          0.03528316589735558,
          0.02876480015623942,
          -0.128692180065107,
          0.3415832218991617,
          0.07234143204535616,
          0.30292180107772576,
          0.14744908504306356,
          0.48039159081059335,
          0.1714075274720244,
          0.14792973496386008,
          0.6093820717930227,
          0.2921290605074246,
          -0.10500328412292621,
          -0.0001264602769363665,
          0.4889045852178753,
          0.16417007314221535,
          0.6106639818801916,
          0.365056876697129,
          0.2022198360239873,
          0.26400851606156284,
          0.08087815921496484,
          0.3084823895831223,
          0.3950922650903016,
          0.8012462424273991,
          0.19022561328201898,
          0.5148781947585777,
          0.7444850495148655,
          0.4307081366811199,
          1.0199357941264153,
          0.7849593351684577,
          0.26651649731313226,
          0.4728722824888749,
          0.20746671042478007,
          0.5261564661242271,
          0.1941237631416613,
          0.19377785534690078,
          0.154529968130499,
          0.12094393867433678,
          0.8810129592078177,
          1.006923097956851,
          0.24971304791140164,
          -0.13473128258644712,
          0.03926915176088248,
          0.09792771135372673,
          0.1904021642772452,
          0.01794663135166512,
          0.08764486517680278,
          0.1688080005701623,
          0.32037024751334303,
          0.44537440336434464,
          -0.2592639789434465,
          0.07594335579051492,
          -0.011302841175153844,
          -0.8851984766269991,
          0.28371295272523256,
          0.07585046129058859,
          0.20003399334203834,
          0.10252439026409495,
          0.45057682601558696,
          0.11099048611655413,
          0.4428583747053973,
          0.27770363559203054,
          0.0708660023855296,
          0.1494759728719425,
          0.09046741726046305,
          0.1318965443849447,
          -0.07915345593226676,
          0.9171181727992023,
          0.25317618831212857,
          0.09773522876015982,
          0.242580485632501,
          0.008681958829139613,
          0.25549716657022065
         ],
         "yaxis": "y"
        },
        {
         "customdata": [
          [
           "ABBOTCDXXS"
          ],
          [
           "ABBOTSHDBS"
          ],
          [
           "ABBOTSHKQS"
          ],
          [
           "ABBOTSZLHS"
          ],
          [
           "ACCURBJXWS"
          ],
          [
           "AIRBSBJXWS"
          ],
          [
           "ATGXXSHYSS"
          ],
          [
           "AZXXXWXWHS"
          ],
          [
           "BFDAXBJYQS"
          ],
          [
           "BJYILSHSJS"
          ],
          [
           "BOSEXSHKQS"
          ],
          [
           "BRPXXSHYXS"
          ],
          [
           "BURTOSHSYS"
          ],
          [
           "CEXARSHBSS"
          ],
          [
           "CHANESHKQS"
          ],
          [
           "CHUIXSHKQS"
          ],
          [
           "CNDXXSHKQS"
          ],
          [
           "COACHSHSFS"
          ],
          [
           "COSTASHH2S"
          ],
          [
           "COSTASHHTS"
          ],
          [
           "DELLSBJXWS"
          ],
          [
           "DELLSGHD2S"
          ],
          [
           "DIADOXMNSS"
          ],
          [
           "DKSHXSHKQP"
          ],
          [
           "EADSXBJXWS"
          ],
          [
           "ERISLGZHPS"
          ],
          [
           "FEIXXXAEPS"
          ],
          [
           "FISHJCDXXS"
          ],
          [
           "FORDCCSLGS"
          ],
          [
           "FORDXGHD1S"
          ],
          [
           "FORDXWHFWS"
          ],
          [
           "FORDXZJJSS"
          ],
          [
           "FUJIXWHXDS"
          ],
          [
           "GEMEDSHKQS"
          ],
          [
           "H3CNHBJXWS"
          ],
          [
           "H3CUHBJXWS"
          ],
          [
           "HARLESHFXS"
          ],
          [
           "HERSHSHKQP"
          ],
          [
           "HERSHSHKQS"
          ],
          [
           "HITACSHZCS"
          ],
          [
           "HONEYSHMFS"
          ],
          [
           "HONGXGHD2S"
          ],
          [
           "HONORDGWSS"
          ],
          [
           "HPIPSBJXWS"
          ],
          [
           "HPPXXSHMFS"
          ],
          [
           "HPPXXSHMGS"
          ],
          [
           "HWSXXBJXWS"
          ],
          [
           "JCBXXSHKQS"
          ],
          [
           "JOHNDCDXDS"
          ],
          [
           "JTLYSBJXWS"
          ],
          [
           "KALSESHKQS"
          ],
          [
           "KEYSISHYXS"
          ],
          [
           "KLATEDLTZS"
          ],
          [
           "KLATEGZHPS"
          ],
          [
           "KLATEHFCBS"
          ],
          [
           "KLATEJNWHS"
          ],
          [
           "KLATENJBYS"
          ],
          [
           "KLATESHZCS"
          ],
          [
           "KLATEWHSLS"
          ],
          [
           "KLATEXAEPS"
          ],
          [
           "KLATEXMNSS"
          ],
          [
           "KONEXCDXDS"
          ],
          [
           "KUNLNBJWHS"
          ],
          [
           "KUNLNDQIHS"
          ],
          [
           "LAMRENJLHS"
          ],
          [
           "LEADXWXCNS"
          ],
          [
           "LEMARSHYXS"
          ],
          [
           "LENXXSHYXS"
          ],
          [
           "LINDTSHKQP"
          ],
          [
           "LUCKIBJALS"
          ],
          [
           "MARSXCDXXS"
          ],
          [
           "MARSXJXXWS"
          ],
          [
           "MARSXSYFMS"
          ],
          [
           "MBXXXSHKQS"
          ],
          [
           "MINGYCDXXS"
          ],
          [
           "MINGYSYFMS"
          ],
          [
           "MLBKDSHWHS"
          ],
          [
           "MOLEXSHBSS"
          ],
          [
           "NEUSMBJXWS"
          ],
          [
           "NEUSMGHD1S"
          ],
          [
           "NSBSHSHYXS"
          ],
          [
           "OGAWASHJDS"
          ],
          [
           "OTCHESHFSS"
          ],
          [
           "OTCONSHKQS"
          ],
          [
           "OTTECBJXWS"
          ],
          [
           "OUTSFSHDQS"
          ],
          [
           "PERNOSHMFS"
          ],
          [
           "RAZERSHSJS"
          ],
          [
           "SCHUESHIHS"
          ],
          [
           "SFJNJBJXWS"
          ],
          [
           "SHEHKSHTWS"
          ],
          [
           "SINCESHYXS"
          ],
          [
           "SINORBJXWS"
          ],
          [
           "SKFCNSHMFS"
          ],
          [
           "SOLVASHFSS"
          ],
          [
           "SOLVASHMFS"
          ],
          [
           "SQUIBSHHTS"
          ],
          [
           "STARBSHHTS"
          ],
          [
           "THERMSHDBS"
          ],
          [
           "UCOHZHZLYS"
          ],
          [
           "UNISYBJXWS"
          ],
          [
           "VENCHSHKQS"
          ],
          [
           "VOLVOGZHPS"
          ],
          [
           "WEIWEGZHPS"
          ],
          [
           "XINGYSHFJH"
          ],
          [
           "YUANXSZWHS"
          ],
          [
           "ZEBRASHALV"
          ],
          [
           "ZSNUOBJXWS"
          ]
         ],
         "hovertemplate": "type=仓储型<br>yr=2021<br>income_amt=%{marker.size}<br>profit_rate=%{y}<br>cost_center=%{customdata[0]}<extra></extra>",
         "legendgroup": "仓储型",
         "marker": {
          "color": "#636efa",
          "size": [
           777367.22,
           6104588.11,
           9214377.42,
           1396031.27,
           417744,
           117119.73,
           5334451.31,
           16110089.67,
           2173011.1999999997,
           417301.43,
           8334908.619999999,
           3879773.09,
           9653742.549999999,
           852977.97,
           1139824.35,
           6667.73,
           265473.2,
           16066127.2,
           1294361.88,
           1417077.02,
           3500173.65,
           2424478.44,
           1822737.9100000001,
           218812.69000000003,
           0,
           5195021.430000003,
           355020.3,
           100689.75,
           19260501.53,
           10964332.110000005,
           13204844.940000001,
           7103883,
           365733.68,
           7611521.12,
           1104587.87,
           9030102,
           5545453.75,
           2966783.730000001,
           11932849.89,
           701320.75,
           14421790.71,
           558672.35,
           32112528.91000001,
           797784.77,
           3019025.13,
           29231151.6,
           7053451.59,
           12654.24,
           637830.76,
           218333.32,
           319065.29,
           331944.32,
           1092545.8699999999,
           66847.17,
           1922280.79,
           106776.41,
           1506952.5899999999,
           10414749.379999999,
           1351934.5899999999,
           2179150,
           1361544.3800000001,
           7836305.370000002,
           601828.45,
           240810.47,
           1172559.6600000008,
           1152744.24,
           573347.68,
           278945.35,
           4839011.62,
           10939456.41,
           9926810.180000003,
           27594092.910000023,
           5504221.97,
           1470217.9600000002,
           91698.13,
           95358.98999999999,
           26831331.619999997,
           7081930.04,
           299931.32,
           11277.36,
           1747600.8,
           850590.78,
           633492.66,
           41988.32000000001,
           221900,
           135136.08,
           6798439.4,
           431216.32,
           5645164.92,
           318909.69999999995,
           3340464.55,
           875552.49,
           234160,
           4814673.5,
           2603757.55,
           448583.33,
           1404460.72,
           16972437.81,
           4962437.35,
           2169647.59,
           153360.22,
           612476.97,
           8234726.639999999,
           84440.9,
           156618.08,
           341867.98,
           3531357.57,
           0
          ],
          "sizemode": "area",
          "sizeref": 239704.76002500005,
          "symbol": "circle"
         },
         "mode": "markers",
         "name": "仓储型",
         "orientation": "v",
         "showlegend": false,
         "type": "scatter",
         "x": [
          777367.22,
          6104588.11,
          9214377.42,
          1396031.27,
          417744,
          117119.73,
          5334451.31,
          16110089.67,
          2173011.1999999997,
          417301.43,
          8334908.619999999,
          3879773.09,
          9653742.549999999,
          852977.97,
          1139824.35,
          6667.73,
          265473.2,
          16066127.2,
          1294361.88,
          1417077.02,
          3500173.65,
          2424478.44,
          1822737.9100000001,
          218812.69000000003,
          0,
          5195021.430000003,
          355020.3,
          100689.75,
          19260501.53,
          10964332.110000005,
          13204844.940000001,
          7103883,
          365733.68,
          7611521.12,
          1104587.87,
          9030102,
          5545453.75,
          2966783.730000001,
          11932849.89,
          701320.75,
          14421790.71,
          558672.35,
          32112528.91000001,
          797784.77,
          3019025.13,
          29231151.6,
          7053451.59,
          12654.24,
          637830.76,
          218333.32,
          319065.29,
          331944.32,
          1092545.8699999999,
          66847.17,
          1922280.79,
          106776.41,
          1506952.5899999999,
          10414749.379999999,
          1351934.5899999999,
          2179150,
          1361544.3800000001,
          7836305.370000002,
          601828.45,
          240810.47,
          1172559.6600000008,
          1152744.24,
          573347.68,
          278945.35,
          4839011.62,
          10939456.41,
          9926810.180000003,
          27594092.910000023,
          5504221.97,
          1470217.9600000002,
          91698.13,
          95358.98999999999,
          26831331.619999997,
          7081930.04,
          299931.32,
          11277.36,
          1747600.8,
          850590.78,
          633492.66,
          41988.32000000001,
          221900,
          135136.08,
          6798439.4,
          431216.32,
          5645164.92,
          318909.69999999995,
          3340464.55,
          875552.49,
          234160,
          4814673.5,
          2603757.55,
          448583.33,
          1404460.72,
          16972437.81,
          4962437.35,
          2169647.59,
          153360.22,
          612476.97,
          8234726.639999999,
          84440.9,
          156618.08,
          341867.98,
          3531357.57,
          0
         ],
         "xaxis": "x2",
         "y": [
          -0.3089375451706455,
          -0.10943589490199773,
          -0.08578302161722866,
          -0.3112694106795587,
          0.46541152907286676,
          0.26991172943791647,
          0.1991137455873442,
          0.15733997767591956,
          -0.0036390691823154826,
          0.10675667195881795,
          0.18992028504560973,
          0.27558136615264756,
          0.2908814186982737,
          0.18308944255421858,
          0.26362972311568506,
          0.18308377203955353,
          0.5852541078498422,
          0.10694755629640176,
          0.49589087108484914,
          -0.10274527231818656,
          0.5630210295385599,
          0.381163333829235,
          0.24856261764411414,
          -0.5284139952229471,
          -1,
          0.10617226266756355,
          -0.0025437613115252933,
          0.5387746500268511,
          0.21421237626387737,
          0.09644422039641742,
          0.1298055166052325,
          -0.012892309808801072,
          0.4799937196097092,
          0.20276763563048278,
          0.18321708217455746,
          0.09365680140352527,
          0.2950614317297587,
          -0.3670633991416353,
          0.03205977342646366,
          0.2601948009814528,
          0.11260376334974447,
          0.06128818000794286,
          0.19120993417170476,
          0.16096813202424204,
          0.4212609442654827,
          0.030862759729389278,
          0.10179977146733576,
          -0.27352265935954784,
          0.34917966936327416,
          0.3835551637101781,
          -0.018897819191702196,
          1.3690041740719383,
          0.4880282428296934,
          0.839005513948835,
          0.36180458089625445,
          0.8636945574554041,
          0.48782418494905855,
          0.2225974775715054,
          0.32341289811669033,
          0.2410327672914434,
          0.3771711130766585,
          0.3007698690573174,
          -0.35175751793246063,
          0.06728916880669224,
          0.06774643469831686,
          0.09816267773057485,
          0.6882722713783438,
          1.565277019590416,
          0.10565743053223986,
          -0.24982743236339314,
          0.041582845117495174,
          0.11146464412178851,
          -0.05077911543313868,
          0.49740061781738076,
          0.29951976309427497,
          0.07157707227794224,
          0.04456471644904633,
          0.32579867129323675,
          0.3105343109594584,
          -0.3979181671072111,
          0.381735614103716,
          -0.052237458071972644,
          -0.5831768325696487,
          -0.9369672182643555,
          0.5896807012762868,
          -0.13350506853965977,
          0.30797218238799867,
          0.10802965018294244,
          0.10016850327757519,
          0.33421193125716625,
          0.07507915641928556,
          0.21966065655878655,
          1.0061517646613318,
          0.2175699371423752,
          -0.34019119030899964,
          0.16346750061112844,
          0.1124411299609876,
          0.03170793205932851,
          0.2064621955385529,
          0.27122872893286065,
          1.2908387047817313,
          0.05670752508774074,
          0.20760710915552102,
          0.798943568653551,
          0.12738603396178685,
          0.09610731635998025,
          0.2929360435903571,
          -1
         ],
         "yaxis": "y2"
        },
        {
         "customdata": [
          [
           "ASMLXBJKCS"
          ],
          [
           "ASMLXGZGQS"
          ],
          [
           "ASMLXXAEPS"
          ],
          [
           "ASMLXXMXAS"
          ],
          [
           "BOSEXBJXWS"
          ],
          [
           "BRPXXSHYXS"
          ],
          [
           "ECCOXDGXSS"
          ],
          [
           "HIMEDSHZCS"
          ],
          [
           "HONEYSHMFS"
          ],
          [
           "HONEYTJALS"
          ],
          [
           "HPLJBSHMFS"
          ],
          [
           "HPPXXSHMGS"
          ],
          [
           "HWSXXNSNXS"
          ],
          [
           "KLATEBJDSS"
          ],
          [
           "LINDTSHKQS"
          ],
          [
           "MBXXXSHKQS"
          ],
          [
           "OTTECSHBSS"
          ],
          [
           "SENSALZDCS"
          ],
          [
           "SIEMESUEPS"
          ],
          [
           "HARLESHGWS"
          ],
          [
           "MARSXCDXXS"
          ],
          [
           "ASMLXNJLHS"
          ],
          [
           "BMWXXSHYSH"
          ],
          [
           "BURBYSHDQS"
          ],
          [
           "CLARISHFSH"
          ],
          [
           "DELLSSHALH"
          ],
          [
           "DIODESHFTH"
          ],
          [
           "EVISUSHDQR"
          ],
          [
           "EVISUSHDQS"
          ],
          [
           "FEIXXSHLDS"
          ],
          [
           "INTELCDXKS"
          ],
          [
           "JLRXXCQJLS"
          ],
          [
           "JLRXXFSIHS"
          ],
          [
           "JLRXXSUXDS"
          ],
          [
           "LAMREBJDSS"
          ],
          [
           "MICHELZB5S"
          ],
          [
           "MIDEASZXCS"
          ],
          [
           "ONSEMSHFTH"
          ],
          [
           "PERNOSHFSH"
          ],
          [
           "SKFXXSHFSH"
          ],
          [
           "SKFXXSHSYH"
          ],
          [
           "WEIFTNBWHS"
          ],
          [
           "WEIFTNBWHV"
          ]
         ],
         "hovertemplate": "type=平衡型<br>yr=2020<br>income_amt=%{marker.size}<br>profit_rate=%{y}<br>cost_center=%{customdata[0]}<extra></extra>",
         "legendgroup": "平衡型",
         "marker": {
          "color": "#EF553B",
          "size": [
           7552260.94,
           2294610.24,
           7367416.620000001,
           4411562.75,
           312422.83,
           3712270.02,
           305132.06,
           1460075.4399999997,
           17320090.48,
           9791933.620000001,
           1244945.51,
           43236159.49000001,
           13058153.82,
           6517044.37,
           5695681.249999999,
           1718301.7,
           101013.16,
           304890,
           28945700.820000023,
           3250084.3,
           12209589.110000003,
           4903065.0200000005,
           3121047.9700000016,
           17248556.59,
           1912562.55,
           8629381.35,
           8244812.24,
           3395060.3099999996,
           4141855.04,
           3544212.6,
           5963250.4,
           4448620.960000003,
           4551916.079999998,
           8080264.98,
           2089113.1700000002,
           30241983.65,
           7029815.569999999,
           1762483.59,
           8035983.79,
           4295421.1,
           3093841.18,
           431433.7,
           1408934.12
          ],
          "sizemode": "area",
          "sizeref": 239704.76002500005,
          "symbol": "circle"
         },
         "mode": "markers",
         "name": "平衡型",
         "orientation": "v",
         "showlegend": true,
         "type": "scatter",
         "x": [
          7552260.94,
          2294610.24,
          7367416.620000001,
          4411562.75,
          312422.83,
          3712270.02,
          305132.06,
          1460075.4399999997,
          17320090.48,
          9791933.620000001,
          1244945.51,
          43236159.49000001,
          13058153.82,
          6517044.37,
          5695681.249999999,
          1718301.7,
          101013.16,
          304890,
          28945700.820000023,
          3250084.3,
          12209589.110000003,
          4903065.0200000005,
          3121047.9700000016,
          17248556.59,
          1912562.55,
          8629381.35,
          8244812.24,
          3395060.3099999996,
          4141855.04,
          3544212.6,
          5963250.4,
          4448620.960000003,
          4551916.079999998,
          8080264.98,
          2089113.1700000002,
          30241983.65,
          7029815.569999999,
          1762483.59,
          8035983.79,
          4295421.1,
          3093841.18,
          431433.7,
          1408934.12
         ],
         "xaxis": "x",
         "y": [
          0.18922961276382655,
          0.15810488231693626,
          0.16391269851687854,
          0.3728756999621486,
          -0.25713776265150673,
          0.20392243256108686,
          -0.16064427798345163,
          0.03763221549660434,
          0.3134862283428837,
          0.873544705865569,
          0.2325023877437689,
          0.15227723649451952,
          0.28970703145659943,
          0.2935392497240393,
          0.3586698855459323,
          0.5433479465476344,
          1.103980149346466,
          0.8735860076081516,
          0.7566766219197831,
          0.1466702765497982,
          0.06997691361678365,
          0.15188849543962146,
          0.19410119632103176,
          0.3807208452800592,
          0.02546639031899165,
          0.31831026369409327,
          0.17571162215294706,
          0.2275449134705585,
          -0.21722187715089022,
          0.18506142596708652,
          0.1442268988135904,
          0.5091893682245405,
          0.13066600513206092,
          -0.05473089490500758,
          0.06812877172126576,
          0.2679043630801638,
          0.01693596939445256,
          0.04345874134898781,
          0.031086881832110967,
          -0.06869293175880874,
          0.2957553236404882,
          0.18668290412040275,
          0.03908309203697715
         ],
         "yaxis": "y"
        },
        {
         "customdata": [
          [
           "ABBOTBJXWS"
          ],
          [
           "ASMLXBJKCS"
          ],
          [
           "ASMLXGZGQS"
          ],
          [
           "ASMLXSHZCS"
          ],
          [
           "ASMLXXAEPS"
          ],
          [
           "ASMLXXMXAS"
          ],
          [
           "CLARISHFSH"
          ],
          [
           "DELLSSHY2S"
          ],
          [
           "HUSQVSHMFS"
          ],
          [
           "HWSXXNSNXS"
          ],
          [
           "KLRHYLAWHS"
          ],
          [
           "KUNLNTCIHS"
          ],
          [
           "LEMARBJXWS"
          ],
          [
           "LEMARGHD2S"
          ],
          [
           "LINDTSHKQS"
          ],
          [
           "MICHEBJXWS"
          ],
          [
           "OTYPESHSJS"
          ],
          [
           "PERNOSHFSS"
          ],
          [
           "SENSALZDCS"
          ],
          [
           "UCOHZJXXWS"
          ],
          [
           "VOLVOSHY2S"
          ],
          [
           "WEICJBJXWS"
          ],
          [
           "HONEYTJALS"
          ],
          [
           "MARSXBJSHS"
          ],
          [
           "ASMLXNJLHS"
          ],
          [
           "ASMLXTJXQS"
          ],
          [
           "BECTDSHDBH"
          ],
          [
           "BMWXXSHYSH"
          ],
          [
           "BURBYSHDQS"
          ],
          [
           "BURTOSHSYH"
          ],
          [
           "COACHSHSFH"
          ],
          [
           "COACHSHSFR"
          ],
          [
           "DIODESHFTH"
          ],
          [
           "DIODESHGWH"
          ],
          [
           "ECCOXDGXSS"
          ],
          [
           "ECCOXSHSJS"
          ],
          [
           "ECCOXSHTRR"
          ],
          [
           "EVISUSHDQR"
          ],
          [
           "FEIXXDLTZS"
          ],
          [
           "FEIXXSHLDS"
          ],
          [
           "HARLESHGWS"
          ],
          [
           "HIMEDSHZCS"
          ],
          [
           "HPPXXSHSFH"
          ],
          [
           "HPPXXWHWDS"
          ],
          [
           "INTELCDXKS"
          ],
          [
           "JLRXXBJIHS"
          ],
          [
           "JLRXXCQJLS"
          ],
          [
           "JLRXXFSIHS"
          ],
          [
           "JLRXXSUXDS"
          ],
          [
           "JMCXXTJJMS"
          ],
          [
           "JOHNSSHMFS"
          ],
          [
           "KLATEBJDSS"
          ],
          [
           "KLRHYTCIHS"
          ],
          [
           "KLRHYTCWHS"
          ],
          [
           "KUNLNLAWHS"
          ],
          [
           "LAMREBJDSS"
          ],
          [
           "LAMREWXIHS"
          ],
          [
           "LAMREXMXAS"
          ],
          [
           "LENXXSHTRD"
          ],
          [
           "LINDTSHKQR"
          ],
          [
           "MICHELZB5S"
          ],
          [
           "MICHESHIHS"
          ],
          [
           "NESPRSHTRR"
          ],
          [
           "NEXPEDGIHS"
          ],
          [
           "NEXPEDGTMS"
          ],
          [
           "ONSEMSHFTH"
          ],
          [
           "OTISXGZHPS"
          ],
          [
           "OTYPESHTRR"
          ],
          [
           "PERNOSHFSH"
          ],
          [
           "PHILIKSLJS"
          ],
          [
           "SCREESHZCS"
          ],
          [
           "SKFXXSHFSH"
          ],
          [
           "SKFXXSHSYH"
          ],
          [
           "SOLVASHFSH"
          ],
          [
           "STARBGZHPS"
          ],
          [
           "STARBHZSCS"
          ],
          [
           "WEIFTNBWHS"
          ],
          [
           "WEIFTNBWHV"
          ],
          [
           "YUDOMPTTRR"
          ]
         ],
         "hovertemplate": "type=平衡型<br>yr=2021<br>income_amt=%{marker.size}<br>profit_rate=%{y}<br>cost_center=%{customdata[0]}<extra></extra>",
         "legendgroup": "平衡型",
         "marker": {
          "color": "#EF553B",
          "size": [
           1088248.78,
           7933633.859999999,
           3319860.3600000003,
           14433449.02,
           6580832.27,
           4014774.55,
           2045962.63,
           5056871.26,
           2065234.77,
           11161016.73,
           1969506.48,
           1598883.5,
           742753.86,
           825259.0700000001,
           4467991.54,
           9350374.54,
           3893119.19,
           31279756.220000003,
           92700,
           750544.5499999999,
           27009847.87,
           285503.17,
           8461909.94,
           21539549.03,
           4131846.08,
           2219192.6999999997,
           920097.43,
           2915369.049999998,
           16538288.68,
           1272493.87,
           5767790.87,
           5210750.86,
           6337380.0200000005,
           176731.62,
           383278.16,
           10428346.889999999,
           264556.43,
           3202958.69,
           205089.6400000001,
           3807501.4400000037,
           5033175.609999999,
           836425.06,
           393425.3800000001,
           14517495.590000004,
           4500968.97,
           5170997.970000004,
           3892189.810000001,
           4017495.010000004,
           6848321.279999996,
           4087584.6199999996,
           13117076.02,
           5576820.57,
           1496544.4999999998,
           0,
           515442.22,
           1035087.3999999985,
           2037819.2999999984,
           789798.0600000003,
           209372.89,
           88233.26000000001,
           31163183.1,
           3965329.15,
           10556330.15,
           3294846.4899999998,
           275921.07999999996,
           2091903.930000001,
           462777.1,
           5885884.890000001,
           12264396,
           2120687.96,
           711289.3799999999,
           3087954.81,
           3312230.34,
           5871815.87,
           33148484.950000025,
           796261.3200000001,
           655735.2400000001,
           621620.39,
           264962.54
          ],
          "sizemode": "area",
          "sizeref": 239704.76002500005,
          "symbol": "circle"
         },
         "mode": "markers",
         "name": "平衡型",
         "orientation": "v",
         "showlegend": false,
         "type": "scatter",
         "x": [
          1088248.78,
          7933633.859999999,
          3319860.3600000003,
          14433449.02,
          6580832.27,
          4014774.55,
          2045962.63,
          5056871.26,
          2065234.77,
          11161016.73,
          1969506.48,
          1598883.5,
          742753.86,
          825259.0700000001,
          4467991.54,
          9350374.54,
          3893119.19,
          31279756.220000003,
          92700,
          750544.5499999999,
          27009847.87,
          285503.17,
          8461909.94,
          21539549.03,
          4131846.08,
          2219192.6999999997,
          920097.43,
          2915369.049999998,
          16538288.68,
          1272493.87,
          5767790.87,
          5210750.86,
          6337380.0200000005,
          176731.62,
          383278.16,
          10428346.889999999,
          264556.43,
          3202958.69,
          205089.6400000001,
          3807501.4400000037,
          5033175.609999999,
          836425.06,
          393425.3800000001,
          14517495.590000004,
          4500968.97,
          5170997.970000004,
          3892189.810000001,
          4017495.010000004,
          6848321.279999996,
          4087584.6199999996,
          13117076.02,
          5576820.57,
          1496544.4999999998,
          0,
          515442.22,
          1035087.3999999985,
          2037819.2999999984,
          789798.0600000003,
          209372.89,
          88233.26000000001,
          31163183.1,
          3965329.15,
          10556330.15,
          3294846.4899999998,
          275921.07999999996,
          2091903.930000001,
          462777.1,
          5885884.890000001,
          12264396,
          2120687.96,
          711289.3799999999,
          3087954.81,
          3312230.34,
          5871815.87,
          33148484.950000025,
          796261.3200000001,
          655735.2400000001,
          621620.39,
          264962.54
         ],
         "xaxis": "x2",
         "y": [
          -0.36483998995485944,
          0.1918622756558241,
          0.2063775549916546,
          0.1804628955724607,
          0.22662146543003028,
          0.19819850721211568,
          0.09564176803653421,
          0.5030082106492083,
          0.26861978242136486,
          0.271813098000244,
          -0.2356789081008839,
          -0.2394427436656709,
          0.19528860956463764,
          0.16940095418101514,
          0.014451607991943033,
          0.09943735907137184,
          -0.15527641291241093,
          0.06988269915442367,
          0.4609866908367767,
          0.4098954811934673,
          0.06704269460383208,
          0.15896448261862822,
          0.5331319259931117,
          0.19525314430657578,
          0.16838938459925293,
          0.35199509824620406,
          0.2246641880491023,
          0.22294048191203963,
          0.29263082645685545,
          0.009651930163074888,
          0.121539037501289,
          0.24500049862133322,
          0.15093642823258835,
          -0.02665169876718605,
          0.04848815969748428,
          -0.3841625482307651,
          0.363107855715745,
          0.1079193463608019,
          0.6062663057775959,
          0.23839763421549423,
          0.11066560231262457,
          0.0623952560976663,
          0.3838236943661999,
          0.6025993087958109,
          0.15444107618000663,
          0.12399289566654434,
          0.5480098154308665,
          0.13369493454146048,
          -0.03411750455270711,
          0.13334975896291554,
          0.11380892101974403,
          0.307307387668818,
          -0.5133397984644102,
          -1,
          -0.13041460675825417,
          -0.0263697571546059,
          0.1586570428956316,
          0.16054876840537088,
          0.17108821830031495,
          0.002938114764254075,
          0.23863741473197275,
          0.7189279995368949,
          0.24480520714930223,
          0.2986843230060613,
          0.10148997572994997,
          0.1677937296187405,
          -0.5835716988917106,
          0.16794973593699697,
          0.15270060676242067,
          -0.10416219623519825,
          0.3758008434231897,
          -0.026245944351973076,
          0.22433889650453748,
          0.1875074589364911,
          -0.03897245939521837,
          0.11992246153896352,
          0.2777069959690967,
          -0.05854652014177147,
          0.2043352197858889
         ],
         "yaxis": "y2"
        },
        {
         "customdata": [
          [
           "ABBOTSHDBP"
          ],
          [
           "ABBOTSHKQP"
          ],
          [
           "BMWXXYJBMS"
          ],
          [
           "COACHSHSFU"
          ],
          [
           "DIODESHFTS"
          ],
          [
           "ERICSNJJLS"
          ],
          [
           "HUAWEDGLSS"
          ],
          [
           "HUAWEDGNHS"
          ],
          [
           "HUAWEDHW3S"
          ],
          [
           "HUAWEDHW4S"
          ],
          [
           "MARSXBJALP"
          ],
          [
           "MARSXCDXXP"
          ],
          [
           "MARSXJXXWP"
          ],
          [
           "MARSXWHIHP"
          ],
          [
           "ONSEMSHFTS"
          ],
          [
           "PERNOSHM2S"
          ],
          [
           "SGMWALZH1S"
          ],
          [
           "UTCASXMNSS"
          ],
          [
           "VENCHSHKQS"
          ],
          [
           "ZEBRASHALV"
          ]
         ],
         "hovertemplate": "type=增值型<br>yr=2020<br>income_amt=%{marker.size}<br>profit_rate=%{y}<br>cost_center=%{customdata[0]}<extra></extra>",
         "legendgroup": "增值型",
         "marker": {
          "color": "#00cc96",
          "size": [
           4474751.2,
           2096143.15,
           34462137.41,
           6608956.63,
           11519989.01,
           70006921.03,
           27702939.249999966,
           4384078.92,
           5381204.440000001,
           95881904.01000002,
           23991419.96,
           6889174.75,
           28953223.7,
           6246633.69,
           20399091.07,
           1832133.8,
           3280728.73,
           400192.1,
           516523.41,
           1218292.56
          ],
          "sizemode": "area",
          "sizeref": 239704.76002500005,
          "symbol": "circle"
         },
         "mode": "markers",
         "name": "增值型",
         "orientation": "v",
         "showlegend": true,
         "type": "scatter",
         "x": [
          4474751.2,
          2096143.15,
          34462137.41,
          6608956.63,
          11519989.01,
          70006921.03,
          27702939.249999966,
          4384078.92,
          5381204.440000001,
          95881904.01000002,
          23991419.96,
          6889174.75,
          28953223.7,
          6246633.69,
          20399091.07,
          1832133.8,
          3280728.73,
          400192.1,
          516523.41,
          1218292.56
         ],
         "xaxis": "x",
         "y": [
          0.4288623807425102,
          0.4637150136473027,
          0.20615475244385262,
          0.5534842747798545,
          0.13123262279087933,
          0.1440553472072211,
          0.08071483411580631,
          0.36755641974858927,
          0.01008011521195713,
          0.32453491909236926,
          0.19315233657035188,
          0.2657759401874541,
          0.26749130284114087,
          0.21013008952285525,
          0.11281622537489545,
          0.6599589110442793,
          -0.06799838390454398,
          0.22402766638525518,
          0.10115053610383194,
          0.2298702014137504
         ],
         "yaxis": "y"
        },
        {
         "customdata": [
          [
           "ABBOTSHKQP"
          ],
          [
           "BMWXXHFSFS"
          ],
          [
           "BMWXXYJBMS"
          ],
          [
           "COACHSHSFU"
          ],
          [
           "CRCONNCIHG"
          ],
          [
           "DIODESHFTS"
          ],
          [
           "ERICSNJJLS"
          ],
          [
           "FORDXCQWHS"
          ],
          [
           "HPPXXSHFSH"
          ],
          [
           "HUAWEDGNHS"
          ],
          [
           "MARSXBJALP"
          ],
          [
           "MARSXCDXXP"
          ],
          [
           "MARSXJXXWP"
          ],
          [
           "MARSXWHIHP"
          ],
          [
           "ONSEMSHFTS"
          ],
          [
           "PERNOSHM2S"
          ],
          [
           "ZJCOCWHWHG"
          ]
         ],
         "hovertemplate": "type=增值型<br>yr=2021<br>income_amt=%{marker.size}<br>profit_rate=%{y}<br>cost_center=%{customdata[0]}<extra></extra>",
         "legendgroup": "增值型",
         "marker": {
          "color": "#00cc96",
          "size": [
           2579676.68,
           9603261.54,
           27746267.990000002,
           10489140.149999999,
           5043728.98,
           10579927.98,
           53633211.59,
           4060776.039999998,
           7205321.19,
           8034449.740000004,
           16994246.929999996,
           4333725.93,
           19038408.86999999,
           4212431.300000001,
           20442520.380000003,
           0,
           5024896.100000001
          ],
          "sizemode": "area",
          "sizeref": 239704.76002500005,
          "symbol": "circle"
         },
         "mode": "markers",
         "name": "增值型",
         "orientation": "v",
         "showlegend": false,
         "type": "scatter",
         "x": [
          2579676.68,
          9603261.54,
          27746267.990000002,
          10489140.149999999,
          5043728.98,
          10579927.98,
          53633211.59,
          4060776.039999998,
          7205321.19,
          8034449.740000004,
          16994246.929999996,
          4333725.93,
          19038408.86999999,
          4212431.300000001,
          20442520.380000003,
          0,
          5024896.100000001
         ],
         "xaxis": "x2",
         "y": [
          0.47969088549496397,
          -0.05098157515146056,
          0.2089280973413055,
          0.22962602893494488,
          0.04891083224000754,
          0.1594962702718371,
          0.10480088954534392,
          0.08076611098615759,
          0.15513886106044808,
          0.4728512792165061,
          0.08631033775842573,
          0.13022856810674643,
          0.18558154379497394,
          0.08875243658369193,
          0.04976598039788943,
          -1,
          -0.10269125724175716
         ],
         "yaxis": "y2"
        },
        {
         "customdata": [
          [
           "ABBXXBJXMS"
          ],
          [
           "ABBXXGZPBS"
          ],
          [
           "BMWIMSYXXS"
          ],
          [
           "BMWXXSHYSS"
          ],
          [
           "CEXARSHBSH"
          ],
          [
           "DELLSBJXWS"
          ],
          [
           "DELLSGHD2S"
          ],
          [
           "DELLSSHY2S"
          ],
          [
           "DXCXXBJXWS"
          ],
          [
           "ERISLGZWHS"
          ],
          [
           "FEIXXDLTZS"
          ],
          [
           "FERRECDXXS"
          ],
          [
           "FORDXCQFDS"
          ],
          [
           "FORDXHBLCS"
          ],
          [
           "FUJIESHMFS"
          ],
          [
           "FUJIXCQFJS"
          ],
          [
           "FUJIXSYXXS"
          ],
          [
           "GEABPBJXWS"
          ],
          [
           "GEMEDSHKQS"
          ],
          [
           "H3CNHXAXXS"
          ],
          [
           "HAIERQDJZS"
          ],
          [
           "HARLESHFXS"
          ],
          [
           "HPESLBJXWS"
          ],
          [
           "HPPXXSHFSH"
          ],
          [
           "HPPXXWHWDS"
          ],
          [
           "HUAWEDHW1S"
          ],
          [
           "HUAWEDHWTS"
          ],
          [
           "HUAWESZLHS"
          ],
          [
           "IBMXXGZIHC"
          ],
          [
           "INFINWXIFS"
          ],
          [
           "JLRXXBJIHS"
          ],
          [
           "JOHNSSHMFP"
          ],
          [
           "JOHNSSHMFS"
          ],
          [
           "KEYSIBJIHS"
          ],
          [
           "KEYSISHIHS"
          ],
          [
           "KEYSISHYXS"
          ],
          [
           "KLATESHWQS"
          ],
          [
           "KONEXCDXDS"
          ],
          [
           "KRAFTSHKQS"
          ],
          [
           "LAMREDLTZS"
          ],
          [
           "LAMREHFCBS"
          ],
          [
           "LAMRESHLDS"
          ],
          [
           "LAMREWHSLS"
          ],
          [
           "LAMREWXIHS"
          ],
          [
           "LAMREXAEPS"
          ],
          [
           "LAMREXMXAS"
          ],
          [
           "LANDBSHKQP"
          ],
          [
           "MARSXBJSHS"
          ],
          [
           "MARYKHZIHS"
          ],
          [
           "MICHEBJXWS"
          ],
          [
           "MICHESHXCS"
          ],
          [
           "MICHETCTGS"
          ],
          [
           "MIGTMSSFTS"
          ],
          [
           "NEXPEDGIHS"
          ],
          [
           "NEXPEDGWHS"
          ],
          [
           "NIANCSHDQS"
          ],
          [
           "NSBSHSHJQS"
          ],
          [
           "OLYXXSHKQS"
          ],
          [
           "OTTECSHDQS"
          ],
          [
           "RYOSHSHYXV"
          ],
          [
           "SENSACZIHS"
          ],
          [
           "SFELCSHMHS"
          ],
          [
           "SGMWACQSGS"
          ],
          [
           "SGMWALZB1S"
          ],
          [
           "SGMWALZB2S"
          ],
          [
           "SGMWALZB3S"
          ],
          [
           "SGMWALZB4S"
          ],
          [
           "SGMWALZB6S"
          ],
          [
           "SGMWALZH2S"
          ],
          [
           "SGMWALZH3S"
          ],
          [
           "SGMWAQDHDS"
          ],
          [
           "SGMWATLYZS"
          ],
          [
           "SGMWAXAKGS"
          ],
          [
           "SHELLBJWHS"
          ],
          [
           "SOLVASHFSH"
          ],
          [
           "SOLVASHMFS"
          ],
          [
           "STARBBJALS"
          ],
          [
           "STARBCDXXS"
          ],
          [
           "STARBGZHPS"
          ],
          [
           "THERMSHDBS"
          ],
          [
           "TYCOTSDXXS"
          ],
          [
           "TYCOTSHY2S"
          ],
          [
           "TYCOTSHY3S"
          ],
          [
           "WEIFTWXWHS"
          ],
          [
           "WHJYXWHXDC"
          ],
          [
           "ZEBRASHALH"
          ],
          [
           "ZTEXXNJZXS"
          ]
         ],
         "hovertemplate": "type=操作型<br>yr=2020<br>income_amt=%{marker.size}<br>profit_rate=%{y}<br>cost_center=%{customdata[0]}<extra></extra>",
         "legendgroup": "操作型",
         "marker": {
          "color": "#ab63fa",
          "size": [
           1589254.6,
           1627093.1400000001,
           8247407.73,
           10643700.780000001,
           877987.18,
           4113469.8499999996,
           2701670.16,
           5666928.27,
           443404.65,
           6714575.53,
           380340.54,
           1699763.1700000002,
           12440931.16,
           1766603.5999999996,
           453165.74,
           296514.58999999997,
           348317.06,
           979188.11,
           7204278.34,
           72711,
           4750268.210000001,
           8097478.48,
           500590.87,
           8161904.0200000005,
           17712384.910000004,
           12547979.61000001,
           11027886.840000007,
           1073807.37,
           4197490.08,
           3573658.88,
           6048135.090000006,
           10047419.67,
           16899951.27,
           844687.58,
           1427873.83,
           331269.61,
           301998.5,
           9199912.23,
           3189070.5199999996,
           3890373.15,
           1948894.97,
           1874059.6099999999,
           3639151.34,
           2282314.01,
           3045065.8800000004,
           851573.66,
           2988519.36,
           26737520.169999998,
           2385505.56,
           9083607.86,
           11144666.330000002,
           18051008.42,
           12843838.48,
           3589844.36,
           19873950.480000008,
           143694.91,
           4256302.48,
           2702893.87,
           361231.59,
           1258797.97,
           2950303.38,
           11330507.09,
           2410113.15,
           20631891.970000006,
           16004660.290000001,
           5230909.16,
           5176198.73,
           23905498.810000006,
           4046388.07,
           2767465.15,
           5401712.220000001,
           1938653.8499999996,
           1864715.4899999998,
           1049958.1199999999,
           4215459.51,
           520513.26,
           24387950.84000001,
           14418894.46,
           31840743.220000017,
           4496385.75,
           7408618.220000003,
           1373598.65,
           3539187.68,
           1451737.34,
           226415.03999999998,
           6003728.37,
           3982358.3600000003
          ],
          "sizemode": "area",
          "sizeref": 239704.76002500005,
          "symbol": "circle"
         },
         "mode": "markers",
         "name": "操作型",
         "orientation": "v",
         "showlegend": true,
         "type": "scatter",
         "x": [
          1589254.6,
          1627093.1400000001,
          8247407.73,
          10643700.780000001,
          877987.18,
          4113469.8499999996,
          2701670.16,
          5666928.27,
          443404.65,
          6714575.53,
          380340.54,
          1699763.1700000002,
          12440931.16,
          1766603.5999999996,
          453165.74,
          296514.58999999997,
          348317.06,
          979188.11,
          7204278.34,
          72711,
          4750268.210000001,
          8097478.48,
          500590.87,
          8161904.0200000005,
          17712384.910000004,
          12547979.61000001,
          11027886.840000007,
          1073807.37,
          4197490.08,
          3573658.88,
          6048135.090000006,
          10047419.67,
          16899951.27,
          844687.58,
          1427873.83,
          331269.61,
          301998.5,
          9199912.23,
          3189070.5199999996,
          3890373.15,
          1948894.97,
          1874059.6099999999,
          3639151.34,
          2282314.01,
          3045065.8800000004,
          851573.66,
          2988519.36,
          26737520.169999998,
          2385505.56,
          9083607.86,
          11144666.330000002,
          18051008.42,
          12843838.48,
          3589844.36,
          19873950.480000008,
          143694.91,
          4256302.48,
          2702893.87,
          361231.59,
          1258797.97,
          2950303.38,
          11330507.09,
          2410113.15,
          20631891.970000006,
          16004660.290000001,
          5230909.16,
          5176198.73,
          23905498.810000006,
          4046388.07,
          2767465.15,
          5401712.220000001,
          1938653.8499999996,
          1864715.4899999998,
          1049958.1199999999,
          4215459.51,
          520513.26,
          24387950.84000001,
          14418894.46,
          31840743.220000017,
          4496385.75,
          7408618.220000003,
          1373598.65,
          3539187.68,
          1451737.34,
          226415.03999999998,
          6003728.37,
          3982358.3600000003
         ],
         "xaxis": "x",
         "y": [
          0.02563298683764138,
          -0.10924443934559723,
          -0.13278209988055292,
          0.17571321512525737,
          1.277064729414755,
          0.5909136071770478,
          0.26699772641342806,
          0.4840916909588387,
          0.3746547084328727,
          0.186791453637316,
          0.6016037912233214,
          0.5344986754257703,
          0.08943081528391918,
          0.6163764124370804,
          0.18398315460681328,
          0.40309850421443555,
          0.07233808341778254,
          0.4963863557554138,
          0.27962448742308826,
          0.034144945559865594,
          0.29463192133285987,
          0.07300929128999627,
          0.6242258910482107,
          0.05726982024583781,
          0.6296533731848293,
          0.5079990006906557,
          0.020277403616200396,
          0.9495636034042584,
          0.22553025403397117,
          0.22769761243785333,
          0.0817982917305515,
          0.07705754150051676,
          0.08759130450251235,
          0.39558539794727143,
          0.4885526545303184,
          1.715207161526124,
          0.38133281348612,
          0.4545779541802752,
          -0.05654385718061941,
          0.17854244907512737,
          0.1781224199602515,
          0.17384252066808475,
          0.1370312509431904,
          0.20566426925859896,
          0.0363382706188443,
          0.21422860434078192,
          -0.052235707252859136,
          0.2030631609550341,
          -0.03287136287859372,
          0.08838513854873438,
          0.1714397135855675,
          0.3656528092730518,
          -0.469511953744155,
          0.40315749844132354,
          0.677433891869345,
          1.755501994693602,
          0.03924011182337217,
          0.36869539865732737,
          -0.24207865209559515,
          0.34518235222205507,
          0.16205012916158806,
          0.20363283495104165,
          -0.20356844398161786,
          -0.1506978333225032,
          0.21042469260943375,
          0.5712867038792427,
          0.014515769752083343,
          0.19162960433223994,
          0.297509412053412,
          0.41441080592185175,
          -0.05332267950901979,
          0.8454225491882443,
          0.612532137307419,
          0.4670952618757716,
          0.14011138509747836,
          -0.007052703040817551,
          -0.2415760474708842,
          0.3222093494080832,
          0.05504037539803719,
          0.271858798786599,
          0.38377694242952054,
          0.3451982725388677,
          0.11155588856005381,
          0.1424761428951345,
          -0.01288522113106674,
          0.05061664817784709,
          -0.005977967834394569
         ],
         "yaxis": "y"
        },
        {
         "customdata": [
          [
           "ABBOTSHDBP"
          ],
          [
           "ARDCHSHKQP"
          ],
          [
           "ARTEXSHWHS"
          ],
          [
           "BATXXSZQHS"
          ],
          [
           "BEUKASHIHS"
          ],
          [
           "BMWCSSYKFS"
          ],
          [
           "BMWIMSYXXS"
          ],
          [
           "BMWXXSHYSS"
          ],
          [
           "CEXARSHBSH"
          ],
          [
           "CORNGWHIHS"
          ],
          [
           "CVTESGZTRD"
          ],
          [
           "CYTIVSHKQS"
          ],
          [
           "DRJATSHLXS"
          ],
          [
           "DXCXXBJXWS"
          ],
          [
           "ERISLGZWHS"
          ],
          [
           "EVISUSHDQS"
          ],
          [
           "EVISUSHDQV"
          ],
          [
           "FERRECDXXS"
          ],
          [
           "FORDXCQFDS"
          ],
          [
           "FORDXHBLCS"
          ],
          [
           "FREYXSHKQP"
          ],
          [
           "FUJIXCQFJS"
          ],
          [
           "FUJIXSYXXS"
          ],
          [
           "GEABPBJXWS"
          ],
          [
           "GHYCNSUWHS"
          ],
          [
           "HAIERQDJZS"
          ],
          [
           "HANGYBJWHS"
          ],
          [
           "HONORDGHMS"
          ],
          [
           "HOUSFSHSJS"
          ],
          [
           "HPESLBJXWS"
          ],
          [
           "HSSOLWXIHS"
          ],
          [
           "HUAWEDGLSS"
          ],
          [
           "HUAWEDHW1S"
          ],
          [
           "HUAWEDHW4S"
          ],
          [
           "HUAWEDHWTS"
          ],
          [
           "HUAWESZLHS"
          ],
          [
           "IBMXXGZIHC"
          ],
          [
           "INFINWXIFS"
          ],
          [
           "INFINWXWHS"
          ],
          [
           "JOHNSSHMFP"
          ],
          [
           "KEYSIBJIHS"
          ],
          [
           "KEYSISHIHS"
          ],
          [
           "KLATESHWQS"
          ],
          [
           "KLRHYBJWHS"
          ],
          [
           "KUKAXWXIHS"
          ],
          [
           "LAMREDLTZS"
          ],
          [
           "LAMREHFCBS"
          ],
          [
           "LAMRESHLDS"
          ],
          [
           "LAMREWHSLS"
          ],
          [
           "LAMREXAEPS"
          ],
          [
           "LANDBSHKQP"
          ],
          [
           "MARYKHZIHS"
          ],
          [
           "MICHESHXCS"
          ],
          [
           "MICHETCTGS"
          ],
          [
           "MIDEASUCHS"
          ],
          [
           "MIDEASZXCS"
          ],
          [
           "NEXPEDGWHS"
          ],
          [
           "NSBSHSHJQS"
          ],
          [
           "OLYXXSHKQS"
          ],
          [
           "OTISXCQIHS"
          ],
          [
           "OTISXSHIHS"
          ],
          [
           "OTTECSHDQS"
          ],
          [
           "PINGATJXQS"
          ],
          [
           "RAYCOWXIHS"
          ],
          [
           "RYOSHSHYXV"
          ],
          [
           "SENSACZIHS"
          ],
          [
           "SFELCSHMHS"
          ],
          [
           "SGMWACQSGS"
          ],
          [
           "SGMWALZB1S"
          ],
          [
           "SGMWALZB3S"
          ],
          [
           "SGMWALZB4S"
          ],
          [
           "SGMWALZB8S"
          ],
          [
           "SGMWALZH1S"
          ],
          [
           "SGMWALZH2S"
          ],
          [
           "SGMWALZH3S"
          ],
          [
           "SGMWAQDHDS"
          ],
          [
           "SGMWATLYZS"
          ],
          [
           "SGMWAXAKGS"
          ],
          [
           "SHELLBJWHS"
          ],
          [
           "SIEMESUEPS"
          ],
          [
           "SKFSHDLSMS"
          ],
          [
           "SKFSHSHIHS"
          ],
          [
           "STARBBJALS"
          ],
          [
           "STARBBJZWS"
          ],
          [
           "STARBSYXXS"
          ],
          [
           "STARBSZQAS"
          ],
          [
           "TAOCHCZIHS"
          ],
          [
           "TIANMSHIHS"
          ],
          [
           "TODSXSHHCS"
          ],
          [
           "TYCOTSDXXS"
          ],
          [
           "TYCOTSHY2S"
          ],
          [
           "UTCASXMNSS"
          ],
          [
           "VENCHSHWHS"
          ],
          [
           "WEIFTWXWHS"
          ],
          [
           "WHJYXWHXDC"
          ],
          [
           "XINWESHKQP"
          ],
          [
           "YUDOMPTIHS"
          ],
          [
           "ZEBRASHALH"
          ],
          [
           "ZEBRASHALS"
          ],
          [
           "ZTEXXNJZXS"
          ]
         ],
         "hovertemplate": "type=操作型<br>yr=2021<br>income_amt=%{marker.size}<br>profit_rate=%{y}<br>cost_center=%{customdata[0]}<extra></extra>",
         "legendgroup": "操作型",
         "marker": {
          "color": "#ab63fa",
          "size": [
           3800082.389999999,
           94398.98000000001,
           237059.21,
           1187720,
           2558154.78,
           4183989.72,
           2976370.9600000004,
           10111694.97,
           639717.4,
           3401737.99,
           2278345.13,
           702000,
           5196375.73,
           367868,
           5644867.480000006,
           4773778.1,
           234145.9,
           1527960.77,
           11324878.839999983,
           678823.4199999998,
           53536.64,
           227443.66,
           294834,
           782487.91,
           8834277.770000001,
           4975698.010000001,
           144400.95,
           12574044.330000004,
           320982.37,
           505174.18000000005,
           9315829.950000001,
           12690556.420000011,
           4240178.260000001,
           45034847.789999984,
           2194325.94,
           546985.04,
           3241752.63,
           3210964.91,
           4457722.97,
           9093820.4,
           820184.31,
           1213375.8900000001,
           1180434.57,
           2044756.2399999995,
           821263.77,
           3519538.85,
           2233855.0899999994,
           1463534.8500000003,
           5059998.040000003,
           3221499.26,
           4823649.64,
           9302763.93,
           9663308.000000002,
           18797580.249999996,
           828005.49,
           4536701.49,
           18111129.02000001,
           3006937.54,
           2194324.93,
           342592.12,
           3550297.84,
           90307.89000000003,
           31118975.320000008,
           250266.64,
           1057307.0699999996,
           2700902.05,
           12641789.35,
           2147468.52,
           14429241.04,
           4041540.670000001,
           5337099.76,
           2191579.69,
           832221.7499999978,
           2611540.28,
           3827237.340000001,
           5318033.22,
           1758643.75,
           1699561.9500000002,
           631440.48,
           25950349.890000015,
           1388738.3099999998,
           11803079.58,
           32389244.390000027,
           756040.9700000001,
           2991545.33,
           1482419.25,
           820233.22,
           6212917.200000001,
           5464604.48,
           7013072.19,
           1134311.44,
           323313.95999999996,
           486107.46,
           1282837.9,
           94339.59999999999,
           9208.119999999999,
           320754.72000000015,
           3327006.7,
           9390920.660003662,
           4689545.95
          ],
          "sizemode": "area",
          "sizeref": 239704.76002500005,
          "symbol": "circle"
         },
         "mode": "markers",
         "name": "操作型",
         "orientation": "v",
         "showlegend": false,
         "type": "scatter",
         "x": [
          3800082.389999999,
          94398.98000000001,
          237059.21,
          1187720,
          2558154.78,
          4183989.72,
          2976370.9600000004,
          10111694.97,
          639717.4,
          3401737.99,
          2278345.13,
          702000,
          5196375.73,
          367868,
          5644867.480000006,
          4773778.1,
          234145.9,
          1527960.77,
          11324878.839999983,
          678823.4199999998,
          53536.64,
          227443.66,
          294834,
          782487.91,
          8834277.770000001,
          4975698.010000001,
          144400.95,
          12574044.330000004,
          320982.37,
          505174.18000000005,
          9315829.950000001,
          12690556.420000011,
          4240178.260000001,
          45034847.789999984,
          2194325.94,
          546985.04,
          3241752.63,
          3210964.91,
          4457722.97,
          9093820.4,
          820184.31,
          1213375.8900000001,
          1180434.57,
          2044756.2399999995,
          821263.77,
          3519538.85,
          2233855.0899999994,
          1463534.8500000003,
          5059998.040000003,
          3221499.26,
          4823649.64,
          9302763.93,
          9663308.000000002,
          18797580.249999996,
          828005.49,
          4536701.49,
          18111129.02000001,
          3006937.54,
          2194324.93,
          342592.12,
          3550297.84,
          90307.89000000003,
          31118975.320000008,
          250266.64,
          1057307.0699999996,
          2700902.05,
          12641789.35,
          2147468.52,
          14429241.04,
          4041540.670000001,
          5337099.76,
          2191579.69,
          832221.7499999978,
          2611540.28,
          3827237.340000001,
          5318033.22,
          1758643.75,
          1699561.9500000002,
          631440.48,
          25950349.890000015,
          1388738.3099999998,
          11803079.58,
          32389244.390000027,
          756040.9700000001,
          2991545.33,
          1482419.25,
          820233.22,
          6212917.200000001,
          5464604.48,
          7013072.19,
          1134311.44,
          323313.95999999996,
          486107.46,
          1282837.9,
          94339.59999999999,
          9208.119999999999,
          320754.72000000015,
          3327006.7,
          9390920.660003662,
          4689545.95
         ],
         "xaxis": "x2",
         "y": [
          0.523224653917936,
          1.0825069948944939,
          0.2066301764930291,
          0.19324159422068077,
          0.13675451418098328,
          0.1058686909329144,
          -0.3243190046868482,
          0.20015411882263265,
          0.6549300128774215,
          0.05646088196718672,
          -0.06594032621967016,
          0.3563339229199684,
          0.035660188610896315,
          0.11488063860002218,
          0.2581560723103286,
          -0.0939645895109528,
          0.8029745172829474,
          0.40449672938270165,
          0.08197269726713655,
          -0.027704621010962504,
          0.9625853644409563,
          0.3944835769767502,
          0.22025611745291065,
          0.6952177374553092,
          0.0576486581948141,
          0.2843428987470011,
          0.09192223326572146,
          -0.03411155005305696,
          0.03796828118080828,
          0.3285549372526831,
          0.11135881660162238,
          0.03096913108706793,
          0.7303771240832946,
          0.18367369910023418,
          -0.05940052308509161,
          0.4264013244250786,
          0.23528319170472636,
          0.09636209662247433,
          0.07435511315263912,
          0.04224327272776444,
          0.3164962462686722,
          0.3314743932546829,
          0.2062857809252561,
          -0.39235872124101084,
          -0.44831538765567724,
          0.1652562663583726,
          0.14744658927858115,
          0.004996702645539123,
          0.10727001716564666,
          0.013465545268591941,
          0.15319671213603175,
          0.03817192677880308,
          0.3157866877140077,
          0.49324022825303765,
          0.08635065993856206,
          -0.02326125371050044,
          0.6569638545649122,
          -0.09900272061884512,
          0.2453084842584704,
          1.0157143432906386,
          0.16034083665851223,
          0.17264896956793852,
          0.00795039309596101,
          0.02995358582535692,
          0.2188832024192585,
          0.09789237384146363,
          0.1824084698551509,
          -0.13169140341266664,
          0.05174334696123761,
          0.7480632095717903,
          0.061458596720765445,
          0.03225308808136701,
          -0.4663715491622258,
          0.3797533785010903,
          0.49274567665040747,
          0.03425788247048842,
          0.9097908837521526,
          0.621760194065948,
          -0.12541669373882952,
          0.3774829208912078,
          -0.03798613428998119,
          0.13298073766806248,
          -0.059730880873577454,
          0.15902912716912782,
          0.037312452962112636,
          0.060250953364147,
          0.10009244855076523,
          0.01753887809836916,
          -0.23489024956545992,
          0.2836568628445488,
          0.37003669265003697,
          0.1557620831531517,
          0.2976006661466199,
          -0.032781860361229924,
          -0.11215269908982567,
          0.8323267739489827,
          0.24683759797346336,
          0.08357394928672442,
          0.19142531555550654,
          -0.260723840100391
         ],
         "yaxis": "y2"
        }
       ],
       "layout": {
        "annotations": [
         {
          "showarrow": false,
          "text": "yr=2020",
          "x": 0.245,
          "xanchor": "center",
          "xref": "paper",
          "y": 1,
          "yanchor": "bottom",
          "yref": "paper"
         },
         {
          "showarrow": false,
          "text": "yr=2021",
          "x": 0.755,
          "xanchor": "center",
          "xref": "paper",
          "y": 1,
          "yanchor": "bottom",
          "yref": "paper"
         },
         {
          "opacity": 0.4,
          "showarrow": false,
          "text": "2020 <br> weighted mean profit_rate <br>, 0.1962",
          "x": 1,
          "xanchor": "right",
          "xref": "x domain",
          "y": 0.1962,
          "yanchor": "bottom",
          "yref": "y"
         },
         {
          "opacity": 0.4,
          "showarrow": false,
          "text": "2021 <br> weighted mean profit_rate <br>, 0.1456",
          "x": 1,
          "xanchor": "right",
          "xref": "x2 domain",
          "y": 0.1456,
          "yanchor": "bottom",
          "yref": "y2"
         }
        ],
        "legend": {
         "itemsizing": "constant",
         "title": {
          "text": "type"
         },
         "tracegroupgap": 0
        },
        "shapes": [
         {
          "line": {
           "color": "black",
           "dash": "dash",
           "width": 3
          },
          "opacity": 0.4,
          "type": "line",
          "x0": 0,
          "x1": 1,
          "xref": "x domain",
          "y0": 0.1962,
          "y1": 0.1962,
          "yref": "y"
         },
         {
          "line": {
           "color": "black",
           "dash": "dash",
           "width": 3
          },
          "opacity": 0.4,
          "type": "line",
          "x0": 0,
          "x1": 1,
          "xref": "x2 domain",
          "y0": 0.1456,
          "y1": 0.1456,
          "yref": "y2"
         }
        ],
        "template": {
         "data": {
          "bar": [
           {
            "error_x": {
             "color": "#2a3f5f"
            },
            "error_y": {
             "color": "#2a3f5f"
            },
            "marker": {
             "line": {
              "color": "#E5ECF6",
              "width": 0.5
             }
            },
            "type": "bar"
           }
          ],
          "barpolar": [
           {
            "marker": {
             "line": {
              "color": "#E5ECF6",
              "width": 0.5
             }
            },
            "type": "barpolar"
           }
          ],
          "carpet": [
           {
            "aaxis": {
             "endlinecolor": "#2a3f5f",
             "gridcolor": "white",
             "linecolor": "white",
             "minorgridcolor": "white",
             "startlinecolor": "#2a3f5f"
            },
            "baxis": {
             "endlinecolor": "#2a3f5f",
             "gridcolor": "white",
             "linecolor": "white",
             "minorgridcolor": "white",
             "startlinecolor": "#2a3f5f"
            },
            "type": "carpet"
           }
          ],
          "choropleth": [
           {
            "colorbar": {
             "outlinewidth": 0,
             "ticks": ""
            },
            "type": "choropleth"
           }
          ],
          "contour": [
           {
            "colorbar": {
             "outlinewidth": 0,
             "ticks": ""
            },
            "colorscale": [
             [
              0,
              "#0d0887"
             ],
             [
              0.1111111111111111,
              "#46039f"
             ],
             [
              0.2222222222222222,
              "#7201a8"
             ],
             [
              0.3333333333333333,
              "#9c179e"
             ],
             [
              0.4444444444444444,
              "#bd3786"
             ],
             [
              0.5555555555555556,
              "#d8576b"
             ],
             [
              0.6666666666666666,
              "#ed7953"
             ],
             [
              0.7777777777777778,
              "#fb9f3a"
             ],
             [
              0.8888888888888888,
              "#fdca26"
             ],
             [
              1,
              "#f0f921"
             ]
            ],
            "type": "contour"
           }
          ],
          "contourcarpet": [
           {
            "colorbar": {
             "outlinewidth": 0,
             "ticks": ""
            },
            "type": "contourcarpet"
           }
          ],
          "heatmap": [
           {
            "colorbar": {
             "outlinewidth": 0,
             "ticks": ""
            },
            "colorscale": [
             [
              0,
              "#0d0887"
             ],
             [
              0.1111111111111111,
              "#46039f"
             ],
             [
              0.2222222222222222,
              "#7201a8"
             ],
             [
              0.3333333333333333,
              "#9c179e"
             ],
             [
              0.4444444444444444,
              "#bd3786"
             ],
             [
              0.5555555555555556,
              "#d8576b"
             ],
             [
              0.6666666666666666,
              "#ed7953"
             ],
             [
              0.7777777777777778,
              "#fb9f3a"
             ],
             [
              0.8888888888888888,
              "#fdca26"
             ],
             [
              1,
              "#f0f921"
             ]
            ],
            "type": "heatmap"
           }
          ],
          "heatmapgl": [
           {
            "colorbar": {
             "outlinewidth": 0,
             "ticks": ""
            },
            "colorscale": [
             [
              0,
              "#0d0887"
             ],
             [
              0.1111111111111111,
              "#46039f"
             ],
             [
              0.2222222222222222,
              "#7201a8"
             ],
             [
              0.3333333333333333,
              "#9c179e"
             ],
             [
              0.4444444444444444,
              "#bd3786"
             ],
             [
              0.5555555555555556,
              "#d8576b"
             ],
             [
              0.6666666666666666,
              "#ed7953"
             ],
             [
              0.7777777777777778,
              "#fb9f3a"
             ],
             [
              0.8888888888888888,
              "#fdca26"
             ],
             [
              1,
              "#f0f921"
             ]
            ],
            "type": "heatmapgl"
           }
          ],
          "histogram": [
           {
            "marker": {
             "colorbar": {
              "outlinewidth": 0,
              "ticks": ""
             }
            },
            "type": "histogram"
           }
          ],
          "histogram2d": [
           {
            "colorbar": {
             "outlinewidth": 0,
             "ticks": ""
            },
            "colorscale": [
             [
              0,
              "#0d0887"
             ],
             [
              0.1111111111111111,
              "#46039f"
             ],
             [
              0.2222222222222222,
              "#7201a8"
             ],
             [
              0.3333333333333333,
              "#9c179e"
             ],
             [
              0.4444444444444444,
              "#bd3786"
             ],
             [
              0.5555555555555556,
              "#d8576b"
             ],
             [
              0.6666666666666666,
              "#ed7953"
             ],
             [
              0.7777777777777778,
              "#fb9f3a"
             ],
             [
              0.8888888888888888,
              "#fdca26"
             ],
             [
              1,
              "#f0f921"
             ]
            ],
            "type": "histogram2d"
           }
          ],
          "histogram2dcontour": [
           {
            "colorbar": {
             "outlinewidth": 0,
             "ticks": ""
            },
            "colorscale": [
             [
              0,
              "#0d0887"
             ],
             [
              0.1111111111111111,
              "#46039f"
             ],
             [
              0.2222222222222222,
              "#7201a8"
             ],
             [
              0.3333333333333333,
              "#9c179e"
             ],
             [
              0.4444444444444444,
              "#bd3786"
             ],
             [
              0.5555555555555556,
              "#d8576b"
             ],
             [
              0.6666666666666666,
              "#ed7953"
             ],
             [
              0.7777777777777778,
              "#fb9f3a"
             ],
             [
              0.8888888888888888,
              "#fdca26"
             ],
             [
              1,
              "#f0f921"
             ]
            ],
            "type": "histogram2dcontour"
           }
          ],
          "mesh3d": [
           {
            "colorbar": {
             "outlinewidth": 0,
             "ticks": ""
            },
            "type": "mesh3d"
           }
          ],
          "parcoords": [
           {
            "line": {
             "colorbar": {
              "outlinewidth": 0,
              "ticks": ""
             }
            },
            "type": "parcoords"
           }
          ],
          "pie": [
           {
            "automargin": true,
            "type": "pie"
           }
          ],
          "scatter": [
           {
            "marker": {
             "colorbar": {
              "outlinewidth": 0,
              "ticks": ""
             }
            },
            "type": "scatter"
           }
          ],
          "scatter3d": [
           {
            "line": {
             "colorbar": {
              "outlinewidth": 0,
              "ticks": ""
             }
            },
            "marker": {
             "colorbar": {
              "outlinewidth": 0,
              "ticks": ""
             }
            },
            "type": "scatter3d"
           }
          ],
          "scattercarpet": [
           {
            "marker": {
             "colorbar": {
              "outlinewidth": 0,
              "ticks": ""
             }
            },
            "type": "scattercarpet"
           }
          ],
          "scattergeo": [
           {
            "marker": {
             "colorbar": {
              "outlinewidth": 0,
              "ticks": ""
             }
            },
            "type": "scattergeo"
           }
          ],
          "scattergl": [
           {
            "marker": {
             "colorbar": {
              "outlinewidth": 0,
              "ticks": ""
             }
            },
            "type": "scattergl"
           }
          ],
          "scattermapbox": [
           {
            "marker": {
             "colorbar": {
              "outlinewidth": 0,
              "ticks": ""
             }
            },
            "type": "scattermapbox"
           }
          ],
          "scatterpolar": [
           {
            "marker": {
             "colorbar": {
              "outlinewidth": 0,
              "ticks": ""
             }
            },
            "type": "scatterpolar"
           }
          ],
          "scatterpolargl": [
           {
            "marker": {
             "colorbar": {
              "outlinewidth": 0,
              "ticks": ""
             }
            },
            "type": "scatterpolargl"
           }
          ],
          "scatterternary": [
           {
            "marker": {
             "colorbar": {
              "outlinewidth": 0,
              "ticks": ""
             }
            },
            "type": "scatterternary"
           }
          ],
          "surface": [
           {
            "colorbar": {
             "outlinewidth": 0,
             "ticks": ""
            },
            "colorscale": [
             [
              0,
              "#0d0887"
             ],
             [
              0.1111111111111111,
              "#46039f"
             ],
             [
              0.2222222222222222,
              "#7201a8"
             ],
             [
              0.3333333333333333,
              "#9c179e"
             ],
             [
              0.4444444444444444,
              "#bd3786"
             ],
             [
              0.5555555555555556,
              "#d8576b"
             ],
             [
              0.6666666666666666,
              "#ed7953"
             ],
             [
              0.7777777777777778,
              "#fb9f3a"
             ],
             [
              0.8888888888888888,
              "#fdca26"
             ],
             [
              1,
              "#f0f921"
             ]
            ],
            "type": "surface"
           }
          ],
          "table": [
           {
            "cells": {
             "fill": {
              "color": "#EBF0F8"
             },
             "line": {
              "color": "white"
             }
            },
            "header": {
             "fill": {
              "color": "#C8D4E3"
             },
             "line": {
              "color": "white"
             }
            },
            "type": "table"
           }
          ]
         },
         "layout": {
          "annotationdefaults": {
           "arrowcolor": "#2a3f5f",
           "arrowhead": 0,
           "arrowwidth": 1
          },
          "autotypenumbers": "strict",
          "coloraxis": {
           "colorbar": {
            "outlinewidth": 0,
            "ticks": ""
           }
          },
          "colorscale": {
           "diverging": [
            [
             0,
             "#8e0152"
            ],
            [
             0.1,
             "#c51b7d"
            ],
            [
             0.2,
             "#de77ae"
            ],
            [
             0.3,
             "#f1b6da"
            ],
            [
             0.4,
             "#fde0ef"
            ],
            [
             0.5,
             "#f7f7f7"
            ],
            [
             0.6,
             "#e6f5d0"
            ],
            [
             0.7,
             "#b8e186"
            ],
            [
             0.8,
             "#7fbc41"
            ],
            [
             0.9,
             "#4d9221"
            ],
            [
             1,
             "#276419"
            ]
           ],
           "sequential": [
            [
             0,
             "#0d0887"
            ],
            [
             0.1111111111111111,
             "#46039f"
            ],
            [
             0.2222222222222222,
             "#7201a8"
            ],
            [
             0.3333333333333333,
             "#9c179e"
            ],
            [
             0.4444444444444444,
             "#bd3786"
            ],
            [
             0.5555555555555556,
             "#d8576b"
            ],
            [
             0.6666666666666666,
             "#ed7953"
            ],
            [
             0.7777777777777778,
             "#fb9f3a"
            ],
            [
             0.8888888888888888,
             "#fdca26"
            ],
            [
             1,
             "#f0f921"
            ]
           ],
           "sequentialminus": [
            [
             0,
             "#0d0887"
            ],
            [
             0.1111111111111111,
             "#46039f"
            ],
            [
             0.2222222222222222,
             "#7201a8"
            ],
            [
             0.3333333333333333,
             "#9c179e"
            ],
            [
             0.4444444444444444,
             "#bd3786"
            ],
            [
             0.5555555555555556,
             "#d8576b"
            ],
            [
             0.6666666666666666,
             "#ed7953"
            ],
            [
             0.7777777777777778,
             "#fb9f3a"
            ],
            [
             0.8888888888888888,
             "#fdca26"
            ],
            [
             1,
             "#f0f921"
            ]
           ]
          },
          "colorway": [
           "#636efa",
           "#EF553B",
           "#00cc96",
           "#ab63fa",
           "#FFA15A",
           "#19d3f3",
           "#FF6692",
           "#B6E880",
           "#FF97FF",
           "#FECB52"
          ],
          "font": {
           "color": "#2a3f5f"
          },
          "geo": {
           "bgcolor": "white",
           "lakecolor": "white",
           "landcolor": "#E5ECF6",
           "showlakes": true,
           "showland": true,
           "subunitcolor": "white"
          },
          "hoverlabel": {
           "align": "left"
          },
          "hovermode": "closest",
          "mapbox": {
           "style": "light"
          },
          "paper_bgcolor": "white",
          "plot_bgcolor": "#E5ECF6",
          "polar": {
           "angularaxis": {
            "gridcolor": "white",
            "linecolor": "white",
            "ticks": ""
           },
           "bgcolor": "#E5ECF6",
           "radialaxis": {
            "gridcolor": "white",
            "linecolor": "white",
            "ticks": ""
           }
          },
          "scene": {
           "xaxis": {
            "backgroundcolor": "#E5ECF6",
            "gridcolor": "white",
            "gridwidth": 2,
            "linecolor": "white",
            "showbackground": true,
            "ticks": "",
            "zerolinecolor": "white"
           },
           "yaxis": {
            "backgroundcolor": "#E5ECF6",
            "gridcolor": "white",
            "gridwidth": 2,
            "linecolor": "white",
            "showbackground": true,
            "ticks": "",
            "zerolinecolor": "white"
           },
           "zaxis": {
            "backgroundcolor": "#E5ECF6",
            "gridcolor": "white",
            "gridwidth": 2,
            "linecolor": "white",
            "showbackground": true,
            "ticks": "",
            "zerolinecolor": "white"
           }
          },
          "shapedefaults": {
           "line": {
            "color": "#2a3f5f"
           }
          },
          "ternary": {
           "aaxis": {
            "gridcolor": "white",
            "linecolor": "white",
            "ticks": ""
           },
           "baxis": {
            "gridcolor": "white",
            "linecolor": "white",
            "ticks": ""
           },
           "bgcolor": "#E5ECF6",
           "caxis": {
            "gridcolor": "white",
            "linecolor": "white",
            "ticks": ""
           }
          },
          "title": {
           "x": 0.05
          },
          "xaxis": {
           "automargin": true,
           "gridcolor": "white",
           "linecolor": "white",
           "ticks": "",
           "title": {
            "standoff": 15
           },
           "zerolinecolor": "white",
           "zerolinewidth": 2
          },
          "yaxis": {
           "automargin": true,
           "gridcolor": "white",
           "linecolor": "white",
           "ticks": "",
           "title": {
            "standoff": 15
           },
           "zerolinecolor": "white",
           "zerolinewidth": 2
          }
         }
        },
        "title": {
         "text": "profit margin against income, cost_center level"
        },
        "xaxis": {
         "anchor": "y",
         "domain": [
          0,
          0.49
         ],
         "title": {
          "text": "income_amt"
         }
        },
        "xaxis2": {
         "anchor": "y2",
         "domain": [
          0.51,
          1
         ],
         "matches": "x",
         "title": {
          "text": "income_amt"
         }
        },
        "yaxis": {
         "anchor": "x",
         "domain": [
          0,
          1
         ],
         "title": {
          "text": "profit_rate"
         }
        },
        "yaxis2": {
         "anchor": "x2",
         "domain": [
          0,
          1
         ],
         "matches": "y",
         "showticklabels": false
        }
       }
      }
     },
     "metadata": {},
     "output_type": "display_data"
    }
   ],
   "source": [
    " \n",
    "fig2 = px.scatter(\n",
    "    data_frame= plt21, x = 'income_amt', y= 'profit_rate', hover_data=['cost_center'],\n",
    "    size = 'income_amt', color = 'type', facet_col = 'yr', title='profit margin against income, cost_center level')  \n",
    "# hover_data=  ['account_name_en'] , \n",
    "\n",
    "\n",
    "fig2.add_hline(y = line_20, line_width=3, line_dash=\"dash\", line_color=\"black\", opacity = .4,\\\n",
    "    annotation_text=\"2020 <br> weighted mean profit_rate <br>, %s\" %line_20 , \n",
    "    annotation_position=\"top right\", annotation_opacity = .4, col = 1)\n",
    "fig2.add_hline(y = line_21, line_width=3, line_dash=\"dash\", line_color=\"black\", opacity = .4,\\\n",
    "    annotation_text=\"2021 <br> weighted mean profit_rate <br>, %s\" %line_21 , \n",
    "    annotation_position=\"top right\", annotation_opacity = .4, col = 2)"
   ]
  },
  {
   "cell_type": "code",
   "execution_count": 424,
   "metadata": {},
   "outputs": [],
   "source": [
    "fig2.write_html('./fig_cc_profit_rate.html')"
   ]
  },
  {
   "cell_type": "markdown",
   "metadata": {},
   "source": [
    "---\n",
    "# cost"
   ]
  },
  {
   "cell_type": "code",
   "execution_count": null,
   "metadata": {},
   "outputs": [],
   "source": [
    "# def tst(substr_year,**kwargs):\n",
    "#     df_bill[substr_year] = df_bill[substr_year].astype(str).str.slice(0,4)\n",
    "#     return  df_bill.groupby([substr_year, 'cost_center']).agg({\n",
    "#         **kwargs\n",
    "#     }).reset_index()\n",
    "\n",
    "# tst(substr_year = 'bms_bill_end_date' ,\\\n",
    "#     bms_amount = 'sum', bms_fee_type = [set,'nunique'], bms_fee_name = set, bms_bill_id = 'nunique')\n",
    "\n",
    "# test = df_bill.head(39)\n",
    "# test.pivot_table(index= ['bms_bill_id', 'cost_center'],\\\n",
    "#     columns= ['bms_fee_type'],\n",
    "#     values='bms_amount',)"
   ]
  },
  {
   "cell_type": "code",
   "execution_count": null,
   "metadata": {},
   "outputs": [],
   "source": [
    "\"\"\"\n",
    "# cost\n",
    "\"\"\"\n",
    "def data_load_cost():\n",
    "    df = df_cost\n",
    "    df = df.dropna(axis=1, how = 'all').fillna(0)\n",
    "    frame = pd.DataFrame(df.sum(axis = 0) == 0)\n",
    "    df = df.loc[:, frame[frame[0] == False].index.tolist()]\n",
    "    df['year'] = df['month'].astype(str).str.slice(0,4)\n",
    "    return df\n",
    "\n",
    "\n",
    "df_cost = data_load_cost()\n",
    "df_cost.head(2)"
   ]
  },
  {
   "cell_type": "code",
   "execution_count": null,
   "metadata": {},
   "outputs": [],
   "source": [
    "cost_cus_yr = to_cust_level(df_cost, 'month',\\\n",
    "     rev = 'sum',\n",
    "     gp = 'sum',\n",
    "     hr_cost  = 'sum', \n",
    "     hc  = 'sum',\n",
    "     hc_os  = 'sum',\n",
    "     total_working_hrs  = 'sum',\n",
    "     staff_cost_fixed  = 'sum',\n",
    "     staff_cost_vari  = 'sum',\n",
    "     staff_cost_os_fixed  = 'sum',\n",
    "     staff_cost_os_vari  = 'sum',\n",
    "     staff_cost_bizos_actual  = 'sum'\n",
    "     ).reset_index()\n",
    "cost_cus_yr.head()"
   ]
  },
  {
   "cell_type": "markdown",
   "metadata": {},
   "source": [
    "---"
   ]
  },
  {
   "cell_type": "code",
   "execution_count": null,
   "metadata": {},
   "outputs": [],
   "source": []
  },
  {
   "cell_type": "markdown",
   "metadata": {},
   "source": [
    "---\n",
    "# merge"
   ]
  },
  {
   "cell_type": "code",
   "execution_count": null,
   "metadata": {},
   "outputs": [],
   "source": [
    "bms_cus_yr['account_name_en'].nunique()"
   ]
  },
  {
   "cell_type": "code",
   "execution_count": null,
   "metadata": {},
   "outputs": [],
   "source": [
    "test = bms_cus_yr.merge(cost_cus_yr, on = ['account_name_en', 'month'], how = 'inner')"
   ]
  },
  {
   "cell_type": "code",
   "execution_count": null,
   "metadata": {},
   "outputs": [],
   "source": [
    "pd.set_option(\"display.max_rows\", None, \"display.max_columns\", None)\n",
    "test.account_name_en.nunique()"
   ]
  },
  {
   "cell_type": "code",
   "execution_count": null,
   "metadata": {},
   "outputs": [],
   "source": [
    "test['account_name_en'].nunique()"
   ]
  },
  {
   "cell_type": "code",
   "execution_count": null,
   "metadata": {},
   "outputs": [],
   "source": [
    "# test[test['account_name_en'].str.lower().str.match('bose')]"
   ]
  },
  {
   "cell_type": "code",
   "execution_count": null,
   "metadata": {},
   "outputs": [],
   "source": [
    "# df_oppa[df_oppa['account_name_en'].str.lower().str.match('bmw').fillna(False)][['bg','opportunity_number', 'opportunity_name', 'account_id',\n",
    "#        'account_name_en', 'account_name_cn', 'actual_close_date',\n",
    "#        'annual_average_gross_profit_base', 'annual_average_gross_profit',\n",
    "#        'annual_average_revenue_base', 'annual_average_revenue',\n",
    "#        'bca_ref_number', 'bca_status']]"
   ]
  },
  {
   "cell_type": "code",
   "execution_count": null,
   "metadata": {},
   "outputs": [],
   "source": [
    "# fig = go.Figure(data = [go.Scatter(x = df_sub ['contract_end_date'] ,\n",
    "#                                 y = df_sub ['annual_average_revenue'],\n",
    "#                                 mode='markers',\n",
    "#                                 marker_size=df_sub['annual_average_revenue']/1000,\n",
    "#                                 opacity=0.87,\n",
    "#                                 name='account',\n",
    "#                                 textposition='bottom center')],\n",
    "#                                 layout=go.Layout(\n",
    "#                                     xaxis = dict(range = [min, max]),\n",
    "#                                     yaxis = dict(range = [0, 100000]),\n",
    "#                                     legend = {'xanchor': 'left'}\n",
    "#                                 )\n",
    "#                                 ) \n",
    "# fig"
   ]
  },
  {
   "cell_type": "code",
   "execution_count": null,
   "metadata": {},
   "outputs": [],
   "source": [
    "# df['contract_end_date'] = df['contract_end_date'].str.slice(0,10).fillna(pd.NaT)\n",
    "# colname = ['annual_average_gross_profit_base', 'annual_average_gross_profit',\n",
    "#        'annual_average_revenue_base', 'annual_average_revenue']\n",
    "# for i in colname:\n",
    "#     df = df[~df.index.isin(df[i].str.extract('([a-zA-Z]+)').dropna().index)]\n",
    "\n",
    "# df[['annual_average_gross_profit_base', 'annual_average_gross_profit',\n",
    "#     'annual_average_revenue_base', 'annual_average_revenue']] = df[['annual_average_gross_profit_base', 'annual_average_gross_profit',\n",
    "#     'annual_average_revenue_base', 'annual_average_revenue']].astype(float)\n",
    "# df['contract_end_date'] = pd.to_datetime(df['contract_end_date'])\n",
    "# contract_summary = df.groupby(['account_name_en', 'contract_end_date'])[[\n",
    "#        'annual_average_gross_profit_base', 'annual_average_gross_profit',\n",
    "#        'annual_average_revenue_base', 'annual_average_revenue']].sum()\n",
    "# contract_summary = contract_summary.reset_index()\n",
    "# contract_summary['contract_end_yr'] = contract_summary['contract_end_date'].astype(str).str.slice(0,4)"
   ]
  },
  {
   "cell_type": "code",
   "execution_count": null,
   "metadata": {},
   "outputs": [],
   "source": [
    "contract_summary['contract_end_date']"
   ]
  },
  {
   "cell_type": "code",
   "execution_count": null,
   "metadata": {},
   "outputs": [],
   "source": [
    "# fig = px.scatter(x = \"contract_end_date\", y= \"annual_average_revenue\", \\\n",
    "#     color = 'account_name_en',  size = 'annual_average_revenue',\n",
    "#     data_frame  = contract_summary.head(65))\n",
    "\n",
    "# min = pd.to_datetime('2018-01-01', format='%Y-%m-%d')\n",
    "# max = pd.to_datetime('2024-01-01', format='%Y-%m-%d')\n",
    "# fig.update_xaxes(range = list([min, max]))\n",
    "\n",
    "# fig.update_layout(\n",
    "#     title_text=\"Title\",\n",
    "#     showlegend = True\n",
    "# )\n",
    "\n",
    "# # Add range slider\n",
    "# fig.update_layout(\n",
    "\n",
    "# )\n",
    "\n"
   ]
  }
 ],
 "metadata": {
  "interpreter": {
   "hash": "47b50d2908d96196e4220cfb4e81faa93803065ea975497e7026f672c1f58470"
  },
  "kernelspec": {
   "display_name": "Python 3.8.8 64-bit ('siming': conda)",
   "language": "python",
   "name": "python3"
  },
  "language_info": {
   "codemirror_mode": {
    "name": "ipython",
    "version": 3
   },
   "file_extension": ".py",
   "mimetype": "text/x-python",
   "name": "python",
   "nbconvert_exporter": "python",
   "pygments_lexer": "ipython3",
   "version": "3.8.8"
  },
  "orig_nbformat": 4
 },
 "nbformat": 4,
 "nbformat_minor": 2
}

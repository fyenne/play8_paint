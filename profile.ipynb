{
 "cells": [
  {
   "cell_type": "code",
   "execution_count": 1,
   "metadata": {},
   "outputs": [
    {
     "data": {
      "text/plain": [
       "\"\\ndownload data without empty ou, when select\\n['bca_cc_cust_rel.csv',\\n 'bca_without_mail.csv',\\n 'dwd_dsc_d365_contract_df.csv',\\n 'dwd_dsc_d365_opportunity_df.csv',\\n 'dwd_dsc_finance_estimate_summary_di.csv',\\n 'dwd_dsc_hr_cost_dtl.csv',\\n 'dwd_fact_warehouse_billing_detail_dtl.csv']\\n\\n#  this doc would be on monthly & customer level\\n#  however the opportunity might not applicable for this.\\n\""
      ]
     },
     "execution_count": 1,
     "metadata": {},
     "output_type": "execute_result"
    }
   ],
   "source": [
    "import pandas as pd\n",
    "import re, os \n",
    "import datetime\n",
    "import plotly.express as px\n",
    "import plotly.graph_objects as go\n",
    "import numpy as np\n",
    "\n",
    "os.listdir('./data_down')\n",
    "\n",
    "\n",
    "\"\"\"\n",
    "download data without empty ou, when select\n",
    "['bca_cc_cust_rel.csv',\n",
    " 'bca_without_mail.csv',\n",
    " 'dwd_dsc_d365_contract_df.csv',\n",
    " 'dwd_dsc_d365_opportunity_df.csv',\n",
    " 'dwd_dsc_finance_estimate_summary_di.csv',\n",
    " 'dwd_dsc_hr_cost_dtl.csv',\n",
    " 'dwd_fact_warehouse_billing_detail_dtl.csv']\n",
    "\n",
    "#  this doc would be on monthly & customer level\n",
    "#  however the opportunity might not applicable for this.\n",
    "\"\"\""
   ]
  },
  {
   "cell_type": "code",
   "execution_count": 230,
   "metadata": {},
   "outputs": [
    {
     "data": {
      "text/html": [
       "<div>\n",
       "<style scoped>\n",
       "    .dataframe tbody tr th:only-of-type {\n",
       "        vertical-align: middle;\n",
       "    }\n",
       "\n",
       "    .dataframe tbody tr th {\n",
       "        vertical-align: top;\n",
       "    }\n",
       "\n",
       "    .dataframe thead th {\n",
       "        text-align: right;\n",
       "    }\n",
       "</style>\n",
       "<table border=\"1\" class=\"dataframe\">\n",
       "  <thead>\n",
       "    <tr style=\"text-align: right;\">\n",
       "      <th></th>\n",
       "      <th>yy</th>\n",
       "      <th>mm</th>\n",
       "      <th>wear</th>\n",
       "      <th>cost_center</th>\n",
       "      <th>income_amt</th>\n",
       "      <th>gross_profit_amt</th>\n",
       "      <th>human_cost_amt</th>\n",
       "      <th>service_outsourcing_amt</th>\n",
       "      <th>labor_service_outsourcing_amt</th>\n",
       "      <th>mont_code</th>\n",
       "    </tr>\n",
       "  </thead>\n",
       "  <tbody>\n",
       "    <tr>\n",
       "      <th>21868</th>\n",
       "      <td>2021</td>\n",
       "      <td>1</td>\n",
       "      <td>CNY</td>\n",
       "      <td>3125CSHKQP</td>\n",
       "      <td>0.00</td>\n",
       "      <td>0.000000e+00</td>\n",
       "      <td>0.00</td>\n",
       "      <td>0.00</td>\n",
       "      <td>0.00</td>\n",
       "      <td>202101</td>\n",
       "    </tr>\n",
       "    <tr>\n",
       "      <th>21869</th>\n",
       "      <td>2021</td>\n",
       "      <td>1</td>\n",
       "      <td>CNY</td>\n",
       "      <td>ABBOTBJTRT</td>\n",
       "      <td>168064.36</td>\n",
       "      <td>2.649461e+04</td>\n",
       "      <td>13397.95</td>\n",
       "      <td>204.93</td>\n",
       "      <td>0.00</td>\n",
       "      <td>202101</td>\n",
       "    </tr>\n",
       "    <tr>\n",
       "      <th>21870</th>\n",
       "      <td>2021</td>\n",
       "      <td>1</td>\n",
       "      <td>CNY</td>\n",
       "      <td>ABBOTBJXWS</td>\n",
       "      <td>135352.46</td>\n",
       "      <td>-5.966761e+04</td>\n",
       "      <td>45017.62</td>\n",
       "      <td>514.18</td>\n",
       "      <td>0.00</td>\n",
       "      <td>202101</td>\n",
       "    </tr>\n",
       "    <tr>\n",
       "      <th>21871</th>\n",
       "      <td>2021</td>\n",
       "      <td>1</td>\n",
       "      <td>CNY</td>\n",
       "      <td>ABBOTCDTRT</td>\n",
       "      <td>236173.39</td>\n",
       "      <td>1.165960e+05</td>\n",
       "      <td>14514.50</td>\n",
       "      <td>137.89</td>\n",
       "      <td>0.00</td>\n",
       "      <td>202101</td>\n",
       "    </tr>\n",
       "    <tr>\n",
       "      <th>21872</th>\n",
       "      <td>2021</td>\n",
       "      <td>1</td>\n",
       "      <td>CNY</td>\n",
       "      <td>ABBOTCDXXS</td>\n",
       "      <td>87526.69</td>\n",
       "      <td>-3.011359e+04</td>\n",
       "      <td>34627.55</td>\n",
       "      <td>266.70</td>\n",
       "      <td>7797.08</td>\n",
       "      <td>202101</td>\n",
       "    </tr>\n",
       "    <tr>\n",
       "      <th>...</th>\n",
       "      <td>...</td>\n",
       "      <td>...</td>\n",
       "      <td>...</td>\n",
       "      <td>...</td>\n",
       "      <td>...</td>\n",
       "      <td>...</td>\n",
       "      <td>...</td>\n",
       "      <td>...</td>\n",
       "      <td>...</td>\n",
       "      <td>...</td>\n",
       "    </tr>\n",
       "    <tr>\n",
       "      <th>34592</th>\n",
       "      <td>2021</td>\n",
       "      <td>10</td>\n",
       "      <td>HKD</td>\n",
       "      <td>XXSECI252P</td>\n",
       "      <td>0.00</td>\n",
       "      <td>0.000000e+00</td>\n",
       "      <td>0.00</td>\n",
       "      <td>0.00</td>\n",
       "      <td>0.00</td>\n",
       "      <td>202110</td>\n",
       "    </tr>\n",
       "    <tr>\n",
       "      <th>34593</th>\n",
       "      <td>2021</td>\n",
       "      <td>10</td>\n",
       "      <td>HKD</td>\n",
       "      <td>XXSECI252S</td>\n",
       "      <td>0.00</td>\n",
       "      <td>-3.637979e-12</td>\n",
       "      <td>0.00</td>\n",
       "      <td>0.00</td>\n",
       "      <td>27734.41</td>\n",
       "      <td>202110</td>\n",
       "    </tr>\n",
       "    <tr>\n",
       "      <th>34594</th>\n",
       "      <td>2021</td>\n",
       "      <td>10</td>\n",
       "      <td>HKD</td>\n",
       "      <td>YAMA1M101S</td>\n",
       "      <td>2822.90</td>\n",
       "      <td>9.976600e+02</td>\n",
       "      <td>1029.65</td>\n",
       "      <td>0.00</td>\n",
       "      <td>0.00</td>\n",
       "      <td>202110</td>\n",
       "    </tr>\n",
       "    <tr>\n",
       "      <th>34595</th>\n",
       "      <td>2021</td>\n",
       "      <td>10</td>\n",
       "      <td>HKD</td>\n",
       "      <td>YAMA1TP02T</td>\n",
       "      <td>2650.00</td>\n",
       "      <td>2.170700e+02</td>\n",
       "      <td>17.05</td>\n",
       "      <td>0.00</td>\n",
       "      <td>0.00</td>\n",
       "      <td>202110</td>\n",
       "    </tr>\n",
       "    <tr>\n",
       "      <th>34596</th>\n",
       "      <td>2021</td>\n",
       "      <td>10</td>\n",
       "      <td>HKD</td>\n",
       "      <td>ZILV1TP06R</td>\n",
       "      <td>0.00</td>\n",
       "      <td>3.200000e+00</td>\n",
       "      <td>0.00</td>\n",
       "      <td>0.00</td>\n",
       "      <td>0.00</td>\n",
       "      <td>202110</td>\n",
       "    </tr>\n",
       "  </tbody>\n",
       "</table>\n",
       "<p>12729 rows × 10 columns</p>\n",
       "</div>"
      ],
      "text/plain": [
       "         yy  mm wear cost_center  income_amt  gross_profit_amt  \\\n",
       "21868  2021   1  CNY  3125CSHKQP        0.00      0.000000e+00   \n",
       "21869  2021   1  CNY  ABBOTBJTRT   168064.36      2.649461e+04   \n",
       "21870  2021   1  CNY  ABBOTBJXWS   135352.46     -5.966761e+04   \n",
       "21871  2021   1  CNY  ABBOTCDTRT   236173.39      1.165960e+05   \n",
       "21872  2021   1  CNY  ABBOTCDXXS    87526.69     -3.011359e+04   \n",
       "...     ...  ..  ...         ...         ...               ...   \n",
       "34592  2021  10  HKD  XXSECI252P        0.00      0.000000e+00   \n",
       "34593  2021  10  HKD  XXSECI252S        0.00     -3.637979e-12   \n",
       "34594  2021  10  HKD  YAMA1M101S     2822.90      9.976600e+02   \n",
       "34595  2021  10  HKD  YAMA1TP02T     2650.00      2.170700e+02   \n",
       "34596  2021  10  HKD  ZILV1TP06R        0.00      3.200000e+00   \n",
       "\n",
       "       human_cost_amt  service_outsourcing_amt  labor_service_outsourcing_amt  \\\n",
       "21868            0.00                     0.00                           0.00   \n",
       "21869        13397.95                   204.93                           0.00   \n",
       "21870        45017.62                   514.18                           0.00   \n",
       "21871        14514.50                   137.89                           0.00   \n",
       "21872        34627.55                   266.70                        7797.08   \n",
       "...               ...                      ...                            ...   \n",
       "34592            0.00                     0.00                           0.00   \n",
       "34593            0.00                     0.00                       27734.41   \n",
       "34594         1029.65                     0.00                           0.00   \n",
       "34595           17.05                     0.00                           0.00   \n",
       "34596            0.00                     0.00                           0.00   \n",
       "\n",
       "       mont_code  \n",
       "21868     202101  \n",
       "21869     202101  \n",
       "21870     202101  \n",
       "21871     202101  \n",
       "21872     202101  \n",
       "...          ...  \n",
       "34592     202110  \n",
       "34593     202110  \n",
       "34594     202110  \n",
       "34595     202110  \n",
       "34596     202110  \n",
       "\n",
       "[12729 rows x 10 columns]"
      ]
     },
     "execution_count": 230,
     "metadata": {},
     "output_type": "execute_result"
    }
   ],
   "source": [
    "sap_fina[sap_fina['yy'] == 2021]"
   ]
  },
  {
   "cell_type": "code",
   "execution_count": 161,
   "metadata": {},
   "outputs": [
    {
     "data": {
      "text/plain": [
       "6941636281.690003"
      ]
     },
     "execution_count": 161,
     "metadata": {},
     "output_type": "execute_result"
    }
   ],
   "source": [
    "sap_fina[sap_fina['yy'] == 2021]['income_amt'].sum()"
   ]
  },
  {
   "cell_type": "code",
   "execution_count": 2,
   "metadata": {},
   "outputs": [],
   "source": [
    "# read data\n",
    "df_oppa = pd.read_csv('./data_down/' + 'dwd_dsc_d365_opportunity_df.csv', sep = '\\001') \n",
    "df_esti = pd.read_csv('./data_down/' + 'dwd_dsc_finance_estimate_summary_di.csv', sep = '\\001') \n",
    "df_cost = pd.read_csv('./data_down/' + 'dwd_dsc_hr_cost_dtl.csv', sep = '\\001') \n",
    "df_bill = pd.read_csv('./data_down/' + 'dwd_fact_warehouse_billing_detail_dtl.csv', sep = '\\001') \n",
    "df_bcaw = pd.read_csv('./data_down/' + 'bca_without_mail.csv', sep = '\\001') \n",
    "rel = pd.read_csv('./data_down/' + 'bca_cc_cust_rel.csv', sep = '\\001') \n",
    "df_bill_type = pd.read_csv('./data_down/' + 'dim_dsc_billing_type_info.csv', sep = '\\001') \n",
    "\"\"\"\n",
    "pic part data\n",
    "\"\"\"\n",
    "sap_fina = pd.read_csv('./data_down/' + 'smart_hr_pl_0l.csv', sep = '\\001') \n",
    "levin_table = pd.read_excel('./data_down/' + 'OU_Segementation2.xlsx', sheet_name = 2) \n",
    "# for i in os.listdir('./data_down'): \n",
    "#     print(re.findall( '\\w+', i)[0])\n",
    "#     df = pd.read_csv('./data_down/' + i, sep = '\\001') \n",
    "def colname_modi(df):\n",
    "    df.columns = [ re.sub('^\\w+.{1}', '', i) for i in list(df.columns)]\n",
    "for i in [df_oppa, df_bill,df_cost,df_esti,rel, df_bcaw, sap_fina]:\n",
    "    colname_modi(i)\n",
    "del i\n",
    "rel = rel.drop(['cc_in_bca', 'start_date'], axis=1)"
   ]
  },
  {
   "cell_type": "code",
   "execution_count": 4,
   "metadata": {},
   "outputs": [],
   "source": [
    "# pd.set_option(\"display.max_rows\", 15, \"display.max_columns\", 15)\n",
    "# df_oppa[df_oppa['milestone'] == 'Closed-Lost']\n",
    "\n",
    "# # loss_reason situation_update_next_steps description territory contract_value situation_update_next_steps sector product1\n",
    "# # opportunity_type expected_golive_date\t contract_term contract_end_date"
   ]
  },
  {
   "cell_type": "code",
   "execution_count": 3,
   "metadata": {},
   "outputs": [
    {
     "data": {
      "text/html": [
       "<div>\n",
       "<style scoped>\n",
       "    .dataframe tbody tr th:only-of-type {\n",
       "        vertical-align: middle;\n",
       "    }\n",
       "\n",
       "    .dataframe tbody tr th {\n",
       "        vertical-align: top;\n",
       "    }\n",
       "\n",
       "    .dataframe thead th {\n",
       "        text-align: right;\n",
       "    }\n",
       "</style>\n",
       "<table border=\"1\" class=\"dataframe\">\n",
       "  <thead>\n",
       "    <tr style=\"text-align: right;\">\n",
       "      <th></th>\n",
       "      <th>account_name_en</th>\n",
       "      <th>contract_end_date</th>\n",
       "      <th>account_id</th>\n",
       "      <th>bg</th>\n",
       "      <th>contract_term</th>\n",
       "      <th>milestone</th>\n",
       "      <th>opportunity_record</th>\n",
       "      <th>product1</th>\n",
       "      <th>product2</th>\n",
       "      <th>sector</th>\n",
       "      <th>annual_average_gross_profit_base</th>\n",
       "      <th>annual_average_gross_profit</th>\n",
       "      <th>annual_average_revenue_base</th>\n",
       "      <th>annual_average_revenue</th>\n",
       "      <th>contract_value</th>\n",
       "      <th>contract_end_yr</th>\n",
       "    </tr>\n",
       "  </thead>\n",
       "  <tbody>\n",
       "    <tr>\n",
       "      <th>0</th>\n",
       "      <td>ABC</td>\n",
       "      <td>2021-06-28</td>\n",
       "      <td>e0209d33-e3aa-ea11-a812-000d3a851174</td>\n",
       "      <td>TSC</td>\n",
       "      <td>12.0</td>\n",
       "      <td>Closed-Canceled</td>\n",
       "      <td>New Business</td>\n",
       "      <td>Warehousing</td>\n",
       "      <td>Transportation</td>\n",
       "      <td>Technology</td>\n",
       "      <td>5000.0</td>\n",
       "      <td>5000.0</td>\n",
       "      <td>50000.0</td>\n",
       "      <td>50000.0</td>\n",
       "      <td>50000.0</td>\n",
       "      <td>2021</td>\n",
       "    </tr>\n",
       "    <tr>\n",
       "      <th>1</th>\n",
       "      <td>ADIDAS</td>\n",
       "      <td>2018-09-29</td>\n",
       "      <td>f64a8fa5-a304-4c85-9641-7205e77e70d8</td>\n",
       "      <td>HK</td>\n",
       "      <td>36.0</td>\n",
       "      <td>Contract Signed</td>\n",
       "      <td>New Business</td>\n",
       "      <td>Warehousing</td>\n",
       "      <td>Warehousing</td>\n",
       "      <td>Retail</td>\n",
       "      <td>950.4</td>\n",
       "      <td>1188.0</td>\n",
       "      <td>10777.6</td>\n",
       "      <td>13472.0</td>\n",
       "      <td>40416.0</td>\n",
       "      <td>2018</td>\n",
       "    </tr>\n",
       "    <tr>\n",
       "      <th>2</th>\n",
       "      <td>ADIDAS</td>\n",
       "      <td>2019-10-30</td>\n",
       "      <td>f64a8fa5-a304-4c85-9641-7205e77e70d8</td>\n",
       "      <td>HK</td>\n",
       "      <td>12.0</td>\n",
       "      <td>Contract Signed</td>\n",
       "      <td>Straightforward Renewals</td>\n",
       "      <td>Warehousing</td>\n",
       "      <td>Transportation</td>\n",
       "      <td>Retail</td>\n",
       "      <td>1087.2</td>\n",
       "      <td>1359.0</td>\n",
       "      <td>13123.2</td>\n",
       "      <td>16404.0</td>\n",
       "      <td>0.0</td>\n",
       "      <td>2019</td>\n",
       "    </tr>\n",
       "  </tbody>\n",
       "</table>\n",
       "</div>"
      ],
      "text/plain": [
       "  account_name_en contract_end_date                            account_id  \\\n",
       "0             ABC        2021-06-28  e0209d33-e3aa-ea11-a812-000d3a851174   \n",
       "1          ADIDAS        2018-09-29  f64a8fa5-a304-4c85-9641-7205e77e70d8   \n",
       "2          ADIDAS        2019-10-30  f64a8fa5-a304-4c85-9641-7205e77e70d8   \n",
       "\n",
       "    bg  contract_term        milestone        opportunity_record     product1  \\\n",
       "0  TSC           12.0  Closed-Canceled              New Business  Warehousing   \n",
       "1   HK           36.0  Contract Signed              New Business  Warehousing   \n",
       "2   HK           12.0  Contract Signed  Straightforward Renewals  Warehousing   \n",
       "\n",
       "         product2      sector  annual_average_gross_profit_base  \\\n",
       "0  Transportation  Technology                            5000.0   \n",
       "1     Warehousing      Retail                             950.4   \n",
       "2  Transportation      Retail                            1087.2   \n",
       "\n",
       "   annual_average_gross_profit  annual_average_revenue_base  \\\n",
       "0                       5000.0                      50000.0   \n",
       "1                       1188.0                      10777.6   \n",
       "2                       1359.0                      13123.2   \n",
       "\n",
       "   annual_average_revenue  contract_value contract_end_yr  \n",
       "0                 50000.0         50000.0            2021  \n",
       "1                 13472.0         40416.0            2018  \n",
       "2                 16404.0             0.0            2019  "
      ]
     },
     "execution_count": 3,
     "metadata": {},
     "output_type": "execute_result"
    }
   ],
   "source": [
    "def data_prepare():\n",
    "    \"\"\"\n",
    "    data prepare opportunity .\n",
    "    \"\"\"\n",
    "    # df = pd.read_csv('./data_down/dwd_dsc_d365_opportunity_df.csv', sep = '\\001')\n",
    "\n",
    "    # df.columns = [re.sub('^\\w+.{1}', '', i) for i in list(df.columns)]\n",
    "    df = df_oppa.copy()\n",
    "    df['contract_end_date'] = df['contract_end_date'].str.slice(0,10).fillna(pd.NaT)\n",
    "    colname = ['annual_average_gross_profit_base', 'annual_average_gross_profit',\n",
    "        'annual_average_revenue_base', 'annual_average_revenue']\n",
    "    for i in colname:\n",
    "        df = df[~df.index.isin(df[i].str.extract('([a-zA-Z]+)').dropna().index)]\n",
    "\n",
    "    df[['annual_average_gross_profit_base', 'annual_average_gross_profit',\n",
    "        'annual_average_revenue_base', 'annual_average_revenue']] = df[['annual_average_gross_profit_base', 'annual_average_gross_profit',\n",
    "        'annual_average_revenue_base', 'annual_average_revenue']].astype(float)\n",
    "    df['contract_end_date'] = pd.to_datetime(df['contract_end_date'])\n",
    "\n",
    "    contract_summary = df.groupby([\n",
    "        'account_name_en', 'contract_end_date', 'account_id','bg', 'contract_term', 'milestone','opportunity_record'\\\n",
    "        ,'product1', 'product2', 'sector'\n",
    "        ])[[\n",
    "        'annual_average_gross_profit_base', 'annual_average_gross_profit',\n",
    "        'annual_average_revenue_base', 'annual_average_revenue', 'contract_value']].sum()\n",
    "    contract_summary = contract_summary.reset_index()\n",
    "    contract_summary['contract_end_yr'] = contract_summary['contract_end_date'].astype(str).str.slice(0,4)\n",
    "    return contract_summary\n",
    "\n",
    "opportunity = data_prepare();opportunity.head(3)\n",
    "# del contract_summary"
   ]
  },
  {
   "cell_type": "code",
   "execution_count": null,
   "metadata": {},
   "outputs": [],
   "source": [
    "# df_list = [opportunity,df_bill,df_cost,df_esti]\n",
    "# def check_ouname(df):\n",
    "#     print(pd.Series(df.columns).str.extract('(ou_code|cost_center)').dropna(),'\\t')\n",
    "\n",
    "# for i in df_list:\n",
    "#     check_ouname(i)\n",
    "# del df_list,i"
   ]
  },
  {
   "cell_type": "code",
   "execution_count": 47,
   "metadata": {},
   "outputs": [],
   "source": [
    "\"\"\"\n",
    "my functions.\n",
    "to customer level. functions set up.\n",
    "\"\"\"\n",
    "def data_clean(df, substr_year, **kwargs):\n",
    "    \"\"\"\n",
    "    where u can set for month/year level.\n",
    "    \"\"\"\n",
    "    df = df[~df['account_name_en'].isna()]\n",
    "    df[substr_year] = df[substr_year].astype(str).str.slice(0,4) \n",
    "    df = df.groupby(['account_name_en','account_name_cn', substr_year]).agg({\n",
    "        **kwargs\n",
    "    })\n",
    "    df = df.rename({substr_year: 'month'}, axis = 1)\n",
    "    return df \n",
    "\n",
    "def to_cust_level(df,  substr_year, **kwargs):\n",
    "    \"\"\"\n",
    "    (df,  substr_year, **kwargs) 必须要有ou_code or cost_center!! \n",
    "    merge all to cust level \\\n",
    "        to_cust_level(df,  substr_year, **kwargs):\n",
    "    \"\"\"\n",
    "    try:\n",
    "        df1 = df.merge(rel, left_on = 'ou_code', right_on = 'cc_in_ou', how  ='left')\n",
    "    except:\n",
    "        df1 = df.merge(rel, left_on = 'cost_center', right_on = 'cc_in_ou', how  ='left')\n",
    "    return data_clean(df1, substr_year,  **kwargs)"
   ]
  },
  {
   "cell_type": "markdown",
   "metadata": {},
   "source": [
    "---\n",
    "# billing"
   ]
  },
  {
   "cell_type": "code",
   "execution_count": 7,
   "metadata": {},
   "outputs": [
    {
     "data": {
      "text/html": [
       "<div>\n",
       "<style scoped>\n",
       "    .dataframe tbody tr th:only-of-type {\n",
       "        vertical-align: middle;\n",
       "    }\n",
       "\n",
       "    .dataframe tbody tr th {\n",
       "        vertical-align: top;\n",
       "    }\n",
       "\n",
       "    .dataframe thead th {\n",
       "        text-align: right;\n",
       "    }\n",
       "</style>\n",
       "<table border=\"1\" class=\"dataframe\">\n",
       "  <thead>\n",
       "    <tr style=\"text-align: right;\">\n",
       "      <th>category</th>\n",
       "      <th>cost_center</th>\n",
       "      <th>month</th>\n",
       "      <th>人力</th>\n",
       "      <th>场地</th>\n",
       "      <th>增值</th>\n",
       "      <th>报关代理</th>\n",
       "      <th>操作</th>\n",
       "      <th>短驳运输</th>\n",
       "      <th>索赔及返利</th>\n",
       "      <th>设备使用</th>\n",
       "    </tr>\n",
       "  </thead>\n",
       "  <tbody>\n",
       "    <tr>\n",
       "      <th>0</th>\n",
       "      <td>ABBOTBJXWS</td>\n",
       "      <td>202003</td>\n",
       "      <td>8153.490566</td>\n",
       "      <td>94013.547170</td>\n",
       "      <td>1368.516509</td>\n",
       "      <td>0.0</td>\n",
       "      <td>18795.386792</td>\n",
       "      <td>0.0</td>\n",
       "      <td>0.0</td>\n",
       "      <td>16845.283019</td>\n",
       "    </tr>\n",
       "    <tr>\n",
       "      <th>1</th>\n",
       "      <td>ABBOTBJXWS</td>\n",
       "      <td>202005</td>\n",
       "      <td>16216.742138</td>\n",
       "      <td>182958.566038</td>\n",
       "      <td>1066.343553</td>\n",
       "      <td>0.0</td>\n",
       "      <td>55997.735849</td>\n",
       "      <td>0.0</td>\n",
       "      <td>0.0</td>\n",
       "      <td>17986.415094</td>\n",
       "    </tr>\n",
       "  </tbody>\n",
       "</table>\n",
       "</div>"
      ],
      "text/plain": [
       "category cost_center   month            人力             场地           增值  报关代理  \\\n",
       "0         ABBOTBJXWS  202003   8153.490566   94013.547170  1368.516509   0.0   \n",
       "1         ABBOTBJXWS  202005  16216.742138  182958.566038  1066.343553   0.0   \n",
       "\n",
       "category            操作  短驳运输  索赔及返利          设备使用  \n",
       "0         18795.386792   0.0    0.0  16845.283019  \n",
       "1         55997.735849   0.0    0.0  17986.415094  "
      ]
     },
     "execution_count": 7,
     "metadata": {},
     "output_type": "execute_result"
    }
   ],
   "source": [
    "\"\"\"\n",
    "~billing~\n",
    "bill detail table now having 50+ bms_types. which is unacceptalble/\n",
    "\"\"\"\n",
    "def data_load_bms():\n",
    "    df = df_bill.copy()\n",
    "    df['month'] = df['bms_bill_end_date'].astype(str).str.slice(0,6) \n",
    "    df = df.merge(df_bill_type, left_on = 'bms_fee_type', right_on = 'billing_fee_type_code', how = 'left')\n",
    "    bms = df.pivot_table(index= ['cost_center', 'month'],\\\n",
    "        columns= 'category',\n",
    "        values='bms_amount',).reset_index().fillna(0)\n",
    "    return bms\n",
    "bms = data_load_bms()\n",
    "bms['yr'] = bms['month'].str.slice(0,4)\n",
    "bms.head(2)"
   ]
  },
  {
   "cell_type": "code",
   "execution_count": 8,
   "metadata": {},
   "outputs": [
    {
     "name": "stderr",
     "output_type": "stream",
     "text": [
      "C:\\Users\\DSCSHA~1\\AppData\\Local\\Temp/ipykernel_21156/4278657550.py:9: SettingWithCopyWarning: \n",
      "A value is trying to be set on a copy of a slice from a DataFrame.\n",
      "Try using .loc[row_indexer,col_indexer] = value instead\n",
      "\n",
      "See the caveats in the documentation: https://pandas.pydata.org/pandas-docs/stable/user_guide/indexing.html#returning-a-view-versus-a-copy\n",
      "  df[substr_year] = df[substr_year].astype(str).str.slice(0,4)\n"
     ]
    },
    {
     "data": {
      "text/html": [
       "<div>\n",
       "<style scoped>\n",
       "    .dataframe tbody tr th:only-of-type {\n",
       "        vertical-align: middle;\n",
       "    }\n",
       "\n",
       "    .dataframe tbody tr th {\n",
       "        vertical-align: top;\n",
       "    }\n",
       "\n",
       "    .dataframe thead th {\n",
       "        text-align: right;\n",
       "    }\n",
       "</style>\n",
       "<table border=\"1\" class=\"dataframe\">\n",
       "  <thead>\n",
       "    <tr style=\"text-align: right;\">\n",
       "      <th></th>\n",
       "      <th>account_name_en</th>\n",
       "      <th>account_name_cn</th>\n",
       "      <th>month</th>\n",
       "      <th>cost_center</th>\n",
       "      <th>人力</th>\n",
       "      <th>场地</th>\n",
       "      <th>增值</th>\n",
       "      <th>报关代理</th>\n",
       "      <th>操作</th>\n",
       "      <th>短驳运输</th>\n",
       "      <th>索赔及返利</th>\n",
       "      <th>设备使用</th>\n",
       "    </tr>\n",
       "  </thead>\n",
       "  <tbody>\n",
       "    <tr>\n",
       "      <th>0</th>\n",
       "      <td>ASML</td>\n",
       "      <td>阿斯麦</td>\n",
       "      <td>2020</td>\n",
       "      <td>{ASMLXXMXAS, ASMLXSHZCS, ASMLXGZGQS, ASMLXNJLH...</td>\n",
       "      <td>1.327222e+06</td>\n",
       "      <td>2.650783e+06</td>\n",
       "      <td>277290.273019</td>\n",
       "      <td>8.301644e+05</td>\n",
       "      <td>351038.906930</td>\n",
       "      <td>3.930000e+04</td>\n",
       "      <td>0.0</td>\n",
       "      <td>218274.787736</td>\n",
       "    </tr>\n",
       "    <tr>\n",
       "      <th>1</th>\n",
       "      <td>ASML</td>\n",
       "      <td>阿斯麦</td>\n",
       "      <td>2021</td>\n",
       "      <td>{ASMLXXAEPS, ASMLXXMXAS, ASMLXSHZCS, ASMLXTJXQ...</td>\n",
       "      <td>2.027038e+06</td>\n",
       "      <td>3.116845e+06</td>\n",
       "      <td>614587.514906</td>\n",
       "      <td>2.113024e+06</td>\n",
       "      <td>180360.231132</td>\n",
       "      <td>1.676826e+06</td>\n",
       "      <td>0.0</td>\n",
       "      <td>274845.181649</td>\n",
       "    </tr>\n",
       "  </tbody>\n",
       "</table>\n",
       "</div>"
      ],
      "text/plain": [
       "  account_name_en account_name_cn month  \\\n",
       "0            ASML             阿斯麦  2020   \n",
       "1            ASML             阿斯麦  2021   \n",
       "\n",
       "                                         cost_center            人力  \\\n",
       "0  {ASMLXXMXAS, ASMLXSHZCS, ASMLXGZGQS, ASMLXNJLH...  1.327222e+06   \n",
       "1  {ASMLXXAEPS, ASMLXXMXAS, ASMLXSHZCS, ASMLXTJXQ...  2.027038e+06   \n",
       "\n",
       "             场地             增值          报关代理             操作          短驳运输  \\\n",
       "0  2.650783e+06  277290.273019  8.301644e+05  351038.906930  3.930000e+04   \n",
       "1  3.116845e+06  614587.514906  2.113024e+06  180360.231132  1.676826e+06   \n",
       "\n",
       "   索赔及返利           设备使用  \n",
       "0    0.0  218274.787736  \n",
       "1    0.0  274845.181649  "
      ]
     },
     "execution_count": 8,
     "metadata": {},
     "output_type": "execute_result"
    }
   ],
   "source": [
    "bms_cus_yr = to_cust_level(df = bms, substr_year = 'month' ,\\\n",
    "    cost_center = set, \n",
    "    人力 = 'sum',\n",
    "    场地 = 'sum',\n",
    "    增值 = 'sum',\n",
    "    报关代理 = 'sum',\n",
    "    操作 = 'sum',\n",
    "    短驳运输 = 'sum',\n",
    "    索赔及返利 = 'sum',\n",
    "    设备使用 = 'sum' ).reset_index()\n",
    "bms_cus_yr.head(2)"
   ]
  },
  {
   "cell_type": "markdown",
   "metadata": {},
   "source": [
    "---\n",
    "# SAP sys finance"
   ]
  },
  {
   "cell_type": "code",
   "execution_count": 48,
   "metadata": {},
   "outputs": [
    {
     "name": "stderr",
     "output_type": "stream",
     "text": [
      "C:\\Users\\DSCSHA~1\\AppData\\Local\\Temp/ipykernel_21156/2950030418.py:10: SettingWithCopyWarning: \n",
      "A value is trying to be set on a copy of a slice from a DataFrame.\n",
      "Try using .loc[row_indexer,col_indexer] = value instead\n",
      "\n",
      "See the caveats in the documentation: https://pandas.pydata.org/pandas-docs/stable/user_guide/indexing.html#returning-a-view-versus-a-copy\n",
      "  df[substr_year] = df[substr_year].astype(str).str.slice(0,4)\n"
     ]
    }
   ],
   "source": [
    "def load_data_sap():\n",
    "    df = sap_fina.copy()\n",
    "    df = df.rename({'prctr': 'cost_center'}, axis =1 )\n",
    "    return df\n",
    "\n",
    "sap_fina = load_data_sap()\n",
    "\n",
    "sap_cust_yr = to_cust_level(sap_fina, 'yy', \\\n",
    "    cost_center = set, \n",
    "    income_amt = sum,\n",
    "    gross_profit_amt = sum,\n",
    "    human_cost_amt = sum, \n",
    "    service_outsourcing_amt = sum,\n",
    "    labor_service_outsourcing_amt = sum).reset_index()\n",
    "    \n",
    "sap_cust_yr = sap_cust_yr.rename({'yy':'month'}, axis =1 )"
   ]
  },
  {
   "cell_type": "code",
   "execution_count": 72,
   "metadata": {},
   "outputs": [
    {
     "data": {
      "text/plain": [
       "0       True\n",
       "1       True\n",
       "2      False\n",
       "3      False\n",
       "4      False\n",
       "       ...  \n",
       "187    False\n",
       "190    False\n",
       "191     True\n",
       "194    False\n",
       "196     True\n",
       "Name: wh_pct, Length: 92, dtype: bool"
      ]
     },
     "execution_count": 72,
     "metadata": {},
     "output_type": "execute_result"
    }
   ],
   "source": [
    "def data_man_fca():\n",
    "    finance_cust_ann = sap_cust_yr.merge(bms_cus_yr, on = ['account_name_en', 'month'], how = 'inner') \n",
    "    finance_cust_ann['operation_fee'] = finance_cust_ann['人力'] +  finance_cust_ann['操作']\n",
    "    finance_cust_ann['bms_total'] = finance_cust_ann[['人力', '场地', '增值', '报关代理', '操作',\n",
    "        '短驳运输', '索赔及返利', '设备使用']].sum(axis = 1)\n",
    "    finance_cust_ann['op_pct'] = finance_cust_ann['operation_fee'] / finance_cust_ann['bms_total']\n",
    "    finance_cust_ann['wh_pct'] = finance_cust_ann['场地'] / finance_cust_ann['bms_total']\n",
    "    finance_cust_ann['va_pct'] = finance_cust_ann['增值'] / finance_cust_ann['bms_total']\n",
    "    finance_cust_ann['type']   = finance_cust_ann[['op_pct','wh_pct','va_pct']].idxmax(axis = 1)\n",
    "    return finance_cust_ann\n"
   ]
  },
  {
   "cell_type": "code",
   "execution_count": 302,
   "metadata": {},
   "outputs": [
    {
     "name": "stderr",
     "output_type": "stream",
     "text": [
      "C:\\Users\\DSCSHA~1\\AppData\\Local\\Temp/ipykernel_21156/2853613689.py:3: SettingWithCopyWarning:\n",
      "\n",
      "\n",
      "A value is trying to be set on a copy of a slice from a DataFrame.\n",
      "Try using .loc[row_indexer,col_indexer] = value instead\n",
      "\n",
      "See the caveats in the documentation: https://pandas.pydata.org/pandas-docs/stable/user_guide/indexing.html#returning-a-view-versus-a-copy\n",
      "\n"
     ]
    },
    {
     "data": {
      "text/html": [
       "<div>\n",
       "<style scoped>\n",
       "    .dataframe tbody tr th:only-of-type {\n",
       "        vertical-align: middle;\n",
       "    }\n",
       "\n",
       "    .dataframe tbody tr th {\n",
       "        vertical-align: top;\n",
       "    }\n",
       "\n",
       "    .dataframe thead th {\n",
       "        text-align: right;\n",
       "    }\n",
       "</style>\n",
       "<table border=\"1\" class=\"dataframe\">\n",
       "  <thead>\n",
       "    <tr style=\"text-align: right;\">\n",
       "      <th></th>\n",
       "      <th>account_name_en</th>\n",
       "      <th>account_name_cn_x</th>\n",
       "      <th>month</th>\n",
       "      <th>cost_center_x</th>\n",
       "      <th>income_amt</th>\n",
       "      <th>gross_profit_amt</th>\n",
       "      <th>human_cost_amt</th>\n",
       "      <th>service_outsourcing_amt</th>\n",
       "      <th>labor_service_outsourcing_amt</th>\n",
       "      <th>account_name_cn_y</th>\n",
       "      <th>...</th>\n",
       "      <th>短驳运输</th>\n",
       "      <th>索赔及返利</th>\n",
       "      <th>设备使用</th>\n",
       "      <th>bms_total</th>\n",
       "      <th>operation_fee</th>\n",
       "      <th>op_pct</th>\n",
       "      <th>wh_pct</th>\n",
       "      <th>va_pct</th>\n",
       "      <th>type</th>\n",
       "      <th>flag</th>\n",
       "    </tr>\n",
       "  </thead>\n",
       "  <tbody>\n",
       "    <tr>\n",
       "      <th>0</th>\n",
       "      <td>ASML</td>\n",
       "      <td>阿斯麦</td>\n",
       "      <td>2020</td>\n",
       "      <td>{ASMLXXMXAS, ASMLXSHZCS, ASMLXGZGQS, ASMLXTJXQ...</td>\n",
       "      <td>44186486.9</td>\n",
       "      <td>7216033.92</td>\n",
       "      <td>8542221.21</td>\n",
       "      <td>136642.98</td>\n",
       "      <td>249772.05</td>\n",
       "      <td>阿斯麦</td>\n",
       "      <td>...</td>\n",
       "      <td>39300.0</td>\n",
       "      <td>0.0</td>\n",
       "      <td>218274.787736</td>\n",
       "      <td>5.694073e+06</td>\n",
       "      <td>1.678261e+06</td>\n",
       "      <td>0.294738</td>\n",
       "      <td>0.465534</td>\n",
       "      <td>0.048698</td>\n",
       "      <td>balance</td>\n",
       "      <td>True</td>\n",
       "    </tr>\n",
       "  </tbody>\n",
       "</table>\n",
       "<p>1 rows × 26 columns</p>\n",
       "</div>"
      ],
      "text/plain": [
       "  account_name_en account_name_cn_x month  \\\n",
       "0            ASML               阿斯麦  2020   \n",
       "\n",
       "                                       cost_center_x  income_amt  \\\n",
       "0  {ASMLXXMXAS, ASMLXSHZCS, ASMLXGZGQS, ASMLXTJXQ...  44186486.9   \n",
       "\n",
       "   gross_profit_amt  human_cost_amt  service_outsourcing_amt  \\\n",
       "0        7216033.92      8542221.21                136642.98   \n",
       "\n",
       "   labor_service_outsourcing_amt account_name_cn_y  ...     短驳运输  索赔及返利  \\\n",
       "0                      249772.05               阿斯麦  ...  39300.0    0.0   \n",
       "\n",
       "            设备使用     bms_total  operation_fee    op_pct    wh_pct    va_pct  \\\n",
       "0  218274.787736  5.694073e+06   1.678261e+06  0.294738  0.465534  0.048698   \n",
       "\n",
       "      type  flag  \n",
       "0  balance  True  \n",
       "\n",
       "[1 rows x 26 columns]"
      ]
     },
     "execution_count": 302,
     "metadata": {},
     "output_type": "execute_result"
    }
   ],
   "source": [
    "def mani(type):\n",
    "    df = finance_cust_ann[finance_cust_ann['type'] == type] \n",
    "    df['flag'] = df[i] < .5\n",
    "    return df\n",
    "finance_cust_ann2 = pd.DataFrame()\n",
    "for i in finance_cust_ann['type'].unique():\n",
    "    finance_cust_ann2 = pd.concat([finance_cust_ann2, mani(i)], axis = 0)\n",
    "finance_cust_ann2.loc[finance_cust_ann2['flag'] == True,  'type'] = 'balance'\n",
    "\n",
    "finance_cust_ann2.head(1)"
   ]
  },
  {
   "cell_type": "code",
   "execution_count": 303,
   "metadata": {},
   "outputs": [],
   "source": [
    "finance_cust_ann2 = finance_cust_ann2.drop('flag', axis = 1)\n",
    "finance_cust_ann2['type'] = finance_cust_ann2['type'].replace(\n",
    "    {'wh_pct': '仓储型', 'balance': '平衡型', 'va_pct': '增值型', 'op_pct': '操作型'})"
   ]
  },
  {
   "cell_type": "code",
   "execution_count": 304,
   "metadata": {},
   "outputs": [
    {
     "data": {
      "text/plain": [
       "116"
      ]
     },
     "execution_count": 304,
     "metadata": {},
     "output_type": "execute_result"
    }
   ],
   "source": [
    "finance_cust_ann2['account_name_en'].nunique()\n",
    "\n",
    "# my mapping 116 customers."
   ]
  },
  {
   "cell_type": "code",
   "execution_count": 305,
   "metadata": {},
   "outputs": [],
   "source": [
    "from plotly.subplots import make_subplots\n",
    "import plotly.graph_objects as go"
   ]
  },
  {
   "cell_type": "code",
   "execution_count": 306,
   "metadata": {},
   "outputs": [],
   "source": [
    "# finance_cust_ann2.to_csv('./plot_data.csv', index = None, encoding = 'utf_8_sig', sep = '\\001')\n",
    "plot_data = finance_cust_ann2[finance_cust_ann2['month'] > \"2019\"]"
   ]
  },
  {
   "cell_type": "code",
   "execution_count": 307,
   "metadata": {},
   "outputs": [],
   "source": [
    "plot_data = plot_data.rename({'month' : 'year'}, axis = 1)"
   ]
  },
  {
   "cell_type": "code",
   "execution_count": 221,
   "metadata": {},
   "outputs": [],
   "source": [
    " \n",
    "fig = px.scatter(\n",
    "    data_frame= plot_data, x = 'income_amt', y= 'gross_profit_amt', hover_data=['account_name_cn_x'],\n",
    "    size = 'income_amt', color = 'type', facet_col = 'year', )  \n",
    "# hover_data=  ['account_name_en'] , \n"
   ]
  },
  {
   "cell_type": "code",
   "execution_count": 308,
   "metadata": {},
   "outputs": [],
   "source": [
    "# fig.write_html('./fig.html')\n",
    "plot_data.to_csv('./data_out/income_customer_cats.csv', encoding = 'utf_8_sig', index = None)"
   ]
  },
  {
   "cell_type": "markdown",
   "metadata": {},
   "source": []
  },
  {
   "cell_type": "code",
   "execution_count": 285,
   "metadata": {},
   "outputs": [],
   "source": [
    "bms_cc_ou = bms.groupby(['cost_center','yr']).agg({\n",
    "    '人力': sum, \n",
    "    '场地': sum, \n",
    "    '增值': sum, \n",
    "    '报关代理': sum, \n",
    "    '操作': sum, \n",
    "    '短驳运输': sum, \n",
    "    '索赔及返利': sum,\n",
    "    '设备使用': sum,\n",
    "}).reset_index()\n",
    "\n",
    "sap_cc_ou = sap_fina.groupby(['yy', 'cost_center']).agg({\n",
    "    'income_amt': sum, \n",
    "    'gross_profit_amt': sum,\n",
    "    'human_cost_amt': sum,\n",
    "    'service_outsourcing_amt': sum,\n",
    "    'labor_service_outsourcing_amt': sum,\n",
    "}).reset_index()\n",
    "\n",
    "sap_cc_ou = sap_cc_ou.rename({'yy': 'yr'}, axis = 1)\n",
    "\n",
    "bms_cc_ou['yr'] = bms_cc_ou['yr'].astype(int)"
   ]
  },
  {
   "cell_type": "code",
   "execution_count": 293,
   "metadata": {},
   "outputs": [],
   "source": [
    "plt2 = sap_cc_ou.merge(bms_cc_ou, on = ['cost_center', 'yr'], how = 'inner')\n",
    "plt2 = plt2[plt2['yr'] > 2019]"
   ]
  },
  {
   "cell_type": "code",
   "execution_count": 295,
   "metadata": {},
   "outputs": [
    {
     "data": {
      "text/plain": [
       "(560, 15)"
      ]
     },
     "execution_count": 295,
     "metadata": {},
     "output_type": "execute_result"
    }
   ],
   "source": [
    "plt2.shape # 560"
   ]
  },
  {
   "cell_type": "code",
   "execution_count": 296,
   "metadata": {},
   "outputs": [],
   "source": [
    "def data_man_cc(finance_cust_ann): \n",
    "    finance_cust_ann['operation_fee'] = finance_cust_ann['人力'] +  finance_cust_ann['操作']\n",
    "    finance_cust_ann['bms_total'] = finance_cust_ann[['人力', '场地', '增值', '报关代理', '操作',\n",
    "        '短驳运输', '索赔及返利', '设备使用']].sum(axis = 1)\n",
    "    finance_cust_ann['op_pct'] = finance_cust_ann['operation_fee'] / finance_cust_ann['bms_total']\n",
    "    finance_cust_ann['wh_pct'] = finance_cust_ann['场地'] / finance_cust_ann['bms_total']\n",
    "    finance_cust_ann['va_pct'] = finance_cust_ann['增值'] / finance_cust_ann['bms_total']\n",
    "    finance_cust_ann['type']   = finance_cust_ann[['op_pct','wh_pct','va_pct']].idxmax(axis = 1)\n",
    "    return finance_cust_ann\n",
    "plt2 = data_man_cc(plt2)\n",
    "plt2 = plt2[~plt2['type'].isna()]\n",
    "# 560 "
   ]
  },
  {
   "cell_type": "code",
   "execution_count": 329,
   "metadata": {},
   "outputs": [
    {
     "name": "stderr",
     "output_type": "stream",
     "text": [
      "C:\\Users\\DSCSHA~1\\AppData\\Local\\Temp/ipykernel_21156/2659271940.py:3: SettingWithCopyWarning:\n",
      "\n",
      "\n",
      "A value is trying to be set on a copy of a slice from a DataFrame.\n",
      "Try using .loc[row_indexer,col_indexer] = value instead\n",
      "\n",
      "See the caveats in the documentation: https://pandas.pydata.org/pandas-docs/stable/user_guide/indexing.html#returning-a-view-versus-a-copy\n",
      "\n"
     ]
    },
    {
     "data": {
      "text/plain": [
       "343"
      ]
     },
     "execution_count": 329,
     "metadata": {},
     "output_type": "execute_result"
    }
   ],
   "source": [
    "def mani(type):\n",
    "    df = plt2[plt2['type'] == type] \n",
    "    df['flag'] = df[type] < .5\n",
    "    return df\n",
    "\n",
    "\n",
    "plt21 = pd.DataFrame()\n",
    "for i in plt2['type'].unique():\n",
    "    plt21 = pd.concat([plt21, mani(i)], axis = 0)\n",
    "plt21.loc[plt21['flag'] == True,  'type'] = 'balance'\n",
    "\n",
    "    \n",
    "plt21 = plt21.drop('flag', axis = 1)\n",
    "plt21['type'] = plt21['type'].replace(\n",
    "    {'wh_pct': '仓储型', 'balance': '平衡型', 'va_pct': '增值型', 'op_pct': '操作型'})\n",
    "\n",
    "plt2['cost_center'].nunique()\n",
    " "
   ]
  },
  {
   "cell_type": "code",
   "execution_count": 331,
   "metadata": {},
   "outputs": [
    {
     "data": {
      "application/vnd.plotly.v1+json": {
       "config": {
        "plotlyServerURL": "https://plot.ly"
       },
       "data": [
        {
         "customdata": [
          [
           "ABBOTBJXWS"
          ],
          [
           "ABBOTCDXXS"
          ],
          [
           "ABBOTSHDBS"
          ],
          [
           "ABBOTSHKQS"
          ],
          [
           "ABBOTSZLHS"
          ],
          [
           "ACCURBJXWS"
          ],
          [
           "ASMLXSHZCS"
          ],
          [
           "ASMLXSZEPS"
          ],
          [
           "ATGXXSHYSS"
          ],
          [
           "AZXXXWXWHS"
          ],
          [
           "BOSEXGZHPS"
          ],
          [
           "BOSEXSHKQS"
          ],
          [
           "CEXARSHBSS"
          ],
          [
           "COACHSHSFS"
          ],
          [
           "DELLSSHALS"
          ],
          [
           "DIADOXMNSS"
          ],
          [
           "DKSHXSHKQP"
          ],
          [
           "EADSXBJXWS"
          ],
          [
           "ERISLGZHPS"
          ],
          [
           "FEIXXXAEPS"
          ],
          [
           "FORDCCSLGS"
          ],
          [
           "FORDXGHD1S"
          ],
          [
           "FORDXWHFWS"
          ],
          [
           "FORDXZJJSS"
          ],
          [
           "FUJIXWHXDS"
          ],
          [
           "H3CNHBJXWS"
          ],
          [
           "H3CUHBJXWS"
          ],
          [
           "H3CUHSHYXS"
          ],
          [
           "H3CUHXAXXS"
          ],
          [
           "HERSHSHKQP"
          ],
          [
           "HERSHSHKQS"
          ],
          [
           "HITACSHZCS"
          ],
          [
           "HPIPSBJXWS"
          ],
          [
           "HPIPSSHYXS"
          ],
          [
           "HPPXXSHMFS"
          ],
          [
           "HUAWEDHWMS"
          ],
          [
           "HUSQVSHMFS"
          ],
          [
           "HWSXXBJXWS"
          ],
          [
           "JCBXXSHKQS"
          ],
          [
           "JOHNDCDXDS"
          ],
          [
           "JTLYSBJXWS"
          ],
          [
           "KALSESHKQS"
          ],
          [
           "KLATEDLTZS"
          ],
          [
           "KLATEGZHPS"
          ],
          [
           "KLATEHFCBS"
          ],
          [
           "KLATEJNWHS"
          ],
          [
           "KLATENJBYS"
          ],
          [
           "KLATESHZCS"
          ],
          [
           "KLATEWHSLS"
          ],
          [
           "KLATEXAEPS"
          ],
          [
           "KLATEXMNSS"
          ],
          [
           "KODAKSHMFS"
          ],
          [
           "LAMRENJLHS"
          ],
          [
           "LEMARBJXWS"
          ],
          [
           "LEMARGHD2S"
          ],
          [
           "LEMARSHYXS"
          ],
          [
           "LENXXSHYXS"
          ],
          [
           "LINDTSHKQP"
          ],
          [
           "LUCKIBJALS"
          ],
          [
           "LUCKISHDQS"
          ],
          [
           "LUCKISJLQS"
          ],
          [
           "MARSXJXXWS"
          ],
          [
           "MARSXSYFMS"
          ],
          [
           "MINGYCDXXS"
          ],
          [
           "MINGYSYFMS"
          ],
          [
           "MOLEXSHBSS"
          ],
          [
           "NEUSMBJXWS"
          ],
          [
           "NEUSMGHD1S"
          ],
          [
           "OGAWASHJDS"
          ],
          [
           "OTCHESHFSS"
          ],
          [
           "OTCONSHKQS"
          ],
          [
           "OTTECBJXWS"
          ],
          [
           "OTTECSHFSS"
          ],
          [
           "PERNOSHFSS"
          ],
          [
           "PERNOSHMFS"
          ],
          [
           "SAVIOSHJDS"
          ],
          [
           "SCREESHZCS"
          ],
          [
           "SHEHKSHTWS"
          ],
          [
           "SINORBJXWS"
          ],
          [
           "SKFCNSHMFS"
          ],
          [
           "SOLVASHFSS"
          ],
          [
           "SQUIBSHHTS"
          ],
          [
           "STARBSHHTS"
          ],
          [
           "STARBSHLGS"
          ],
          [
           "STARBSYXXS"
          ],
          [
           "UNISYBJXWS"
          ],
          [
           "UNISYGHD2S"
          ],
          [
           "VOLVOGZHPS"
          ],
          [
           "VOLVOSHY2S"
          ],
          [
           "ZEBRASHALS"
          ],
          [
           "ZHENZSHDQS"
          ],
          [
           "ZSNUOBJXWS"
          ]
         ],
         "hovertemplate": "type=仓储型<br>yr=2020<br>income_amt=%{marker.size}<br>gross_profit_amt=%{y}<br>cost_center=%{customdata[0]}<extra></extra>",
         "legendgroup": "仓储型",
         "marker": {
          "color": "#636efa",
          "size": [
           1700030.52,
           1055621.61,
           7628477.06,
           11546899.17,
           1778474.74,
           419497.23,
           17657571.33,
           697352.85,
           2125397.29,
           17050431.3,
           267732.66000000003,
           8804639.34,
           962547.29,
           21977714.87,
           19456807.81,
           2381299.56,
           1471966.33,
           104796.29000000001,
           5763429.730000002,
           394441.66,
           20773876.66,
           12878715.370000003,
           16661382.64,
           8852679.72,
           453830.06000000006,
           1239448.23,
           10961033.58,
           3376470.1,
           172455,
           8821192.4,
           16660516.48,
           901835.8500000001,
           956752.0099999999,
           296329.75,
           4329634.41,
           13293070.960000008,
           2634640.17,
           9024071.450000001,
           33453.93,
           809664.55,
           152833.33000000002,
           364507.82,
           1317554.63,
           76300.95,
           1855928.53,
           93500,
           1947150.04,
           12305242.870000001,
           1552236.4,
           2393256.58,
           1499575.46,
           223817.65,
           1726400.17,
           993983.6399999999,
           1025125.18,
           730178.0999999999,
           201104.01,
           5936398.630000001,
           15250201.709999999,
           52923358.15999999,
           1327073.02,
           38013908.060000025,
           7613489.109999999,
           171698.12,
           159404.7,
           14352699.65,
           354408.68,
           35865.09,
           645258.95,
           1123634.2899999998,
           59547.130000000005,
           236000.96,
           184697.65000000002,
           34554050.95999999,
           2743348.42,
           12735.84,
           713046.5599999999,
           3696578.28,
           247980,
           3214978.74,
           3152019.61,
           1722245.9300000002,
           20755180.56,
           305793.51,
           2752900.45,
           187424.24,
           38562.21000000001,
           9013019.18,
           27983879.200000003,
           11735863.16,
           35340076.6,
           48165.14
          ],
          "sizemode": "area",
          "sizeref": 239704.76002500005,
          "symbol": "circle"
         },
         "mode": "markers",
         "name": "仓储型",
         "orientation": "v",
         "showlegend": true,
         "type": "scatter",
         "x": [
          1700030.52,
          1055621.61,
          7628477.06,
          11546899.17,
          1778474.74,
          419497.23,
          17657571.33,
          697352.85,
          2125397.29,
          17050431.3,
          267732.66000000003,
          8804639.34,
          962547.29,
          21977714.87,
          19456807.81,
          2381299.56,
          1471966.33,
          104796.29000000001,
          5763429.730000002,
          394441.66,
          20773876.66,
          12878715.370000003,
          16661382.64,
          8852679.72,
          453830.06000000006,
          1239448.23,
          10961033.58,
          3376470.1,
          172455,
          8821192.4,
          16660516.48,
          901835.8500000001,
          956752.0099999999,
          296329.75,
          4329634.41,
          13293070.960000008,
          2634640.17,
          9024071.450000001,
          33453.93,
          809664.55,
          152833.33000000002,
          364507.82,
          1317554.63,
          76300.95,
          1855928.53,
          93500,
          1947150.04,
          12305242.870000001,
          1552236.4,
          2393256.58,
          1499575.46,
          223817.65,
          1726400.17,
          993983.6399999999,
          1025125.18,
          730178.0999999999,
          201104.01,
          5936398.630000001,
          15250201.709999999,
          52923358.15999999,
          1327073.02,
          38013908.060000025,
          7613489.109999999,
          171698.12,
          159404.7,
          14352699.65,
          354408.68,
          35865.09,
          645258.95,
          1123634.2899999998,
          59547.130000000005,
          236000.96,
          184697.65000000002,
          34554050.95999999,
          2743348.42,
          12735.84,
          713046.5599999999,
          3696578.28,
          247980,
          3214978.74,
          3152019.61,
          1722245.9300000002,
          20755180.56,
          305793.51,
          2752900.45,
          187424.24,
          38562.21000000001,
          9013019.18,
          27983879.200000003,
          11735863.16,
          35340076.6,
          48165.14
         ],
         "xaxis": "x",
         "y": [
          -457318.48,
          -264124.70000000007,
          -2273943.7499999995,
          149459.46999999828,
          -1027557.4899999999,
          184901.7,
          2862679.2999999993,
          16068.019999999864,
          515204.4500000004,
          2777755.0600000005,
          -98975.87999999999,
          1442770.979999999,
          71796.94000000009,
          3578175.259999999,
          5530319.259999994,
          920429.3199999998,
          -20061.290000000066,
          3571.530000000003,
          161148.50000000122,
          -58259.03999999997,
          5289278.819999999,
          868813.5000000009,
          3873675.3299999996,
          1137583.8300000003,
          147269.24,
          181363.6600000001,
          1412510.4899999986,
          1278478.4800000002,
          38989.23000000001,
          -1034924.6600000003,
          -2107.1600000008475,
          296131.5900000001,
          134920.18999999994,
          112349.88,
          1157873.2300000002,
          2235965.9600000097,
          550286.9899999996,
          675238.2600000027,
          7886.960000000001,
          229298.24000000014,
          67984.66999999998,
          58256.79,
          447811.6799999999,
          32562.57,
          558718.79,
          47211.399999999994,
          856284.83,
          2589425.5900000036,
          498352.49,
          411208.91000000003,
          516992.42000000004,
          36385.109999999964,
          280234.8200000001,
          133041.3799999998,
          110605.60000000021,
          341994.6499999999,
          100898.87,
          1186189.2599999993,
          -2374614.0300000007,
          1999727.7699999965,
          118365.9200000001,
          6080239.590000026,
          134227.54999999978,
          13835.819999999992,
          23022.420000000027,
          3482491.3300000005,
          109206.69,
          -12553.090000000002,
          45544.33999999991,
          -12845.450000000135,
          -459149.21,
          52158.48999999998,
          13021.700000000023,
          5759824.17,
          255105.57999999996,
          12704.269999999999,
          221485.86000000007,
          369296.61000000004,
          76112.81999999998,
          698762.4200000002,
          208589.1500000005,
          223958.04,
          1721892.4200000023,
          35633.20999999998,
          -236631.80999999988,
          89660.70999999999,
          27873.58,
          1820878.7100000007,
          2491503.2000000076,
          2291112.2600000007,
          304180.2099999814,
          9801.740000000002
         ],
         "yaxis": "y"
        },
        {
         "customdata": [
          [
           "ABBOTCDXXS"
          ],
          [
           "ABBOTSHDBS"
          ],
          [
           "ABBOTSHKQS"
          ],
          [
           "ABBOTSZLHS"
          ],
          [
           "ACCURBJXWS"
          ],
          [
           "AIRBSBJXWS"
          ],
          [
           "ATGXXSHYSS"
          ],
          [
           "AZXXXWXWHS"
          ],
          [
           "BFDAXBJYQS"
          ],
          [
           "BJYILSHSJS"
          ],
          [
           "BOSEXSHKQS"
          ],
          [
           "BRPXXSHYXS"
          ],
          [
           "BURTOSHSYS"
          ],
          [
           "CEXARSHBSS"
          ],
          [
           "CHANESHKQS"
          ],
          [
           "CHUIXSHKQS"
          ],
          [
           "CNDXXSHKQS"
          ],
          [
           "COACHSHSFS"
          ],
          [
           "COSTASHH2S"
          ],
          [
           "COSTASHHTS"
          ],
          [
           "DELLSBJXWS"
          ],
          [
           "DELLSGHD2S"
          ],
          [
           "DIADOXMNSS"
          ],
          [
           "DKSHXSHKQP"
          ],
          [
           "EADSXBJXWS"
          ],
          [
           "ERISLGZHPS"
          ],
          [
           "FEIXXXAEPS"
          ],
          [
           "FISHJCDXXS"
          ],
          [
           "FORDCCSLGS"
          ],
          [
           "FORDXGHD1S"
          ],
          [
           "FORDXWHFWS"
          ],
          [
           "FORDXZJJSS"
          ],
          [
           "FUJIXWHXDS"
          ],
          [
           "GEMEDSHKQS"
          ],
          [
           "H3CNHBJXWS"
          ],
          [
           "H3CUHBJXWS"
          ],
          [
           "HARLESHFXS"
          ],
          [
           "HERSHSHKQP"
          ],
          [
           "HERSHSHKQS"
          ],
          [
           "HITACSHZCS"
          ],
          [
           "HONEYSHMFS"
          ],
          [
           "HONGXGHD2S"
          ],
          [
           "HONORDGWSS"
          ],
          [
           "HPIPSBJXWS"
          ],
          [
           "HPPXXSHMFS"
          ],
          [
           "HPPXXSHMGS"
          ],
          [
           "HUAWEDHWMS"
          ],
          [
           "HWSXXBJXWS"
          ],
          [
           "JCBXXSHKQS"
          ],
          [
           "JOHNDCDXDS"
          ],
          [
           "JTLYSBJXWS"
          ],
          [
           "KALSESHKQS"
          ],
          [
           "KEYSISHYXS"
          ],
          [
           "KLATEDLTZS"
          ],
          [
           "KLATEGZHPS"
          ],
          [
           "KLATEHFCBS"
          ],
          [
           "KLATEJNWHS"
          ],
          [
           "KLATENJBYS"
          ],
          [
           "KLATESHZCS"
          ],
          [
           "KLATEWHSLS"
          ],
          [
           "KLATEXAEPS"
          ],
          [
           "KLATEXMNSS"
          ],
          [
           "KONEXCDXDS"
          ],
          [
           "KUNLNBJWHS"
          ],
          [
           "KUNLNDQIHS"
          ],
          [
           "LAMRENJLHS"
          ],
          [
           "LEADXWXCNS"
          ],
          [
           "LEMARSHYXS"
          ],
          [
           "LENXXSHYXS"
          ],
          [
           "LINDTSHKQP"
          ],
          [
           "LUCKIBJALS"
          ],
          [
           "MARSXCDXXS"
          ],
          [
           "MARSXJXXWS"
          ],
          [
           "MARSXSYFMS"
          ],
          [
           "MBXXXSHKQS"
          ],
          [
           "MINGYCDXXS"
          ],
          [
           "MINGYSYFMS"
          ],
          [
           "MLBKDSHWHS"
          ],
          [
           "MOLEXSHBSS"
          ],
          [
           "NEUSMBJXWS"
          ],
          [
           "NEUSMGHD1S"
          ],
          [
           "NSBSHSHYXS"
          ],
          [
           "OGAWASHJDS"
          ],
          [
           "OTCHESHFSS"
          ],
          [
           "OTCONSHKQS"
          ],
          [
           "OTTECBJXWS"
          ],
          [
           "OUTSFSHDQS"
          ],
          [
           "PERNOSHMFS"
          ],
          [
           "RAZERSHSJS"
          ],
          [
           "SAVIOSHJDS"
          ],
          [
           "SCHUESHIHS"
          ],
          [
           "SFJNJBJXWS"
          ],
          [
           "SHEHKSHTWS"
          ],
          [
           "SINCESHYXS"
          ],
          [
           "SINORBJXWS"
          ],
          [
           "SKFCNSHMFS"
          ],
          [
           "SOLVASHFSS"
          ],
          [
           "SOLVASHMFS"
          ],
          [
           "SQUIBSHHTS"
          ],
          [
           "STARBSHHTS"
          ],
          [
           "THERMSHDBS"
          ],
          [
           "UCOHZHZLYS"
          ],
          [
           "UNISYBJXWS"
          ],
          [
           "VENCHSHKQS"
          ],
          [
           "VOLVOGZHPS"
          ],
          [
           "WEIWEGZHPS"
          ],
          [
           "XINGYSHFJH"
          ],
          [
           "YUANXSZWHS"
          ],
          [
           "ZEBRASHALV"
          ],
          [
           "ZSNUOBJXWS"
          ]
         ],
         "hovertemplate": "type=仓储型<br>yr=2021<br>income_amt=%{marker.size}<br>gross_profit_amt=%{y}<br>cost_center=%{customdata[0]}<extra></extra>",
         "legendgroup": "仓储型",
         "marker": {
          "color": "#636efa",
          "size": [
           777367.22,
           6104588.11,
           9214377.42,
           1396031.27,
           417744,
           117119.73,
           5334451.31,
           16110089.67,
           2173011.1999999997,
           417301.43,
           8334908.619999999,
           3879773.09,
           9653742.549999999,
           852977.97,
           1139824.35,
           6667.73,
           265473.2,
           16066127.2,
           1294361.88,
           1417077.02,
           3500173.65,
           2424478.44,
           1822737.9100000001,
           218812.69000000003,
           0,
           5195021.430000003,
           355020.3,
           100689.75,
           19260501.53,
           10964332.110000005,
           13204844.940000001,
           7103883,
           365733.68,
           7611521.12,
           1104587.87,
           9030102,
           5545453.75,
           2966783.730000001,
           11932849.89,
           701320.75,
           14421790.71,
           558672.35,
           32112528.91000001,
           797784.77,
           3019025.13,
           29231151.6,
           376413.67000000086,
           7053451.59,
           12654.24,
           637830.76,
           218333.32,
           319065.29,
           331944.32,
           1092545.8699999999,
           66847.17,
           1922280.79,
           106776.41,
           1506952.5899999999,
           10414749.379999999,
           1351934.5899999999,
           2179150,
           1361544.3800000001,
           7836305.370000002,
           601828.45,
           240810.47,
           1172559.6600000008,
           1152744.24,
           573347.68,
           278945.35,
           4839011.62,
           10939456.41,
           9926810.180000003,
           27594092.910000023,
           5504221.97,
           1470217.9600000002,
           91698.13,
           95358.98999999999,
           26831331.619999997,
           7081930.04,
           299931.32,
           11277.36,
           1747600.8,
           850590.78,
           633492.66,
           41988.32000000001,
           221900,
           135136.08,
           6798439.4,
           431216.32,
           14150.91,
           5645164.92,
           318909.69999999995,
           3340464.55,
           875552.49,
           234160,
           4814673.5,
           2603757.55,
           448583.33,
           1404460.72,
           16972437.81,
           4962437.35,
           2169647.59,
           153360.22,
           612476.97,
           8234726.639999999,
           84440.9,
           156618.08,
           341867.98,
           3531357.57,
           0
          ],
          "sizemode": "area",
          "sizeref": 239704.76002500005,
          "symbol": "circle"
         },
         "mode": "markers",
         "name": "仓储型",
         "orientation": "v",
         "showlegend": false,
         "type": "scatter",
         "x": [
          777367.22,
          6104588.11,
          9214377.42,
          1396031.27,
          417744,
          117119.73,
          5334451.31,
          16110089.67,
          2173011.1999999997,
          417301.43,
          8334908.619999999,
          3879773.09,
          9653742.549999999,
          852977.97,
          1139824.35,
          6667.73,
          265473.2,
          16066127.2,
          1294361.88,
          1417077.02,
          3500173.65,
          2424478.44,
          1822737.9100000001,
          218812.69000000003,
          0,
          5195021.430000003,
          355020.3,
          100689.75,
          19260501.53,
          10964332.110000005,
          13204844.940000001,
          7103883,
          365733.68,
          7611521.12,
          1104587.87,
          9030102,
          5545453.75,
          2966783.730000001,
          11932849.89,
          701320.75,
          14421790.71,
          558672.35,
          32112528.91000001,
          797784.77,
          3019025.13,
          29231151.6,
          376413.67000000086,
          7053451.59,
          12654.24,
          637830.76,
          218333.32,
          319065.29,
          331944.32,
          1092545.8699999999,
          66847.17,
          1922280.79,
          106776.41,
          1506952.5899999999,
          10414749.379999999,
          1351934.5899999999,
          2179150,
          1361544.3800000001,
          7836305.370000002,
          601828.45,
          240810.47,
          1172559.6600000008,
          1152744.24,
          573347.68,
          278945.35,
          4839011.62,
          10939456.41,
          9926810.180000003,
          27594092.910000023,
          5504221.97,
          1470217.9600000002,
          91698.13,
          95358.98999999999,
          26831331.619999997,
          7081930.04,
          299931.32,
          11277.36,
          1747600.8,
          850590.78,
          633492.66,
          41988.32000000001,
          221900,
          135136.08,
          6798439.4,
          431216.32,
          14150.91,
          5645164.92,
          318909.69999999995,
          3340464.55,
          875552.49,
          234160,
          4814673.5,
          2603757.55,
          448583.33,
          1404460.72,
          16972437.81,
          4962437.35,
          2169647.59,
          153360.22,
          612476.97,
          8234726.639999999,
          84440.9,
          156618.08,
          341867.98,
          3531357.57,
          0
         ],
         "xaxis": "x2",
         "y": [
          -347519.85,
          -750154.9399999994,
          -864605.620000001,
          -630931.51,
          132674.59,
          24893.060000000005,
          885789.6799999999,
          2190161.229999998,
          -7936.620000000134,
          40252.49000000003,
          1330314.509999999,
          838200.6800000004,
          2175330.969999999,
          132002.91999999987,
          237800.33999999997,
          1031.8399999999995,
          98009.07,
          1552226.2399999995,
          429083.6,
          -162270.48999999985,
          1260809.2499999998,
          669089.7900000002,
          362868.87,
          -245180.49000000005,
          -69.78,
          498626.84000000433,
          -905.3899999999448,
          35254.73,
          3397953.999999999,
          964432.5200000042,
          1517129.890000001,
          -92781.63000000075,
          118615.27999999997,
          1283182.2999999993,
          171041.61999999997,
          773305.1799999991,
          1263453.2099999997,
          -1720547.8700000006,
          370680.5300000003,
          144803.01999999993,
          1459592.319999999,
          32262.69,
          5154619.990000012,
          110612.78999999985,
          894837.3499999996,
          875144.6299999978,
          459751.05000000005,
          651697.1399999998,
          -4764.390000000001,
          165076.25999999998,
          60527.310000000005,
          -6145.780000000006,
          191824.55,
          358321.98999999976,
          30497.539999999997,
          510712.03999999986,
          49483.54,
          494095.9600000001,
          1896206.2200000002,
          330382.9699999999,
          423233.4299999996,
          372891.36,
          1811945.8300000012,
          -326571.75,
          15182.329999999989,
          74396.63000000078,
          103041.62000000007,
          233741.50999999998,
          170206.46999999994,
          462419.47999999725,
          -3643130.16,
          396305.5000000029,
          2767308.670000027,
          -294451.50999999995,
          488371.1899999999,
          21135.04,
          6369.599999999991,
          1144716.7099999958,
          1740296.9599999997,
          71069.46000000002,
          -7453.25,
          482814.1200000001,
          -46881.68000000015,
          -886318.88,
          -624146.33,
          82312.22000000002,
          -20821.07,
          1600745.2199999995,
          42042.32999999994,
          13997.1,
          513982.8300000001,
          79884.92999999996,
          233284.4599999998,
          157686.84000000005,
          117439.02,
          860343.3599999998,
          -1342472.8,
          63026.08,
          141957.31,
          521621.3700000043,
          849223.2199999989,
          462914.9300000001,
          86415.21000000002,
          32868.18000000005,
          1415682.1199999978,
          37501.740000000005,
          17696.649999999994,
          29975.180000000044,
          800087.4599999995,
          22158.869999999995
         ],
         "yaxis": "y2"
        },
        {
         "customdata": [
          [
           "ASMLXBJKCS"
          ],
          [
           "ASMLXGZGQS"
          ],
          [
           "ASMLXXAEPS"
          ],
          [
           "ASMLXXMXAS"
          ],
          [
           "BOSEXBJXWS"
          ],
          [
           "BRPXXSHYXS"
          ],
          [
           "ECCOXDGXSS"
          ],
          [
           "HIMEDSHZCS"
          ],
          [
           "HONEYSHMFS"
          ],
          [
           "HONEYTJALS"
          ],
          [
           "HPLJBSHMFS"
          ],
          [
           "HPPXXSHMGS"
          ],
          [
           "HWSXXNSNXS"
          ],
          [
           "KLATEBJDSS"
          ],
          [
           "LINDTSHKQS"
          ],
          [
           "MBXXXSHKQS"
          ],
          [
           "OTTECSHBSS"
          ],
          [
           "SENSALZDCS"
          ],
          [
           "SIEMESUEPS"
          ],
          [
           "HARLESHGWS"
          ],
          [
           "MARSXCDXXS"
          ],
          [
           "ASMLXNJLHS"
          ],
          [
           "BMWXXSHYSH"
          ],
          [
           "BURBYSHDQS"
          ],
          [
           "CLARISHFSH"
          ],
          [
           "DELLSSHALH"
          ],
          [
           "DIODESHFTH"
          ],
          [
           "EVISUSHDQR"
          ],
          [
           "EVISUSHDQS"
          ],
          [
           "FEIXXSHLDS"
          ],
          [
           "INTELCDXKS"
          ],
          [
           "JLRXXCQJLS"
          ],
          [
           "JLRXXFSIHS"
          ],
          [
           "JLRXXSUXDS"
          ],
          [
           "LAMREBJDSS"
          ],
          [
           "MICHELZB5S"
          ],
          [
           "MIDEASZXCS"
          ],
          [
           "ONSEMSHFTH"
          ],
          [
           "PERNOSHFSH"
          ],
          [
           "SKFXXSHFSH"
          ],
          [
           "SKFXXSHSYH"
          ],
          [
           "WEIFTNBWHS"
          ],
          [
           "WEIFTNBWHV"
          ]
         ],
         "hovertemplate": "type=平衡型<br>yr=2020<br>income_amt=%{marker.size}<br>gross_profit_amt=%{y}<br>cost_center=%{customdata[0]}<extra></extra>",
         "legendgroup": "平衡型",
         "marker": {
          "color": "#EF553B",
          "size": [
           7552260.94,
           2294610.24,
           7367416.620000001,
           4411562.75,
           312422.83,
           3712270.02,
           305132.06,
           1460075.4399999997,
           17320090.48,
           9791933.620000001,
           1244945.51,
           43236159.49000001,
           13058153.82,
           6517044.37,
           5695681.249999999,
           1718301.7,
           101013.16,
           304890,
           28945700.820000023,
           3250084.3,
           12209589.110000003,
           4903065.0200000005,
           3121047.9700000016,
           17248556.59,
           1912562.55,
           8629381.35,
           8244812.24,
           3395060.3099999996,
           4141855.04,
           3544212.6,
           5963250.4,
           4448620.960000003,
           4551916.079999998,
           8080264.98,
           2089113.1700000002,
           30241983.65,
           7029815.569999999,
           1762483.59,
           8035983.79,
           4295421.1,
           3093841.18,
           431433.7,
           1408934.12
          ],
          "sizemode": "area",
          "sizeref": 239704.76002500005,
          "symbol": "circle"
         },
         "mode": "markers",
         "name": "平衡型",
         "orientation": "v",
         "showlegend": true,
         "type": "scatter",
         "x": [
          7552260.94,
          2294610.24,
          7367416.620000001,
          4411562.75,
          312422.83,
          3712270.02,
          305132.06,
          1460075.4399999997,
          17320090.48,
          9791933.620000001,
          1244945.51,
          43236159.49000001,
          13058153.82,
          6517044.37,
          5695681.249999999,
          1718301.7,
          101013.16,
          304890,
          28945700.820000023,
          3250084.3,
          12209589.110000003,
          4903065.0200000005,
          3121047.9700000016,
          17248556.59,
          1912562.55,
          8629381.35,
          8244812.24,
          3395060.3099999996,
          4141855.04,
          3544212.6,
          5963250.4,
          4448620.960000003,
          4551916.079999998,
          8080264.98,
          2089113.1700000002,
          30241983.65,
          7029815.569999999,
          1762483.59,
          8035983.79,
          4295421.1,
          3093841.18,
          431433.7,
          1408934.12
         ],
         "xaxis": "x",
         "y": [
          1201711.9300000018,
          313260.98999999993,
          1037546.1500000021,
          1198188.990000001,
          -108143.48,
          628790.6200000005,
          -58399.21999999999,
          52953.12999999969,
          4133739.45,
          4565512.499999999,
          234849.69000000018,
          5713801.05000001,
          2933254.5200000014,
          1478894.6800000009,
          1503580.3499999996,
          604941.81,
          53002.65,
          142159.28,
          12468165.65000002,
          415717.3799999997,
          798511.9600000037,
          646520.1899999995,
          507326.4700000016,
          4756127.979999996,
          47496.5,
          2083591.9500000004,
          1232197.8499999994,
          629328.2600000002,
          -1149369.79,
          553470.92,
          751652.5899999995,
          1500931.9200000025,
          526044.549999998,
          -467845.74999999756,
          133250.51999999993,
          6390039.819999994,
          117073.97999999931,
          73405.21999999994,
          242281.88999999876,
          -316828.98000000016,
          706167.2699999999,
          67870.94999999997,
          52994.320000000385
         ],
         "yaxis": "y"
        },
        {
         "customdata": [
          [
           "ABBOTBJXWS"
          ],
          [
           "ASMLXBJKCS"
          ],
          [
           "ASMLXGZGQS"
          ],
          [
           "ASMLXSHZCS"
          ],
          [
           "ASMLXXAEPS"
          ],
          [
           "ASMLXXMXAS"
          ],
          [
           "CLARISHFSH"
          ],
          [
           "DELLSSHY2S"
          ],
          [
           "HUSQVSHMFS"
          ],
          [
           "HWSXXNSNXS"
          ],
          [
           "KLRHYLAWHS"
          ],
          [
           "KUNLNTCIHS"
          ],
          [
           "LEMARBJXWS"
          ],
          [
           "LEMARGHD2S"
          ],
          [
           "LINDTSHKQS"
          ],
          [
           "MICHEBJXWS"
          ],
          [
           "OTYPESHSJS"
          ],
          [
           "PERNOSHFSS"
          ],
          [
           "SENSALZDCS"
          ],
          [
           "UCOHZJXXWS"
          ],
          [
           "VOLVOSHY2S"
          ],
          [
           "WEICJBJXWS"
          ],
          [
           "HONEYTJALS"
          ],
          [
           "MARSXBJSHS"
          ],
          [
           "MIGTMSSFTP"
          ],
          [
           "ASMLXNJLHS"
          ],
          [
           "ASMLXTJXQS"
          ],
          [
           "BECTDSHDBH"
          ],
          [
           "BMWXXSHYSH"
          ],
          [
           "BURBYSHDQS"
          ],
          [
           "BURTOSHSYH"
          ],
          [
           "COACHSHSFH"
          ],
          [
           "COACHSHSFR"
          ],
          [
           "DIODESHFTH"
          ],
          [
           "DIODESHGWH"
          ],
          [
           "ECCOXDGXSS"
          ],
          [
           "ECCOXSHSJS"
          ],
          [
           "ECCOXSHTRR"
          ],
          [
           "EVISUSHDQR"
          ],
          [
           "FEIXXDLTZS"
          ],
          [
           "FEIXXSHLDS"
          ],
          [
           "HARLESHGWS"
          ],
          [
           "HIMEDSHZCS"
          ],
          [
           "HPPXXSHSFH"
          ],
          [
           "HPPXXWHWDS"
          ],
          [
           "INTELCDXKS"
          ],
          [
           "JLRXXBJIHS"
          ],
          [
           "JLRXXCQJLS"
          ],
          [
           "JLRXXFSIHS"
          ],
          [
           "JLRXXSUXDS"
          ],
          [
           "JMCXXTJJMS"
          ],
          [
           "JOHNSSHMFS"
          ],
          [
           "KLATEBJDSS"
          ],
          [
           "KLRHYTCIHS"
          ],
          [
           "KLRHYTCWHS"
          ],
          [
           "KUNLNLAWHS"
          ],
          [
           "KUNLNTCWHS"
          ],
          [
           "LAMREBJDSS"
          ],
          [
           "LAMREWXIHS"
          ],
          [
           "LAMREXMXAS"
          ],
          [
           "LENXXSHTRD"
          ],
          [
           "LINDTSHKQR"
          ],
          [
           "MICHELZB5S"
          ],
          [
           "MICHESHIHS"
          ],
          [
           "NESPRSHTRR"
          ],
          [
           "NEXPEDGIHS"
          ],
          [
           "NEXPEDGTMS"
          ],
          [
           "ONSEMSHFTH"
          ],
          [
           "OTISXGZHPS"
          ],
          [
           "OTYPESHTRR"
          ],
          [
           "PERNOSHFSH"
          ],
          [
           "PHILIKSLJS"
          ],
          [
           "SCREESHZCS"
          ],
          [
           "SKFXXSHFSH"
          ],
          [
           "SKFXXSHSYH"
          ],
          [
           "SOLVASHFSH"
          ],
          [
           "STARBGZHPS"
          ],
          [
           "STARBHZSCS"
          ],
          [
           "WEIFTNBWHS"
          ],
          [
           "WEIFTNBWHV"
          ],
          [
           "YUDOMPTTRR"
          ]
         ],
         "hovertemplate": "type=平衡型<br>yr=2021<br>income_amt=%{marker.size}<br>gross_profit_amt=%{y}<br>cost_center=%{customdata[0]}<extra></extra>",
         "legendgroup": "平衡型",
         "marker": {
          "color": "#EF553B",
          "size": [
           1088248.78,
           7933633.859999999,
           3319860.3600000003,
           14433449.02,
           6580832.27,
           4014774.55,
           2045962.63,
           5056871.26,
           2065234.77,
           11161016.73,
           1969506.48,
           1598883.5,
           742753.86,
           825259.0700000001,
           4467991.54,
           9350374.54,
           3893119.19,
           31279756.220000003,
           92700,
           750544.5499999999,
           27009847.87,
           285503.17,
           8461909.94,
           21539549.03,
           23107756.240000002,
           4131846.08,
           2219192.6999999997,
           920097.43,
           2915369.049999998,
           16538288.68,
           1272493.87,
           5767790.87,
           5210750.86,
           6337380.0200000005,
           176731.62,
           383278.16,
           10428346.889999999,
           264556.43,
           3202958.69,
           205089.6400000001,
           3807501.4400000037,
           5033175.609999999,
           836425.06,
           393425.3800000001,
           14517495.590000004,
           4500968.97,
           5170997.970000004,
           3892189.810000001,
           4017495.010000004,
           6848321.279999996,
           4087584.6199999996,
           13117076.02,
           5576820.57,
           1496544.4999999998,
           0,
           515442.22,
           64150.94,
           1035087.3999999985,
           2037819.2999999984,
           789798.0600000003,
           209372.89,
           88233.26000000001,
           31163183.1,
           3965329.15,
           10556330.15,
           3294846.4899999998,
           275921.07999999996,
           2091903.930000001,
           462777.1,
           5885884.890000001,
           12264396,
           2120687.96,
           711289.3799999999,
           3087954.81,
           3312230.34,
           5871815.87,
           33148484.950000025,
           796261.3200000001,
           655735.2400000001,
           621620.39,
           264962.54
          ],
          "sizemode": "area",
          "sizeref": 239704.76002500005,
          "symbol": "circle"
         },
         "mode": "markers",
         "name": "平衡型",
         "orientation": "v",
         "showlegend": false,
         "type": "scatter",
         "x": [
          1088248.78,
          7933633.859999999,
          3319860.3600000003,
          14433449.02,
          6580832.27,
          4014774.55,
          2045962.63,
          5056871.26,
          2065234.77,
          11161016.73,
          1969506.48,
          1598883.5,
          742753.86,
          825259.0700000001,
          4467991.54,
          9350374.54,
          3893119.19,
          31279756.220000003,
          92700,
          750544.5499999999,
          27009847.87,
          285503.17,
          8461909.94,
          21539549.03,
          23107756.240000002,
          4131846.08,
          2219192.6999999997,
          920097.43,
          2915369.049999998,
          16538288.68,
          1272493.87,
          5767790.87,
          5210750.86,
          6337380.0200000005,
          176731.62,
          383278.16,
          10428346.889999999,
          264556.43,
          3202958.69,
          205089.6400000001,
          3807501.4400000037,
          5033175.609999999,
          836425.06,
          393425.3800000001,
          14517495.590000004,
          4500968.97,
          5170997.970000004,
          3892189.810000001,
          4017495.010000004,
          6848321.279999996,
          4087584.6199999996,
          13117076.02,
          5576820.57,
          1496544.4999999998,
          0,
          515442.22,
          64150.94,
          1035087.3999999985,
          2037819.2999999984,
          789798.0600000003,
          209372.89,
          88233.26000000001,
          31163183.1,
          3965329.15,
          10556330.15,
          3294846.4899999998,
          275921.07999999996,
          2091903.930000001,
          462777.1,
          5885884.890000001,
          12264396,
          2120687.96,
          711289.3799999999,
          3087954.81,
          3312230.34,
          5871815.87,
          33148484.950000025,
          796261.3200000001,
          655735.2400000001,
          621620.39,
          264962.54
         ],
         "xaxis": "x2",
         "y": [
          -625097.09,
          1277131.6599999995,
          567935.5200000003,
          2206509.0000000005,
          1215825.659999999,
          664098.9100000003,
          178598.0500000001,
          1692371.1700000002,
          437296.44000000006,
          2385343.0500000017,
          -607298.6099999999,
          -503369.13999999984,
          121352.58999999998,
          119548.11000000018,
          63649.82000000012,
          845683.9699999999,
          -715630.05,
          2043134.0700000091,
          29249.730000000003,
          218203.98999999987,
          1697038.9199999976,
          39159.84,
          2942548.04,
          3518639.2899999977,
          19148545.220000003,
          595485.5700000002,
          577772.03,
          168791.53000000006,
          531468.0399999979,
          3744002.5299999993,
          12164.609999999855,
          625044.4499999997,
          1025410.4800000002,
          831098.4700000003,
          -4839.169999999996,
          17725.000000000022,
          -6505256.060000001,
          70473.15999999999,
          311991.31,
          77408.67000000007,
          732962.7500000045,
          501500.5499999991,
          49123.86,
          109122.2700000001,
          5458777.350000004,
          602139.4300000002,
          570436.8900000046,
          1377871.2500000016,
          473777.1300000032,
          -241900.6800000039,
          480944.57999999996,
          1340301.9499999995,
          1310937.4100000018,
          -1578587.7900000003,
          77068.18,
          -77302.58000000002,
          46983.59,
          -28034.2600000015,
          279042.3499999981,
          109259.6100000001,
          30587.989999999983,
          258.4800000000041,
          6003937.359999999,
          1658467.4600000002,
          2076023.2800000007,
          757781.53,
          25423.04000000003,
          300573.9400000011,
          -648523.6900000001,
          846383.0099999999,
          1624689.6199999985,
          -246579.81000000014,
          194289.12999999992,
          -83230.76000000002,
          606908.8400000001,
          927159.8799999998,
          -1344267.3899999734,
          85264.48999999999,
          142522.70999999996,
          -38656.94000000009,
          44955.23999999999
         ],
         "yaxis": "y2"
        },
        {
         "customdata": [
          [
           "ABBOTSHDBP"
          ],
          [
           "ABBOTSHKQP"
          ],
          [
           "BMWXXYJBMS"
          ],
          [
           "COACHSHSFU"
          ],
          [
           "DIODESHFTS"
          ],
          [
           "ERICSNJJLS"
          ],
          [
           "HUAWEDGLSS"
          ],
          [
           "HUAWEDGNHS"
          ],
          [
           "HUAWEDHW3S"
          ],
          [
           "HUAWEDHW4S"
          ],
          [
           "MARSXBJALP"
          ],
          [
           "MARSXCDXXP"
          ],
          [
           "MARSXJXXWP"
          ],
          [
           "MARSXWHIHP"
          ],
          [
           "MIGTMSSFTP"
          ],
          [
           "ONSEMSHFTS"
          ],
          [
           "PERNOSHM2S"
          ],
          [
           "SGMWALZH1S"
          ],
          [
           "UTCASXMNSS"
          ],
          [
           "VENCHSHKQS"
          ],
          [
           "ZEBRASHALV"
          ]
         ],
         "hovertemplate": "type=增值型<br>yr=2020<br>income_amt=%{marker.size}<br>gross_profit_amt=%{y}<br>cost_center=%{customdata[0]}<extra></extra>",
         "legendgroup": "增值型",
         "marker": {
          "color": "#00cc96",
          "size": [
           4474751.2,
           2096143.15,
           34462137.41,
           6608956.63,
           11519989.01,
           70006921.03,
           27702939.249999966,
           4384078.92,
           5381204.440000001,
           95881904.01000002,
           23991419.96,
           6889174.75,
           28953223.7,
           6246633.69,
           18713068.9,
           20399091.07,
           1832133.8,
           3280728.73,
           400192.1,
           516523.41,
           1218292.56
          ],
          "sizemode": "area",
          "sizeref": 239704.76002500005,
          "symbol": "circle"
         },
         "mode": "markers",
         "name": "增值型",
         "orientation": "v",
         "showlegend": true,
         "type": "scatter",
         "x": [
          4474751.2,
          2096143.15,
          34462137.41,
          6608956.63,
          11519989.01,
          70006921.03,
          27702939.249999966,
          4384078.92,
          5381204.440000001,
          95881904.01000002,
          23991419.96,
          6889174.75,
          28953223.7,
          6246633.69,
          18713068.9,
          20399091.07,
          1832133.8,
          3280728.73,
          400192.1,
          516523.41,
          1218292.56
         ],
         "xaxis": "x",
         "y": [
          1343063.1799999985,
          664072.6100000001,
          5890233.73,
          2354676.92,
          1336416.8800000013,
          8815020.479999995,
          2069036.2299999665,
          1178303.3800000004,
          53701.84000000117,
          23492793.970000017,
          3883828.3099999977,
          1446525.2799999989,
          6110286.920000012,
          1084681.4800000004,
          16711674.279999997,
          2068039.9900000005,
          728411.4200000002,
          -239360.37000000072,
          73245.16000000003,
          47447.30000000004,
          227706.26999999981
         ],
         "yaxis": "y"
        },
        {
         "customdata": [
          [
           "ABBOTSHKQP"
          ],
          [
           "BMWXXHFSFS"
          ],
          [
           "BMWXXYJBMS"
          ],
          [
           "COACHSHSFU"
          ],
          [
           "CRCONNCIHG"
          ],
          [
           "DIODESHFTS"
          ],
          [
           "ERICSNJJLS"
          ],
          [
           "FORDXCQWHS"
          ],
          [
           "HPPXXSHFSH"
          ],
          [
           "HUAWEDGNHS"
          ],
          [
           "KONICSHDQS"
          ],
          [
           "MARSXBJALP"
          ],
          [
           "MARSXCDXXP"
          ],
          [
           "MARSXJXXWP"
          ],
          [
           "MARSXWHIHP"
          ],
          [
           "ONSEMSHFTS"
          ],
          [
           "PERNOSHM2S"
          ],
          [
           "ZJCOCWHWHG"
          ]
         ],
         "hovertemplate": "type=增值型<br>yr=2021<br>income_amt=%{marker.size}<br>gross_profit_amt=%{y}<br>cost_center=%{customdata[0]}<extra></extra>",
         "legendgroup": "增值型",
         "marker": {
          "color": "#00cc96",
          "size": [
           2579676.68,
           9603261.54,
           27746267.990000002,
           10489140.149999999,
           5043728.98,
           10579927.98,
           53633211.59,
           4060776.039999998,
           7205321.19,
           8034449.740000004,
           542293.64,
           16994246.929999996,
           4333725.93,
           19038408.86999999,
           4212431.300000001,
           20442520.380000003,
           0,
           5024896.100000001
          ],
          "sizemode": "area",
          "sizeref": 239704.76002500005,
          "symbol": "circle"
         },
         "mode": "markers",
         "name": "增值型",
         "orientation": "v",
         "showlegend": false,
         "type": "scatter",
         "x": [
          2579676.68,
          9603261.54,
          27746267.990000002,
          10489140.149999999,
          5043728.98,
          10579927.98,
          53633211.59,
          4060776.039999998,
          7205321.19,
          8034449.740000004,
          542293.64,
          16994246.929999996,
          4333725.93,
          19038408.86999999,
          4212431.300000001,
          20442520.380000003,
          0,
          5024896.100000001
         ],
         "xaxis": "x2",
         "y": [
          836287.7700000001,
          -515890.3000000004,
          4795136.280000003,
          1958790.3500000006,
          235189.65999999997,
          1455338.0600000005,
          5087621.070000013,
          303463.5199999993,
          967697.7899999998,
          2579418.5000000037,
          960255.6000000002,
          1350239.560000001,
          499345.83000000275,
          2980121.719999992,
          343387.1000000011,
          969113.1999999995,
          -186.26,
          -575067.28
         ],
         "yaxis": "y2"
        },
        {
         "customdata": [
          [
           "ABBXXBJXMS"
          ],
          [
           "ABBXXGZPBS"
          ],
          [
           "BMWIMSYXXS"
          ],
          [
           "BMWXXSHYSS"
          ],
          [
           "CEXARSHBSH"
          ],
          [
           "DELLSBJXWS"
          ],
          [
           "DELLSGHD2S"
          ],
          [
           "DELLSSHY2S"
          ],
          [
           "DXCXXBJXWS"
          ],
          [
           "DXCXXXAXXS"
          ],
          [
           "ERISLGZWHS"
          ],
          [
           "FEIXXDLTZS"
          ],
          [
           "FERRECDXXS"
          ],
          [
           "FORDXCQFDS"
          ],
          [
           "FORDXHBLCS"
          ],
          [
           "FUJIESHMFS"
          ],
          [
           "FUJIXCQFJS"
          ],
          [
           "FUJIXSYXXS"
          ],
          [
           "GEABPBJXWS"
          ],
          [
           "GEMEDSHKQS"
          ],
          [
           "H3CNHSHYXS"
          ],
          [
           "H3CNHXAXXS"
          ],
          [
           "HAIERQDJZS"
          ],
          [
           "HARLESHFXS"
          ],
          [
           "HPESLBJXWS"
          ],
          [
           "HPPXXSHFSH"
          ],
          [
           "HPPXXWHWDS"
          ],
          [
           "HUAWEDHW1S"
          ],
          [
           "HUAWEDHWTS"
          ],
          [
           "HUAWESZLHS"
          ],
          [
           "IBMXXGZIHC"
          ],
          [
           "INFINWXIFS"
          ],
          [
           "JLRXXBJIHS"
          ],
          [
           "JOHNSSHMFP"
          ],
          [
           "JOHNSSHMFS"
          ],
          [
           "KEYSIBJIHS"
          ],
          [
           "KEYSISHIHS"
          ],
          [
           "KEYSISHYXS"
          ],
          [
           "KLATESHWQS"
          ],
          [
           "KONEXCDXDS"
          ],
          [
           "KRAFTSHKQS"
          ],
          [
           "LAMREDLTZS"
          ],
          [
           "LAMREHFCBS"
          ],
          [
           "LAMRESHLDS"
          ],
          [
           "LAMREWHSLS"
          ],
          [
           "LAMREWXIHS"
          ],
          [
           "LAMREXAEPS"
          ],
          [
           "LAMREXMXAS"
          ],
          [
           "LANDBSHKQP"
          ],
          [
           "MARSXBJSHS"
          ],
          [
           "MARYKHZIHS"
          ],
          [
           "MICHEBJXWS"
          ],
          [
           "MICHESHXCS"
          ],
          [
           "MICHETCTGS"
          ],
          [
           "MIGTMSSFTS"
          ],
          [
           "NEXPEDGIHS"
          ],
          [
           "NEXPEDGWHS"
          ],
          [
           "NIANCSHDQS"
          ],
          [
           "NSBSHSHJQS"
          ],
          [
           "OLYXXSHKQS"
          ],
          [
           "OTTECSDXXS"
          ],
          [
           "OTTECSHDQS"
          ],
          [
           "RYOSHSHYXV"
          ],
          [
           "SENSACZIHS"
          ],
          [
           "SFELCSHMHS"
          ],
          [
           "SGMWACQSGS"
          ],
          [
           "SGMWALZB1S"
          ],
          [
           "SGMWALZB2S"
          ],
          [
           "SGMWALZB3S"
          ],
          [
           "SGMWALZB4S"
          ],
          [
           "SGMWALZB6S"
          ],
          [
           "SGMWALZH2S"
          ],
          [
           "SGMWALZH3S"
          ],
          [
           "SGMWAQDHDS"
          ],
          [
           "SGMWATLYZS"
          ],
          [
           "SGMWAXAKGS"
          ],
          [
           "SHELLBJWHS"
          ],
          [
           "SOLVASHFSH"
          ],
          [
           "SOLVASHMFS"
          ],
          [
           "STARBBJALS"
          ],
          [
           "STARBCDXXS"
          ],
          [
           "STARBGZHPS"
          ],
          [
           "THERMSHDBS"
          ],
          [
           "TYCOTSDXXS"
          ],
          [
           "TYCOTSHY2S"
          ],
          [
           "TYCOTSHY3S"
          ],
          [
           "WEIFTWXWHS"
          ],
          [
           "WHJYXWHXDC"
          ],
          [
           "ZEBRASHALH"
          ],
          [
           "ZTEXXNJZXS"
          ]
         ],
         "hovertemplate": "type=操作型<br>yr=2020<br>income_amt=%{marker.size}<br>gross_profit_amt=%{y}<br>cost_center=%{customdata[0]}<extra></extra>",
         "legendgroup": "操作型",
         "marker": {
          "color": "#ab63fa",
          "size": [
           1589254.6,
           1627093.1400000001,
           8247407.73,
           10643700.780000001,
           877987.18,
           4113469.8499999996,
           2701670.16,
           5666928.27,
           443404.65,
           21088.64,
           6714575.53,
           380340.54,
           1699763.1700000002,
           12440931.16,
           1766603.5999999996,
           453165.74,
           296514.58999999997,
           348317.06,
           979188.11,
           7204278.34,
           159402,
           72711,
           4750268.210000001,
           8097478.48,
           500590.87,
           8161904.0200000005,
           17712384.910000004,
           12547979.61000001,
           11027886.840000007,
           1073807.37,
           4197490.08,
           3573658.88,
           6048135.090000006,
           10047419.67,
           16899951.27,
           844687.58,
           1427873.83,
           331269.61,
           301998.5,
           9199912.23,
           3189070.5199999996,
           3890373.15,
           1948894.97,
           1874059.6099999999,
           3639151.34,
           2282314.01,
           3045065.8800000004,
           851573.66,
           2988519.36,
           26737520.169999998,
           2385505.56,
           9083607.86,
           11144666.330000002,
           18051008.42,
           12843838.48,
           3589844.36,
           19873950.480000008,
           143694.91,
           4256302.48,
           2702893.87,
           31383.86,
           361231.59,
           1258797.97,
           2950303.38,
           11330507.09,
           2410113.15,
           20631891.970000006,
           16004660.290000001,
           5230909.16,
           5176198.73,
           23905498.810000006,
           4046388.07,
           2767465.15,
           5401712.220000001,
           1938653.8499999996,
           1864715.4899999998,
           1049958.1199999999,
           4215459.51,
           520513.26,
           24387950.84000001,
           14418894.46,
           31840743.220000017,
           4496385.75,
           7408618.220000003,
           1373598.65,
           3539187.68,
           1451737.34,
           226415.03999999998,
           6003728.37,
           3982358.3600000003
          ],
          "sizemode": "area",
          "sizeref": 239704.76002500005,
          "symbol": "circle"
         },
         "mode": "markers",
         "name": "操作型",
         "orientation": "v",
         "showlegend": true,
         "type": "scatter",
         "x": [
          1589254.6,
          1627093.1400000001,
          8247407.73,
          10643700.780000001,
          877987.18,
          4113469.8499999996,
          2701670.16,
          5666928.27,
          443404.65,
          21088.64,
          6714575.53,
          380340.54,
          1699763.1700000002,
          12440931.16,
          1766603.5999999996,
          453165.74,
          296514.58999999997,
          348317.06,
          979188.11,
          7204278.34,
          159402,
          72711,
          4750268.210000001,
          8097478.48,
          500590.87,
          8161904.0200000005,
          17712384.910000004,
          12547979.61000001,
          11027886.840000007,
          1073807.37,
          4197490.08,
          3573658.88,
          6048135.090000006,
          10047419.67,
          16899951.27,
          844687.58,
          1427873.83,
          331269.61,
          301998.5,
          9199912.23,
          3189070.5199999996,
          3890373.15,
          1948894.97,
          1874059.6099999999,
          3639151.34,
          2282314.01,
          3045065.8800000004,
          851573.66,
          2988519.36,
          26737520.169999998,
          2385505.56,
          9083607.86,
          11144666.330000002,
          18051008.42,
          12843838.48,
          3589844.36,
          19873950.480000008,
          143694.91,
          4256302.48,
          2702893.87,
          31383.86,
          361231.59,
          1258797.97,
          2950303.38,
          11330507.09,
          2410113.15,
          20631891.970000006,
          16004660.290000001,
          5230909.16,
          5176198.73,
          23905498.810000006,
          4046388.07,
          2767465.15,
          5401712.220000001,
          1938653.8499999996,
          1864715.4899999998,
          1049958.1199999999,
          4215459.51,
          520513.26,
          24387950.84000001,
          14418894.46,
          31840743.220000017,
          4496385.75,
          7408618.220000003,
          1373598.65,
          3539187.68,
          1451737.34,
          226415.03999999998,
          6003728.37,
          3982358.3600000003
         ],
         "xaxis": "x",
         "y": [
          39719.219999999645,
          -199550.68000000002,
          -1262783.1099999994,
          1590727.1100000006,
          492408.68999999994,
          1527867.5699999994,
          569329.98,
          1848479.3800000004,
          120847.54000000004,
          25306.190000000002,
          1056820.3199999984,
          142865.74,
          592063.8300000001,
          1021269.6399999997,
          673662.8799999997,
          70418.95999999995,
          85186.17,
          23496.869999999974,
          324819.60000000003,
          1574284.2200000007,
          112887.78000000001,
          2400.7399999999957,
          1081064.53,
          550965.5600000003,
          192388.13,
          442111.1500000004,
          6843579.800000007,
          4227032.71000001,
          219172.66000000847,
          523013.6600000001,
          772450.13,
          662796.4300000002,
          457319.1900000059,
          718837.6000000014,
          1361070.8099999991,
          239430.76,
          468637.4700000001,
          209264.33,
          83370.16000000002,
          2875113.8900000006,
          -191129.5499999997,
          589369.3099999998,
          294656.8900000001,
          277542.54999999993,
          438578.49999999965,
          389321.02000000025,
          106772.49999999878,
          150244.72,
          -164711.2300000003,
          4512984.470000001,
          -81080.0300000002,
          737657.9399999987,
          1631017.2700000033,
          4833147.850000002,
          -11367524.190000001,
          1031439.9300000002,
          8026121.140000011,
          91546.55000000002,
          160711.45,
          728098.1099999999,
          31259.740000000005,
          -115376.69,
          323015.57,
          411425.4900000001,
          1916916.1999999993,
          -616026.5499999998,
          -3660865.989999993,
          2782309.170000002,
          1901848.2399999998,
          74061.45000000077,
          3844316.440000007,
          927807.1700000003,
          810844.6700000003,
          -304257.59999999934,
          888133.5499999995,
          708325.8299999996,
          334286.72000000003,
          518049.26999999984,
          -3697.100000000064,
          -7768141.749999987,
          3513742.0599999977,
          1661098.9500000218,
          961098.8499999995,
          2054707.4900000026,
          352486.24,
          355193.3199999999,
          181043.55000000002,
          -2955.489999999977,
          289247.8500000007,
          -23949.579999999565
         ],
         "yaxis": "y"
        },
        {
         "customdata": [
          [
           "ABBOTSHDBP"
          ],
          [
           "ARDCHSHKQP"
          ],
          [
           "ARTEXSHWHS"
          ],
          [
           "BATXXSZQHS"
          ],
          [
           "BEUKASHIHS"
          ],
          [
           "BMWCSSYKFS"
          ],
          [
           "BMWIMSYXXS"
          ],
          [
           "BMWXXSHYSS"
          ],
          [
           "BRIDADGXSS"
          ],
          [
           "CEXARSHBSH"
          ],
          [
           "CORNGWHIHS"
          ],
          [
           "CVTESGZTRD"
          ],
          [
           "CYTIVSHKQS"
          ],
          [
           "DRJATSHLXS"
          ],
          [
           "DXCXXBJXWS"
          ],
          [
           "ERISLGZWHS"
          ],
          [
           "EVISUSHDQS"
          ],
          [
           "EVISUSHDQV"
          ],
          [
           "FERRECDXXS"
          ],
          [
           "FORDXCQFDS"
          ],
          [
           "FORDXHBLCS"
          ],
          [
           "FREYXSHKQP"
          ],
          [
           "FUJIXCQFJS"
          ],
          [
           "FUJIXSYXXS"
          ],
          [
           "GEABPBJXWS"
          ],
          [
           "GHYCNSUWHS"
          ],
          [
           "HAIERQDJZS"
          ],
          [
           "HANGYBJWHS"
          ],
          [
           "HONORDGHMS"
          ],
          [
           "HOUSFSHSJS"
          ],
          [
           "HPESLBJXWS"
          ],
          [
           "HSSOLWXIHS"
          ],
          [
           "HUAWEDGLSS"
          ],
          [
           "HUAWEDHW1S"
          ],
          [
           "HUAWEDHW4S"
          ],
          [
           "HUAWEDHWTS"
          ],
          [
           "HUAWESZLHS"
          ],
          [
           "IBMXXGZIHC"
          ],
          [
           "INFINWXIFS"
          ],
          [
           "INFINWXWHS"
          ],
          [
           "JOHNSSHMFP"
          ],
          [
           "KEYSIBJIHS"
          ],
          [
           "KEYSISHIHS"
          ],
          [
           "KLATESHWQS"
          ],
          [
           "KLRHYBJWHS"
          ],
          [
           "KUKAXWXIHS"
          ],
          [
           "LAMREDLTZS"
          ],
          [
           "LAMREHFCBS"
          ],
          [
           "LAMRESHLDS"
          ],
          [
           "LAMREWHSLS"
          ],
          [
           "LAMREXAEPS"
          ],
          [
           "LANDBSHKQP"
          ],
          [
           "MARYKHZIHS"
          ],
          [
           "MICHESHXCS"
          ],
          [
           "MICHETCTGS"
          ],
          [
           "MIDEASUCHS"
          ],
          [
           "MIDEASZXCS"
          ],
          [
           "NEXPEDGWHS"
          ],
          [
           "NIANCSHDQS"
          ],
          [
           "NSBSHSHJQS"
          ],
          [
           "OLYXXSHKQS"
          ],
          [
           "OTISXCQIHS"
          ],
          [
           "OTISXSHIHS"
          ],
          [
           "OTTECSDXXS"
          ],
          [
           "OTTECSHDQS"
          ],
          [
           "PINGATJXQS"
          ],
          [
           "RAYCOWXIHS"
          ],
          [
           "RYOSHSHYXV"
          ],
          [
           "SENSACZIHS"
          ],
          [
           "SFELCSHMHS"
          ],
          [
           "SGMWACQSGS"
          ],
          [
           "SGMWALZB1S"
          ],
          [
           "SGMWALZB3S"
          ],
          [
           "SGMWALZB4S"
          ],
          [
           "SGMWALZB8S"
          ],
          [
           "SGMWALZH1S"
          ],
          [
           "SGMWALZH2S"
          ],
          [
           "SGMWALZH3S"
          ],
          [
           "SGMWAQDHDS"
          ],
          [
           "SGMWATLYZS"
          ],
          [
           "SGMWAXAKGS"
          ],
          [
           "SHELLBJWHS"
          ],
          [
           "SIEMESUEPS"
          ],
          [
           "SKFSHDLSMS"
          ],
          [
           "SKFSHSHIHS"
          ],
          [
           "STARBBJALS"
          ],
          [
           "STARBBJZWS"
          ],
          [
           "STARBSYXXS"
          ],
          [
           "STARBSZQAS"
          ],
          [
           "TAIHUBJALS"
          ],
          [
           "TAOCHCZIHS"
          ],
          [
           "TIANMSHIHS"
          ],
          [
           "TODSXSHHCS"
          ],
          [
           "TYCOTSDXXS"
          ],
          [
           "TYCOTSHY2S"
          ],
          [
           "UTCASXMNSS"
          ],
          [
           "VENCHSHWHS"
          ],
          [
           "WEIFTWXWHS"
          ],
          [
           "WHJYXWHXDC"
          ],
          [
           "XINWESHKQP"
          ],
          [
           "YUDOMPTIHS"
          ],
          [
           "ZEBRASHALH"
          ],
          [
           "ZEBRASHALS"
          ],
          [
           "ZTEXXNJZXS"
          ]
         ],
         "hovertemplate": "type=操作型<br>yr=2021<br>income_amt=%{marker.size}<br>gross_profit_amt=%{y}<br>cost_center=%{customdata[0]}<extra></extra>",
         "legendgroup": "操作型",
         "marker": {
          "color": "#ab63fa",
          "size": [
           3800082.389999999,
           94398.98000000001,
           237059.21,
           1187720,
           2558154.78,
           4183989.72,
           2976370.9600000004,
           10111694.97,
           163995.93,
           639717.4,
           3401737.99,
           2278345.13,
           702000,
           5196375.73,
           367868,
           5644867.480000006,
           4773778.1,
           234145.9,
           1527960.77,
           11324878.839999983,
           678823.4199999998,
           53536.64,
           227443.66,
           294834,
           782487.91,
           8834277.770000001,
           4975698.010000001,
           144400.95,
           12574044.330000004,
           320982.37,
           505174.18000000005,
           9315829.950000001,
           12690556.420000011,
           4240178.260000001,
           45034847.789999984,
           2194325.94,
           546985.04,
           3241752.63,
           3210964.91,
           4457722.97,
           9093820.4,
           820184.31,
           1213375.8900000001,
           1180434.57,
           2044756.2399999995,
           821263.77,
           3519538.85,
           2233855.0899999994,
           1463534.8500000003,
           5059998.040000003,
           3221499.26,
           4823649.64,
           9302763.93,
           9663308.000000002,
           18797580.249999996,
           828005.49,
           4536701.49,
           18111129.02000001,
           183478.28,
           3006937.54,
           2194324.93,
           342592.12,
           3550297.84,
           33891.72,
           90307.89000000003,
           31118975.320000008,
           250266.64,
           1057307.0699999996,
           2700902.05,
           12641789.35,
           2147468.52,
           14429241.04,
           4041540.670000001,
           5337099.76,
           2191579.69,
           832221.7499999978,
           2611540.28,
           3827237.340000001,
           5318033.22,
           1758643.75,
           1699561.9500000002,
           631440.48,
           25950349.890000015,
           1388738.3099999998,
           11803079.58,
           32389244.390000027,
           756040.9700000001,
           2991545.33,
           1482419.25,
           5517.570000000001,
           820233.22,
           6212917.200000001,
           5464604.48,
           7013072.19,
           1134311.44,
           323313.95999999996,
           486107.46,
           1282837.9,
           94339.59999999999,
           9208.119999999999,
           320754.72000000015,
           3327006.7,
           9390920.660003662,
           4689545.95
          ],
          "sizemode": "area",
          "sizeref": 239704.76002500005,
          "symbol": "circle"
         },
         "mode": "markers",
         "name": "操作型",
         "orientation": "v",
         "showlegend": false,
         "type": "scatter",
         "x": [
          3800082.389999999,
          94398.98000000001,
          237059.21,
          1187720,
          2558154.78,
          4183989.72,
          2976370.9600000004,
          10111694.97,
          163995.93,
          639717.4,
          3401737.99,
          2278345.13,
          702000,
          5196375.73,
          367868,
          5644867.480000006,
          4773778.1,
          234145.9,
          1527960.77,
          11324878.839999983,
          678823.4199999998,
          53536.64,
          227443.66,
          294834,
          782487.91,
          8834277.770000001,
          4975698.010000001,
          144400.95,
          12574044.330000004,
          320982.37,
          505174.18000000005,
          9315829.950000001,
          12690556.420000011,
          4240178.260000001,
          45034847.789999984,
          2194325.94,
          546985.04,
          3241752.63,
          3210964.91,
          4457722.97,
          9093820.4,
          820184.31,
          1213375.8900000001,
          1180434.57,
          2044756.2399999995,
          821263.77,
          3519538.85,
          2233855.0899999994,
          1463534.8500000003,
          5059998.040000003,
          3221499.26,
          4823649.64,
          9302763.93,
          9663308.000000002,
          18797580.249999996,
          828005.49,
          4536701.49,
          18111129.02000001,
          183478.28,
          3006937.54,
          2194324.93,
          342592.12,
          3550297.84,
          33891.72,
          90307.89000000003,
          31118975.320000008,
          250266.64,
          1057307.0699999996,
          2700902.05,
          12641789.35,
          2147468.52,
          14429241.04,
          4041540.670000001,
          5337099.76,
          2191579.69,
          832221.7499999978,
          2611540.28,
          3827237.340000001,
          5318033.22,
          1758643.75,
          1699561.9500000002,
          631440.48,
          25950349.890000015,
          1388738.3099999998,
          11803079.58,
          32389244.390000027,
          756040.9700000001,
          2991545.33,
          1482419.25,
          5517.570000000001,
          820233.22,
          6212917.200000001,
          5464604.48,
          7013072.19,
          1134311.44,
          323313.95999999996,
          486107.46,
          1282837.9,
          94339.59999999999,
          9208.119999999999,
          320754.72000000015,
          3327006.7,
          9390920.660003662,
          4689545.95
         ],
         "xaxis": "x2",
         "y": [
          1305320.7800000017,
          49069.49000000001,
          40595.35999999999,
          192347.38999999996,
          307752.64999999997,
          400548.02000000025,
          -1428623.38,
          1686364.5799999984,
          163628.4,
          253164.86,
          181800.51000000062,
          -160840.7100000002,
          184428.34000000005,
          178923.30000000005,
          37906.22000000002,
          1158248.0500000054,
          -495086.7200000002,
          104279.45000000001,
          440054.51999999984,
          857998.4199999793,
          -19342.42000000029,
          26258.010000000002,
          64341.23,
          53217.51000000001,
          320902.42000000016,
          481524.9900000032,
          1101578.400000001,
          12156.230000000021,
          -444067.98999999743,
          11741.349999999957,
          124930.83000000002,
          933451.720000002,
          381209.7700000105,
          1789742.3400000015,
          6988173.419999974,
          -138575.57000000007,
          163512.99,
          617453.4800000003,
          282219.9999999999,
          308514.84000000014,
          368582.5999999994,
          197178.88,
          302073.43,
          201864.9899999999,
          -1320315.0800000005,
          -667383.4600000001,
          499139.85999999964,
          287049.7999999991,
          7276.490000000464,
          490202.0900000026,
          42802.879999999335,
          640798.9699999979,
          342047.79999999976,
          2319178.370000001,
          6209130.049999997,
          65815.60000000002,
          -108042.56999999989,
          7180818.760000009,
          132335.08000000002,
          -330406.09999999957,
          432251.5499999998,
          172631.47000000003,
          490595.27,
          33746.39000000001,
          13296.020000000037,
          245456.6100000071,
          7278.370000000001,
          189867.86999999965,
          240822.98000000016,
          1950230.8300000015,
          -325694.2800000002,
          709885.3799999991,
          1729530.0700000008,
          309018.79999999923,
          68476.62999999983,
          -727331.0600000026,
          718781.5300000004,
          1263346.2500000007,
          176150.0300000001,
          837787.0399999998,
          651588.2999999999,
          -90549.60999999996,
          7111386.810000022,
          -54835.800000000076,
          1385356.5,
          -2057536.569999976,
          103735.56000000006,
          107606.8200000002,
          84241.53999999986,
          7046.170000000003,
          74629.3199999999,
          107089.36999999992,
          -1677644.689999999,
          1549717.930000001,
          306369.06000000006,
          43573.02999999999,
          111487.22999999998,
          -43479.139999999796,
          -11916.960000000006,
          4182.749999999999,
          63500.11000000012,
          256605.55000000034,
          1508831.4200036626,
          -1653883.209999997
         ],
         "yaxis": "y2"
        }
       ],
       "layout": {
        "annotations": [
         {
          "font": {},
          "showarrow": false,
          "text": "yr=2020",
          "x": 0.245,
          "xanchor": "center",
          "xref": "paper",
          "y": 1,
          "yanchor": "bottom",
          "yref": "paper"
         },
         {
          "font": {},
          "showarrow": false,
          "text": "yr=2021",
          "x": 0.755,
          "xanchor": "center",
          "xref": "paper",
          "y": 1,
          "yanchor": "bottom",
          "yref": "paper"
         }
        ],
        "legend": {
         "itemsizing": "constant",
         "title": {
          "text": "type"
         },
         "tracegroupgap": 0
        },
        "margin": {
         "t": 60
        },
        "template": {
         "data": {
          "bar": [
           {
            "error_x": {
             "color": "#2a3f5f"
            },
            "error_y": {
             "color": "#2a3f5f"
            },
            "marker": {
             "line": {
              "color": "#E5ECF6",
              "width": 0.5
             }
            },
            "type": "bar"
           }
          ],
          "barpolar": [
           {
            "marker": {
             "line": {
              "color": "#E5ECF6",
              "width": 0.5
             }
            },
            "type": "barpolar"
           }
          ],
          "carpet": [
           {
            "aaxis": {
             "endlinecolor": "#2a3f5f",
             "gridcolor": "white",
             "linecolor": "white",
             "minorgridcolor": "white",
             "startlinecolor": "#2a3f5f"
            },
            "baxis": {
             "endlinecolor": "#2a3f5f",
             "gridcolor": "white",
             "linecolor": "white",
             "minorgridcolor": "white",
             "startlinecolor": "#2a3f5f"
            },
            "type": "carpet"
           }
          ],
          "choropleth": [
           {
            "colorbar": {
             "outlinewidth": 0,
             "ticks": ""
            },
            "type": "choropleth"
           }
          ],
          "contour": [
           {
            "colorbar": {
             "outlinewidth": 0,
             "ticks": ""
            },
            "colorscale": [
             [
              0,
              "#0d0887"
             ],
             [
              0.1111111111111111,
              "#46039f"
             ],
             [
              0.2222222222222222,
              "#7201a8"
             ],
             [
              0.3333333333333333,
              "#9c179e"
             ],
             [
              0.4444444444444444,
              "#bd3786"
             ],
             [
              0.5555555555555556,
              "#d8576b"
             ],
             [
              0.6666666666666666,
              "#ed7953"
             ],
             [
              0.7777777777777778,
              "#fb9f3a"
             ],
             [
              0.8888888888888888,
              "#fdca26"
             ],
             [
              1,
              "#f0f921"
             ]
            ],
            "type": "contour"
           }
          ],
          "contourcarpet": [
           {
            "colorbar": {
             "outlinewidth": 0,
             "ticks": ""
            },
            "type": "contourcarpet"
           }
          ],
          "heatmap": [
           {
            "colorbar": {
             "outlinewidth": 0,
             "ticks": ""
            },
            "colorscale": [
             [
              0,
              "#0d0887"
             ],
             [
              0.1111111111111111,
              "#46039f"
             ],
             [
              0.2222222222222222,
              "#7201a8"
             ],
             [
              0.3333333333333333,
              "#9c179e"
             ],
             [
              0.4444444444444444,
              "#bd3786"
             ],
             [
              0.5555555555555556,
              "#d8576b"
             ],
             [
              0.6666666666666666,
              "#ed7953"
             ],
             [
              0.7777777777777778,
              "#fb9f3a"
             ],
             [
              0.8888888888888888,
              "#fdca26"
             ],
             [
              1,
              "#f0f921"
             ]
            ],
            "type": "heatmap"
           }
          ],
          "heatmapgl": [
           {
            "colorbar": {
             "outlinewidth": 0,
             "ticks": ""
            },
            "colorscale": [
             [
              0,
              "#0d0887"
             ],
             [
              0.1111111111111111,
              "#46039f"
             ],
             [
              0.2222222222222222,
              "#7201a8"
             ],
             [
              0.3333333333333333,
              "#9c179e"
             ],
             [
              0.4444444444444444,
              "#bd3786"
             ],
             [
              0.5555555555555556,
              "#d8576b"
             ],
             [
              0.6666666666666666,
              "#ed7953"
             ],
             [
              0.7777777777777778,
              "#fb9f3a"
             ],
             [
              0.8888888888888888,
              "#fdca26"
             ],
             [
              1,
              "#f0f921"
             ]
            ],
            "type": "heatmapgl"
           }
          ],
          "histogram": [
           {
            "marker": {
             "colorbar": {
              "outlinewidth": 0,
              "ticks": ""
             }
            },
            "type": "histogram"
           }
          ],
          "histogram2d": [
           {
            "colorbar": {
             "outlinewidth": 0,
             "ticks": ""
            },
            "colorscale": [
             [
              0,
              "#0d0887"
             ],
             [
              0.1111111111111111,
              "#46039f"
             ],
             [
              0.2222222222222222,
              "#7201a8"
             ],
             [
              0.3333333333333333,
              "#9c179e"
             ],
             [
              0.4444444444444444,
              "#bd3786"
             ],
             [
              0.5555555555555556,
              "#d8576b"
             ],
             [
              0.6666666666666666,
              "#ed7953"
             ],
             [
              0.7777777777777778,
              "#fb9f3a"
             ],
             [
              0.8888888888888888,
              "#fdca26"
             ],
             [
              1,
              "#f0f921"
             ]
            ],
            "type": "histogram2d"
           }
          ],
          "histogram2dcontour": [
           {
            "colorbar": {
             "outlinewidth": 0,
             "ticks": ""
            },
            "colorscale": [
             [
              0,
              "#0d0887"
             ],
             [
              0.1111111111111111,
              "#46039f"
             ],
             [
              0.2222222222222222,
              "#7201a8"
             ],
             [
              0.3333333333333333,
              "#9c179e"
             ],
             [
              0.4444444444444444,
              "#bd3786"
             ],
             [
              0.5555555555555556,
              "#d8576b"
             ],
             [
              0.6666666666666666,
              "#ed7953"
             ],
             [
              0.7777777777777778,
              "#fb9f3a"
             ],
             [
              0.8888888888888888,
              "#fdca26"
             ],
             [
              1,
              "#f0f921"
             ]
            ],
            "type": "histogram2dcontour"
           }
          ],
          "mesh3d": [
           {
            "colorbar": {
             "outlinewidth": 0,
             "ticks": ""
            },
            "type": "mesh3d"
           }
          ],
          "parcoords": [
           {
            "line": {
             "colorbar": {
              "outlinewidth": 0,
              "ticks": ""
             }
            },
            "type": "parcoords"
           }
          ],
          "pie": [
           {
            "automargin": true,
            "type": "pie"
           }
          ],
          "scatter": [
           {
            "marker": {
             "colorbar": {
              "outlinewidth": 0,
              "ticks": ""
             }
            },
            "type": "scatter"
           }
          ],
          "scatter3d": [
           {
            "line": {
             "colorbar": {
              "outlinewidth": 0,
              "ticks": ""
             }
            },
            "marker": {
             "colorbar": {
              "outlinewidth": 0,
              "ticks": ""
             }
            },
            "type": "scatter3d"
           }
          ],
          "scattercarpet": [
           {
            "marker": {
             "colorbar": {
              "outlinewidth": 0,
              "ticks": ""
             }
            },
            "type": "scattercarpet"
           }
          ],
          "scattergeo": [
           {
            "marker": {
             "colorbar": {
              "outlinewidth": 0,
              "ticks": ""
             }
            },
            "type": "scattergeo"
           }
          ],
          "scattergl": [
           {
            "marker": {
             "colorbar": {
              "outlinewidth": 0,
              "ticks": ""
             }
            },
            "type": "scattergl"
           }
          ],
          "scattermapbox": [
           {
            "marker": {
             "colorbar": {
              "outlinewidth": 0,
              "ticks": ""
             }
            },
            "type": "scattermapbox"
           }
          ],
          "scatterpolar": [
           {
            "marker": {
             "colorbar": {
              "outlinewidth": 0,
              "ticks": ""
             }
            },
            "type": "scatterpolar"
           }
          ],
          "scatterpolargl": [
           {
            "marker": {
             "colorbar": {
              "outlinewidth": 0,
              "ticks": ""
             }
            },
            "type": "scatterpolargl"
           }
          ],
          "scatterternary": [
           {
            "marker": {
             "colorbar": {
              "outlinewidth": 0,
              "ticks": ""
             }
            },
            "type": "scatterternary"
           }
          ],
          "surface": [
           {
            "colorbar": {
             "outlinewidth": 0,
             "ticks": ""
            },
            "colorscale": [
             [
              0,
              "#0d0887"
             ],
             [
              0.1111111111111111,
              "#46039f"
             ],
             [
              0.2222222222222222,
              "#7201a8"
             ],
             [
              0.3333333333333333,
              "#9c179e"
             ],
             [
              0.4444444444444444,
              "#bd3786"
             ],
             [
              0.5555555555555556,
              "#d8576b"
             ],
             [
              0.6666666666666666,
              "#ed7953"
             ],
             [
              0.7777777777777778,
              "#fb9f3a"
             ],
             [
              0.8888888888888888,
              "#fdca26"
             ],
             [
              1,
              "#f0f921"
             ]
            ],
            "type": "surface"
           }
          ],
          "table": [
           {
            "cells": {
             "fill": {
              "color": "#EBF0F8"
             },
             "line": {
              "color": "white"
             }
            },
            "header": {
             "fill": {
              "color": "#C8D4E3"
             },
             "line": {
              "color": "white"
             }
            },
            "type": "table"
           }
          ]
         },
         "layout": {
          "annotationdefaults": {
           "arrowcolor": "#2a3f5f",
           "arrowhead": 0,
           "arrowwidth": 1
          },
          "autotypenumbers": "strict",
          "coloraxis": {
           "colorbar": {
            "outlinewidth": 0,
            "ticks": ""
           }
          },
          "colorscale": {
           "diverging": [
            [
             0,
             "#8e0152"
            ],
            [
             0.1,
             "#c51b7d"
            ],
            [
             0.2,
             "#de77ae"
            ],
            [
             0.3,
             "#f1b6da"
            ],
            [
             0.4,
             "#fde0ef"
            ],
            [
             0.5,
             "#f7f7f7"
            ],
            [
             0.6,
             "#e6f5d0"
            ],
            [
             0.7,
             "#b8e186"
            ],
            [
             0.8,
             "#7fbc41"
            ],
            [
             0.9,
             "#4d9221"
            ],
            [
             1,
             "#276419"
            ]
           ],
           "sequential": [
            [
             0,
             "#0d0887"
            ],
            [
             0.1111111111111111,
             "#46039f"
            ],
            [
             0.2222222222222222,
             "#7201a8"
            ],
            [
             0.3333333333333333,
             "#9c179e"
            ],
            [
             0.4444444444444444,
             "#bd3786"
            ],
            [
             0.5555555555555556,
             "#d8576b"
            ],
            [
             0.6666666666666666,
             "#ed7953"
            ],
            [
             0.7777777777777778,
             "#fb9f3a"
            ],
            [
             0.8888888888888888,
             "#fdca26"
            ],
            [
             1,
             "#f0f921"
            ]
           ],
           "sequentialminus": [
            [
             0,
             "#0d0887"
            ],
            [
             0.1111111111111111,
             "#46039f"
            ],
            [
             0.2222222222222222,
             "#7201a8"
            ],
            [
             0.3333333333333333,
             "#9c179e"
            ],
            [
             0.4444444444444444,
             "#bd3786"
            ],
            [
             0.5555555555555556,
             "#d8576b"
            ],
            [
             0.6666666666666666,
             "#ed7953"
            ],
            [
             0.7777777777777778,
             "#fb9f3a"
            ],
            [
             0.8888888888888888,
             "#fdca26"
            ],
            [
             1,
             "#f0f921"
            ]
           ]
          },
          "colorway": [
           "#636efa",
           "#EF553B",
           "#00cc96",
           "#ab63fa",
           "#FFA15A",
           "#19d3f3",
           "#FF6692",
           "#B6E880",
           "#FF97FF",
           "#FECB52"
          ],
          "font": {
           "color": "#2a3f5f"
          },
          "geo": {
           "bgcolor": "white",
           "lakecolor": "white",
           "landcolor": "#E5ECF6",
           "showlakes": true,
           "showland": true,
           "subunitcolor": "white"
          },
          "hoverlabel": {
           "align": "left"
          },
          "hovermode": "closest",
          "mapbox": {
           "style": "light"
          },
          "paper_bgcolor": "white",
          "plot_bgcolor": "#E5ECF6",
          "polar": {
           "angularaxis": {
            "gridcolor": "white",
            "linecolor": "white",
            "ticks": ""
           },
           "bgcolor": "#E5ECF6",
           "radialaxis": {
            "gridcolor": "white",
            "linecolor": "white",
            "ticks": ""
           }
          },
          "scene": {
           "xaxis": {
            "backgroundcolor": "#E5ECF6",
            "gridcolor": "white",
            "gridwidth": 2,
            "linecolor": "white",
            "showbackground": true,
            "ticks": "",
            "zerolinecolor": "white"
           },
           "yaxis": {
            "backgroundcolor": "#E5ECF6",
            "gridcolor": "white",
            "gridwidth": 2,
            "linecolor": "white",
            "showbackground": true,
            "ticks": "",
            "zerolinecolor": "white"
           },
           "zaxis": {
            "backgroundcolor": "#E5ECF6",
            "gridcolor": "white",
            "gridwidth": 2,
            "linecolor": "white",
            "showbackground": true,
            "ticks": "",
            "zerolinecolor": "white"
           }
          },
          "shapedefaults": {
           "line": {
            "color": "#2a3f5f"
           }
          },
          "ternary": {
           "aaxis": {
            "gridcolor": "white",
            "linecolor": "white",
            "ticks": ""
           },
           "baxis": {
            "gridcolor": "white",
            "linecolor": "white",
            "ticks": ""
           },
           "bgcolor": "#E5ECF6",
           "caxis": {
            "gridcolor": "white",
            "linecolor": "white",
            "ticks": ""
           }
          },
          "title": {
           "x": 0.05
          },
          "xaxis": {
           "automargin": true,
           "gridcolor": "white",
           "linecolor": "white",
           "ticks": "",
           "title": {
            "standoff": 15
           },
           "zerolinecolor": "white",
           "zerolinewidth": 2
          },
          "yaxis": {
           "automargin": true,
           "gridcolor": "white",
           "linecolor": "white",
           "ticks": "",
           "title": {
            "standoff": 15
           },
           "zerolinecolor": "white",
           "zerolinewidth": 2
          }
         }
        },
        "xaxis": {
         "anchor": "y",
         "domain": [
          0,
          0.49
         ],
         "title": {
          "text": "income_amt"
         }
        },
        "xaxis2": {
         "anchor": "y2",
         "domain": [
          0.51,
          1
         ],
         "matches": "x",
         "title": {
          "text": "income_amt"
         }
        },
        "yaxis": {
         "anchor": "x",
         "domain": [
          0,
          1
         ],
         "title": {
          "text": "gross_profit_amt"
         }
        },
        "yaxis2": {
         "anchor": "x2",
         "domain": [
          0,
          1
         ],
         "matches": "y",
         "showticklabels": false
        }
       }
      }
     },
     "metadata": {},
     "output_type": "display_data"
    }
   ],
   "source": [
    " \n",
    "fig2 = px.scatter(\n",
    "    data_frame= plt21, x = 'income_amt', y= 'gross_profit_amt', hover_data=['cost_center'],\n",
    "    size = 'income_amt', color = 'type', facet_col = 'yr', )  \n",
    "# hover_data=  ['account_name_en'] , \n",
    "fig2"
   ]
  },
  {
   "cell_type": "markdown",
   "metadata": {},
   "source": [
    "---\n",
    "# cost"
   ]
  },
  {
   "cell_type": "code",
   "execution_count": null,
   "metadata": {},
   "outputs": [],
   "source": [
    "# def tst(substr_year,**kwargs):\n",
    "#     df_bill[substr_year] = df_bill[substr_year].astype(str).str.slice(0,4)\n",
    "#     return  df_bill.groupby([substr_year, 'cost_center']).agg({\n",
    "#         **kwargs\n",
    "#     }).reset_index()\n",
    "\n",
    "# tst(substr_year = 'bms_bill_end_date' ,\\\n",
    "#     bms_amount = 'sum', bms_fee_type = [set,'nunique'], bms_fee_name = set, bms_bill_id = 'nunique')\n",
    "\n",
    "# test = df_bill.head(39)\n",
    "# test.pivot_table(index= ['bms_bill_id', 'cost_center'],\\\n",
    "#     columns= ['bms_fee_type'],\n",
    "#     values='bms_amount',)"
   ]
  },
  {
   "cell_type": "code",
   "execution_count": null,
   "metadata": {},
   "outputs": [],
   "source": [
    "\"\"\"\n",
    "# cost\n",
    "\"\"\"\n",
    "def data_load_cost():\n",
    "    df = df_cost\n",
    "    df = df.dropna(axis=1, how = 'all').fillna(0)\n",
    "    frame = pd.DataFrame(df.sum(axis = 0) == 0)\n",
    "    df = df.loc[:, frame[frame[0] == False].index.tolist()]\n",
    "    df['year'] = df['month'].astype(str).str.slice(0,4)\n",
    "    return df\n",
    "\n",
    "\n",
    "df_cost = data_load_cost()\n",
    "df_cost.head(2)"
   ]
  },
  {
   "cell_type": "code",
   "execution_count": null,
   "metadata": {},
   "outputs": [],
   "source": [
    "cost_cus_yr = to_cust_level(df_cost, 'month',\\\n",
    "     rev = 'sum',\n",
    "     gp = 'sum',\n",
    "     hr_cost  = 'sum', \n",
    "     hc  = 'sum',\n",
    "     hc_os  = 'sum',\n",
    "     total_working_hrs  = 'sum',\n",
    "     staff_cost_fixed  = 'sum',\n",
    "     staff_cost_vari  = 'sum',\n",
    "     staff_cost_os_fixed  = 'sum',\n",
    "     staff_cost_os_vari  = 'sum',\n",
    "     staff_cost_bizos_actual  = 'sum'\n",
    "     ).reset_index()\n",
    "cost_cus_yr.head()"
   ]
  },
  {
   "cell_type": "markdown",
   "metadata": {},
   "source": [
    "---"
   ]
  },
  {
   "cell_type": "code",
   "execution_count": null,
   "metadata": {},
   "outputs": [],
   "source": []
  },
  {
   "cell_type": "markdown",
   "metadata": {},
   "source": [
    "---\n",
    "# merge"
   ]
  },
  {
   "cell_type": "code",
   "execution_count": null,
   "metadata": {},
   "outputs": [],
   "source": [
    "bms_cus_yr['account_name_en'].nunique()"
   ]
  },
  {
   "cell_type": "code",
   "execution_count": null,
   "metadata": {},
   "outputs": [],
   "source": [
    "test = bms_cus_yr.merge(cost_cus_yr, on = ['account_name_en', 'month'], how = 'inner')"
   ]
  },
  {
   "cell_type": "code",
   "execution_count": null,
   "metadata": {},
   "outputs": [],
   "source": [
    "pd.set_option(\"display.max_rows\", None, \"display.max_columns\", None)\n",
    "test.account_name_en.nunique()"
   ]
  },
  {
   "cell_type": "code",
   "execution_count": null,
   "metadata": {},
   "outputs": [],
   "source": [
    "test['account_name_en'].nunique()"
   ]
  },
  {
   "cell_type": "code",
   "execution_count": null,
   "metadata": {},
   "outputs": [],
   "source": [
    "# test[test['account_name_en'].str.lower().str.match('bose')]"
   ]
  },
  {
   "cell_type": "code",
   "execution_count": null,
   "metadata": {},
   "outputs": [],
   "source": [
    "# df_oppa[df_oppa['account_name_en'].str.lower().str.match('bmw').fillna(False)][['bg','opportunity_number', 'opportunity_name', 'account_id',\n",
    "#        'account_name_en', 'account_name_cn', 'actual_close_date',\n",
    "#        'annual_average_gross_profit_base', 'annual_average_gross_profit',\n",
    "#        'annual_average_revenue_base', 'annual_average_revenue',\n",
    "#        'bca_ref_number', 'bca_status']]"
   ]
  },
  {
   "cell_type": "code",
   "execution_count": null,
   "metadata": {},
   "outputs": [],
   "source": [
    "# fig = go.Figure(data = [go.Scatter(x = df_sub ['contract_end_date'] ,\n",
    "#                                 y = df_sub ['annual_average_revenue'],\n",
    "#                                 mode='markers',\n",
    "#                                 marker_size=df_sub['annual_average_revenue']/1000,\n",
    "#                                 opacity=0.87,\n",
    "#                                 name='account',\n",
    "#                                 textposition='bottom center')],\n",
    "#                                 layout=go.Layout(\n",
    "#                                     xaxis = dict(range = [min, max]),\n",
    "#                                     yaxis = dict(range = [0, 100000]),\n",
    "#                                     legend = {'xanchor': 'left'}\n",
    "#                                 )\n",
    "#                                 ) \n",
    "# fig"
   ]
  },
  {
   "cell_type": "code",
   "execution_count": null,
   "metadata": {},
   "outputs": [],
   "source": [
    "# df['contract_end_date'] = df['contract_end_date'].str.slice(0,10).fillna(pd.NaT)\n",
    "# colname = ['annual_average_gross_profit_base', 'annual_average_gross_profit',\n",
    "#        'annual_average_revenue_base', 'annual_average_revenue']\n",
    "# for i in colname:\n",
    "#     df = df[~df.index.isin(df[i].str.extract('([a-zA-Z]+)').dropna().index)]\n",
    "\n",
    "# df[['annual_average_gross_profit_base', 'annual_average_gross_profit',\n",
    "#     'annual_average_revenue_base', 'annual_average_revenue']] = df[['annual_average_gross_profit_base', 'annual_average_gross_profit',\n",
    "#     'annual_average_revenue_base', 'annual_average_revenue']].astype(float)\n",
    "# df['contract_end_date'] = pd.to_datetime(df['contract_end_date'])\n",
    "# contract_summary = df.groupby(['account_name_en', 'contract_end_date'])[[\n",
    "#        'annual_average_gross_profit_base', 'annual_average_gross_profit',\n",
    "#        'annual_average_revenue_base', 'annual_average_revenue']].sum()\n",
    "# contract_summary = contract_summary.reset_index()\n",
    "# contract_summary['contract_end_yr'] = contract_summary['contract_end_date'].astype(str).str.slice(0,4)"
   ]
  },
  {
   "cell_type": "code",
   "execution_count": null,
   "metadata": {},
   "outputs": [],
   "source": [
    "contract_summary['contract_end_date']"
   ]
  },
  {
   "cell_type": "code",
   "execution_count": null,
   "metadata": {},
   "outputs": [],
   "source": [
    "# fig = px.scatter(x = \"contract_end_date\", y= \"annual_average_revenue\", \\\n",
    "#     color = 'account_name_en',  size = 'annual_average_revenue',\n",
    "#     data_frame  = contract_summary.head(65))\n",
    "\n",
    "# min = pd.to_datetime('2018-01-01', format='%Y-%m-%d')\n",
    "# max = pd.to_datetime('2024-01-01', format='%Y-%m-%d')\n",
    "# fig.update_xaxes(range = list([min, max]))\n",
    "\n",
    "# fig.update_layout(\n",
    "#     title_text=\"Title\",\n",
    "#     showlegend = True\n",
    "# )\n",
    "\n",
    "# # Add range slider\n",
    "# fig.update_layout(\n",
    "\n",
    "# )\n",
    "\n"
   ]
  }
 ],
 "metadata": {
  "interpreter": {
   "hash": "47b50d2908d96196e4220cfb4e81faa93803065ea975497e7026f672c1f58470"
  },
  "kernelspec": {
   "display_name": "Python 3.8.8 64-bit ('siming': conda)",
   "language": "python",
   "name": "python3"
  },
  "language_info": {
   "codemirror_mode": {
    "name": "ipython",
    "version": 3
   },
   "file_extension": ".py",
   "mimetype": "text/x-python",
   "name": "python",
   "nbconvert_exporter": "python",
   "pygments_lexer": "ipython3",
   "version": "3.8.8"
  },
  "orig_nbformat": 4
 },
 "nbformat": 4,
 "nbformat_minor": 2
}
